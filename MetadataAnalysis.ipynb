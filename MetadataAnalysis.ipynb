{
 "cells": [
  {
   "cell_type": "markdown",
   "id": "spanish-fireplace",
   "metadata": {},
   "source": [
    "# Exploratory analysis of corpus metadata\n",
    "\n",
    "The corpus for our experiment has been selected to achieve several different goals. \n",
    "\n",
    "We need a substantial subset of books where we are confident both about a) the book's first publication date and b) the author's date of birth. An author's date of birth is pretty commonly recorded in library metadata, but it is hard to be confident that the publication date of any particular copy is also the *first* publication date for the title.\n",
    "\n",
    "To get more confidence about publication date, we aligned HathiTrust metadata to metadata drawn from three sources: manual (title-by-title) [research at the University of Illinois,](https://dataverse.harvard.edu/dataset.xhtml?persistentId=doi:10.7910/DVN/B4D4H3) metadata manually recorded for the Chicago Novel Corpus, and [the NYPL digitized copy of the US copyright registry.](https://github.com/NYPL/catalog_of_copyright_entries_project) The copyright registry covers more volumes, but is restricted to the period 1923-1969.\n",
    "\n",
    "This evidence is still not infallible.\n",
    "\n",
    "E.g., although we took a book's first appearance in the copyright registry--if earlier than recorded publication date of our library copy--it is still possible that some books we have as post-1923 were first registered before 1923. The copyright registry won't give us the true earliest date for those. However, it did correct library metadata by 6 years or more in about 4% of cases.\n",
    "\n",
    "Another source of error: we've used metadata where only a single author is recorded--but some books are coauthored, or were strongly influenced by an editor, whose identity may or may not be known. We've removed coauthored books that we can identify, but the role of editors will remain murkier. \n",
    "\n",
    "We plan to run two different experiments: 1) a regression experiment that asks whether publication date or DoB is more predictive for particular textual variables, and 2) structural equation modeling on sequences of books written by the same author. For the first (regression) experiment we want to hold nationality constant across time, to avoid creating confounds. For the second experiment, comparisons will take place only within an author's oeuvre, so authors of different nationalities can be used.\n",
    "\n",
    "This means our corpus will contain two overlapping subsets:\n",
    "\n",
    "1. Books by authors of known US nationality.\n",
    "2. Books by authors who have more than three volumes in our corpus, of any nationality.\n",
    "\n",
    "In order to create a corpus evenly distributed across time for topic modeling, we also added\n",
    "\n",
    "3. Books to balance out the timeline, and extend it 20 years in both directions beyond the century (1890-1989) we plan to analyze. (There can otherwise be edge effects near the end of a timeline.)\n",
    "\n",
    "Right now \"balance\" means \"the same number of volumes in each year.\" But we might reconsider that to mean \"the same number of words in each year,\" and remove some volumes from category (3) to even things out. (And also shrink the corpus to speed modeling a little.)\n",
    "\n",
    "The cells below explore all three sets, visualizing the distribution of publication date and DoB.\n"
   ]
  },
  {
   "cell_type": "code",
   "execution_count": 116,
   "id": "ethical-default",
   "metadata": {},
   "outputs": [],
   "source": [
    "import pandas as pd\n",
    "import numpy as np\n",
    "import seaborn as sns\n",
    "from matplotlib import pyplot as plt\n",
    "from collections import Counter"
   ]
  },
  {
   "cell_type": "code",
   "execution_count": 61,
   "id": "hollywood-flash",
   "metadata": {},
   "outputs": [],
   "source": [
    "corpus = pd.read_csv('metadata/modelcorpus.tsv', sep = '\\t', low_memory = False, \n",
    "                     dtype = {'docid': object, 'hathi_author': object, 'hathi_title': object,\n",
    "                            'authordate': object, 'birthyear': float, 'deathyear': float,\n",
    "                            'chi_date': float, 'ukw_date': float, 'copyright_date': float,\n",
    "                             'firstpub': int, 'datewrong': float, 'nationality': object,\n",
    "                             'nonficprob': float, 'distance': float, 'copyright_corpus': bool,\n",
    "                             'us_national': bool, 'pubdate_known': bool, 'authof3ormore': bool})               "
   ]
  },
  {
   "cell_type": "code",
   "execution_count": 54,
   "id": "developed-hepatitis",
   "metadata": {},
   "outputs": [
    {
     "data": {
      "text/html": [
       "<div>\n",
       "<style scoped>\n",
       "    .dataframe tbody tr th:only-of-type {\n",
       "        vertical-align: middle;\n",
       "    }\n",
       "\n",
       "    .dataframe tbody tr th {\n",
       "        vertical-align: top;\n",
       "    }\n",
       "\n",
       "    .dataframe thead th {\n",
       "        text-align: right;\n",
       "    }\n",
       "</style>\n",
       "<table border=\"1\" class=\"dataframe\">\n",
       "  <thead>\n",
       "    <tr style=\"text-align: right;\">\n",
       "      <th></th>\n",
       "      <th>docid</th>\n",
       "      <th>hathi_author</th>\n",
       "      <th>hathi_title</th>\n",
       "      <th>authordate</th>\n",
       "      <th>birthyear</th>\n",
       "      <th>deathyear</th>\n",
       "      <th>chi_date</th>\n",
       "      <th>ukw_date</th>\n",
       "      <th>copyright_date</th>\n",
       "      <th>est_comp_date</th>\n",
       "      <th>datewrong</th>\n",
       "      <th>nationality</th>\n",
       "      <th>nonficprob</th>\n",
       "      <th>distances</th>\n",
       "      <th>copyright_corpus</th>\n",
       "      <th>manual_corpus</th>\n",
       "      <th>us_national</th>\n",
       "      <th>pubdate_known</th>\n",
       "      <th>authof3ormore</th>\n",
       "    </tr>\n",
       "  </thead>\n",
       "  <tbody>\n",
       "    <tr>\n",
       "      <th>0</th>\n",
       "      <td>nyp.33433082289871</td>\n",
       "      <td>A. L. O. E</td>\n",
       "      <td>The giant killer, or, The battle which all mus...</td>\n",
       "      <td>1821-1893.</td>\n",
       "      <td>1821.0</td>\n",
       "      <td>1893.0</td>\n",
       "      <td>NaN</td>\n",
       "      <td>1861.0</td>\n",
       "      <td>NaN</td>\n",
       "      <td>1861</td>\n",
       "      <td>2.7</td>\n",
       "      <td>uk</td>\n",
       "      <td>0.000000</td>\n",
       "      <td>63.450466</td>\n",
       "      <td>False</td>\n",
       "      <td>True</td>\n",
       "      <td>False</td>\n",
       "      <td>True</td>\n",
       "      <td>True</td>\n",
       "    </tr>\n",
       "    <tr>\n",
       "      <th>1</th>\n",
       "      <td>nyp.33433075765176</td>\n",
       "      <td>A. L. O. E</td>\n",
       "      <td>Christian love and loyalty; or, The rebel recl...</td>\n",
       "      <td>1821-1893.</td>\n",
       "      <td>1821.0</td>\n",
       "      <td>1893.0</td>\n",
       "      <td>NaN</td>\n",
       "      <td>1864.0</td>\n",
       "      <td>NaN</td>\n",
       "      <td>1864</td>\n",
       "      <td>1.7</td>\n",
       "      <td>uk</td>\n",
       "      <td>0.000000</td>\n",
       "      <td>60.814243</td>\n",
       "      <td>False</td>\n",
       "      <td>True</td>\n",
       "      <td>False</td>\n",
       "      <td>True</td>\n",
       "      <td>True</td>\n",
       "    </tr>\n",
       "    <tr>\n",
       "      <th>2</th>\n",
       "      <td>inu.39000000258256</td>\n",
       "      <td>A. L. O. E</td>\n",
       "      <td>Claudia : a tale</td>\n",
       "      <td>1821-1893.</td>\n",
       "      <td>1821.0</td>\n",
       "      <td>1893.0</td>\n",
       "      <td>NaN</td>\n",
       "      <td>1870.0</td>\n",
       "      <td>NaN</td>\n",
       "      <td>1870</td>\n",
       "      <td>-8.5</td>\n",
       "      <td>uk</td>\n",
       "      <td>0.000000</td>\n",
       "      <td>55.637050</td>\n",
       "      <td>False</td>\n",
       "      <td>True</td>\n",
       "      <td>False</td>\n",
       "      <td>True</td>\n",
       "      <td>True</td>\n",
       "    </tr>\n",
       "    <tr>\n",
       "      <th>3</th>\n",
       "      <td>uc1.b4975632</td>\n",
       "      <td>Aakhus, Patricia</td>\n",
       "      <td>The voyage of Mael Duin's curragh</td>\n",
       "      <td>NaN</td>\n",
       "      <td>NaN</td>\n",
       "      <td>NaN</td>\n",
       "      <td>NaN</td>\n",
       "      <td>1989.0</td>\n",
       "      <td>NaN</td>\n",
       "      <td>1989</td>\n",
       "      <td>-14.1</td>\n",
       "      <td>us</td>\n",
       "      <td>0.000000</td>\n",
       "      <td>46.813640</td>\n",
       "      <td>False</td>\n",
       "      <td>True</td>\n",
       "      <td>True</td>\n",
       "      <td>True</td>\n",
       "      <td>False</td>\n",
       "    </tr>\n",
       "    <tr>\n",
       "      <th>4</th>\n",
       "      <td>inu.30000112046630</td>\n",
       "      <td>Abbe, George</td>\n",
       "      <td>The winter house</td>\n",
       "      <td>1911-1989.</td>\n",
       "      <td>1911.0</td>\n",
       "      <td>1989.0</td>\n",
       "      <td>NaN</td>\n",
       "      <td>NaN</td>\n",
       "      <td>1957.0</td>\n",
       "      <td>1957</td>\n",
       "      <td>-13.0</td>\n",
       "      <td>NaN</td>\n",
       "      <td>0.243848</td>\n",
       "      <td>40.499164</td>\n",
       "      <td>True</td>\n",
       "      <td>False</td>\n",
       "      <td>False</td>\n",
       "      <td>True</td>\n",
       "      <td>True</td>\n",
       "    </tr>\n",
       "  </tbody>\n",
       "</table>\n",
       "</div>"
      ],
      "text/plain": [
       "                docid      hathi_author  \\\n",
       "0  nyp.33433082289871        A. L. O. E   \n",
       "1  nyp.33433075765176        A. L. O. E   \n",
       "2  inu.39000000258256        A. L. O. E   \n",
       "3        uc1.b4975632  Aakhus, Patricia   \n",
       "4  inu.30000112046630      Abbe, George   \n",
       "\n",
       "                                         hathi_title  authordate  birthyear  \\\n",
       "0  The giant killer, or, The battle which all mus...  1821-1893.     1821.0   \n",
       "1  Christian love and loyalty; or, The rebel recl...  1821-1893.     1821.0   \n",
       "2                                   Claudia : a tale  1821-1893.     1821.0   \n",
       "3                  The voyage of Mael Duin's curragh         NaN        NaN   \n",
       "4                                   The winter house  1911-1989.     1911.0   \n",
       "\n",
       "   deathyear  chi_date  ukw_date  copyright_date  est_comp_date  datewrong  \\\n",
       "0     1893.0       NaN    1861.0             NaN           1861        2.7   \n",
       "1     1893.0       NaN    1864.0             NaN           1864        1.7   \n",
       "2     1893.0       NaN    1870.0             NaN           1870       -8.5   \n",
       "3        NaN       NaN    1989.0             NaN           1989      -14.1   \n",
       "4     1989.0       NaN       NaN          1957.0           1957      -13.0   \n",
       "\n",
       "  nationality  nonficprob  distances  copyright_corpus  manual_corpus  \\\n",
       "0          uk    0.000000  63.450466             False           True   \n",
       "1          uk    0.000000  60.814243             False           True   \n",
       "2          uk    0.000000  55.637050             False           True   \n",
       "3          us    0.000000  46.813640             False           True   \n",
       "4         NaN    0.243848  40.499164              True          False   \n",
       "\n",
       "   us_national  pubdate_known  authof3ormore  \n",
       "0        False           True           True  \n",
       "1        False           True           True  \n",
       "2        False           True           True  \n",
       "3         True           True          False  \n",
       "4        False           True           True  "
      ]
     },
     "execution_count": 54,
     "metadata": {},
     "output_type": "execute_result"
    }
   ],
   "source": [
    "corpus.head()"
   ]
  },
  {
   "cell_type": "markdown",
   "id": "charming-monster",
   "metadata": {},
   "source": [
    "## 1. Meaning of columns:\n",
    "\n",
    "Not all of these columns are likely to be used in our analysis. Some are left over from the process of data cleaning, where we used various kinds of modeling to discover outliers in need of a manual check.\n",
    "\n",
    "|field | meaning|\n",
    "|------|---------|\n",
    "| **docid**  | HathiTrust volume ID |\n",
    "| **hathi_author** | Author name from HathiTrust, trailing punct trimmed|\n",
    "|**hathi_title** | Short title from HathiTrust |\n",
    "| **authordate** | string with bio dates, variety of nonstandard formats|\n",
    "| **birthyear**   | year of author's birth, or NaN |\n",
    "| **deathyear**  | year of author's death, or NaN |\n",
    "| **chi_date**   | if present, we matched vol to Chicago Novel Corpus |\n",
    "| **ukw_date**   | if present, we matched vol to Underwood, Kimutis, Witte 2020 |\n",
    "| **copyright_date** | if present, we matched vol to US copyright registry |\n",
    "| **firstpub** | best estimate for date of first publication |\n",
    "| **datewrong** | not error in firstpub, but error in a predictive model used in cleaning |\n",
    "| **nationality** | author's, if known |\n",
    "| **nonficprob**  | used in cleaning |\n",
    "| **distances** | from corpus centroid, used in cleaning |\n",
    "| **copyright_corpus** | Boolean, whether firstpub confirmed against registry |\n",
    "| **manual_corpus** | Boolean, whether firstpub confirmed by Chicago or UKW |\n",
    "| **us_national** | Boolean, whether nationality == 'us' or 'US' |\n",
    "| **pubdate_known** | Boolean, whether firstpub has been checked against any source but Hathi |\n",
    "| **authof3ormore** | Boolean, whether hathi_author has 3 or more vols in this corpus |"
   ]
  },
  {
   "cell_type": "markdown",
   "id": "random-locator",
   "metadata": {},
   "source": [
    "## 2. Distribution of corpora across time\n",
    "\n",
    "First, the whole corpus."
   ]
  },
  {
   "cell_type": "code",
   "execution_count": 67,
   "id": "altered-chosen",
   "metadata": {},
   "outputs": [
    {
     "data": {
      "text/plain": [
       "<Figure size 640x480 with 0 Axes>"
      ]
     },
     "execution_count": 67,
     "metadata": {},
     "output_type": "execute_result"
    },
    {
     "data": {
      "text/plain": [
       "<Figure size 640x480 with 0 Axes>"
      ]
     },
     "metadata": {},
     "output_type": "display_data"
    }
   ],
   "source": [
    "plt.figure(figsize=(8, 6), dpi=80)"
   ]
  },
  {
   "cell_type": "code",
   "execution_count": 75,
   "id": "intermediate-cambodia",
   "metadata": {},
   "outputs": [
    {
     "data": {
      "image/png": "[encoded data removed]",
      "text/plain": [
       "<Figure size 432x288 with 1 Axes>"
      ]
     },
     "metadata": {
      "needs_background": "light"
     },
     "output_type": "display_data"
    }
   ],
   "source": [
    "sns.histplot(corpus.firstpub, binwidth = 5)\n",
    "plt.show()"
   ]
  },
  {
   "cell_type": "markdown",
   "id": "worthy-membership",
   "metadata": {},
   "source": [
    "This is unexciting. We have 42,000 volumes distributed evenly between 1870 and 2009, or 300 vols/year for 140 years.\n",
    "\n",
    "### US national corpus"
   ]
  },
  {
   "cell_type": "code",
   "execution_count": 76,
   "id": "joined-controversy",
   "metadata": {},
   "outputs": [],
   "source": [
    "usnational = corpus.loc[corpus.us_national, ['firstpub', 'birthyear']]"
   ]
  },
  {
   "cell_type": "code",
   "execution_count": 77,
   "id": "driving-italic",
   "metadata": {},
   "outputs": [
    {
     "data": {
      "text/plain": [
       "(6642, 2)"
      ]
     },
     "execution_count": 77,
     "metadata": {},
     "output_type": "execute_result"
    }
   ],
   "source": [
    "usnational.shape"
   ]
  },
  {
   "cell_type": "markdown",
   "id": "cross-blond",
   "metadata": {},
   "source": [
    "We have 6,642 volumes where US nationality is confirmed. But note, a smaller number of those have confirmed DoB."
   ]
  },
  {
   "cell_type": "code",
   "execution_count": 84,
   "id": "public-sacramento",
   "metadata": {},
   "outputs": [
    {
     "data": {
      "text/plain": [
       "(4923, 2)"
      ]
     },
     "execution_count": 84,
     "metadata": {},
     "output_type": "execute_result"
    }
   ],
   "source": [
    "usnational = usnational.loc[(~pd.isnull(usnational.birthyear)) &\n",
    "                            (usnational.firstpub >= 1890) &\n",
    "                            (usnational.firstpub <= 1989), : ]\n",
    "usnational.shape"
   ]
  },
  {
   "cell_type": "code",
   "execution_count": 85,
   "id": "interpreted-cylinder",
   "metadata": {},
   "outputs": [
    {
     "data": {
      "text/plain": [
       "<AxesSubplot:xlabel='firstpub', ylabel='Count'>"
      ]
     },
     "execution_count": 85,
     "metadata": {},
     "output_type": "execute_result"
    },
    {
     "data": {
      "image/png": "[encoded data removed]",
      "text/plain": [
       "<Figure size 432x288 with 1 Axes>"
      ]
     },
     "metadata": {
      "needs_background": "light"
     },
     "output_type": "display_data"
    }
   ],
   "source": [
    "sns.histplot(usnational.firstpub, binwidth = 5)"
   ]
  },
  {
   "cell_type": "markdown",
   "id": "bridal-start",
   "metadata": {},
   "source": [
    "The curve is a bit bell-shaped, because it was easier to confirm publication dates in the middle period covered by the copyright registry.\n",
    "\n",
    "Date of birth is even more bell-shaped, because of the above distribution and the Central Limit Theorem."
   ]
  },
  {
   "cell_type": "code",
   "execution_count": 96,
   "id": "orange-seminar",
   "metadata": {},
   "outputs": [
    {
     "data": {
      "text/plain": [
       "<AxesSubplot:xlabel='birthyear', ylabel='Count'>"
      ]
     },
     "execution_count": 96,
     "metadata": {},
     "output_type": "execute_result"
    },
    {
     "data": {
      "image/png": "[encoded data removed]",
      "text/plain": [
       "<Figure size 432x288 with 1 Axes>"
      ]
     },
     "metadata": {
      "needs_background": "light"
     },
     "output_type": "display_data"
    }
   ],
   "source": [
    "sns.histplot(usnational.birthyear, binwidth = 5)"
   ]
  },
  {
   "cell_type": "markdown",
   "id": "anticipated-circus",
   "metadata": {},
   "source": [
    "### The sequence corpus\n",
    "\n",
    "This is the subset of books where we have a sequence 3 or more by the same author."
   ]
  },
  {
   "cell_type": "code",
   "execution_count": 103,
   "id": "fleet-slave",
   "metadata": {},
   "outputs": [
    {
     "data": {
      "text/plain": [
       "(22812, 19)"
      ]
     },
     "execution_count": 103,
     "metadata": {},
     "output_type": "execute_result"
    }
   ],
   "source": [
    "sequencecorpus = corpus.loc[corpus.authof3ormore, :]\n",
    "sequencecorpus.shape"
   ]
  },
  {
   "cell_type": "code",
   "execution_count": 104,
   "id": "inside-torture",
   "metadata": {},
   "outputs": [
    {
     "data": {
      "text/plain": [
       "<AxesSubplot:xlabel='firstpub', ylabel='Count'>"
      ]
     },
     "execution_count": 104,
     "metadata": {},
     "output_type": "execute_result"
    },
    {
     "data": {
      "image/png": "[encoded data removed]",
      "text/plain": [
       "<Figure size 432x288 with 1 Axes>"
      ]
     },
     "metadata": {
      "needs_background": "light"
     },
     "output_type": "display_data"
    }
   ],
   "source": [
    "sns.histplot(sequencecorpus.firstpub, binwidth = 5)"
   ]
  },
  {
   "cell_type": "markdown",
   "id": "moved-height",
   "metadata": {},
   "source": [
    "We see there that the author-diversity of the corpus tends to increase after 1970. There are fewer books by multiple authors.\n",
    "\n",
    "But don't get too excited about that mass of 22,812 books. The subset where we feel confident about publication year is smaller, and getting the *sequence* of books right is pretty important for this analysis. Also, we would ideally like to have author's DoB for this analysis too."
   ]
  },
  {
   "cell_type": "code",
   "execution_count": 107,
   "id": "reasonable-theme",
   "metadata": {},
   "outputs": [
    {
     "data": {
      "text/plain": [
       "9910"
      ]
     },
     "execution_count": 107,
     "metadata": {},
     "output_type": "execute_result"
    }
   ],
   "source": [
    "sum((sequencecorpus.pubdate_known) &  (~pd.isnull(sequencecorpus.birthyear)))"
   ]
  },
  {
   "cell_type": "markdown",
   "id": "right-illness",
   "metadata": {},
   "source": [
    "How is that subset distributed?"
   ]
  },
  {
   "cell_type": "code",
   "execution_count": 110,
   "id": "included-multimedia",
   "metadata": {},
   "outputs": [
    {
     "data": {
      "text/plain": [
       "<AxesSubplot:xlabel='firstpub', ylabel='Count'>"
      ]
     },
     "execution_count": 110,
     "metadata": {},
     "output_type": "execute_result"
    },
    {
     "data": {
      "image/png": "[encoded data removed]",
      "text/plain": [
       "<Figure size 432x288 with 1 Axes>"
      ]
     },
     "metadata": {
      "needs_background": "light"
     },
     "output_type": "display_data"
    }
   ],
   "source": [
    "sns.histplot(sequencecorpus,\n",
    "    x = \"firstpub\", hue=\"pubdate_known\",\n",
    "    multiple=\"stack\",\n",
    "    palette=\"Paired\",\n",
    "    edgecolor=\".3\",\n",
    "    linewidth=.5)"
   ]
  },
  {
   "cell_type": "markdown",
   "id": "above-swiss",
   "metadata": {},
   "source": [
    "As you can see, the corpus with known publication dates is concentrated in the mid-20c. This could be remediated a little by manual confirmation of pubdates on the \"shoulders\" of that curve. We do have books by multiple authors where DoB is known, or can be known. We just haven't confirmed pub dates.\n",
    "\n",
    "What about DoB distribution?"
   ]
  },
  {
   "cell_type": "code",
   "execution_count": 111,
   "id": "extensive-light",
   "metadata": {},
   "outputs": [],
   "source": [
    "knownsubset = sequencecorpus.loc[(sequencecorpus.pubdate_known == True) &\n",
    "                                (~pd.isnull(sequencecorpus.birthyear)), : ]"
   ]
  },
  {
   "cell_type": "code",
   "execution_count": 112,
   "id": "greater-bride",
   "metadata": {},
   "outputs": [
    {
     "data": {
      "text/plain": [
       "<AxesSubplot:xlabel='birthyear', ylabel='Count'>"
      ]
     },
     "execution_count": 112,
     "metadata": {},
     "output_type": "execute_result"
    },
    {
     "data": {
      "image/png": "[encoded data removed]",
      "text/plain": [
       "<Figure size 432x288 with 1 Axes>"
      ]
     },
     "metadata": {
      "needs_background": "light"
     },
     "output_type": "display_data"
    }
   ],
   "source": [
    "sns.histplot(knownsubset.birthyear, binwidth = 5)"
   ]
  },
  {
   "cell_type": "code",
   "execution_count": 113,
   "id": "fifth-rental",
   "metadata": {},
   "outputs": [
    {
     "data": {
      "text/plain": [
       "<AxesSubplot:xlabel='age', ylabel='Count'>"
      ]
     },
     "execution_count": 113,
     "metadata": {},
     "output_type": "execute_result"
    },
    {
     "data": {
      "image/png": "[encoded data removed]",
      "text/plain": [
       "<Figure size 432x288 with 1 Axes>"
      ]
     },
     "metadata": {
      "needs_background": "light"
     },
     "output_type": "display_data"
    }
   ],
   "source": [
    "age = knownsubset.firstpub - knownsubset.birthyear\n",
    "knownsubset = knownsubset.assign(age = age)\n",
    "sns.histplot(knownsubset.age, binwidth = 1)"
   ]
  },
  {
   "cell_type": "code",
   "execution_count": 114,
   "id": "failing-agriculture",
   "metadata": {},
   "outputs": [
    {
     "data": {
      "text/plain": [
       "795"
      ]
     },
     "execution_count": 114,
     "metadata": {},
     "output_type": "execute_result"
    }
   ],
   "source": [
    "sum(age <= 30)"
   ]
  },
  {
   "cell_type": "markdown",
   "id": "durable-election",
   "metadata": {},
   "source": [
    "We only have 795 books published in a year when the author was 30 or younger. This will limit our ability to check for a \"plasticity period.\""
   ]
  },
  {
   "cell_type": "markdown",
   "id": "duplicate-ending",
   "metadata": {},
   "source": [
    "## What about the distribution of words?\n",
    "\n",
    "I selected an even number of volumes across time. But how even is the distribution of words?"
   ]
  },
  {
   "cell_type": "code",
   "execution_count": 118,
   "id": "decent-garden",
   "metadata": {},
   "outputs": [],
   "source": [
    "wordspervol = Counter()\n",
    "\n",
    "with open('/Users/tunder/work/tomallet/cohort1.txt', encoding = 'utf-8') as f:\n",
    "    for line in f:\n",
    "        words = line.split()\n",
    "        docid = words[0].split('_')[0]\n",
    "        numwords = len(words) - 2\n",
    "        wordspervol[docid] += numwords"
   ]
  },
  {
   "cell_type": "code",
   "execution_count": 148,
   "id": "potential-helping",
   "metadata": {},
   "outputs": [
    {
     "data": {
      "text/html": [
       "<div>\n",
       "<style scoped>\n",
       "    .dataframe tbody tr th:only-of-type {\n",
       "        vertical-align: middle;\n",
       "    }\n",
       "\n",
       "    .dataframe tbody tr th {\n",
       "        vertical-align: top;\n",
       "    }\n",
       "\n",
       "    .dataframe thead th {\n",
       "        text-align: right;\n",
       "    }\n",
       "</style>\n",
       "<table border=\"1\" class=\"dataframe\">\n",
       "  <thead>\n",
       "    <tr style=\"text-align: right;\">\n",
       "      <th></th>\n",
       "      <th>docid</th>\n",
       "      <th>wordcount</th>\n",
       "    </tr>\n",
       "  </thead>\n",
       "  <tbody>\n",
       "    <tr>\n",
       "      <th>26105</th>\n",
       "      <td>wu.89015458334</td>\n",
       "      <td>46473</td>\n",
       "    </tr>\n",
       "    <tr>\n",
       "      <th>6269</th>\n",
       "      <td>pst.000005418633</td>\n",
       "      <td>81502</td>\n",
       "    </tr>\n",
       "    <tr>\n",
       "      <th>20599</th>\n",
       "      <td>njp.32101063691347</td>\n",
       "      <td>71807</td>\n",
       "    </tr>\n",
       "    <tr>\n",
       "      <th>27765</th>\n",
       "      <td>uc1.$b56691</td>\n",
       "      <td>89897</td>\n",
       "    </tr>\n",
       "    <tr>\n",
       "      <th>36092</th>\n",
       "      <td>mdp.39015053525005</td>\n",
       "      <td>106860</td>\n",
       "    </tr>\n",
       "    <tr>\n",
       "      <th>6915</th>\n",
       "      <td>mdp.39015008963723</td>\n",
       "      <td>40088</td>\n",
       "    </tr>\n",
       "    <tr>\n",
       "      <th>11025</th>\n",
       "      <td>mdp.39015050329450</td>\n",
       "      <td>111995</td>\n",
       "    </tr>\n",
       "    <tr>\n",
       "      <th>13085</th>\n",
       "      <td>uiuo.ark+=13960=t0zp4k66h</td>\n",
       "      <td>36162</td>\n",
       "    </tr>\n",
       "    <tr>\n",
       "      <th>3262</th>\n",
       "      <td>mdp.39015031233615</td>\n",
       "      <td>53230</td>\n",
       "    </tr>\n",
       "    <tr>\n",
       "      <th>9659</th>\n",
       "      <td>osu.32435069549608</td>\n",
       "      <td>86430</td>\n",
       "    </tr>\n",
       "  </tbody>\n",
       "</table>\n",
       "</div>"
      ],
      "text/plain": [
       "                           docid  wordcount\n",
       "26105             wu.89015458334      46473\n",
       "6269            pst.000005418633      81502\n",
       "20599         njp.32101063691347      71807\n",
       "27765                uc1.$b56691      89897\n",
       "36092         mdp.39015053525005     106860\n",
       "6915          mdp.39015008963723      40088\n",
       "11025         mdp.39015050329450     111995\n",
       "13085  uiuo.ark+=13960=t0zp4k66h      36162\n",
       "3262          mdp.39015031233615      53230\n",
       "9659          osu.32435069549608      86430"
      ]
     },
     "execution_count": 148,
     "metadata": {},
     "output_type": "execute_result"
    }
   ],
   "source": [
    "wordsdf = pd.DataFrame.from_dict(wordspervol, orient = 'index', columns = ['wordcount'])\n",
    "wordsdf.reset_index(inplace = True)\n",
    "wordsdf.rename(columns = {'index': 'docid'}, inplace = True)\n",
    "wordsdf.sample(10)"
   ]
  },
  {
   "cell_type": "code",
   "execution_count": 135,
   "id": "sought-knock",
   "metadata": {},
   "outputs": [
    {
     "data": {
      "text/plain": [
       "2041639107"
      ]
     },
     "execution_count": 135,
     "metadata": {},
     "output_type": "execute_result"
    }
   ],
   "source": [
    "sum(wordspervol.values())"
   ]
  },
  {
   "cell_type": "markdown",
   "id": "other-cathedral",
   "metadata": {},
   "source": [
    "We've got a total of two billion words in this corpus."
   ]
  },
  {
   "cell_type": "code",
   "execution_count": 137,
   "id": "specialized-banks",
   "metadata": {},
   "outputs": [],
   "source": [
    "wordsdf = wordsdf.merge(corpus.loc[ : , ['docid', 'firstpub']], on = 'docid')"
   ]
  },
  {
   "cell_type": "code",
   "execution_count": 145,
   "id": "designed-imagination",
   "metadata": {},
   "outputs": [
    {
     "data": {
      "text/html": [
       "<div>\n",
       "<style scoped>\n",
       "    .dataframe tbody tr th:only-of-type {\n",
       "        vertical-align: middle;\n",
       "    }\n",
       "\n",
       "    .dataframe tbody tr th {\n",
       "        vertical-align: top;\n",
       "    }\n",
       "\n",
       "    .dataframe thead th {\n",
       "        text-align: right;\n",
       "    }\n",
       "</style>\n",
       "<table border=\"1\" class=\"dataframe\">\n",
       "  <thead>\n",
       "    <tr style=\"text-align: right;\">\n",
       "      <th></th>\n",
       "      <th>firstpub</th>\n",
       "      <th>wordcount</th>\n",
       "    </tr>\n",
       "  </thead>\n",
       "  <tbody>\n",
       "    <tr>\n",
       "      <th>0</th>\n",
       "      <td>1870</td>\n",
       "      <td>24263955</td>\n",
       "    </tr>\n",
       "    <tr>\n",
       "      <th>1</th>\n",
       "      <td>1871</td>\n",
       "      <td>12640925</td>\n",
       "    </tr>\n",
       "    <tr>\n",
       "      <th>2</th>\n",
       "      <td>1872</td>\n",
       "      <td>17847241</td>\n",
       "    </tr>\n",
       "    <tr>\n",
       "      <th>3</th>\n",
       "      <td>1873</td>\n",
       "      <td>19925610</td>\n",
       "    </tr>\n",
       "    <tr>\n",
       "      <th>4</th>\n",
       "      <td>1874</td>\n",
       "      <td>12865874</td>\n",
       "    </tr>\n",
       "    <tr>\n",
       "      <th>...</th>\n",
       "      <td>...</td>\n",
       "      <td>...</td>\n",
       "    </tr>\n",
       "    <tr>\n",
       "      <th>135</th>\n",
       "      <td>2005</td>\n",
       "      <td>14911068</td>\n",
       "    </tr>\n",
       "    <tr>\n",
       "      <th>136</th>\n",
       "      <td>2006</td>\n",
       "      <td>13624208</td>\n",
       "    </tr>\n",
       "    <tr>\n",
       "      <th>137</th>\n",
       "      <td>2007</td>\n",
       "      <td>14765014</td>\n",
       "    </tr>\n",
       "    <tr>\n",
       "      <th>138</th>\n",
       "      <td>2008</td>\n",
       "      <td>15565189</td>\n",
       "    </tr>\n",
       "    <tr>\n",
       "      <th>139</th>\n",
       "      <td>2009</td>\n",
       "      <td>15954754</td>\n",
       "    </tr>\n",
       "  </tbody>\n",
       "</table>\n",
       "<p>140 rows × 2 columns</p>\n",
       "</div>"
      ],
      "text/plain": [
       "     firstpub  wordcount\n",
       "0        1870   24263955\n",
       "1        1871   12640925\n",
       "2        1872   17847241\n",
       "3        1873   19925610\n",
       "4        1874   12865874\n",
       "..        ...        ...\n",
       "135      2005   14911068\n",
       "136      2006   13624208\n",
       "137      2007   14765014\n",
       "138      2008   15565189\n",
       "139      2009   15954754\n",
       "\n",
       "[140 rows x 2 columns]"
      ]
     },
     "execution_count": 145,
     "metadata": {},
     "output_type": "execute_result"
    }
   ],
   "source": [
    "yearsum = wordsdf.groupby('firstpub').sum()\n",
    "yearsum = yearsum.reset_index()\n",
    "yearsum"
   ]
  },
  {
   "cell_type": "code",
   "execution_count": 147,
   "id": "controversial-rhythm",
   "metadata": {},
   "outputs": [
    {
     "data": {
      "image/png": "[encoded data removed]",
      "text/plain": [
       "<Figure size 432x288 with 1 Axes>"
      ]
     },
     "metadata": {
      "needs_background": "light"
     },
     "output_type": "display_data"
    }
   ],
   "source": [
    "sns.lineplot(data = yearsum, x = 'firstpub', y = 'wordcount')\n",
    "plt.ylim(0, None)\n",
    "plt.show()"
   ]
  },
  {
   "cell_type": "markdown",
   "id": "simplified-windows",
   "metadata": {},
   "source": [
    "That's probably flat enough, but if we wanted to trim the size of the corpus we could do it by removing selected books to flatten the curve a bit."
   ]
  },
  {
   "cell_type": "markdown",
   "id": "comic-emergency",
   "metadata": {},
   "source": [
    "### Preparing texts for LIWC"
   ]
  },
  {
   "cell_type": "code",
   "execution_count": 153,
   "id": "lyric-ticket",
   "metadata": {},
   "outputs": [],
   "source": [
    "textstouse = set(corpus.loc[corpus.pubdate_known, 'docid'].tolist())"
   ]
  },
  {
   "cell_type": "code",
   "execution_count": 155,
   "id": "veterinary-ranking",
   "metadata": {},
   "outputs": [],
   "source": [
    "thisdoc = []\n",
    "lastdocid = 'null'\n",
    "\n",
    "with open('/Users/tunder/work/tomallet/cohort1.txt', encoding = 'utf-8') as f:\n",
    "    for line in f:\n",
    "        words = line.split()\n",
    "        docid = words[0].split('_')[0]\n",
    "        \n",
    "        if docid != lastdocid and lastdocid != 'null':\n",
    "            if lastdocid in textstouse:\n",
    "                with open('/Users/tunder/work/tomallet/corpustexts/' + lastdocid + '.txt', mode = 'w', encoding = 'utf-8') as f1:\n",
    "                    f1.write(' '.join(thisdoc))\n",
    "            thisdoc = []\n",
    "            \n",
    "        thisdoc.extend(words[2: ])\n",
    "        lastdocid = docid\n",
    "        "
   ]
  },
  {
   "cell_type": "code",
   "execution_count": null,
   "id": "charitable-pontiac",
   "metadata": {},
   "outputs": [],
   "source": []
  },
  {
   "cell_type": "code",
   "execution_count": null,
   "id": "conscious-strip",
   "metadata": {},
   "outputs": [],
   "source": []
  }
 ],
 "metadata": {
  "kernelspec": {
   "display_name": "Python 3",
   "language": "python",
   "name": "python3"
  },
  "language_info": {
   "codemirror_mode": {
    "name": "ipython",
    "version": 3
   },
   "file_extension": ".py",
   "mimetype": "text/x-python",
   "name": "python",
   "nbconvert_exporter": "python",
   "pygments_lexer": "ipython3",
   "version": "3.7.6"
  }
 },
 "nbformat": 4,
 "nbformat_minor": 5
}
