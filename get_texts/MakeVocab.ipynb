{
 "cells": [
  {
   "cell_type": "markdown",
   "id": "liked-south",
   "metadata": {},
   "source": [
    "# Identify proper nouns"
   ]
  },
  {
   "cell_type": "code",
   "execution_count": 138,
   "id": "agreed-shanghai",
   "metadata": {},
   "outputs": [],
   "source": [
    "import pandas as pd\n",
    "from sklearn.linear_model import LogisticRegression\n",
    "from sklearn.model_selection import cross_validate\n",
    "from sklearn.model_selection import cross_val_predict\n",
    "import numpy as np\n",
    "import seaborn as sns"
   ]
  },
  {
   "cell_type": "code",
   "execution_count": 164,
   "id": "impossible-laugh",
   "metadata": {},
   "outputs": [
    {
     "data": {
      "text/html": [
       "<div>\n",
       "<style scoped>\n",
       "    .dataframe tbody tr th:only-of-type {\n",
       "        vertical-align: middle;\n",
       "    }\n",
       "\n",
       "    .dataframe tbody tr th {\n",
       "        vertical-align: top;\n",
       "    }\n",
       "\n",
       "    .dataframe thead th {\n",
       "        text-align: right;\n",
       "    }\n",
       "</style>\n",
       "<table border=\"1\" class=\"dataframe\">\n",
       "  <thead>\n",
       "    <tr style=\"text-align: right;\">\n",
       "      <th></th>\n",
       "      <th>word</th>\n",
       "      <th>allcount</th>\n",
       "      <th>alldocs</th>\n",
       "      <th>capcount</th>\n",
       "      <th>capdocs</th>\n",
       "      <th>burstiness</th>\n",
       "      <th>capratio</th>\n",
       "      <th>capburstiness</th>\n",
       "      <th>authorcount</th>\n",
       "    </tr>\n",
       "  </thead>\n",
       "  <tbody>\n",
       "    <tr>\n",
       "      <th>0</th>\n",
       "      <td>a</td>\n",
       "      <td>27030805</td>\n",
       "      <td>30682</td>\n",
       "      <td>0</td>\n",
       "      <td>0</td>\n",
       "      <td>880.995923</td>\n",
       "      <td>0.000000</td>\n",
       "      <td>0.000000</td>\n",
       "      <td>4945</td>\n",
       "    </tr>\n",
       "    <tr>\n",
       "      <th>1</th>\n",
       "      <td>s</td>\n",
       "      <td>9696488</td>\n",
       "      <td>24397</td>\n",
       "      <td>0</td>\n",
       "      <td>0</td>\n",
       "      <td>397.444286</td>\n",
       "      <td>0.000000</td>\n",
       "      <td>0.000000</td>\n",
       "      <td>4944</td>\n",
       "    </tr>\n",
       "    <tr>\n",
       "      <th>2</th>\n",
       "      <td>to</td>\n",
       "      <td>31509834</td>\n",
       "      <td>35009</td>\n",
       "      <td>342448</td>\n",
       "      <td>15226</td>\n",
       "      <td>900.046959</td>\n",
       "      <td>0.010868</td>\n",
       "      <td>22.490855</td>\n",
       "      <td>4942</td>\n",
       "    </tr>\n",
       "    <tr>\n",
       "      <th>3</th>\n",
       "      <td>in</td>\n",
       "      <td>18140861</td>\n",
       "      <td>36068</td>\n",
       "      <td>896707</td>\n",
       "      <td>15308</td>\n",
       "      <td>502.961370</td>\n",
       "      <td>0.049430</td>\n",
       "      <td>58.577289</td>\n",
       "      <td>4942</td>\n",
       "    </tr>\n",
       "    <tr>\n",
       "      <th>4</th>\n",
       "      <td>and</td>\n",
       "      <td>35791856</td>\n",
       "      <td>35519</td>\n",
       "      <td>2407284</td>\n",
       "      <td>15325</td>\n",
       "      <td>1007.679136</td>\n",
       "      <td>0.067258</td>\n",
       "      <td>157.081128</td>\n",
       "      <td>4942</td>\n",
       "    </tr>\n",
       "  </tbody>\n",
       "</table>\n",
       "</div>"
      ],
      "text/plain": [
       "  word  allcount  alldocs  capcount  capdocs   burstiness  capratio  \\\n",
       "0    a  27030805    30682         0        0   880.995923  0.000000   \n",
       "1    s   9696488    24397         0        0   397.444286  0.000000   \n",
       "2   to  31509834    35009    342448    15226   900.046959  0.010868   \n",
       "3   in  18140861    36068    896707    15308   502.961370  0.049430   \n",
       "4  and  35791856    35519   2407284    15325  1007.679136  0.067258   \n",
       "\n",
       "   capburstiness  authorcount  \n",
       "0       0.000000         4945  \n",
       "1       0.000000         4944  \n",
       "2      22.490855         4942  \n",
       "3      58.577289         4942  \n",
       "4     157.081128         4942  "
      ]
     },
     "execution_count": 164,
     "metadata": {},
     "output_type": "execute_result"
    }
   ],
   "source": [
    "newwords = pd.read_csv('docfreqs.tsv', sep = '\\t', low_memory = False)\n",
    "newwords.sort_values(by = 'authorcount', ascending = False, inplace = True)\n",
    "newwords.reset_index(drop = True, inplace = True)\n",
    "newwords.head()"
   ]
  },
  {
   "cell_type": "code",
   "execution_count": 165,
   "id": "consistent-marriage",
   "metadata": {},
   "outputs": [
    {
     "data": {
      "text/plain": [
       "(2242945, 9)"
      ]
     },
     "execution_count": 165,
     "metadata": {},
     "output_type": "execute_result"
    }
   ],
   "source": [
    "newwords.shape"
   ]
  },
  {
   "cell_type": "code",
   "execution_count": 145,
   "id": "consistent-summary",
   "metadata": {},
   "outputs": [],
   "source": [
    "proper = set()\n",
    "with open('/Users/tunder/Dropbox/DataMunging/rulesets/PersonalNames.txt') as f:\n",
    "    for line in f:\n",
    "        proper.add(line.strip().lower())\n",
    "\n",
    "#with open('/Users/tunder/Dropbox/DataMunging/rulesets/PlaceNames.txt') as f:\n",
    "    #for line in f:\n",
    "        #proper.add(line.strip().lower())"
   ]
  },
  {
   "cell_type": "code",
   "execution_count": 146,
   "id": "julian-superintendent",
   "metadata": {},
   "outputs": [
    {
     "data": {
      "text/plain": [
       "4644"
      ]
     },
     "execution_count": 146,
     "metadata": {},
     "output_type": "execute_result"
    }
   ],
   "source": [
    "len(proper)"
   ]
  },
  {
   "cell_type": "code",
   "execution_count": 166,
   "id": "drawn-adoption",
   "metadata": {},
   "outputs": [],
   "source": [
    "keepthese = []\n",
    "for idx, row in newwords.iterrows():\n",
    "    if idx < 90000:\n",
    "        res = True\n",
    "    elif row['word'] in proper:\n",
    "        res = True\n",
    "    else:\n",
    "        res = False\n",
    "    keepthese.append(res)\n",
    "\n",
    "newwords['tokeep'] = keepthese"
   ]
  },
  {
   "cell_type": "code",
   "execution_count": 167,
   "id": "appreciated-batch",
   "metadata": {},
   "outputs": [],
   "source": [
    "words = newwords.loc[newwords.tokeep, : ]"
   ]
  },
  {
   "cell_type": "code",
   "execution_count": 168,
   "id": "empty-boulder",
   "metadata": {},
   "outputs": [
    {
     "data": {
      "text/plain": [
       "(92108, 10)"
      ]
     },
     "execution_count": 168,
     "metadata": {},
     "output_type": "execute_result"
    }
   ],
   "source": [
    "words.shape"
   ]
  },
  {
   "cell_type": "code",
   "execution_count": 172,
   "id": "recreational-manor",
   "metadata": {},
   "outputs": [
    {
     "data": {
      "text/html": [
       "<div>\n",
       "<style scoped>\n",
       "    .dataframe tbody tr th:only-of-type {\n",
       "        vertical-align: middle;\n",
       "    }\n",
       "\n",
       "    .dataframe tbody tr th {\n",
       "        vertical-align: top;\n",
       "    }\n",
       "\n",
       "    .dataframe thead th {\n",
       "        text-align: right;\n",
       "    }\n",
       "</style>\n",
       "<table border=\"1\" class=\"dataframe\">\n",
       "  <thead>\n",
       "    <tr style=\"text-align: right;\">\n",
       "      <th></th>\n",
       "      <th>word</th>\n",
       "      <th>allcount</th>\n",
       "      <th>alldocs</th>\n",
       "      <th>capcount</th>\n",
       "      <th>capdocs</th>\n",
       "      <th>burstiness</th>\n",
       "      <th>capratio</th>\n",
       "      <th>capburstiness</th>\n",
       "      <th>authorcount</th>\n",
       "      <th>tokeep</th>\n",
       "      <th>proper</th>\n",
       "    </tr>\n",
       "  </thead>\n",
       "  <tbody>\n",
       "    <tr>\n",
       "      <th>89900</th>\n",
       "      <td>genug</td>\n",
       "      <td>77</td>\n",
       "      <td>38</td>\n",
       "      <td>27</td>\n",
       "      <td>14</td>\n",
       "      <td>2.020997</td>\n",
       "      <td>0.350195</td>\n",
       "      <td>1.914894</td>\n",
       "      <td>33</td>\n",
       "      <td>True</td>\n",
       "      <td>0</td>\n",
       "    </tr>\n",
       "    <tr>\n",
       "      <th>89901</th>\n",
       "      <td>murcia</td>\n",
       "      <td>154</td>\n",
       "      <td>42</td>\n",
       "      <td>153</td>\n",
       "      <td>41</td>\n",
       "      <td>3.657957</td>\n",
       "      <td>0.992862</td>\n",
       "      <td>3.722628</td>\n",
       "      <td>33</td>\n",
       "      <td>True</td>\n",
       "      <td>0</td>\n",
       "    </tr>\n",
       "    <tr>\n",
       "      <th>89902</th>\n",
       "      <td>balmier</td>\n",
       "      <td>38</td>\n",
       "      <td>37</td>\n",
       "      <td>1</td>\n",
       "      <td>1</td>\n",
       "      <td>1.024259</td>\n",
       "      <td>0.026247</td>\n",
       "      <td>0.909091</td>\n",
       "      <td>33</td>\n",
       "      <td>True</td>\n",
       "      <td>0</td>\n",
       "    </tr>\n",
       "    <tr>\n",
       "      <th>89903</th>\n",
       "      <td>morto</td>\n",
       "      <td>45</td>\n",
       "      <td>36</td>\n",
       "      <td>12</td>\n",
       "      <td>10</td>\n",
       "      <td>1.246537</td>\n",
       "      <td>0.266075</td>\n",
       "      <td>1.188119</td>\n",
       "      <td>33</td>\n",
       "      <td>True</td>\n",
       "      <td>0</td>\n",
       "    </tr>\n",
       "    <tr>\n",
       "      <th>89904</th>\n",
       "      <td>marrer</td>\n",
       "      <td>73</td>\n",
       "      <td>40</td>\n",
       "      <td>1</td>\n",
       "      <td>1</td>\n",
       "      <td>1.820449</td>\n",
       "      <td>0.013680</td>\n",
       "      <td>0.909091</td>\n",
       "      <td>33</td>\n",
       "      <td>True</td>\n",
       "      <td>0</td>\n",
       "    </tr>\n",
       "    <tr>\n",
       "      <th>...</th>\n",
       "      <td>...</td>\n",
       "      <td>...</td>\n",
       "      <td>...</td>\n",
       "      <td>...</td>\n",
       "      <td>...</td>\n",
       "      <td>...</td>\n",
       "      <td>...</td>\n",
       "      <td>...</td>\n",
       "      <td>...</td>\n",
       "      <td>...</td>\n",
       "      <td>...</td>\n",
       "    </tr>\n",
       "    <tr>\n",
       "      <th>89995</th>\n",
       "      <td>smiter</td>\n",
       "      <td>61</td>\n",
       "      <td>50</td>\n",
       "      <td>13</td>\n",
       "      <td>9</td>\n",
       "      <td>1.217565</td>\n",
       "      <td>0.212766</td>\n",
       "      <td>1.428571</td>\n",
       "      <td>33</td>\n",
       "      <td>True</td>\n",
       "      <td>0</td>\n",
       "    </tr>\n",
       "    <tr>\n",
       "      <th>89996</th>\n",
       "      <td>/4</td>\n",
       "      <td>68</td>\n",
       "      <td>37</td>\n",
       "      <td>0</td>\n",
       "      <td>0</td>\n",
       "      <td>1.832884</td>\n",
       "      <td>0.000000</td>\n",
       "      <td>0.000000</td>\n",
       "      <td>33</td>\n",
       "      <td>True</td>\n",
       "      <td>0</td>\n",
       "    </tr>\n",
       "    <tr>\n",
       "      <th>89997</th>\n",
       "      <td>larcenies</td>\n",
       "      <td>41</td>\n",
       "      <td>40</td>\n",
       "      <td>0</td>\n",
       "      <td>0</td>\n",
       "      <td>1.022444</td>\n",
       "      <td>0.000000</td>\n",
       "      <td>0.000000</td>\n",
       "      <td>33</td>\n",
       "      <td>True</td>\n",
       "      <td>0</td>\n",
       "    </tr>\n",
       "    <tr>\n",
       "      <th>89998</th>\n",
       "      <td>uut</td>\n",
       "      <td>47</td>\n",
       "      <td>41</td>\n",
       "      <td>19</td>\n",
       "      <td>17</td>\n",
       "      <td>1.143552</td>\n",
       "      <td>0.403397</td>\n",
       "      <td>1.111111</td>\n",
       "      <td>33</td>\n",
       "      <td>True</td>\n",
       "      <td>0</td>\n",
       "    </tr>\n",
       "    <tr>\n",
       "      <th>89999</th>\n",
       "      <td>hoat</td>\n",
       "      <td>72</td>\n",
       "      <td>40</td>\n",
       "      <td>31</td>\n",
       "      <td>5</td>\n",
       "      <td>1.795511</td>\n",
       "      <td>0.429958</td>\n",
       "      <td>6.078431</td>\n",
       "      <td>33</td>\n",
       "      <td>True</td>\n",
       "      <td>0</td>\n",
       "    </tr>\n",
       "  </tbody>\n",
       "</table>\n",
       "<p>100 rows × 11 columns</p>\n",
       "</div>"
      ],
      "text/plain": [
       "            word  allcount  alldocs  capcount  capdocs  burstiness  capratio  \\\n",
       "89900      genug        77       38        27       14    2.020997  0.350195   \n",
       "89901     murcia       154       42       153       41    3.657957  0.992862   \n",
       "89902    balmier        38       37         1        1    1.024259  0.026247   \n",
       "89903      morto        45       36        12       10    1.246537  0.266075   \n",
       "89904     marrer        73       40         1        1    1.820449  0.013680   \n",
       "...          ...       ...      ...       ...      ...         ...       ...   \n",
       "89995     smiter        61       50        13        9    1.217565  0.212766   \n",
       "89996         /4        68       37         0        0    1.832884  0.000000   \n",
       "89997  larcenies        41       40         0        0    1.022444  0.000000   \n",
       "89998        uut        47       41        19       17    1.143552  0.403397   \n",
       "89999       hoat        72       40        31        5    1.795511  0.429958   \n",
       "\n",
       "       capburstiness  authorcount  tokeep  proper  \n",
       "89900       1.914894           33    True       0  \n",
       "89901       3.722628           33    True       0  \n",
       "89902       0.909091           33    True       0  \n",
       "89903       1.188119           33    True       0  \n",
       "89904       0.909091           33    True       0  \n",
       "...              ...          ...     ...     ...  \n",
       "89995       1.428571           33    True       0  \n",
       "89996       0.000000           33    True       0  \n",
       "89997       0.000000           33    True       0  \n",
       "89998       1.111111           33    True       0  \n",
       "89999       6.078431           33    True       0  \n",
       "\n",
       "[100 rows x 11 columns]"
      ]
     },
     "execution_count": 172,
     "metadata": {},
     "output_type": "execute_result"
    }
   ],
   "source": [
    "words.iloc[89900:90000, : ]"
   ]
  },
  {
   "cell_type": "code",
   "execution_count": 169,
   "id": "headed-wyoming",
   "metadata": {},
   "outputs": [
    {
     "name": "stderr",
     "output_type": "stream",
     "text": [
      "/Users/tunder/opt/anaconda3/lib/python3.7/site-packages/ipykernel_launcher.py:8: SettingWithCopyWarning: \n",
      "A value is trying to be set on a copy of a slice from a DataFrame.\n",
      "Try using .loc[row_indexer,col_indexer] = value instead\n",
      "\n",
      "See the caveats in the documentation: https://pandas.pydata.org/pandas-docs/stable/user_guide/indexing.html#returning-a-view-versus-a-copy\n",
      "  \n"
     ]
    }
   ],
   "source": [
    "def properornot(word):\n",
    "    global proper\n",
    "    if word in proper:\n",
    "        return 1\n",
    "    else:\n",
    "        return 0\n",
    "\n",
    "words['proper'] = words.word.map(properornot)"
   ]
  },
  {
   "cell_type": "code",
   "execution_count": 170,
   "id": "happy-phenomenon",
   "metadata": {},
   "outputs": [
    {
     "name": "stdout",
     "output_type": "stream",
     "text": [
      "0.8849904807439435\n"
     ]
    }
   ],
   "source": [
    "model = LogisticRegression(C = 1000, class_weight = 'balanced', max_iter = 1000)\n",
    "cv_results = cross_validate(model, X = words.iloc[ : , 1:9], y = words.iloc[ : , 10], cv = 10)\n",
    "print(np.mean(cv_results['test_score']))"
   ]
  },
  {
   "cell_type": "code",
   "execution_count": 173,
   "id": "special-study",
   "metadata": {},
   "outputs": [],
   "source": [
    "model = LogisticRegression(C = 1000, class_weight = 'balanced', max_iter = 1000)\n",
    "predictions = cross_val_predict(model, X = words.iloc[ : , 1:9], y = words.iloc[ : , 10], cv = 10, method = 'predict_proba')"
   ]
  },
  {
   "cell_type": "code",
   "execution_count": 174,
   "id": "intimate-holmes",
   "metadata": {},
   "outputs": [
    {
     "data": {
      "text/plain": [
       "92108"
      ]
     },
     "execution_count": 174,
     "metadata": {},
     "output_type": "execute_result"
    }
   ],
   "source": [
    "len(predictions)"
   ]
  },
  {
   "cell_type": "code",
   "execution_count": 175,
   "id": "strange-collectible",
   "metadata": {},
   "outputs": [],
   "source": [
    "predictions = predictions[ : , 1]"
   ]
  },
  {
   "cell_type": "code",
   "execution_count": 179,
   "id": "critical-greeting",
   "metadata": {},
   "outputs": [
    {
     "name": "stderr",
     "output_type": "stream",
     "text": [
      "/Users/tunder/opt/anaconda3/lib/python3.7/site-packages/ipykernel_launcher.py:1: SettingWithCopyWarning: \n",
      "A value is trying to be set on a copy of a slice from a DataFrame.\n",
      "Try using .loc[row_indexer,col_indexer] = value instead\n",
      "\n",
      "See the caveats in the documentation: https://pandas.pydata.org/pandas-docs/stable/user_guide/indexing.html#returning-a-view-versus-a-copy\n",
      "  \"\"\"Entry point for launching an IPython kernel.\n"
     ]
    }
   ],
   "source": [
    "words['predicted'] = predictions"
   ]
  },
  {
   "cell_type": "code",
   "execution_count": 180,
   "id": "terminal-inflation",
   "metadata": {},
   "outputs": [],
   "source": [
    "words.to_csv('modeled90k.tsv', sep = '\\t', index = False)"
   ]
  },
  {
   "cell_type": "code",
   "execution_count": 185,
   "id": "parallel-explosion",
   "metadata": {},
   "outputs": [],
   "source": [
    "words = pd.read_csv('modeled90k.tsv', sep = '\\t', low_memory = False)"
   ]
  },
  {
   "cell_type": "code",
   "execution_count": 186,
   "id": "juvenile-designer",
   "metadata": {},
   "outputs": [
    {
     "data": {
      "text/html": [
       "<div>\n",
       "<style scoped>\n",
       "    .dataframe tbody tr th:only-of-type {\n",
       "        vertical-align: middle;\n",
       "    }\n",
       "\n",
       "    .dataframe tbody tr th {\n",
       "        vertical-align: top;\n",
       "    }\n",
       "\n",
       "    .dataframe thead th {\n",
       "        text-align: right;\n",
       "    }\n",
       "</style>\n",
       "<table border=\"1\" class=\"dataframe\">\n",
       "  <thead>\n",
       "    <tr style=\"text-align: right;\">\n",
       "      <th></th>\n",
       "      <th>word</th>\n",
       "      <th>allcount</th>\n",
       "      <th>alldocs</th>\n",
       "      <th>capcount</th>\n",
       "      <th>capdocs</th>\n",
       "      <th>burstiness</th>\n",
       "      <th>capratio</th>\n",
       "      <th>capburstiness</th>\n",
       "      <th>authorcount</th>\n",
       "      <th>proper</th>\n",
       "      <th>predicted</th>\n",
       "      <th>confirmed</th>\n",
       "    </tr>\n",
       "  </thead>\n",
       "  <tbody>\n",
       "    <tr>\n",
       "      <th>0</th>\n",
       "      <td>but</td>\n",
       "      <td>7428932</td>\n",
       "      <td>31848</td>\n",
       "      <td>2689188</td>\n",
       "      <td>15340</td>\n",
       "      <td>233.261388</td>\n",
       "      <td>0.361989</td>\n",
       "      <td>175.304463</td>\n",
       "      <td>4940</td>\n",
       "      <td>0</td>\n",
       "      <td>1.0</td>\n",
       "      <td>1.0</td>\n",
       "    </tr>\n",
       "    <tr>\n",
       "      <th>1</th>\n",
       "      <td>they</td>\n",
       "      <td>5751000</td>\n",
       "      <td>31978</td>\n",
       "      <td>1580117</td>\n",
       "      <td>15333</td>\n",
       "      <td>179.841829</td>\n",
       "      <td>0.274755</td>\n",
       "      <td>103.052677</td>\n",
       "      <td>4938</td>\n",
       "      <td>0</td>\n",
       "      <td>1.0</td>\n",
       "      <td>1.0</td>\n",
       "    </tr>\n",
       "    <tr>\n",
       "      <th>2</th>\n",
       "      <td>then</td>\n",
       "      <td>2922126</td>\n",
       "      <td>31049</td>\n",
       "      <td>945403</td>\n",
       "      <td>15305</td>\n",
       "      <td>94.113066</td>\n",
       "      <td>0.323533</td>\n",
       "      <td>61.770456</td>\n",
       "      <td>4937</td>\n",
       "      <td>0</td>\n",
       "      <td>1.0</td>\n",
       "      <td>1.0</td>\n",
       "    </tr>\n",
       "    <tr>\n",
       "      <th>3</th>\n",
       "      <td>he</td>\n",
       "      <td>20321925</td>\n",
       "      <td>33593</td>\n",
       "      <td>5992595</td>\n",
       "      <td>15329</td>\n",
       "      <td>604.943426</td>\n",
       "      <td>0.294883</td>\n",
       "      <td>390.929344</td>\n",
       "      <td>4936</td>\n",
       "      <td>0</td>\n",
       "      <td>1.0</td>\n",
       "      <td>1.0</td>\n",
       "    </tr>\n",
       "    <tr>\n",
       "      <th>4</th>\n",
       "      <td>well</td>\n",
       "      <td>1728748</td>\n",
       "      <td>31490</td>\n",
       "      <td>711788</td>\n",
       "      <td>15357</td>\n",
       "      <td>54.898143</td>\n",
       "      <td>0.411736</td>\n",
       "      <td>46.349115</td>\n",
       "      <td>4936</td>\n",
       "      <td>0</td>\n",
       "      <td>1.0</td>\n",
       "      <td>1.0</td>\n",
       "    </tr>\n",
       "  </tbody>\n",
       "</table>\n",
       "</div>"
      ],
      "text/plain": [
       "   word  allcount  alldocs  capcount  capdocs  burstiness  capratio  \\\n",
       "0   but   7428932    31848   2689188    15340  233.261388  0.361989   \n",
       "1  they   5751000    31978   1580117    15333  179.841829  0.274755   \n",
       "2  then   2922126    31049    945403    15305   94.113066  0.323533   \n",
       "3    he  20321925    33593   5992595    15329  604.943426  0.294883   \n",
       "4  well   1728748    31490    711788    15357   54.898143  0.411736   \n",
       "\n",
       "   capburstiness  authorcount  proper  predicted  confirmed  \n",
       "0     175.304463         4940       0        1.0        1.0  \n",
       "1     103.052677         4938       0        1.0        1.0  \n",
       "2      61.770456         4937       0        1.0        1.0  \n",
       "3     390.929344         4936       0        1.0        1.0  \n",
       "4      46.349115         4936       0        1.0        1.0  "
      ]
     },
     "execution_count": 186,
     "metadata": {},
     "output_type": "execute_result"
    }
   ],
   "source": [
    "words.head()"
   ]
  },
  {
   "cell_type": "code",
   "execution_count": 197,
   "id": "cheap-fairy",
   "metadata": {},
   "outputs": [],
   "source": [
    "words = words.assign(capdocratio = np.log(words.alldocs / (words.capdocs + 0.1)))"
   ]
  },
  {
   "cell_type": "code",
   "execution_count": 188,
   "id": "latin-interstate",
   "metadata": {},
   "outputs": [],
   "source": [
    "words = words.assign(logauthor = np.log(words.authorcount))"
   ]
  },
  {
   "cell_type": "code",
   "execution_count": 198,
   "id": "random-forward",
   "metadata": {},
   "outputs": [
    {
     "data": {
      "text/html": [
       "<div>\n",
       "<style scoped>\n",
       "    .dataframe tbody tr th:only-of-type {\n",
       "        vertical-align: middle;\n",
       "    }\n",
       "\n",
       "    .dataframe tbody tr th {\n",
       "        vertical-align: top;\n",
       "    }\n",
       "\n",
       "    .dataframe thead th {\n",
       "        text-align: right;\n",
       "    }\n",
       "</style>\n",
       "<table border=\"1\" class=\"dataframe\">\n",
       "  <thead>\n",
       "    <tr style=\"text-align: right;\">\n",
       "      <th></th>\n",
       "      <th>word</th>\n",
       "      <th>allcount</th>\n",
       "      <th>alldocs</th>\n",
       "      <th>capcount</th>\n",
       "      <th>capdocs</th>\n",
       "      <th>burstiness</th>\n",
       "      <th>capratio</th>\n",
       "      <th>capburstiness</th>\n",
       "      <th>authorcount</th>\n",
       "      <th>proper</th>\n",
       "      <th>predicted</th>\n",
       "      <th>confirmed</th>\n",
       "      <th>capdocratio</th>\n",
       "      <th>logauthor</th>\n",
       "    </tr>\n",
       "  </thead>\n",
       "  <tbody>\n",
       "    <tr>\n",
       "      <th>340</th>\n",
       "      <td>pickwick</td>\n",
       "      <td>13500</td>\n",
       "      <td>312</td>\n",
       "      <td>13354</td>\n",
       "      <td>279</td>\n",
       "      <td>43.255367</td>\n",
       "      <td>0.989178</td>\n",
       "      <td>47.846650</td>\n",
       "      <td>198</td>\n",
       "      <td>1</td>\n",
       "      <td>0.995853</td>\n",
       "      <td>1.0</td>\n",
       "      <td>0.111433</td>\n",
       "      <td>5.288267</td>\n",
       "    </tr>\n",
       "    <tr>\n",
       "      <th>341</th>\n",
       "      <td>sewell</td>\n",
       "      <td>2406</td>\n",
       "      <td>112</td>\n",
       "      <td>2369</td>\n",
       "      <td>100</td>\n",
       "      <td>21.462979</td>\n",
       "      <td>0.984581</td>\n",
       "      <td>23.666334</td>\n",
       "      <td>90</td>\n",
       "      <td>1</td>\n",
       "      <td>0.995840</td>\n",
       "      <td>1.0</td>\n",
       "      <td>0.112329</td>\n",
       "      <td>4.499810</td>\n",
       "    </tr>\n",
       "    <tr>\n",
       "      <th>342</th>\n",
       "      <td>barron</td>\n",
       "      <td>2286</td>\n",
       "      <td>107</td>\n",
       "      <td>2268</td>\n",
       "      <td>100</td>\n",
       "      <td>21.344538</td>\n",
       "      <td>0.992083</td>\n",
       "      <td>22.657343</td>\n",
       "      <td>93</td>\n",
       "      <td>1</td>\n",
       "      <td>0.995829</td>\n",
       "      <td>1.0</td>\n",
       "      <td>0.066659</td>\n",
       "      <td>4.532599</td>\n",
       "    </tr>\n",
       "    <tr>\n",
       "      <th>343</th>\n",
       "      <td>alain</td>\n",
       "      <td>2740</td>\n",
       "      <td>129</td>\n",
       "      <td>2736</td>\n",
       "      <td>125</td>\n",
       "      <td>21.223857</td>\n",
       "      <td>0.998504</td>\n",
       "      <td>21.870504</td>\n",
       "      <td>105</td>\n",
       "      <td>1</td>\n",
       "      <td>0.995817</td>\n",
       "      <td>1.0</td>\n",
       "      <td>0.030699</td>\n",
       "      <td>4.653960</td>\n",
       "    </tr>\n",
       "    <tr>\n",
       "      <th>344</th>\n",
       "      <td>kenyon</td>\n",
       "      <td>2050</td>\n",
       "      <td>97</td>\n",
       "      <td>2047</td>\n",
       "      <td>95</td>\n",
       "      <td>21.112255</td>\n",
       "      <td>0.998488</td>\n",
       "      <td>21.524711</td>\n",
       "      <td>79</td>\n",
       "      <td>1</td>\n",
       "      <td>0.995768</td>\n",
       "      <td>1.0</td>\n",
       "      <td>0.019782</td>\n",
       "      <td>4.369448</td>\n",
       "    </tr>\n",
       "    <tr>\n",
       "      <th>345</th>\n",
       "      <td>loring</td>\n",
       "      <td>3191</td>\n",
       "      <td>141</td>\n",
       "      <td>3187</td>\n",
       "      <td>137</td>\n",
       "      <td>22.615167</td>\n",
       "      <td>0.998715</td>\n",
       "      <td>23.245806</td>\n",
       "      <td>125</td>\n",
       "      <td>1</td>\n",
       "      <td>0.995744</td>\n",
       "      <td>1.0</td>\n",
       "      <td>0.028049</td>\n",
       "      <td>4.828314</td>\n",
       "    </tr>\n",
       "    <tr>\n",
       "      <th>346</th>\n",
       "      <td>orme</td>\n",
       "      <td>1833</td>\n",
       "      <td>63</td>\n",
       "      <td>1827</td>\n",
       "      <td>58</td>\n",
       "      <td>29.049128</td>\n",
       "      <td>0.996672</td>\n",
       "      <td>31.445783</td>\n",
       "      <td>52</td>\n",
       "      <td>1</td>\n",
       "      <td>0.995695</td>\n",
       "      <td>1.0</td>\n",
       "      <td>0.080969</td>\n",
       "      <td>3.951244</td>\n",
       "    </tr>\n",
       "    <tr>\n",
       "      <th>347</th>\n",
       "      <td>galt</td>\n",
       "      <td>1582</td>\n",
       "      <td>48</td>\n",
       "      <td>1566</td>\n",
       "      <td>38</td>\n",
       "      <td>32.889813</td>\n",
       "      <td>0.989824</td>\n",
       "      <td>41.102362</td>\n",
       "      <td>39</td>\n",
       "      <td>1</td>\n",
       "      <td>0.995685</td>\n",
       "      <td>1.0</td>\n",
       "      <td>0.230987</td>\n",
       "      <td>3.663562</td>\n",
       "    </tr>\n",
       "    <tr>\n",
       "      <th>348</th>\n",
       "      <td>bama</td>\n",
       "      <td>1401</td>\n",
       "      <td>42</td>\n",
       "      <td>1380</td>\n",
       "      <td>30</td>\n",
       "      <td>33.277910</td>\n",
       "      <td>0.984940</td>\n",
       "      <td>45.847176</td>\n",
       "      <td>37</td>\n",
       "      <td>1</td>\n",
       "      <td>0.995597</td>\n",
       "      <td>1.0</td>\n",
       "      <td>0.333144</td>\n",
       "      <td>3.610918</td>\n",
       "    </tr>\n",
       "    <tr>\n",
       "      <th>349</th>\n",
       "      <td>lassiter</td>\n",
       "      <td>1239</td>\n",
       "      <td>39</td>\n",
       "      <td>1238</td>\n",
       "      <td>38</td>\n",
       "      <td>31.687980</td>\n",
       "      <td>0.999112</td>\n",
       "      <td>32.493438</td>\n",
       "      <td>37</td>\n",
       "      <td>1</td>\n",
       "      <td>0.995514</td>\n",
       "      <td>1.0</td>\n",
       "      <td>0.023347</td>\n",
       "      <td>3.610918</td>\n",
       "    </tr>\n",
       "    <tr>\n",
       "      <th>350</th>\n",
       "      <td>gudgeons</td>\n",
       "      <td>198</td>\n",
       "      <td>61</td>\n",
       "      <td>123</td>\n",
       "      <td>2</td>\n",
       "      <td>3.240589</td>\n",
       "      <td>0.620899</td>\n",
       "      <td>58.571429</td>\n",
       "      <td>45</td>\n",
       "      <td>1</td>\n",
       "      <td>0.995501</td>\n",
       "      <td>1.0</td>\n",
       "      <td>3.368937</td>\n",
       "      <td>3.806662</td>\n",
       "    </tr>\n",
       "    <tr>\n",
       "      <th>351</th>\n",
       "      <td>forrester</td>\n",
       "      <td>3499</td>\n",
       "      <td>156</td>\n",
       "      <td>3488</td>\n",
       "      <td>146</td>\n",
       "      <td>22.415119</td>\n",
       "      <td>0.996828</td>\n",
       "      <td>23.874059</td>\n",
       "      <td>121</td>\n",
       "      <td>1</td>\n",
       "      <td>0.995486</td>\n",
       "      <td>1.0</td>\n",
       "      <td>0.065565</td>\n",
       "      <td>4.795791</td>\n",
       "    </tr>\n",
       "    <tr>\n",
       "      <th>352</th>\n",
       "      <td>mohan</td>\n",
       "      <td>1627</td>\n",
       "      <td>56</td>\n",
       "      <td>1623</td>\n",
       "      <td>53</td>\n",
       "      <td>29.001783</td>\n",
       "      <td>0.997480</td>\n",
       "      <td>30.564972</td>\n",
       "      <td>44</td>\n",
       "      <td>1</td>\n",
       "      <td>0.995466</td>\n",
       "      <td>1.0</td>\n",
       "      <td>0.053175</td>\n",
       "      <td>3.784190</td>\n",
       "    </tr>\n",
       "    <tr>\n",
       "      <th>353</th>\n",
       "      <td>cargill</td>\n",
       "      <td>1379</td>\n",
       "      <td>43</td>\n",
       "      <td>1368</td>\n",
       "      <td>39</td>\n",
       "      <td>31.995360</td>\n",
       "      <td>0.991951</td>\n",
       "      <td>34.987212</td>\n",
       "      <td>35</td>\n",
       "      <td>1</td>\n",
       "      <td>0.995451</td>\n",
       "      <td>1.0</td>\n",
       "      <td>0.095078</td>\n",
       "      <td>3.555348</td>\n",
       "    </tr>\n",
       "    <tr>\n",
       "      <th>354</th>\n",
       "      <td>arnaud</td>\n",
       "      <td>1487</td>\n",
       "      <td>71</td>\n",
       "      <td>1478</td>\n",
       "      <td>68</td>\n",
       "      <td>20.914205</td>\n",
       "      <td>0.993881</td>\n",
       "      <td>21.703377</td>\n",
       "      <td>62</td>\n",
       "      <td>1</td>\n",
       "      <td>0.995436</td>\n",
       "      <td>1.0</td>\n",
       "      <td>0.041703</td>\n",
       "      <td>4.127134</td>\n",
       "    </tr>\n",
       "    <tr>\n",
       "      <th>355</th>\n",
       "      <td>sebastien</td>\n",
       "      <td>1371</td>\n",
       "      <td>43</td>\n",
       "      <td>1358</td>\n",
       "      <td>40</td>\n",
       "      <td>31.809745</td>\n",
       "      <td>0.990446</td>\n",
       "      <td>33.865337</td>\n",
       "      <td>35</td>\n",
       "      <td>1</td>\n",
       "      <td>0.995347</td>\n",
       "      <td>1.0</td>\n",
       "      <td>0.069824</td>\n",
       "      <td>3.555348</td>\n",
       "    </tr>\n",
       "    <tr>\n",
       "      <th>356</th>\n",
       "      <td>i’ve</td>\n",
       "      <td>16658</td>\n",
       "      <td>554</td>\n",
       "      <td>0</td>\n",
       "      <td>0</td>\n",
       "      <td>30.063165</td>\n",
       "      <td>0.000000</td>\n",
       "      <td>0.000000</td>\n",
       "      <td>374</td>\n",
       "      <td>0</td>\n",
       "      <td>0.995330</td>\n",
       "      <td>1.0</td>\n",
       "      <td>8.619750</td>\n",
       "      <td>5.924256</td>\n",
       "    </tr>\n",
       "    <tr>\n",
       "      <th>357</th>\n",
       "      <td>mayfield</td>\n",
       "      <td>1606</td>\n",
       "      <td>77</td>\n",
       "      <td>1600</td>\n",
       "      <td>74</td>\n",
       "      <td>20.830091</td>\n",
       "      <td>0.996202</td>\n",
       "      <td>21.592443</td>\n",
       "      <td>68</td>\n",
       "      <td>1</td>\n",
       "      <td>0.995320</td>\n",
       "      <td>1.0</td>\n",
       "      <td>0.038390</td>\n",
       "      <td>4.219508</td>\n",
       "    </tr>\n",
       "    <tr>\n",
       "      <th>358</th>\n",
       "      <td>hatcher</td>\n",
       "      <td>1424</td>\n",
       "      <td>68</td>\n",
       "      <td>1415</td>\n",
       "      <td>59</td>\n",
       "      <td>20.910426</td>\n",
       "      <td>0.993610</td>\n",
       "      <td>23.942470</td>\n",
       "      <td>63</td>\n",
       "      <td>1</td>\n",
       "      <td>0.995253</td>\n",
       "      <td>1.0</td>\n",
       "      <td>0.140277</td>\n",
       "      <td>4.143135</td>\n",
       "    </tr>\n",
       "    <tr>\n",
       "      <th>359</th>\n",
       "      <td>octavius</td>\n",
       "      <td>1867</td>\n",
       "      <td>90</td>\n",
       "      <td>1862</td>\n",
       "      <td>85</td>\n",
       "      <td>20.721421</td>\n",
       "      <td>0.997268</td>\n",
       "      <td>21.880141</td>\n",
       "      <td>64</td>\n",
       "      <td>1</td>\n",
       "      <td>0.995237</td>\n",
       "      <td>1.0</td>\n",
       "      <td>0.055983</td>\n",
       "      <td>4.158883</td>\n",
       "    </tr>\n",
       "  </tbody>\n",
       "</table>\n",
       "</div>"
      ],
      "text/plain": [
       "          word  allcount  alldocs  capcount  capdocs  burstiness  capratio  \\\n",
       "340   pickwick     13500      312     13354      279   43.255367  0.989178   \n",
       "341     sewell      2406      112      2369      100   21.462979  0.984581   \n",
       "342     barron      2286      107      2268      100   21.344538  0.992083   \n",
       "343      alain      2740      129      2736      125   21.223857  0.998504   \n",
       "344     kenyon      2050       97      2047       95   21.112255  0.998488   \n",
       "345     loring      3191      141      3187      137   22.615167  0.998715   \n",
       "346       orme      1833       63      1827       58   29.049128  0.996672   \n",
       "347       galt      1582       48      1566       38   32.889813  0.989824   \n",
       "348       bama      1401       42      1380       30   33.277910  0.984940   \n",
       "349   lassiter      1239       39      1238       38   31.687980  0.999112   \n",
       "350   gudgeons       198       61       123        2    3.240589  0.620899   \n",
       "351  forrester      3499      156      3488      146   22.415119  0.996828   \n",
       "352      mohan      1627       56      1623       53   29.001783  0.997480   \n",
       "353    cargill      1379       43      1368       39   31.995360  0.991951   \n",
       "354     arnaud      1487       71      1478       68   20.914205  0.993881   \n",
       "355  sebastien      1371       43      1358       40   31.809745  0.990446   \n",
       "356       i’ve     16658      554         0        0   30.063165  0.000000   \n",
       "357   mayfield      1606       77      1600       74   20.830091  0.996202   \n",
       "358    hatcher      1424       68      1415       59   20.910426  0.993610   \n",
       "359   octavius      1867       90      1862       85   20.721421  0.997268   \n",
       "\n",
       "     capburstiness  authorcount  proper  predicted  confirmed  capdocratio  \\\n",
       "340      47.846650          198       1   0.995853        1.0     0.111433   \n",
       "341      23.666334           90       1   0.995840        1.0     0.112329   \n",
       "342      22.657343           93       1   0.995829        1.0     0.066659   \n",
       "343      21.870504          105       1   0.995817        1.0     0.030699   \n",
       "344      21.524711           79       1   0.995768        1.0     0.019782   \n",
       "345      23.245806          125       1   0.995744        1.0     0.028049   \n",
       "346      31.445783           52       1   0.995695        1.0     0.080969   \n",
       "347      41.102362           39       1   0.995685        1.0     0.230987   \n",
       "348      45.847176           37       1   0.995597        1.0     0.333144   \n",
       "349      32.493438           37       1   0.995514        1.0     0.023347   \n",
       "350      58.571429           45       1   0.995501        1.0     3.368937   \n",
       "351      23.874059          121       1   0.995486        1.0     0.065565   \n",
       "352      30.564972           44       1   0.995466        1.0     0.053175   \n",
       "353      34.987212           35       1   0.995451        1.0     0.095078   \n",
       "354      21.703377           62       1   0.995436        1.0     0.041703   \n",
       "355      33.865337           35       1   0.995347        1.0     0.069824   \n",
       "356       0.000000          374       0   0.995330        1.0     8.619750   \n",
       "357      21.592443           68       1   0.995320        1.0     0.038390   \n",
       "358      23.942470           63       1   0.995253        1.0     0.140277   \n",
       "359      21.880141           64       1   0.995237        1.0     0.055983   \n",
       "\n",
       "     logauthor  \n",
       "340   5.288267  \n",
       "341   4.499810  \n",
       "342   4.532599  \n",
       "343   4.653960  \n",
       "344   4.369448  \n",
       "345   4.828314  \n",
       "346   3.951244  \n",
       "347   3.663562  \n",
       "348   3.610918  \n",
       "349   3.610918  \n",
       "350   3.806662  \n",
       "351   4.795791  \n",
       "352   3.784190  \n",
       "353   3.555348  \n",
       "354   4.127134  \n",
       "355   3.555348  \n",
       "356   5.924256  \n",
       "357   4.219508  \n",
       "358   4.143135  \n",
       "359   4.158883  "
      ]
     },
     "execution_count": 198,
     "metadata": {},
     "output_type": "execute_result"
    }
   ],
   "source": [
    "words.iloc[340:360, : ]"
   ]
  },
  {
   "cell_type": "code",
   "execution_count": 199,
   "id": "successful-armstrong",
   "metadata": {},
   "outputs": [],
   "source": [
    "X = words.loc[ : , ['allcount', 'alldocs', 'capcount', 'capdocs', 'burstiness', 'capratio', 'capburstiness', 'authorcount', 'capdocratio', 'logauthor']]"
   ]
  },
  {
   "cell_type": "code",
   "execution_count": 200,
   "id": "limited-grave",
   "metadata": {},
   "outputs": [],
   "source": [
    "y = words['proper']"
   ]
  },
  {
   "cell_type": "code",
   "execution_count": 202,
   "id": "excellent-appointment",
   "metadata": {},
   "outputs": [],
   "source": [
    "from sklearn.preprocessing import StandardScaler\n",
    "scaler = StandardScaler()\n",
    "X = scaler.fit_transform(X)"
   ]
  },
  {
   "cell_type": "code",
   "execution_count": 206,
   "id": "voluntary-clearance",
   "metadata": {},
   "outputs": [
    {
     "name": "stdout",
     "output_type": "stream",
     "text": [
      "0.9076644539745061\n"
     ]
    }
   ],
   "source": [
    "model = LogisticRegression(C = 10000, class_weight = 'balanced', max_iter = 1000)\n",
    "cv_results = cross_validate(model, X = X, y = y, cv = 10)\n",
    "print(np.mean(cv_results['test_score']))"
   ]
  },
  {
   "cell_type": "code",
   "execution_count": 208,
   "id": "naughty-dimension",
   "metadata": {},
   "outputs": [],
   "source": [
    "model = LogisticRegression(C = 1000, class_weight = 'balanced', max_iter = 1000)\n",
    "predictions = cross_val_predict(model, X = X, y = y, cv = 10, method = 'predict_proba')"
   ]
  },
  {
   "cell_type": "code",
   "execution_count": 209,
   "id": "initial-moisture",
   "metadata": {},
   "outputs": [],
   "source": [
    "probabilities = predictions[ : , 1]\n",
    "\n",
    "def binarize(afloat):\n",
    "    if afloat > 0.5:\n",
    "        return 1\n",
    "    else:\n",
    "        return 0\n",
    "\n",
    "predictions  = [binarize(x) for x in probabilities]"
   ]
  },
  {
   "cell_type": "code",
   "execution_count": 210,
   "id": "better-worst",
   "metadata": {},
   "outputs": [],
   "source": [
    "words = words.assign(predicted = predictions)\n",
    "words = words.assign(probs = probabilities)"
   ]
  },
  {
   "cell_type": "code",
   "execution_count": 213,
   "id": "instrumental-horror",
   "metadata": {},
   "outputs": [],
   "source": [
    "words.to_csv('remodeled90k.tsv', sep = '\\t', index = False)"
   ]
  },
  {
   "cell_type": "code",
   "execution_count": 214,
   "id": "working-patrol",
   "metadata": {},
   "outputs": [],
   "source": [
    "rewords = pd.read_csv('remodeled90k.tsv', sep = '\\t', low_memory = False)"
   ]
  },
  {
   "cell_type": "code",
   "execution_count": 215,
   "id": "extensive-tsunami",
   "metadata": {},
   "outputs": [],
   "source": [
    "def tokeep(row):\n",
    "    if row['predicted'] == 0 and row['authorcount'] > 34 and row['proper'] == 0:\n",
    "        return True\n",
    "    elif row['proper'] == 0 and row['confirmed'] == 1:\n",
    "        return True\n",
    "    else:\n",
    "        return False\n",
    "\n",
    "kept = []\n",
    "\n",
    "for idx, row in rewords.iterrows():\n",
    "    kept.append(tokeep(row))\n"
   ]
  },
  {
   "cell_type": "code",
   "execution_count": 216,
   "id": "wired-robinson",
   "metadata": {},
   "outputs": [
    {
     "data": {
      "text/plain": [
       "78553"
      ]
     },
     "execution_count": 216,
     "metadata": {},
     "output_type": "execute_result"
    }
   ],
   "source": [
    "sum(kept)"
   ]
  },
  {
   "cell_type": "code",
   "execution_count": 217,
   "id": "early-andrews",
   "metadata": {},
   "outputs": [],
   "source": [
    "rewords = rewords.assign(kept = kept)"
   ]
  },
  {
   "cell_type": "code",
   "execution_count": 220,
   "id": "advised-storage",
   "metadata": {},
   "outputs": [],
   "source": [
    "vocabulary = rewords.loc[rewords.kept == True, 'word']"
   ]
  },
  {
   "cell_type": "code",
   "execution_count": 222,
   "id": "refined-familiar",
   "metadata": {},
   "outputs": [],
   "source": [
    "propernames = rewords.loc[(rewords.kept == False) & (rewords.authorcount > 34), 'word']"
   ]
  },
  {
   "cell_type": "code",
   "execution_count": 226,
   "id": "imported-paris",
   "metadata": {},
   "outputs": [
    {
     "data": {
      "text/plain": [
       "\"don't use quotations in youre prose\""
      ]
     },
     "execution_count": 226,
     "metadata": {},
     "output_type": "execute_result"
    }
   ],
   "source": [
    "inlist = \"‘’\"\n",
    "outlist = \"''\"\n",
    "removallist = '“”\"'\n",
    "translator = str.maketrans(inlist, outlist, removallist)\n",
    "\n",
    "atest = 'don‘t use \"quotations in you”re prose'\n",
    "atest.translate(translator)"
   ]
  },
  {
   "cell_type": "code",
   "execution_count": 238,
   "id": "worthy-coordinator",
   "metadata": {},
   "outputs": [
    {
     "data": {
      "text/plain": [
       "78521"
      ]
     },
     "execution_count": 238,
     "metadata": {},
     "output_type": "execute_result"
    }
   ],
   "source": [
    "# vocabulary = vocabulary.tolist()\n",
    "vocab = set([x.translate(translator) for x in vocabulary if type(x) == str])\n",
    "len(vocab)"
   ]
  },
  {
   "cell_type": "code",
   "execution_count": 240,
   "id": "floating-palace",
   "metadata": {},
   "outputs": [],
   "source": [
    "vocab = list(vocab)"
   ]
  },
  {
   "cell_type": "code",
   "execution_count": 241,
   "id": "congressional-selection",
   "metadata": {},
   "outputs": [
    {
     "data": {
      "text/plain": [
       "['bathrooms',\n",
       " 'outpatient',\n",
       " 'obbligato',\n",
       " 'i69',\n",
       " 'bridle',\n",
       " '43rd',\n",
       " 'pomposity',\n",
       " 'whoof',\n",
       " 'exempting',\n",
       " 'petalled']"
      ]
     },
     "execution_count": 241,
     "metadata": {},
     "output_type": "execute_result"
    }
   ],
   "source": [
    "vocab[0:10]"
   ]
  },
  {
   "cell_type": "code",
   "execution_count": 255,
   "id": "enormous-visiting",
   "metadata": {},
   "outputs": [],
   "source": [
    "vocabulary = []\n",
    "wordset = set(rewords.word.tolist())\n",
    "for v in vocab:\n",
    "    if v in wordset:\n",
    "        authors = rewords.loc[rewords.word == v, 'authorcount'].values[0]\n",
    "        vocabulary.append((int(authors), v))\n",
    "    else:\n",
    "        vocabulary.append((0, v))\n",
    "        "
   ]
  },
  {
   "cell_type": "code",
   "execution_count": 256,
   "id": "little-indian",
   "metadata": {},
   "outputs": [
    {
     "data": {
      "text/plain": [
       "[(4945, 'a'),\n",
       " (4944, 's'),\n",
       " (4942, 'to'),\n",
       " (4942, 'on'),\n",
       " (4942, 'in'),\n",
       " (4942, 'and'),\n",
       " (4941, 'the'),\n",
       " (4941, 'of'),\n",
       " (4941, 'it'),\n",
       " (4941, 'is')]"
      ]
     },
     "execution_count": 256,
     "metadata": {},
     "output_type": "execute_result"
    }
   ],
   "source": [
    "vocabulary.sort(reverse = True)\n",
    "vocabulary[0:10]"
   ]
  },
  {
   "cell_type": "code",
   "execution_count": 259,
   "id": "wrong-covering",
   "metadata": {},
   "outputs": [],
   "source": [
    "with open('modelvocab.tsv', mode = 'w', encoding = 'utf-8') as f:\n",
    "    for authorcount, word in vocabulary:\n",
    "        if authorcount < 35:\n",
    "            continue\n",
    "        elif '&quot' in word or 'ﬁ' in word or 'ﬂ' in word:\n",
    "            continue\n",
    "        else:\n",
    "            f.write(word + '\\t' + str(authorcount) + '\\n')"
   ]
  },
  {
   "cell_type": "code",
   "execution_count": 261,
   "id": "challenging-pontiac",
   "metadata": {},
   "outputs": [],
   "source": [
    "with open('modelvocab.tsv', mode = 'r', encoding = 'utf-8') as f:\n",
    "    lines = f.readlines()\n",
    "\n",
    "with open('modelvocab.tsv', mode = 'w', encoding = 'utf-8') as f:\n",
    "    for l in lines:\n",
    "        if '_' in l:\n",
    "            continue\n",
    "        if ')' in l:\n",
    "            continue\n",
    "        if '^' in l:\n",
    "            continue\n",
    "        if '>' in l:\n",
    "            continue\n",
    "        if '<' in l:\n",
    "            continue\n",
    "        if '}' in l:\n",
    "            continue\n",
    "        if '/' in l:\n",
    "            continue\n",
    "        if '■' in l:\n",
    "            continue\n",
    "        if ',' in l:\n",
    "            continue\n",
    "        if ';' in l:\n",
    "            continue\n",
    "        if '—' in l:\n",
    "            continue\n",
    "        \n",
    "        f.write(l)"
   ]
  },
  {
   "cell_type": "code",
   "execution_count": 263,
   "id": "available-miracle",
   "metadata": {},
   "outputs": [],
   "source": [
    "import csv\n",
    "\n",
    "translator = dict()\n",
    "\n",
    "with open('CorrectionRules.txt', encoding = 'utf-8') as f:\n",
    "    reader = csv.reader(f, delimiter = '\\t')\n",
    "    for row in reader:\n",
    "        if len(row) < 2:\n",
    "            continue\n",
    "        translator[row[0]] = row[1]\n",
    "\n",
    "with open('VariantSpellings.txt', encoding = 'utf-8') as f:\n",
    "    reader = csv.reader(f, delimiter = '\\t')\n",
    "    for row in reader:\n",
    "        if len(row) < 2:\n",
    "            continue\n",
    "        translator[row[0]] = row[1]"
   ]
  },
  {
   "cell_type": "code",
   "execution_count": 264,
   "id": "guided-carter",
   "metadata": {},
   "outputs": [],
   "source": [
    "vocab = []\n",
    "vocabset = set()\n",
    "with open('modelvocab.tsv', mode = 'r', encoding = 'utf-8') as f:\n",
    "    lines = f.readlines()\n",
    "    for l in lines:\n",
    "        l = l.strip()\n",
    "        fields = l.split('\\t')\n",
    "        vocab.append((fields[0], fields[1]))\n",
    "        vocabset.add(fields[0])       "
   ]
  },
  {
   "cell_type": "code",
   "execution_count": 281,
   "id": "opposite-placement",
   "metadata": {},
   "outputs": [
    {
     "name": "stdout",
     "output_type": "stream",
     "text": [
      "1507 419\n"
     ]
    }
   ],
   "source": [
    "translated = 0\n",
    "untranslated = 0\n",
    "newset = set()\n",
    "with open('modelvocab2.tsv', mode = 'w', encoding = 'utf-8') as f:\n",
    "    for word, authorcount in vocab:\n",
    "        if word in translator and translator[word] in vocabset:\n",
    "            translated += 1\n",
    "            continue\n",
    "        elif word in translator and ' ' in translator[word]:\n",
    "            continue\n",
    "        elif word in translator and translator[word] in newset:\n",
    "            continue\n",
    "        elif word in translator:\n",
    "            word = translator[word]\n",
    "            newset.add(word)\n",
    "            untranslated += 1\n",
    "        \n",
    "        f.write(word + '\\t' + str(authorcount) + '\\n')\n",
    "        \n",
    "print(translated, untranslated)"
   ]
  },
  {
   "cell_type": "code",
   "execution_count": 279,
   "id": "destroyed-maria",
   "metadata": {},
   "outputs": [
    {
     "data": {
      "text/plain": [
       "'every time'"
      ]
     },
     "execution_count": 279,
     "metadata": {},
     "output_type": "execute_result"
    }
   ],
   "source": [
    "translator['everytime']"
   ]
  },
  {
   "cell_type": "code",
   "execution_count": 269,
   "id": "moral-literature",
   "metadata": {},
   "outputs": [
    {
     "name": "stdout",
     "output_type": "stream",
     "text": [
      "tbe the\n",
      "foon soon\n",
      "tlie the\n",
      "vour your\n",
      "lnternet internet\n",
      "witli with\n",
      "tliis this\n",
      "lonization ionization\n",
      "printf prints\n",
      "1nternational international\n",
      "thev they\n",
      "l6pez lopez\n",
      "lslam islam\n",
      "majefty majesty\n",
      "whicli which\n",
      "lslamic islamic\n",
      "g6mez gomez\n",
      "fhe she\n",
      "tliey they\n",
      "1nstitute institute\n",
      "avith with\n",
      "lndonesia indonesia\n",
      "f1g fig\n",
      "ram6n ramon\n",
      "tbat that\n",
      "tlieir their\n",
      "liave have\n",
      "califomia california\n",
      "avas was\n",
      "montferrat montserrat\n",
      "latrogenic iatrogenic\n",
      "1ndian indian\n",
      "hfe life\n",
      "gaf gas\n",
      "whieh which\n",
      "veiy very\n",
      "vhich which\n",
      "0ther other\n",
      "1ndia india\n",
      "sucli such\n",
      "avhen when\n",
      "tbey they\n",
      "ihey they\n",
      "lieben lichen\n",
      "lncreased increased\n",
      "notwith not with\n",
      "lndividual individual\n",
      "tliem them\n",
      "snch such\n",
      "avhich which\n",
      "wliat what\n",
      "fex sex\n",
      "0ctober october\n",
      "tliere there\n",
      "httle little\n",
      "onlv only\n",
      "ihat that\n",
      "fects sects\n",
      "1ndeed indeed\n",
      "11linois illinois\n",
      "iheir their\n",
      "c6rdoba cordoba\n",
      "verv very\n",
      "heing being\n",
      "witb with\n",
      "trav tray\n",
      "1nformation information\n",
      "ufe use\n",
      "1ntroduction introduction\n",
      "eveiy every\n",
      "tbis this\n",
      "feated seated\n",
      "intemet internet\n",
      "tiiat that\n",
      "calder6n calderon\n",
      "lhat that\n",
      "lmpact impact\n",
      "avhat what\n",
      "w^as was\n",
      "wiU will\n",
      "thefe these\n",
      "vhen when\n",
      "ahout about\n",
      "lnitial initial\n",
      "fection section\n",
      "tlian than\n",
      "avho who\n",
      "ihem them\n",
      "tbeir their\n",
      "ivith with\n",
      "ldentify identify\n",
      "wby why\n",
      "lnsert insert\n",
      "nnder under\n",
      "tlien then\n",
      "conld could\n",
      "ihould should\n",
      "lncludes includes\n",
      "pacif1c pacific\n",
      "0ffice office\n",
      "manv many\n"
     ]
    }
   ],
   "source": [
    "ctr = 0\n",
    "for k, v in translator.items():\n",
    "    print(k, v)\n",
    "    ctr += 1\n",
    "    if ctr > 100:\n",
    "        break"
   ]
  },
  {
   "cell_type": "code",
   "execution_count": 270,
   "id": "daily-pantyhose",
   "metadata": {},
   "outputs": [
    {
     "data": {
      "text/plain": [
       "77022"
      ]
     },
     "execution_count": 270,
     "metadata": {},
     "output_type": "execute_result"
    }
   ],
   "source": [
    "len(vocabset)"
   ]
  },
  {
   "cell_type": "code",
   "execution_count": 271,
   "id": "collaborative-artwork",
   "metadata": {},
   "outputs": [
    {
     "data": {
      "text/plain": [
       "True"
      ]
     },
     "execution_count": 271,
     "metadata": {},
     "output_type": "execute_result"
    }
   ],
   "source": [
    "'honor' in vocabset"
   ]
  },
  {
   "cell_type": "code",
   "execution_count": 272,
   "id": "tight-greeting",
   "metadata": {},
   "outputs": [
    {
     "data": {
      "text/plain": [
       "True"
      ]
     },
     "execution_count": 272,
     "metadata": {},
     "output_type": "execute_result"
    }
   ],
   "source": [
    "'honour' in vocabset"
   ]
  },
  {
   "cell_type": "code",
   "execution_count": 273,
   "id": "acknowledged-queens",
   "metadata": {},
   "outputs": [
    {
     "data": {
      "text/plain": [
       "True"
      ]
     },
     "execution_count": 273,
     "metadata": {},
     "output_type": "execute_result"
    }
   ],
   "source": [
    "'honor' in translator"
   ]
  },
  {
   "cell_type": "code",
   "execution_count": 282,
   "id": "unusual-soldier",
   "metadata": {},
   "outputs": [
    {
     "data": {
      "text/plain": [
       "['unholy', 'one']"
      ]
     },
     "execution_count": 282,
     "metadata": {},
     "output_type": "execute_result"
    }
   ],
   "source": [
    "j = 'unholy—one'\n",
    "j.split('—')"
   ]
  },
  {
   "cell_type": "code",
   "execution_count": null,
   "id": "regulated-integer",
   "metadata": {},
   "outputs": [],
   "source": []
  }
 ],
 "metadata": {
  "kernelspec": {
   "display_name": "Python 3",
   "language": "python",
   "name": "python3"
  },
  "language_info": {
   "codemirror_mode": {
    "name": "ipython",
    "version": 3
   },
   "file_extension": ".py",
   "mimetype": "text/x-python",
   "name": "python",
   "nbconvert_exporter": "python",
   "pygments_lexer": "ipython3",
   "version": "3.7.6"
  }
 },
 "nbformat": 4,
 "nbformat_minor": 5
}
