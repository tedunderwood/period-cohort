{
 "cells": [
  {
   "cell_type": "markdown",
   "id": "another-melissa",
   "metadata": {},
   "source": [
    "# Persistence of change\n",
    "\n",
    "Here we adopt a very simple strategy to assess whether changes persist across an author's career.\n",
    "\n",
    "We consider the sequence of books an author has written across their career, considering only books published in different years (duplicates in the same year are dropped). Then we create many \"triplets\" of sequential books, balancing these so different authors have an equal chance to be represented, as long as they have written at least three books. \n",
    "\n",
    "For instance a triplet centered at time *t* would be: $book_{t-1}, book_{t}, book_{t+1}$.\n",
    "\n",
    "We then ask whether the average distance between topic proportions for the two single steps--from $t-1$ to $t$ and from $t$ to $t+1$--is larger or smaller than the total distance from $t-1$ to $t+1$.\n",
    "\n",
    "If there's no persistent change over time for individuals, then all values for books are just $authormean \\pm \\epsilon$, and the mean distance across two steps should be the same as the mean distance for one step.\n",
    "\n",
    "If, however, change is persistent, the two-step distance should be greater than the one-step distance.\n",
    "\n",
    "We can then ask whether this ratio varies across topics, and whether it varies with age at $t-1$ or with the total distance across the triplet.\n",
    "\n",
    "When we're considering topics individually, we measure distance simply as $|t_1 - t_2|$. When we don't need to specify topic, we can measure distance more generally using euclidean distance. (We don't use cosine distance here because its failure to satisfy triangle inequality creates an issue for the method we're attempting to implement.)"
   ]
  },
  {
   "cell_type": "code",
   "execution_count": 1,
   "id": "specific-liver",
   "metadata": {},
   "outputs": [],
   "source": [
    "import pandas as pd\n",
    "import numpy as np\n",
    "from collections import Counter\n",
    "from matplotlib import pyplot as plt\n",
    "import seaborn as sns\n",
    "from scipy.stats import pearsonr, zscore\n",
    "import random\n",
    "from scipy.spatial.distance import euclidean\n",
    "import statsmodels.api as sm"
   ]
  },
  {
   "cell_type": "markdown",
   "id": "thrown-accountability",
   "metadata": {},
   "source": [
    "#### Load topic data\n",
    "\n",
    "Then limit it to books whose authors have three or more books."
   ]
  },
  {
   "cell_type": "code",
   "execution_count": 2,
   "id": "blessed-messaging",
   "metadata": {},
   "outputs": [],
   "source": [
    "bookdata = pd.read_csv('../topicdata/bookleveltopicdata.tsv', sep = '\\t', low_memory = False)"
   ]
  },
  {
   "cell_type": "code",
   "execution_count": 3,
   "id": "employed-birth",
   "metadata": {},
   "outputs": [
    {
     "name": "stdout",
     "output_type": "stream",
     "text": [
      "(10830, 208)\n"
     ]
    },
    {
     "data": {
      "text/plain": [
       "(10355, 208)"
      ]
     },
     "execution_count": 3,
     "metadata": {},
     "output_type": "execute_result"
    }
   ],
   "source": [
    "print(bookdata.shape)\n",
    "bookdata = bookdata.loc[bookdata.authof3ormore == True, : ]\n",
    "bookdata.shape"
   ]
  },
  {
   "cell_type": "code",
   "execution_count": 4,
   "id": "accurate-overhead",
   "metadata": {},
   "outputs": [],
   "source": [
    "authors = list(set(bookdata.hathi_author))\n",
    "random.shuffle(authors)"
   ]
  },
  {
   "cell_type": "code",
   "execution_count": 5,
   "id": "subjective-andorra",
   "metadata": {},
   "outputs": [
    {
     "data": {
      "text/plain": [
       "1714"
      ]
     },
     "execution_count": 5,
     "metadata": {},
     "output_type": "execute_result"
    }
   ],
   "source": [
    "len(authors)"
   ]
  },
  {
   "cell_type": "code",
   "execution_count": 6,
   "id": "essential-spyware",
   "metadata": {},
   "outputs": [
    {
     "data": {
      "text/html": [
       "<div>\n",
       "<style scoped>\n",
       "    .dataframe tbody tr th:only-of-type {\n",
       "        vertical-align: middle;\n",
       "    }\n",
       "\n",
       "    .dataframe tbody tr th {\n",
       "        vertical-align: top;\n",
       "    }\n",
       "\n",
       "    .dataframe thead th {\n",
       "        text-align: right;\n",
       "    }\n",
       "</style>\n",
       "<table border=\"1\" class=\"dataframe\">\n",
       "  <thead>\n",
       "    <tr style=\"text-align: right;\">\n",
       "      <th></th>\n",
       "      <th>t0</th>\n",
       "      <th>t1</th>\n",
       "      <th>t2</th>\n",
       "      <th>t3</th>\n",
       "      <th>t4</th>\n",
       "      <th>t5</th>\n",
       "      <th>t6</th>\n",
       "      <th>t7</th>\n",
       "      <th>t8</th>\n",
       "      <th>t9</th>\n",
       "      <th>...</th>\n",
       "      <th>t198</th>\n",
       "      <th>t199</th>\n",
       "      <th>docid</th>\n",
       "      <th>birthyear</th>\n",
       "      <th>firstpub</th>\n",
       "      <th>hathi_author</th>\n",
       "      <th>hathi_title</th>\n",
       "      <th>us_national</th>\n",
       "      <th>authof3ormore</th>\n",
       "      <th>age</th>\n",
       "    </tr>\n",
       "  </thead>\n",
       "  <tbody>\n",
       "    <tr>\n",
       "      <th>0</th>\n",
       "      <td>0.000006</td>\n",
       "      <td>0.000031</td>\n",
       "      <td>0.011298</td>\n",
       "      <td>0.000004</td>\n",
       "      <td>0.000193</td>\n",
       "      <td>0.000005</td>\n",
       "      <td>0.000212</td>\n",
       "      <td>0.000165</td>\n",
       "      <td>0.000400</td>\n",
       "      <td>0.000138</td>\n",
       "      <td>...</td>\n",
       "      <td>0.004745</td>\n",
       "      <td>0.000002</td>\n",
       "      <td>inu.30000112046630</td>\n",
       "      <td>1911.0</td>\n",
       "      <td>1957</td>\n",
       "      <td>Abbe, George</td>\n",
       "      <td>The winter house</td>\n",
       "      <td>False</td>\n",
       "      <td>True</td>\n",
       "      <td>46.0</td>\n",
       "    </tr>\n",
       "    <tr>\n",
       "      <th>1</th>\n",
       "      <td>0.000243</td>\n",
       "      <td>0.000035</td>\n",
       "      <td>0.007245</td>\n",
       "      <td>0.000004</td>\n",
       "      <td>0.000011</td>\n",
       "      <td>0.002074</td>\n",
       "      <td>0.000003</td>\n",
       "      <td>0.000009</td>\n",
       "      <td>0.000008</td>\n",
       "      <td>0.000008</td>\n",
       "      <td>...</td>\n",
       "      <td>0.035885</td>\n",
       "      <td>0.000002</td>\n",
       "      <td>uc1.$b799882</td>\n",
       "      <td>1911.0</td>\n",
       "      <td>1967</td>\n",
       "      <td>Abbe, George</td>\n",
       "      <td>The funeral</td>\n",
       "      <td>False</td>\n",
       "      <td>True</td>\n",
       "      <td>56.0</td>\n",
       "    </tr>\n",
       "    <tr>\n",
       "      <th>2</th>\n",
       "      <td>0.000006</td>\n",
       "      <td>0.000005</td>\n",
       "      <td>0.012275</td>\n",
       "      <td>0.000003</td>\n",
       "      <td>0.000755</td>\n",
       "      <td>0.009934</td>\n",
       "      <td>0.000002</td>\n",
       "      <td>0.000008</td>\n",
       "      <td>0.000583</td>\n",
       "      <td>0.000278</td>\n",
       "      <td>...</td>\n",
       "      <td>0.000004</td>\n",
       "      <td>0.000002</td>\n",
       "      <td>uc1.$b149331</td>\n",
       "      <td>1911.0</td>\n",
       "      <td>1968</td>\n",
       "      <td>Abbe, George</td>\n",
       "      <td>Yonderville</td>\n",
       "      <td>False</td>\n",
       "      <td>True</td>\n",
       "      <td>57.0</td>\n",
       "    </tr>\n",
       "    <tr>\n",
       "      <th>3</th>\n",
       "      <td>0.000215</td>\n",
       "      <td>0.004015</td>\n",
       "      <td>0.007680</td>\n",
       "      <td>0.001625</td>\n",
       "      <td>0.000167</td>\n",
       "      <td>0.002289</td>\n",
       "      <td>0.050386</td>\n",
       "      <td>0.000305</td>\n",
       "      <td>0.000007</td>\n",
       "      <td>0.002727</td>\n",
       "      <td>...</td>\n",
       "      <td>0.001661</td>\n",
       "      <td>0.000002</td>\n",
       "      <td>uc1.32106007981415</td>\n",
       "      <td>1927.0</td>\n",
       "      <td>1956</td>\n",
       "      <td>Abbey, Edward</td>\n",
       "      <td>The brave cowboy : an old tale in a new time</td>\n",
       "      <td>True</td>\n",
       "      <td>True</td>\n",
       "      <td>29.0</td>\n",
       "    </tr>\n",
       "    <tr>\n",
       "      <th>4</th>\n",
       "      <td>0.000006</td>\n",
       "      <td>0.000005</td>\n",
       "      <td>0.000095</td>\n",
       "      <td>0.007116</td>\n",
       "      <td>0.007377</td>\n",
       "      <td>0.000231</td>\n",
       "      <td>0.062383</td>\n",
       "      <td>0.000149</td>\n",
       "      <td>0.000289</td>\n",
       "      <td>0.001048</td>\n",
       "      <td>...</td>\n",
       "      <td>0.000033</td>\n",
       "      <td>0.000002</td>\n",
       "      <td>inu.39000001136287</td>\n",
       "      <td>1927.0</td>\n",
       "      <td>1962</td>\n",
       "      <td>Abbey, Edward</td>\n",
       "      <td>Fire on the mountain</td>\n",
       "      <td>True</td>\n",
       "      <td>True</td>\n",
       "      <td>35.0</td>\n",
       "    </tr>\n",
       "  </tbody>\n",
       "</table>\n",
       "<p>5 rows × 208 columns</p>\n",
       "</div>"
      ],
      "text/plain": [
       "         t0        t1        t2        t3        t4        t5        t6  \\\n",
       "0  0.000006  0.000031  0.011298  0.000004  0.000193  0.000005  0.000212   \n",
       "1  0.000243  0.000035  0.007245  0.000004  0.000011  0.002074  0.000003   \n",
       "2  0.000006  0.000005  0.012275  0.000003  0.000755  0.009934  0.000002   \n",
       "3  0.000215  0.004015  0.007680  0.001625  0.000167  0.002289  0.050386   \n",
       "4  0.000006  0.000005  0.000095  0.007116  0.007377  0.000231  0.062383   \n",
       "\n",
       "         t7        t8        t9  ...      t198      t199               docid  \\\n",
       "0  0.000165  0.000400  0.000138  ...  0.004745  0.000002  inu.30000112046630   \n",
       "1  0.000009  0.000008  0.000008  ...  0.035885  0.000002        uc1.$b799882   \n",
       "2  0.000008  0.000583  0.000278  ...  0.000004  0.000002        uc1.$b149331   \n",
       "3  0.000305  0.000007  0.002727  ...  0.001661  0.000002  uc1.32106007981415   \n",
       "4  0.000149  0.000289  0.001048  ...  0.000033  0.000002  inu.39000001136287   \n",
       "\n",
       "   birthyear  firstpub   hathi_author  \\\n",
       "0     1911.0      1957   Abbe, George   \n",
       "1     1911.0      1967   Abbe, George   \n",
       "2     1911.0      1968   Abbe, George   \n",
       "3     1927.0      1956  Abbey, Edward   \n",
       "4     1927.0      1962  Abbey, Edward   \n",
       "\n",
       "                                    hathi_title  us_national  authof3ormore  \\\n",
       "0                              The winter house        False           True   \n",
       "1                                   The funeral        False           True   \n",
       "2                                   Yonderville        False           True   \n",
       "3  The brave cowboy : an old tale in a new time         True           True   \n",
       "4                          Fire on the mountain         True           True   \n",
       "\n",
       "    age  \n",
       "0  46.0  \n",
       "1  56.0  \n",
       "2  57.0  \n",
       "3  29.0  \n",
       "4  35.0  \n",
       "\n",
       "[5 rows x 208 columns]"
      ]
     },
     "execution_count": 6,
     "metadata": {},
     "output_type": "execute_result"
    }
   ],
   "source": [
    "bookdata.head()"
   ]
  },
  {
   "cell_type": "markdown",
   "id": "focal-world",
   "metadata": {},
   "source": [
    "## How many triplets are there?"
   ]
  },
  {
   "cell_type": "code",
   "execution_count": 78,
   "id": "sophisticated-queue",
   "metadata": {},
   "outputs": [
    {
     "name": "stdout",
     "output_type": "stream",
     "text": [
      "6927\n"
     ]
    }
   ],
   "source": [
    "tripletcount = 0\n",
    "for auth in authors:\n",
    "    authworks = bookdata.loc[bookdata.hathi_author == auth, :].copy()\n",
    "    numworks = len(authworks)\n",
    "    if numworks > 2:\n",
    "        tripletcount = tripletcount + numworks - 2\n",
    "\n",
    "print(tripletcount)"
   ]
  },
  {
   "cell_type": "markdown",
   "id": "cathedral-burning",
   "metadata": {},
   "source": [
    "## Measuring triplets\n",
    "\n",
    "We create a dataframe where each row represents a triplet measurement. Each row will contain\n",
    "\n",
    "1. The dimension measured, which could be a natural number for a single topic dimension, or -1 for euclidean distance in the whole topic space. We'll select on this column.\n",
    "\n",
    "2. The average of both single-step measurements.\n",
    "\n",
    "3. The double-step measurement.\n",
    "\n",
    "4. The author's age at t-1.\n",
    "\n",
    "5. The age gap from t-1 to t+1."
   ]
  },
  {
   "cell_type": "code",
   "execution_count": 7,
   "id": "pacific-netscape",
   "metadata": {},
   "outputs": [],
   "source": [
    "def maketriplets(authorselection):\n",
    "    \n",
    "    # We create a list for each of the 1-5 columns described above\n",
    "\n",
    "    dimensions = []\n",
    "    singlesteps = []\n",
    "    doublesteps = []\n",
    "    initialages = []\n",
    "    agegaps = []\n",
    "\n",
    "    ctr = 0\n",
    "    errors = 0\n",
    "\n",
    "\n",
    "    for auth in authorselection:\n",
    "        authworks = bookdata.loc[bookdata.hathi_author == auth, :].copy()   # get all the author's books\n",
    "        authworks = authworks.sample(frac = 1)                                # shuffle them\n",
    "        authworks = authworks.drop_duplicates(subset = 'firstpub', keep = 'first') # keep only one per date\n",
    "        authworks = authworks.sort_values(by = 'firstpub')              # sort them by date\n",
    "\n",
    "        if len(authworks) < 3:      # this could happen if an author has only 3 works and 2 are date-duplicates\n",
    "            errors += 1\n",
    "            continue\n",
    "\n",
    "        centerpoints = [x for x in range(1, len(authworks) - 1)]            # a triad cannot be centered on the first\n",
    "                                                                            # or last book\n",
    "\n",
    "        rownum = random.choice(centerpoints)             # randomly choose an allowable book as triad center\n",
    "\n",
    "        prevage = int(authworks.iloc[rownum - 1, 207])   # also get author's age at start of triad\n",
    "        thisage = int(authworks.iloc[rownum, 207])\n",
    "        nextage = int(authworks.iloc[rownum + 1, 207])\n",
    "        agegap = nextage - prevage\n",
    "\n",
    "        prevvector = authworks.iloc[rownum - 1, 0:200]\n",
    "        thisvector = authworks.iloc[rownum, 0:200]\n",
    "        nextvector = authworks.iloc[rownum + 1, 0:200]\n",
    "\n",
    "        from1to2 = euclidean(prevvector, thisvector)\n",
    "        from2to3 = euclidean(thisvector, nextvector)\n",
    "        from1to3 = euclidean(prevvector, nextvector)\n",
    "\n",
    "        dimensions.append(-1)\n",
    "        singlesteps.append(from1to2 + from2to3)  # if the distances were cumulative & in the same direction\n",
    "        doublesteps.append(from1to3)\n",
    "        initialages.append(prevage)\n",
    "        agegaps.append(agegap)\n",
    "\n",
    "        for tnum in range(0, 200):                       # and then for each topic tnum\n",
    "\n",
    "            prevwork = authworks.iat[rownum -1, tnum]    # get the previous value of tnum\n",
    "            thiswork = authworks.iat[rownum, tnum]       # the one at triad center\n",
    "            nextwork = authworks.iat[rownum + 1, tnum]   # and the next value of tnum\n",
    "\n",
    "            from1to3 = abs(nextwork - prevwork)\n",
    "\n",
    "            age1to2 = int(np.mean([prevage, thisage]))\n",
    "            from1to2 = abs(thiswork - prevwork)\n",
    "\n",
    "            age2to3 = int(np.mean([thisage, nextage]))\n",
    "            from2to3 = abs(nextwork - thiswork)\n",
    "            ifcumulative = from1to2 + from2to3    # if the changes were in the same direction\n",
    "\n",
    "            dimensions.append(tnum)\n",
    "            singlesteps.append(ifcumulative)\n",
    "            doublesteps.append(from1to3)\n",
    "            initialages.append(prevage)\n",
    "            agegaps.append(agegap)\n",
    "\n",
    "        ctr += 1\n",
    "        if ctr % 500 == 1:\n",
    "            print(ctr)\n",
    "\n",
    "    triplets = pd.DataFrame({'dim': dimensions, 'single': singlesteps, 'double': doublesteps, 'initialage': initialages,\n",
    "                            'agegap': agegaps})\n",
    "    \n",
    "    print('Errors: ', errors)\n",
    "    \n",
    "    return triplets\n"
   ]
  },
  {
   "cell_type": "code",
   "execution_count": 8,
   "id": "intended-truck",
   "metadata": {},
   "outputs": [
    {
     "name": "stdout",
     "output_type": "stream",
     "text": [
      "1\n",
      "501\n",
      "1001\n",
      "1501\n",
      "2001\n",
      "2501\n",
      "3001\n",
      "3501\n",
      "4001\n",
      "4501\n",
      "5001\n",
      "5501\n",
      "6001\n",
      "6501\n",
      "7001\n",
      "7501\n",
      "8001\n",
      "8501\n",
      "9001\n",
      "9501\n",
      "10001\n",
      "10501\n",
      "11001\n",
      "11501\n",
      "12001\n",
      "12501\n",
      "13001\n",
      "13501\n",
      "14001\n",
      "14501\n",
      "15001\n",
      "15501\n",
      "16001\n",
      "16501\n",
      "17001\n",
      "17501\n",
      "18001\n",
      "18501\n",
      "19001\n",
      "19501\n",
      "Errors:  376\n"
     ]
    }
   ],
   "source": [
    "equalauthors = random.choices(authors, k = 20000) # randomly select author names\n",
    "                                                 # with replacement, from a list\n",
    "        # where each author is present once, without regard to # of books\n",
    "        # We're selecting most authors much more than once, but then, a lot of them\n",
    "        # have more than one possible triplet\n",
    "\n",
    "triplets = maketriplets(equalauthors)"
   ]
  },
  {
   "cell_type": "code",
   "execution_count": 9,
   "id": "upper-basin",
   "metadata": {},
   "outputs": [
    {
     "data": {
      "text/plain": [
       "(3944424, 5)"
      ]
     },
     "execution_count": 9,
     "metadata": {},
     "output_type": "execute_result"
    }
   ],
   "source": [
    "triplets.shape"
   ]
  },
  {
   "cell_type": "markdown",
   "id": "another-begin",
   "metadata": {},
   "source": [
    "## Aggregate triplets by topic\n",
    "\n",
    "We go through the triplet frame and aggregate by topic.\n",
    "\n",
    "For each topic we measure\n",
    "\n",
    "1. How much the distance from book 1 to book 3 exceeds the distance we would expect if all books are distributed randomly around the same mean value. (If sequence didn't matter, we would expect 1->3 to be the mean of 1->2 and 2->3.) We call this \"cumulative drift\" in the measured topic, and express it as excess over expected random variation."
   ]
  },
  {
   "cell_type": "code",
   "execution_count": 12,
   "id": "opening-punch",
   "metadata": {},
   "outputs": [],
   "source": [
    "dimensions = []\n",
    "drifts = []\n",
    "\n",
    "\n",
    "for dimension in range(0, 200):\n",
    "    df = triplets.loc[triplets.dim == dimension , : ]\n",
    "    \n",
    "    thisdrift = (np.mean(df.double) / (np.mean(df.single) / 2)) - 1\n",
    "    \n",
    "    dimensions.append(dimension)\n",
    "    drifts.append(thisdrift)\n",
    "    \n",
    "    \n",
    "topicmeans = pd.DataFrame({'topic': dimensions, 'drift': drifts}) "
   ]
  },
  {
   "cell_type": "code",
   "execution_count": 13,
   "id": "photographic-lambda",
   "metadata": {},
   "outputs": [
    {
     "data": {
      "text/plain": [
       "array([[<AxesSubplot:title={'center':'drift'}>]], dtype=object)"
      ]
     },
     "execution_count": 13,
     "metadata": {},
     "output_type": "execute_result"
    },
    {
     "data": {
      "image/png": "[encoded data removed]",
      "text/plain": [
       "<Figure size 432x288 with 1 Axes>"
      ]
     },
     "metadata": {
      "needs_background": "light"
     },
     "output_type": "display_data"
    }
   ],
   "source": [
    "topicmeans.hist(column = 'drift', bins = 25)"
   ]
  },
  {
   "cell_type": "markdown",
   "id": "naked-rough",
   "metadata": {},
   "source": [
    "## Careers"
   ]
  },
  {
   "cell_type": "code",
   "execution_count": 14,
   "id": "blind-singles",
   "metadata": {},
   "outputs": [],
   "source": [
    "# standardize all the topic columns\n",
    "\n",
    "career = bookdata.copy()\n",
    "for i in range(200):\n",
    "    career.iloc[ : , i] = zscore(career.iloc[ : , i])"
   ]
  },
  {
   "cell_type": "code",
   "execution_count": 15,
   "id": "photographic-occasions",
   "metadata": {},
   "outputs": [
    {
     "name": "stdout",
     "output_type": "stream",
     "text": [
      "1\n",
      "501\n",
      "1001\n",
      "1501\n"
     ]
    }
   ],
   "source": [
    "dimensions = []\n",
    "careerspans = []\n",
    "careerchanges = []\n",
    "careerabschanges = []\n",
    "\n",
    "ctr = 0\n",
    "\n",
    "for auth in authors:\n",
    "    authworks = career.loc[career.hathi_author == auth, :].copy()   # get all the author's books\n",
    "    authworks = authworks.sort_values(by = 'firstpub')              # sort them by date\n",
    "    \n",
    "    cspan = authworks.iat[len(authworks) - 1, 207] - authworks.iat[0, 207]\n",
    "    \n",
    "    for tnum in range(200):\n",
    "        thischange = authworks.iat[len(authworks) - 1, tnum] - authworks.iat[0, tnum]\n",
    "        dimensions.append(tnum)\n",
    "        careerspans.append(cspan)\n",
    "        careerchanges.append(thischange)\n",
    "        careerabschanges.append(abs(thischange))\n",
    "    \n",
    "    ctr += 1\n",
    "    \n",
    "    if ctr % 500 == 1:\n",
    "        print(ctr)\n",
    "    "
   ]
  },
  {
   "cell_type": "code",
   "execution_count": 16,
   "id": "fantastic-guitar",
   "metadata": {},
   "outputs": [],
   "source": [
    "careervariation = pd.DataFrame({'topic': dimensions, 'spans': careerspans, 'changes': careerchanges, 'abschanges': careerabschanges})\n",
    "\n",
    "weightedchanges = []\n",
    "weightedabschanges = []\n",
    "tnums = []\n",
    "\n",
    "for tnum, df in careervariation.groupby('topic'):\n",
    "    weightedchanges.append(np.average(df.changes, weights = df.spans))\n",
    "    weightedabschanges.append(np.average(df.abschanges, weights = df.spans))\n",
    "    tnums.append(tnum)\n",
    "\n",
    "careerdf = pd.DataFrame({'topic': tnums, 'change': weightedchanges, 'abschanges': weightedabschanges})"
   ]
  },
  {
   "cell_type": "code",
   "execution_count": 17,
   "id": "saving-chapter",
   "metadata": {},
   "outputs": [
    {
     "data": {
      "text/plain": [
       "(0.35587819266494936, 2.3204128823635313e-07)"
      ]
     },
     "execution_count": 17,
     "metadata": {},
     "output_type": "execute_result"
    }
   ],
   "source": [
    "pearsonr(np.abs(careerdf.change), topicmeans.drift)"
   ]
  },
  {
   "cell_type": "code",
   "execution_count": 19,
   "id": "tamil-glasgow",
   "metadata": {},
   "outputs": [
    {
     "data": {
      "text/plain": [
       "(0.016379029206642477, 0.8179379159141236)"
      ]
     },
     "execution_count": 19,
     "metadata": {},
     "output_type": "execute_result"
    }
   ],
   "source": [
    "pearsonr(careerdf.abschanges, topicmeans.drift)"
   ]
  },
  {
   "cell_type": "code",
   "execution_count": 21,
   "id": "manual-performer",
   "metadata": {},
   "outputs": [],
   "source": [
    "topicmeans['meancareerchange'] = careerdf.change.values\n",
    "topicmeans['abscareerchange'] = careerdf.abschanges.values"
   ]
  },
  {
   "cell_type": "code",
   "execution_count": 22,
   "id": "offensive-despite",
   "metadata": {},
   "outputs": [],
   "source": [
    "topicmeans.to_csv('changepersistence.tsv', sep = '\\t', index = False)"
   ]
  },
  {
   "cell_type": "markdown",
   "id": "existing-segment",
   "metadata": {},
   "source": [
    "## Evaluate overall relationship to age\n",
    "\n",
    "Here we're looking at the Euclidean distance in topic space, for all topics at once."
   ]
  },
  {
   "cell_type": "code",
   "execution_count": 23,
   "id": "configured-democrat",
   "metadata": {},
   "outputs": [],
   "source": [
    "euc = triplets.loc[triplets.dim == -1, : ]  # Dimension -1 is the euclidean distance in topic space"
   ]
  },
  {
   "cell_type": "code",
   "execution_count": 24,
   "id": "changed-arcade",
   "metadata": {},
   "outputs": [],
   "source": [
    "euc = euc.assign(midage = euc.initialage + (euc.agegap / 2))"
   ]
  },
  {
   "cell_type": "code",
   "execution_count": 25,
   "id": "knowing-mention",
   "metadata": {},
   "outputs": [],
   "source": [
    "predictors = euc.loc[ : , ['agegap']]\n",
    "predictors = sm.add_constant(predictors, prepend = False)\n",
    "mod = sm.OLS(euc['double'], predictors)\n",
    "res = mod.fit()\n",
    "residuals = res.resid\n",
    "doubleresiduals = residuals + np.mean(euc['double'])\n",
    "mod = sm.OLS(euc['single'], predictors)\n",
    "res = mod.fit()\n",
    "residuals = res.resid\n",
    "singleresiduals = residuals + np.mean(euc['single'])"
   ]
  },
  {
   "cell_type": "code",
   "execution_count": 26,
   "id": "turkish-booth",
   "metadata": {},
   "outputs": [],
   "source": [
    "euc = euc.assign(doubleresid = doubleresiduals)\n",
    "euc = euc.assign(singleresid = singleresiduals)"
   ]
  },
  {
   "cell_type": "code",
   "execution_count": 27,
   "id": "immune-plumbing",
   "metadata": {},
   "outputs": [],
   "source": [
    "byage = euc.groupby('midage').agg({'dim': 'count', 'single': 'mean', 'double': 'mean', 'initialage': 'mean', 'agegap': 'mean',\n",
    "                                  'singleresid': 'mean', 'doubleresid': 'mean'})"
   ]
  },
  {
   "cell_type": "code",
   "execution_count": 40,
   "id": "upper-cabinet",
   "metadata": {},
   "outputs": [],
   "source": [
    "byage['drift'] = (byage.double / (byage.single / 2)) - 1\n",
    "byage['correcteddrift'] = (byage.doubleresid / (byage.singleresid / 2)) - 1"
   ]
  },
  {
   "cell_type": "code",
   "execution_count": 35,
   "id": "anonymous-journey",
   "metadata": {},
   "outputs": [],
   "source": [
    "byage.reset_index(inplace = True, drop = False)"
   ]
  },
  {
   "cell_type": "code",
   "execution_count": 84,
   "id": "pharmaceutical-corner",
   "metadata": {},
   "outputs": [
    {
     "data": {
      "text/plain": [
       "<AxesSubplot:xlabel='midage'>"
      ]
     },
     "execution_count": 84,
     "metadata": {},
     "output_type": "execute_result"
    },
    {
     "data": {
      "image/png": "[encoded data removed]",
      "text/plain": [
       "<Figure size 432x288 with 1 Axes>"
      ]
     },
     "metadata": {
      "needs_background": "light"
     },
     "output_type": "display_data"
    }
   ],
   "source": [
    "byage.iloc[0:95, : ].plot(x = 'midage', y = 'doubleresid')"
   ]
  },
  {
   "cell_type": "code",
   "execution_count": 42,
   "id": "regular-broadcasting",
   "metadata": {},
   "outputs": [
    {
     "data": {
      "text/plain": [
       "<AxesSubplot:xlabel='midage'>"
      ]
     },
     "execution_count": 42,
     "metadata": {},
     "output_type": "execute_result"
    },
    {
     "data": {
      "image/png": "[encoded data removed]",
      "text/plain": [
       "<Figure size 432x288 with 1 Axes>"
      ]
     },
     "metadata": {
      "needs_background": "light"
     },
     "output_type": "display_data"
    }
   ],
   "source": [
    "byage.iloc[0:95, : ].plot(x = 'midage', y = 'correcteddrift')"
   ]
  },
  {
   "cell_type": "code",
   "execution_count": 43,
   "id": "retired-event",
   "metadata": {},
   "outputs": [
    {
     "data": {
      "text/plain": [
       "(-0.2177488779074449, 0.015981393577947325)"
      ]
     },
     "execution_count": 43,
     "metadata": {},
     "output_type": "execute_result"
    }
   ],
   "source": [
    "pearsonr(byage.initialage, byage.correcteddrift)"
   ]
  },
  {
   "cell_type": "code",
   "execution_count": 79,
   "id": "comic-lotus",
   "metadata": {},
   "outputs": [
    {
     "data": {
      "text/plain": [
       "(-0.3703653468204429, 2.6805819576062237e-05)"
      ]
     },
     "execution_count": 79,
     "metadata": {},
     "output_type": "execute_result"
    }
   ],
   "source": [
    "pearsonr(byage.midage, byage.doubleresid)"
   ]
  },
  {
   "cell_type": "code",
   "execution_count": 44,
   "id": "answering-freeze",
   "metadata": {},
   "outputs": [
    {
     "data": {
      "text/plain": [
       "(0.33756841380901564, 0.00014328928782025445)"
      ]
     },
     "execution_count": 44,
     "metadata": {},
     "output_type": "execute_result"
    }
   ],
   "source": [
    "pearsonr(byage.midage, byage.agegap)"
   ]
  },
  {
   "cell_type": "code",
   "execution_count": 47,
   "id": "voluntary-single",
   "metadata": {},
   "outputs": [
    {
     "data": {
      "text/plain": [
       "(-0.23286140372503744, 0.009847314429891368)"
      ]
     },
     "execution_count": 47,
     "metadata": {},
     "output_type": "execute_result"
    }
   ],
   "source": [
    "pearsonr(byage.midage, byage.correcteddrift)"
   ]
  },
  {
   "cell_type": "code",
   "execution_count": 49,
   "id": "proved-reality",
   "metadata": {},
   "outputs": [],
   "source": [
    "euc = euc.assign(drift = (euc.double / (euc.single / 2)) - 1)"
   ]
  },
  {
   "cell_type": "code",
   "execution_count": 50,
   "id": "cleared-collar",
   "metadata": {},
   "outputs": [],
   "source": [
    "predictors = euc.loc[ : , ['midage', 'agegap']]"
   ]
  },
  {
   "cell_type": "code",
   "execution_count": 51,
   "id": "tough-modern",
   "metadata": {},
   "outputs": [
    {
     "data": {
      "text/html": [
       "<div>\n",
       "<style scoped>\n",
       "    .dataframe tbody tr th:only-of-type {\n",
       "        vertical-align: middle;\n",
       "    }\n",
       "\n",
       "    .dataframe tbody tr th {\n",
       "        vertical-align: top;\n",
       "    }\n",
       "\n",
       "    .dataframe thead th {\n",
       "        text-align: right;\n",
       "    }\n",
       "</style>\n",
       "<table border=\"1\" class=\"dataframe\">\n",
       "  <thead>\n",
       "    <tr style=\"text-align: right;\">\n",
       "      <th></th>\n",
       "      <th>midage</th>\n",
       "      <th>agegap</th>\n",
       "      <th>const</th>\n",
       "    </tr>\n",
       "  </thead>\n",
       "  <tbody>\n",
       "    <tr>\n",
       "      <th>0</th>\n",
       "      <td>28.0</td>\n",
       "      <td>4</td>\n",
       "      <td>1.0</td>\n",
       "    </tr>\n",
       "    <tr>\n",
       "      <th>201</th>\n",
       "      <td>35.0</td>\n",
       "      <td>2</td>\n",
       "      <td>1.0</td>\n",
       "    </tr>\n",
       "    <tr>\n",
       "      <th>402</th>\n",
       "      <td>59.5</td>\n",
       "      <td>3</td>\n",
       "      <td>1.0</td>\n",
       "    </tr>\n",
       "    <tr>\n",
       "      <th>603</th>\n",
       "      <td>43.0</td>\n",
       "      <td>16</td>\n",
       "      <td>1.0</td>\n",
       "    </tr>\n",
       "    <tr>\n",
       "      <th>804</th>\n",
       "      <td>33.0</td>\n",
       "      <td>2</td>\n",
       "      <td>1.0</td>\n",
       "    </tr>\n",
       "  </tbody>\n",
       "</table>\n",
       "</div>"
      ],
      "text/plain": [
       "     midage  agegap  const\n",
       "0      28.0       4    1.0\n",
       "201    35.0       2    1.0\n",
       "402    59.5       3    1.0\n",
       "603    43.0      16    1.0\n",
       "804    33.0       2    1.0"
      ]
     },
     "execution_count": 51,
     "metadata": {},
     "output_type": "execute_result"
    }
   ],
   "source": [
    "predictors = sm.add_constant(predictors, prepend = False)\n",
    "predictors.head()"
   ]
  },
  {
   "cell_type": "code",
   "execution_count": 52,
   "id": "continuing-aside",
   "metadata": {},
   "outputs": [],
   "source": [
    "mod = sm.OLS(euc['drift'], predictors)"
   ]
  },
  {
   "cell_type": "code",
   "execution_count": 53,
   "id": "proud-diary",
   "metadata": {},
   "outputs": [
    {
     "name": "stdout",
     "output_type": "stream",
     "text": [
      "                            OLS Regression Results                            \n",
      "==============================================================================\n",
      "Dep. Variable:                  drift   R-squared:                       0.008\n",
      "Model:                            OLS   Adj. R-squared:                  0.008\n",
      "Method:                 Least Squares   F-statistic:                     79.08\n",
      "Date:                Mon, 02 Aug 2021   Prob (F-statistic):           6.20e-35\n",
      "Time:                        11:57:16   Log-Likelihood:                 1350.9\n",
      "No. Observations:               19624   AIC:                            -2696.\n",
      "Df Residuals:                   19621   BIC:                            -2672.\n",
      "Df Model:                           2                                         \n",
      "Covariance Type:            nonrobust                                         \n",
      "==============================================================================\n",
      "                 coef    std err          t      P>|t|      [0.025      0.975]\n",
      "------------------------------------------------------------------------------\n",
      "midage        -0.0015      0.000     -9.628      0.000      -0.002      -0.001\n",
      "agegap         0.0022      0.000      9.364      0.000       0.002       0.003\n",
      "const          0.1222      0.007     16.346      0.000       0.108       0.137\n",
      "==============================================================================\n",
      "Omnibus:                      260.131   Durbin-Watson:                   2.004\n",
      "Prob(Omnibus):                  0.000   Jarque-Bera (JB):              270.883\n",
      "Skew:                          -0.280   Prob(JB):                     1.51e-59\n",
      "Kurtosis:                       3.131   Cond. No.                         223.\n",
      "==============================================================================\n",
      "\n",
      "Notes:\n",
      "[1] Standard Errors assume that the covariance matrix of the errors is correctly specified.\n"
     ]
    }
   ],
   "source": [
    "res = mod.fit()\n",
    "print(res.summary())"
   ]
  },
  {
   "cell_type": "code",
   "execution_count": 54,
   "id": "relative-roller",
   "metadata": {},
   "outputs": [
    {
     "data": {
      "text/plain": [
       "midage   -0.001526\n",
       "agegap    0.002179\n",
       "const     0.122214\n",
       "dtype: float64"
      ]
     },
     "execution_count": 54,
     "metadata": {},
     "output_type": "execute_result"
    }
   ],
   "source": [
    "res.params"
   ]
  },
  {
   "cell_type": "code",
   "execution_count": 75,
   "id": "accessory-wonder",
   "metadata": {},
   "outputs": [
    {
     "data": {
      "text/plain": [
       "midage    6.793917e-22\n",
       "agegap    8.516176e-21\n",
       "const     1.155745e-59\n",
       "dtype: float64"
      ]
     },
     "execution_count": 75,
     "metadata": {},
     "output_type": "execute_result"
    }
   ],
   "source": [
    "res.pvalues"
   ]
  },
  {
   "cell_type": "code",
   "execution_count": 76,
   "id": "original-music",
   "metadata": {},
   "outputs": [
    {
     "data": {
      "text/plain": [
       "1714"
      ]
     },
     "execution_count": 76,
     "metadata": {},
     "output_type": "execute_result"
    }
   ],
   "source": [
    "len(authors)"
   ]
  },
  {
   "cell_type": "markdown",
   "id": "fourth-internet",
   "metadata": {},
   "source": [
    "### Visualize cumulative drift as a function of age"
   ]
  },
  {
   "cell_type": "code",
   "execution_count": 63,
   "id": "dried-cooler",
   "metadata": {},
   "outputs": [],
   "source": [
    "meanratio = []\n",
    "upperratio = []\n",
    "lowerratio = []\n",
    "midyear = []\n",
    "\n",
    "for yr in range(23, 68, 5):\n",
    "    df = euc.loc[(euc.midage >= yr) & (euc.midage < yr + 5), :]\n",
    "    meanratio.append(np.mean(df.doubleresid) / (np.mean(df.singleresid) / 2) - 1)\n",
    "    midyear.append(yr + 2) # given the way>= and < work above this and not 2.5 is right\n",
    "    bootstraps = []\n",
    "    for iter in range(10000):\n",
    "        dfsample = df.sample(frac = 1, replace = True)\n",
    "        bootstraps.append(np.mean(dfsample.doubleresid) / (np.mean(dfsample.singleresid) / 2) - 1)\n",
    "    \n",
    "    bootstraps.sort()\n",
    "    lowerratio.append(bootstraps[250])\n",
    "    upperratio.append(bootstraps[9749])\n",
    "    \n",
    "    \n",
    "displayframe = pd.DataFrame({'observed': meanratio, 'midpoint': midyear, \n",
    "                             'upper': upperratio, 'lower': lowerratio})   "
   ]
  },
  {
   "cell_type": "code",
   "execution_count": 74,
   "id": "occupational-gnome",
   "metadata": {},
   "outputs": [
    {
     "data": {
      "image/png": "[encoded data removed]",
      "text/plain": [
       "<Figure size 648x432 with 1 Axes>"
      ]
     },
     "metadata": {},
     "output_type": "display_data"
    }
   ],
   "source": [
    "# Draw plot with error band and extra formatting to match seaborn style\n",
    "plt.rcParams.update({'font.sans-serif':'Avenir'})\n",
    "plt.rcParams.update({'font.size': 15})\n",
    "fig, ax = plt.subplots(figsize=(9,6))\n",
    "ax.plot(displayframe.midpoint, displayframe.observed, label='cumulative change')\n",
    "ax.plot(displayframe.midpoint, displayframe.lower, color='tab:blue', alpha=0.1)\n",
    "ax.plot(displayframe.midpoint, displayframe.upper, color='tab:blue', alpha=0.1)\n",
    "ax.fill_between(displayframe.midpoint, displayframe.lower, displayframe.upper, alpha=0.2)\n",
    "ax.set_xlabel('age at midpoint of triplet')\n",
    "ax.set_ylabel('amount 1 => 3 exceeds single-step change')\n",
    "ax.set_ylim(0, 0.12)\n",
    "ax.spines['top'].set_visible(False)\n",
    "ax.spines['right'].set_visible(False)\n",
    "plt.gcf().set_facecolor('white')\n",
    "plt.savefig('/Users/tunder/Dropbox/python/cohort/figures/cumulativedrift.png', bbox_inches = 'tight', dpi = 300)\n",
    "plt.show()"
   ]
  },
  {
   "cell_type": "markdown",
   "id": "close-money",
   "metadata": {},
   "source": [
    "#### absolute value of change"
   ]
  },
  {
   "cell_type": "code",
   "execution_count": 85,
   "id": "prompt-point",
   "metadata": {},
   "outputs": [],
   "source": [
    "meanratio = []\n",
    "upperratio = []\n",
    "lowerratio = []\n",
    "midyear = []\n",
    "\n",
    "for yr in range(23, 68, 5):\n",
    "    df = euc.loc[(euc.midage >= yr) & (euc.midage < yr + 5), :]\n",
    "    meanratio.append(np.mean(df.doubleresid))\n",
    "    midyear.append(yr + 2) # given the way>= and < work above this and not 2.5 is right\n",
    "    bootstraps = []\n",
    "    for iter in range(10000):\n",
    "        dfsample = df.sample(frac = 1, replace = True)\n",
    "        bootstraps.append(np.mean(dfsample.doubleresid))\n",
    "    \n",
    "    bootstraps.sort()\n",
    "    lowerratio.append(bootstraps[250])\n",
    "    upperratio.append(bootstraps[9749])\n",
    "    \n",
    "    \n",
    "displayframe2 = pd.DataFrame({'observed': meanratio, 'midpoint': midyear, \n",
    "                             'upper': upperratio, 'lower': lowerratio})  "
   ]
  },
  {
   "cell_type": "code",
   "execution_count": 96,
   "id": "comprehensive-waterproof",
   "metadata": {},
   "outputs": [
    {
     "data": {
      "image/png": "[encoded data removed]",
      "text/plain": [
       "<Figure size 648x432 with 1 Axes>"
      ]
     },
     "metadata": {},
     "output_type": "display_data"
    }
   ],
   "source": [
    "# Draw plot with error band and extra formatting to match seaborn style\n",
    "plt.rcParams.update({'font.sans-serif':'Avenir'})\n",
    "plt.rcParams.update({'font.size': 15})\n",
    "fig, ax = plt.subplots(figsize=(9,6))\n",
    "ax.plot(displayframe2.midpoint, displayframe2.observed, label='cumulative change')\n",
    "ax.plot(displayframe2.midpoint, displayframe2.lower, color='tab:blue', alpha=0.1)\n",
    "ax.plot(displayframe2.midpoint, displayframe2.upper, color='tab:blue', alpha=0.1)\n",
    "ax.fill_between(displayframe2.midpoint, displayframe2.lower, displayframe2.upper, alpha=0.2)\n",
    "ax.set_xlabel('age at midpoint of triplet')\n",
    "ax.set_ylabel('abs distance from book 1 to book 3')\n",
    "ax.spines['top'].set_visible(False)\n",
    "ax.spines['right'].set_visible(False)\n",
    "plt.gcf().set_facecolor('white')\n",
    "plt.savefig('/Users/tunder/Dropbox/python/cohort/figures/absolutedistance1to3.png', bbox_inches = 'tight', dpi = 300)\n",
    "plt.show()"
   ]
  },
  {
   "cell_type": "markdown",
   "id": "immune-planning",
   "metadata": {},
   "source": [
    "## Model of totally random change, for reference."
   ]
  },
  {
   "cell_type": "code",
   "execution_count": 105,
   "id": "monetary-carbon",
   "metadata": {},
   "outputs": [
    {
     "name": "stdout",
     "output_type": "stream",
     "text": [
      "1.4147831306328424\n"
     ]
    }
   ],
   "source": [
    "averageonestep = []\n",
    "realchange = []\n",
    "\n",
    "startpoint = np.zeros(200)\n",
    "\n",
    "for i in range(40000):\n",
    "    a = startpoint + np.random.normal(size = 200)\n",
    "    b = a + np.random.normal(size = 200)\n",
    "    c = b + np.random.normal(size = 200)\n",
    "    \n",
    "    realchange.append(euclidean(a, c))\n",
    "    averageonestep.append((euclidean(a, b) + euclidean(b, c)) / 2)\n",
    "\n",
    "print(np.mean(realchange) / np.mean(averageonestep))"
   ]
  },
  {
   "cell_type": "markdown",
   "id": "informational-champion",
   "metadata": {},
   "source": [
    "I'm pretty sure that's not a random figure, but is in fact the square root of 2. \n",
    "\n",
    "Which means the parameter we're assessing would be .414 in a random walk."
   ]
  },
  {
   "cell_type": "markdown",
   "id": "accredited-nirvana",
   "metadata": {},
   "source": [
    "## What if we sample authors proportional to productivity?"
   ]
  },
  {
   "cell_type": "code",
   "execution_count": 320,
   "id": "plastic-transportation",
   "metadata": {},
   "outputs": [
    {
     "name": "stdout",
     "output_type": "stream",
     "text": [
      "1\n",
      "501\n",
      "1001\n",
      "1501\n",
      "2001\n",
      "2501\n",
      "3001\n",
      "3501\n",
      "4001\n",
      "4501\n",
      "5001\n",
      "5501\n",
      "6001\n",
      "6501\n",
      "7001\n",
      "7501\n",
      "8001\n",
      "8501\n",
      "9001\n",
      "9501\n",
      "Errors:  110\n"
     ]
    }
   ],
   "source": [
    "weightedauthors = random.choices(bookdata.hathi_author.values, k = 10000) # randomly select author names\n",
    "        # with replacement, from a list where authors appear once for each book\n",
    "\n",
    "weightedtriads = maketriplets(weightedauthors)"
   ]
  },
  {
   "cell_type": "code",
   "execution_count": 321,
   "id": "motivated-strategy",
   "metadata": {},
   "outputs": [
    {
     "data": {
      "text/plain": [
       "<AxesSubplot:xlabel='midage'>"
      ]
     },
     "execution_count": 321,
     "metadata": {},
     "output_type": "execute_result"
    },
    {
     "data": {
      "image/png": "[encoded data removed]",
      "text/plain": [
       "<Figure size 432x288 with 1 Axes>"
      ]
     },
     "metadata": {
      "needs_background": "light"
     },
     "output_type": "display_data"
    }
   ],
   "source": [
    "euc = weightedtriads.loc[weightedtriads.dim == -1, : ]  # Dimension -1 is the euclidean distance in topic space\n",
    "euc = euc.assign(midage = euc.initialage + (euc.agegap / 2))\n",
    "byage = euc.groupby('midage').agg({'dim': 'count', 'single': 'mean', 'double': 'mean', 'initialage': 'mean', 'agegap': 'mean'})\n",
    "byage['ratio'] = byage.double / byage.single\n",
    "byage.reset_index(inplace = True, drop = False)\n",
    "byage.plot(x = 'midage', y = 'ratio')"
   ]
  },
  {
   "cell_type": "code",
   "execution_count": 324,
   "id": "overall-mobile",
   "metadata": {},
   "outputs": [
    {
     "data": {
      "text/plain": [
       "(-0.2869185385554858, 0.0012930443070269125)"
      ]
     },
     "execution_count": 324,
     "metadata": {},
     "output_type": "execute_result"
    }
   ],
   "source": [
    "pearsonr(byage.midage, byage.ratio)"
   ]
  },
  {
   "cell_type": "code",
   "execution_count": 325,
   "id": "imposed-constitution",
   "metadata": {},
   "outputs": [
    {
     "name": "stdout",
     "output_type": "stream",
     "text": [
      "                            OLS Regression Results                            \n",
      "==============================================================================\n",
      "Dep. Variable:                  ratio   R-squared:                       0.009\n",
      "Model:                            OLS   Adj. R-squared:                  0.009\n",
      "Method:                 Least Squares   F-statistic:                     44.10\n",
      "Date:                Sun, 01 Aug 2021   Prob (F-statistic):           8.58e-20\n",
      "Time:                        18:05:14   Log-Likelihood:                 549.93\n",
      "No. Observations:                9890   AIC:                            -1094.\n",
      "Df Residuals:                    9887   BIC:                            -1072.\n",
      "Df Model:                           2                                         \n",
      "Covariance Type:            nonrobust                                         \n",
      "==============================================================================\n",
      "                 coef    std err          t      P>|t|      [0.025      0.975]\n",
      "------------------------------------------------------------------------------\n",
      "midage        -0.0014      0.000     -6.440      0.000      -0.002      -0.001\n",
      "agegap         0.0028      0.000      7.384      0.000       0.002       0.003\n",
      "const          1.1075      0.011    104.643      0.000       1.087       1.128\n",
      "==============================================================================\n",
      "Omnibus:                      118.691   Durbin-Watson:                   1.989\n",
      "Prob(Omnibus):                  0.000   Jarque-Bera (JB):              124.189\n",
      "Skew:                          -0.257   Prob(JB):                     1.08e-27\n",
      "Kurtosis:                       3.193   Cond. No.                         224.\n",
      "==============================================================================\n",
      "\n",
      "Notes:\n",
      "[1] Standard Errors assume that the covariance matrix of the errors is correctly specified.\n"
     ]
    }
   ],
   "source": [
    "euc = euc.assign(ratio = euc.double / euc.single)\n",
    "predictors = euc.loc[ : , ['midage', 'agegap']]\n",
    "predictors = sm.add_constant(predictors, prepend = False)\n",
    "mod = sm.OLS(euc['ratio'], predictors)\n",
    "res = mod.fit()\n",
    "print(res.summary())"
   ]
  },
  {
   "cell_type": "markdown",
   "id": "deadly-prefix",
   "metadata": {},
   "source": [
    "## Autocorrelation\n",
    "\n",
    "This portion is not used because it turns out that there's no great way to measure autocorrelation across lots of short time series at different scales."
   ]
  },
  {
   "cell_type": "code",
   "execution_count": 56,
   "id": "conceptual-chorus",
   "metadata": {},
   "outputs": [],
   "source": [
    "def makeautocorr(authorselection):\n",
    "    \n",
    "    # We create a list for each of the 1-5 columns described above\n",
    "\n",
    "    dimensions = []\n",
    "    tminus1 = []\n",
    "    tminus0 = []\n",
    "    meanage = []\n",
    "    agegaps = []\n",
    "\n",
    "    ctr = 0\n",
    "    errors = 0\n",
    "\n",
    "\n",
    "    for auth in authorselection:\n",
    "        authworks = bookdata.loc[bookdata.hathi_author == auth, :].copy()   # get all the author's books\n",
    "        authworks = authworks.sample(frac = 1)                                # shuffle them\n",
    "        authworks = authworks.drop_duplicates(subset = 'firstpub', keep = 'first') # keep only one per date\n",
    "        authworks = authworks.sort_values(by = 'firstpub')              # sort them by date\n",
    "\n",
    "        if len(authworks) < 3:      # this could happen if an author has only 3 works and 2 are date-duplicates\n",
    "            errors += 1\n",
    "            continue\n",
    "\n",
    "        centerpoints = [x for x in range(1, len(authworks) - 1)]            # a triad cannot be centered on the first\n",
    "                                                                            # or last book\n",
    "\n",
    "        rownum = random.choice(centerpoints)             # randomly choose an allowable book as triad center\n",
    "\n",
    "        prevage = int(authworks.iloc[rownum - 1, 207])   # also get author's age at start of triad\n",
    "        thisage = int(authworks.iloc[rownum, 207])\n",
    "        nextage = int(authworks.iloc[rownum + 1, 207])\n",
    "        agegap = nextage - prevage\n",
    "\n",
    "        for tnum in range(0, 200): # and then for each topic tnum\n",
    "            \n",
    "            # authworks.iloc[ : , tnum] = zscore(authworks.iloc[ : , tnum])\n",
    "\n",
    "            prevwork = authworks.iat[rownum -1, tnum]    # get the previous value of tnum\n",
    "            thiswork = authworks.iat[rownum, tnum]       # the one at triad center\n",
    "            nextwork = authworks.iat[rownum + 1, tnum]   # and the next value of tnum\n",
    "\n",
    "            dimensions.append(tnum)\n",
    "            tminus1.append(prevwork)\n",
    "            tminus0.append(thiswork)\n",
    "            meanage.append((prevage + thisage) / 2)\n",
    "            agegaps.append((thisage - prevage))\n",
    "\n",
    "            dimensions.append(tnum)\n",
    "            tminus1.append(thiswork)\n",
    "            tminus0.append(nextwork)\n",
    "            meanage.append((thisage + nextage) / 2)\n",
    "            agegaps.append((nextage - thisage))\n",
    "\n",
    "        ctr += 1\n",
    "        if ctr % 500 == 1:\n",
    "            print(ctr)\n",
    "\n",
    "    autocorr = pd.DataFrame({'dim': dimensions, 'minus1': tminus1, 'minus0': tminus0, 'meanage': meanage,\n",
    "                            'agegap': agegaps})\n",
    "    \n",
    "    print('Errors: ', errors)\n",
    "    \n",
    "    return autocorr"
   ]
  },
  {
   "cell_type": "code",
   "execution_count": 57,
   "id": "consistent-wesley",
   "metadata": {},
   "outputs": [
    {
     "name": "stdout",
     "output_type": "stream",
     "text": [
      "1\n",
      "501\n",
      "Errors:  28\n"
     ]
    }
   ],
   "source": [
    "equalauthors = random.choices(authors, k = 1000) # randomly select author names\n",
    "                                                 # with replacement, from a list\n",
    "        # where each author is present once, without regard to # of books\n",
    "        # We're selecting most authors much more than once, but then, a lot of them\n",
    "        # have more than one possible triplet\n",
    "\n",
    "autocorr = makeautocorr(equalauthors)"
   ]
  },
  {
   "cell_type": "code",
   "execution_count": 58,
   "id": "great-engineer",
   "metadata": {},
   "outputs": [],
   "source": [
    "corrs = []\n",
    "\n",
    "for i in range(200):\n",
    "    df = autocorr.loc[autocorr.dim == i, : ]\n",
    "    r = pearsonr(df.minus1, df.minus0)[0]\n",
    "    corrs.append(r)"
   ]
  },
  {
   "cell_type": "code",
   "execution_count": 59,
   "id": "removable-remains",
   "metadata": {},
   "outputs": [
    {
     "data": {
      "text/plain": [
       "(0.40697464712002024, 2.227184629589719e-09)"
      ]
     },
     "execution_count": 59,
     "metadata": {},
     "output_type": "execute_result"
    }
   ],
   "source": [
    "pearsonr(corrs, topicmeans.ratio)"
   ]
  },
  {
   "cell_type": "code",
   "execution_count": 60,
   "id": "valued-kingston",
   "metadata": {},
   "outputs": [
    {
     "data": {
      "text/plain": [
       "<AxesSubplot:ylabel='ratio'>"
      ]
     },
     "execution_count": 60,
     "metadata": {},
     "output_type": "execute_result"
    },
    {
     "data": {
      "image/png": "[encoded data removed]",
      "text/plain": [
       "<Figure size 432x288 with 1 Axes>"
      ]
     },
     "metadata": {
      "needs_background": "light"
     },
     "output_type": "display_data"
    }
   ],
   "source": [
    "sns.scatterplot(x = corrs, y = topicmeans.ratio)"
   ]
  },
  {
   "cell_type": "code",
   "execution_count": 61,
   "id": "faced-frost",
   "metadata": {},
   "outputs": [
    {
     "data": {
      "text/plain": [
       "<AxesSubplot:xlabel='minus0', ylabel='minus1'>"
      ]
     },
     "execution_count": 61,
     "metadata": {},
     "output_type": "execute_result"
    },
    {
     "data": {
      "image/png": "[encoded data removed]",
      "text/plain": [
       "<Figure size 432x288 with 1 Axes>"
      ]
     },
     "metadata": {
      "needs_background": "light"
     },
     "output_type": "display_data"
    }
   ],
   "source": [
    "sns.scatterplot(x = df.minus0, y = df.minus1)"
   ]
  },
  {
   "cell_type": "code",
   "execution_count": null,
   "id": "fancy-reminder",
   "metadata": {},
   "outputs": [],
   "source": []
  }
 ],
 "metadata": {
  "kernelspec": {
   "display_name": "Python 3",
   "language": "python",
   "name": "python3"
  },
  "language_info": {
   "codemirror_mode": {
    "name": "ipython",
    "version": 3
   },
   "file_extension": ".py",
   "mimetype": "text/x-python",
   "name": "python",
   "nbconvert_exporter": "python",
   "pygments_lexer": "ipython3",
   "version": "3.7.6"
  }
 },
 "nbformat": 4,
 "nbformat_minor": 5
}
