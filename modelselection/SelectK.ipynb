{
 "cells": [
  {
   "cell_type": "markdown",
   "id": "collectible-christmas",
   "metadata": {},
   "source": [
    "# Selecting the number of topics\n",
    "\n",
    "This notebook selects *k,* the number of topics in our model, using the ground truth of human categorization as a guide.\n",
    "\n",
    "Researchers have tried a number of different schemes for selecting the optimal number of topics in a model. [Wallach et al. (2009)](http://dirichlet.net/pdf/wallach09evaluation.pdf) proposed using the model to make predictions on held-out documents. A few years later, [Mimno et al. (2013)](http://dirichlet.net/pdf/mimno11optimizing.pdf) introduced semantic coherence measures as a different strategy.\n",
    "\n",
    "Today, both of these strategies are still in use, but a variety of other measures are also commonly deployed to optimize *k*.\n",
    "\n",
    "There is no settled best practice, of course, because the algorithms for topic modeling don't in themselves imply a criterion for deciding between models with different numbers of topics.\n",
    "\n",
    "In the empirical experience of researchers, models with different numbers of topics are often equally effective as dimension-reductions of a corpus. Researchers use dimension-reduction methods pragmatically, to simplify a problem space, and the operation doesn't necessarily depend on the premise that there is any optimal number of dimensions. If topic modeling produces a representation of a corpus that is valid at all for a particular research question, it ought to be broadly valid for a range of different settings of *k*.\n",
    "\n",
    "Pressure to define a \"reasonable\" value of *k* comes mostly from the practice of attaching interpretive labels to individual topics. When topics are interpreted individually, it can seem problematic that two topics discussed separately at *k* = 200 might have been (partly) fused if the researcher had selected *k* = 100. Both models may be equally valid, mathematically. But it seems fair to ask researchers to justify the level of granularity they have chosen to discuss.\n",
    "\n",
    "To produce these justifications, however, researchers always have to import some assumptions about the desirable qualities of a model that weren't present in the topic-modeling algorithm itself. The commonly-used metric of \"exclusiveness,\" for instance, implies an assumption that the keywords in different topics should be non-overlapping. This is basically an assumption about the qualities a model should possess in order to be easily interpreted by a human reader. (And for what it's worth, Mimno et al. are able to validate this assumption against human judgement.)\n",
    "\n",
    "In this project, we want to produce a model that will roughly echo the level of granularity human readers are accustomed to when they discuss literary movements, themes, and genres. When we draw inferences about literary change, we hope to ensure that these inferences are valid *for that familiar level of granularity,*—and not only on some unfamiliar macroscopic or microscopic scale.\n",
    "\n",
    "The simplest way to ensure this would be to validate our choice of *k* against some ground truth reflecting actual human practice when it comes to the categorization of fiction.\n",
    "\n",
    "Fortunately, we have a lot of ground truth to use. Shang and Underwood have parsed large amounts of [the index to the *Book Review Digest*,](https://babel.hathitrust.org/cgi/pt?id=uiug.30112097123480&view=1up&seq=572) which records subject and genre categories applied to works of fiction soon after they were published, from the 1920s to the present. In addition, we can use Library of Congress categories recorded in library metadata from the 1980s and 1990s. \n",
    "\n",
    "Putting these together, we constructed a set of 256 volumes that were present in our topic model and also grouped by human readers into 30 different categories of varying sizes. We used a variety of different metrics to compare the human partitioning of this set to the partitionings created by a topic model. We do not assume that the human categories are correct, or that they exhaustively cover the domain space, or in fact that they represent any kind of \"ground truth\" about fiction. Our goal is not to produce a model that would perfectly align with human judgment. (If a researcher wanted to do that, they would use a supervised method rather than topic modeling.) On the contrary, we are fairly confident that a topic model will identify many interesting historical clusters that a human cataloger might have overlooked.\n",
    "\n",
    "We are merely selecting a *level of granularity* for the model. It seems reasonable to do that by finding a setting where *some* categories in the model align well with *some* human concepts. Since we are only adjusting a single hyperparameter, it would be hard for this process to overfit the model.\n",
    "\n",
    "The cells below try two different measurement schemes: one that discretizes the topic model, and one that allows it to remain a fuzzy partitioning. The notebook ends by combining them."
   ]
  },
  {
   "cell_type": "code",
   "execution_count": 1,
   "id": "available-trademark",
   "metadata": {},
   "outputs": [],
   "source": [
    "import pandas as pd\n",
    "import random\n",
    "import seaborn as sns\n",
    "import numpy as np\n",
    "from matplotlib import pyplot as plt\n",
    "%matplotlib inline\n",
    "from scipy.spatial.distance import cosine\n",
    "from sklearn.metrics import adjusted_rand_score\n",
    "from sklearn.metrics import adjusted_mutual_info_score"
   ]
  },
  {
   "cell_type": "markdown",
   "id": "objective-activation",
   "metadata": {},
   "source": [
    "### Import human partitions\n",
    "\n",
    "We start by reading a data frame with document IDs and headings assigned by human readers."
   ]
  },
  {
   "cell_type": "code",
   "execution_count": 2,
   "id": "lonely-tribute",
   "metadata": {},
   "outputs": [
    {
     "data": {
      "text/html": [
       "<div>\n",
       "<style scoped>\n",
       "    .dataframe tbody tr th:only-of-type {\n",
       "        vertical-align: middle;\n",
       "    }\n",
       "\n",
       "    .dataframe tbody tr th {\n",
       "        vertical-align: top;\n",
       "    }\n",
       "\n",
       "    .dataframe thead th {\n",
       "        text-align: right;\n",
       "    }\n",
       "</style>\n",
       "<table border=\"1\" class=\"dataframe\">\n",
       "  <thead>\n",
       "    <tr style=\"text-align: right;\">\n",
       "      <th></th>\n",
       "      <th>docid</th>\n",
       "      <th>hathi_author</th>\n",
       "      <th>hathi_title</th>\n",
       "      <th>firstpub</th>\n",
       "      <th>pubdate_known</th>\n",
       "      <th>heading</th>\n",
       "    </tr>\n",
       "  </thead>\n",
       "  <tbody>\n",
       "    <tr>\n",
       "      <th>133</th>\n",
       "      <td>mdp.39015063940400</td>\n",
       "      <td>Lowndes, Marie Belloc</td>\n",
       "      <td>Another man's wife</td>\n",
       "      <td>1934</td>\n",
       "      <td>True</td>\n",
       "      <td>Mystery and detective stories</td>\n",
       "    </tr>\n",
       "    <tr>\n",
       "      <th>48</th>\n",
       "      <td>uc1.$b63928</td>\n",
       "      <td>Sullivan, Alan</td>\n",
       "      <td>Three came to Ville Marie</td>\n",
       "      <td>1942</td>\n",
       "      <td>True</td>\n",
       "      <td>Historical novels</td>\n",
       "    </tr>\n",
       "    <tr>\n",
       "      <th>43</th>\n",
       "      <td>mdp.39015064537056</td>\n",
       "      <td>Frischauer, Paul</td>\n",
       "      <td>A great lord</td>\n",
       "      <td>1937</td>\n",
       "      <td>True</td>\n",
       "      <td>Historical novels</td>\n",
       "    </tr>\n",
       "    <tr>\n",
       "      <th>119</th>\n",
       "      <td>mdp.39015022466539</td>\n",
       "      <td>Hughes, Rupert</td>\n",
       "      <td>Love song</td>\n",
       "      <td>1934</td>\n",
       "      <td>True</td>\n",
       "      <td>Musicians</td>\n",
       "    </tr>\n",
       "    <tr>\n",
       "      <th>210</th>\n",
       "      <td>uc1.b4381887</td>\n",
       "      <td>Hale, Nancy</td>\n",
       "      <td>Never any more</td>\n",
       "      <td>1934</td>\n",
       "      <td>True</td>\n",
       "      <td>Psychological novels</td>\n",
       "    </tr>\n",
       "    <tr>\n",
       "      <th>9</th>\n",
       "      <td>uc1.$b86169</td>\n",
       "      <td>Brinig, Myron</td>\n",
       "      <td>Hour of nightfall</td>\n",
       "      <td>1947</td>\n",
       "      <td>True</td>\n",
       "      <td>Character studies</td>\n",
       "    </tr>\n",
       "    <tr>\n",
       "      <th>155</th>\n",
       "      <td>uc1.$b242630</td>\n",
       "      <td>Marks, Percy</td>\n",
       "      <td>Knave of diamonds</td>\n",
       "      <td>1943</td>\n",
       "      <td>True</td>\n",
       "      <td>Mystery and detective stories</td>\n",
       "    </tr>\n",
       "    <tr>\n",
       "      <th>162</th>\n",
       "      <td>mdp.39015063100286</td>\n",
       "      <td>Jeffers, H. Paul (Harry Paul)</td>\n",
       "      <td>Rubout at the Onyx</td>\n",
       "      <td>1981</td>\n",
       "      <td>True</td>\n",
       "      <td>post1980mystery</td>\n",
       "    </tr>\n",
       "    <tr>\n",
       "      <th>36</th>\n",
       "      <td>mdp.39015007028577</td>\n",
       "      <td>Roberts, Kenneth Lewis</td>\n",
       "      <td>Northwest passage</td>\n",
       "      <td>1937</td>\n",
       "      <td>True</td>\n",
       "      <td>Historical novels</td>\n",
       "    </tr>\n",
       "    <tr>\n",
       "      <th>20</th>\n",
       "      <td>mdp.39015001782393</td>\n",
       "      <td>Herbst, Josephine</td>\n",
       "      <td>The executioner waits</td>\n",
       "      <td>1934</td>\n",
       "      <td>True</td>\n",
       "      <td>Family chronicles</td>\n",
       "    </tr>\n",
       "  </tbody>\n",
       "</table>\n",
       "</div>"
      ],
      "text/plain": [
       "                  docid                   hathi_author  \\\n",
       "133  mdp.39015063940400          Lowndes, Marie Belloc   \n",
       "48          uc1.$b63928                 Sullivan, Alan   \n",
       "43   mdp.39015064537056               Frischauer, Paul   \n",
       "119  mdp.39015022466539                 Hughes, Rupert   \n",
       "210        uc1.b4381887                    Hale, Nancy   \n",
       "9           uc1.$b86169                  Brinig, Myron   \n",
       "155        uc1.$b242630                   Marks, Percy   \n",
       "162  mdp.39015063100286  Jeffers, H. Paul (Harry Paul)   \n",
       "36   mdp.39015007028577         Roberts, Kenneth Lewis   \n",
       "20   mdp.39015001782393              Herbst, Josephine   \n",
       "\n",
       "                   hathi_title  firstpub  pubdate_known  \\\n",
       "133         Another man's wife      1934           True   \n",
       "48   Three came to Ville Marie      1942           True   \n",
       "43                A great lord      1937           True   \n",
       "119                  Love song      1934           True   \n",
       "210             Never any more      1934           True   \n",
       "9            Hour of nightfall      1947           True   \n",
       "155          Knave of diamonds      1943           True   \n",
       "162         Rubout at the Onyx      1981           True   \n",
       "36           Northwest passage      1937           True   \n",
       "20       The executioner waits      1934           True   \n",
       "\n",
       "                           heading  \n",
       "133  Mystery and detective stories  \n",
       "48               Historical novels  \n",
       "43               Historical novels  \n",
       "119                      Musicians  \n",
       "210           Psychological novels  \n",
       "9                Character studies  \n",
       "155  Mystery and detective stories  \n",
       "162                post1980mystery  \n",
       "36               Historical novels  \n",
       "20               Family chronicles  "
      ]
     },
     "execution_count": 2,
     "metadata": {},
     "output_type": "execute_result"
    }
   ],
   "source": [
    "human = pd.read_csv('human_labels.tsv', sep = '\\t')\n",
    "human.sample(10)"
   ]
  },
  {
   "cell_type": "markdown",
   "id": "young-selling",
   "metadata": {},
   "source": [
    "As you can see above, there are some fairly large categories, like \"Mystery and detective stories\" — which occurs twice — as well as smaller ones like \"Romance\" or \"Locality, England.\" We do make some editorial decisions here; for instance, the *Book Review Digest* often categorizes novels by their setting in individual states of the US. We lump those categories as \"Locality, US,\" because we don't think our corpus will be big enough to trace the literary history of Idaho.\n",
    "\n",
    "Mystery stories from the 1980s and 90s are separated from ones from the 30s and 40s. We do want to find a level of granularity that acknowledges the possibility of historical change.\n",
    "\n",
    "## A simple metric: adjusted mutual information on two hard partitionings.\n",
    "\n",
    "Adjusted mutual information is a commonly-used way to compare two partitioning schemes.\n",
    "\n",
    "It requires us to transform the topic model into a hard partitioning (where each book belongs to one and only one category). But this might arguably be desirable, since we're selecting a level of granularity. A fuzzy partitioning could conceivably approximate a hard one without adopting the same level of granularity.\n",
    "\n",
    "The first function below reads the document-topic matrix produced by Mallet. The second function discretizes that matrix by assigning each document to its most prominent topic, and then measures adjusted mutual information between the model partitioning and the human partitioning.\n",
    "\n",
    "To get a sense of variation, we do jackknife resampling, masking one human category at a time."
   ]
  },
  {
   "cell_type": "code",
   "execution_count": 3,
   "id": "dependent-compression",
   "metadata": {},
   "outputs": [],
   "source": [
    "def get_doctopics(filename, docsequence):\n",
    "    chunks = dict()\n",
    "    with open(filename, encoding = 'utf-8') as f:\n",
    "        for line in f:\n",
    "            fields = line.strip().split()\n",
    "            chunkid = fields[1]\n",
    "            docid = fields[1].split('_')[0]\n",
    "            if docid not in docsequence:\n",
    "                continue\n",
    "            if docid not in chunks:\n",
    "                chunks[docid] = []\n",
    "            vector = np.array([float(x) for x in fields[2: ]])\n",
    "            chunks[docid].append(vector)\n",
    "            \n",
    "    docs = dict()   \n",
    "    for docid, value in chunks.items():\n",
    "        avgvector = np.mean(value, axis = 0)\n",
    "        docs[docid] = avgvector\n",
    "    \n",
    "    return docs\n",
    "\n",
    "\n",
    "def discrete_mi(doctopic_file):\n",
    "    \n",
    "    global human\n",
    "    \n",
    "    collabels = list(human.heading.unique())\n",
    "    humanseq = []\n",
    "    for idx, row in human.iterrows():\n",
    "        headingposition = collabels.index(row.heading)\n",
    "        humanseq.append(headingposition)\n",
    "    \n",
    "    docsequence = human.docid.tolist() \n",
    "    docs = get_doctopics(doctopic_file, docsequence)\n",
    "    \n",
    "    topicseq = []\n",
    "    for d in docsequence:\n",
    "        vector = list(docs[d])\n",
    "        maxtopic = vector.index(max(vector))\n",
    "        topicseq.append(maxtopic)\n",
    "    \n",
    "    df = pd.DataFrame({'human': humanseq, 'topic': topicseq})\n",
    "    allhumtopics = set(humanseq)\n",
    "    amis = []\n",
    "    \n",
    "    for tomask in allhumtopics:\n",
    "        # tomask = random.sample(allhumtopics, 1)[0]\n",
    "        dfsample = df.loc[df.human != tomask, : ]\n",
    "        ami = adjusted_mutual_info_score(dfsample.human, dfsample.topic)\n",
    "        amis.append(ami)\n",
    "    \n",
    "    return amis"
   ]
  },
  {
   "cell_type": "markdown",
   "id": "supported-norman",
   "metadata": {},
   "source": [
    "We use Mallet to generate topic models with a range of different *k*s, and measure adjusted mutual information for each.\n",
    "\n",
    "(The batch scripts used to create the models are available in the repo.)"
   ]
  },
  {
   "cell_type": "code",
   "execution_count": 4,
   "id": "hollow-reunion",
   "metadata": {},
   "outputs": [
    {
     "name": "stdout",
     "output_type": "stream",
     "text": [
      "25 0.1818\n",
      "50 0.2284\n",
      "100 0.2544\n",
      "150 0.2633\n",
      "200 0.2388\n",
      "250 0.2244\n",
      "300 0.2427\n",
      "350 0.2\n",
      "400 0.2273\n",
      "500 0.1703\n",
      "600 0.1237\n"
     ]
    }
   ],
   "source": [
    "# RUNNING ADJUSTED MUTUAL INFORMATION ON A RANGE OF MODELS\n",
    "\n",
    "ks = []\n",
    "ami = []\n",
    "meanami = []\n",
    "for i in [25, 50, 100, 150, 200, 250, 300, 350, 400, 500, 600]:\n",
    "    results = discrete_mi('k' + str(i) + 'doctopics.txt')\n",
    "    \n",
    "    res = np.mean(results)\n",
    "    ks.extend([i] * len(results))\n",
    "    ami.extend(list(results))\n",
    "    \n",
    "    print(i, round(res, 4))\n",
    "    meanami.append(round(res, 4))"
   ]
  },
  {
   "cell_type": "markdown",
   "id": "clean-water",
   "metadata": {},
   "source": [
    "The mean AMI rises to *k* = 150, and declines slowly as the value of *k* increases further. Note, however, that there's a lot of variation produced by resampling. Our confidence about details should be fairly low, and any value of k between 50 and 400 might be defensible. There's nothing obviously wrong about seeking a level of granularity *slightly* more, or less, detailed than the typical level in human reference books and library catalogs (which is itself variable)."
   ]
  },
  {
   "cell_type": "code",
   "execution_count": 5,
   "id": "tamil-franklin",
   "metadata": {},
   "outputs": [
    {
     "data": {
      "image/png": "[encoded data removed]",
      "text/plain": [
       "<Figure size 432x288 with 1 Axes>"
      ]
     },
     "metadata": {
      "needs_background": "light"
     },
     "output_type": "display_data"
    }
   ],
   "source": [
    "sns.lineplot(x = [25, 50, 100, 150, 200, 250, 300, 350, 400, 500, 600], y = meanami, color = 'red')\n",
    "sns.scatterplot(x = ks, y = ami)\n",
    "plt.ylabel('adj mutual information')\n",
    "plt.xlabel('number of topics')\n",
    "plt.xlim(0, 650)\n",
    "plt.show()"
   ]
  },
  {
   "cell_type": "markdown",
   "id": "turned-identity",
   "metadata": {},
   "source": [
    "But there is something slightly unsatisfying about discretizing the topic model. In doing that, we discard much of the information it provides about any given book.\n",
    "\n",
    "There are also ways to compare a fuzzy partition to a discrete one. For instance, [Brouwer (2009)](https://link.springer.com/article/10.1007/s10844-008-0054-7) defines an extension of the adjusted Rand index for fuzzy partitions. This is implemented below. For the definition of a \"bounding matrix\" see Brouwer's article."
   ]
  },
  {
   "cell_type": "code",
   "execution_count": 6,
   "id": "funny-breast",
   "metadata": {},
   "outputs": [],
   "source": [
    "def make_bounding_matrix(docs, docsequence):\n",
    "    n = len(docsequence)\n",
    "    bmatrix = np.array([np.zeros(n)] * n)\n",
    "    for idx1, d1 in enumerate(docsequence):\n",
    "        for idx2, d2 in enumerate(docsequence):\n",
    "            cos = cosine(docs[d1], docs[d2])\n",
    "            bmatrix[idx1, idx2] = cos\n",
    "    return bmatrix\n",
    "\n",
    "def human_bmatrix():\n",
    "    \n",
    "    '''Returns the human groundtruth bounding matrix, plus a fixed\n",
    "    sequence of docids that will organize both matrices.'''\n",
    "    global human\n",
    "    collabels = list(human.heading.unique())\n",
    "    docs = dict()\n",
    "    for idx, row in human.iterrows():\n",
    "        vector = np.zeros(len(collabels))\n",
    "        idx = collabels.index(row.heading)\n",
    "        vector[idx] = 1\n",
    "        docs[row.docid] = vector\n",
    "    \n",
    "    bmatrix = make_bounding_matrix(docs, human.docid.tolist())\n",
    "    return bmatrix, human.docid.tolist()\n",
    "        \n",
    "def compare_human_and_topicmodel(doctopic_file):\n",
    "    human_matrix, docsequence = human_bmatrix()\n",
    "    docs = get_doctopics(doctopic_file, docsequence)\n",
    "    topic_matrix = make_bounding_matrix(docs, docsequence)\n",
    "    \n",
    "    n = len(docsequence)\n",
    "    \n",
    "    a = (np.multiply(human_matrix, topic_matrix).sum() / 2) -  (n / 2)\n",
    "    b = np.multiply(1 - human_matrix, topic_matrix).sum() / 2\n",
    "    c = np.multiply(human_matrix, 1 - topic_matrix).sum() / 2\n",
    "    d = np.multiply(1 - human_matrix, 1- topic_matrix).sum() / 2\n",
    "            \n",
    "    ari = (2 * ((a * d) - (b * c))) / ((c ** 2) + (b ** 2) + (2 * a * d) + (a + d) * (c + b))\n",
    "    \n",
    "    return ari\n",
    "        \n",
    "        "
   ]
  },
  {
   "cell_type": "markdown",
   "id": "violent-serum",
   "metadata": {},
   "source": [
    "In the code below we apply Brouwer's metric to all of our models."
   ]
  },
  {
   "cell_type": "code",
   "execution_count": 7,
   "id": "continent-interpretation",
   "metadata": {},
   "outputs": [
    {
     "name": "stdout",
     "output_type": "stream",
     "text": [
      "25 0.054\n",
      "50 0.0714\n",
      "100 0.0772\n",
      "150 0.0859\n",
      "200 0.0892\n",
      "250 0.1145\n",
      "300 0.1006\n",
      "350 0.1176\n",
      "400 0.099\n",
      "500 0.1087\n",
      "600 0.1113\n"
     ]
    }
   ],
   "source": [
    "ks = []\n",
    "ari = []\n",
    "for i in [25, 50, 100, 150, 200, 250, 300, 350, 400, 500, 600]:\n",
    "    result = compare_human_and_topicmodel('k' + str(i) + 'doctopics.txt')\n",
    "    \n",
    "    ks.append(i)\n",
    "    ari.append(result)\n",
    "    \n",
    "    print(i, round(result, 4))"
   ]
  },
  {
   "cell_type": "code",
   "execution_count": 8,
   "id": "downtown-cameroon",
   "metadata": {},
   "outputs": [
    {
     "data": {
      "text/plain": [
       "<AxesSubplot:>"
      ]
     },
     "execution_count": 8,
     "metadata": {},
     "output_type": "execute_result"
    },
    {
     "data": {
      "image/png": "[encoded data removed]",
      "text/plain": [
       "<Figure size 432x288 with 1 Axes>"
      ]
     },
     "metadata": {
      "needs_background": "light"
     },
     "output_type": "display_data"
    }
   ],
   "source": [
    "sns.lineplot(x = [25, 50, 100, 150, 200, 250, 300, 350, 400, 500, 600], y = ari, color = 'red')"
   ]
  },
  {
   "cell_type": "markdown",
   "id": "compound-curtis",
   "metadata": {},
   "source": [
    "On this view of the problem, the fit between topic models and human classification rises to about k = 250, and then levels off. (It's not clear whether changes after that point are very significant.)\n",
    "\n",
    "This metric may not be steering us quite as reliably as the hard partitioning did: for instance, in practice, a model with 600 topics would have a lot of tiny categories that are difficult to interpret or highly specific to a single author.\n",
    "\n",
    "But the graph above does reflect the reality that something is gained by making a model more fine-grained. Typically, a fine-grained model can capture more information.\n",
    "\n",
    "We could also combine the two metrics and consider what would happen if we tried to optimize both at once.\n",
    "\n",
    "We build a dataframe that has both metrics for each model."
   ]
  },
  {
   "cell_type": "code",
   "execution_count": 9,
   "id": "immune-collection",
   "metadata": {},
   "outputs": [],
   "source": [
    "df = pd.DataFrame({'fuzzy_ari': ari, 'AMI': meanami, \n",
    "                   'labels': [str(x) for x in [25, 50, 100, 150, 200, 250, 300, 350, 400, 500, 600]]})"
   ]
  },
  {
   "cell_type": "markdown",
   "id": "generous-housing",
   "metadata": {},
   "source": [
    "Then we can visualize the discrete metric on the vertical axis, and the fuzzy metric on the horizontal axis. We label each model with the number of topics."
   ]
  },
  {
   "cell_type": "code",
   "execution_count": 20,
   "id": "eligible-granny",
   "metadata": {},
   "outputs": [
    {
     "data": {
      "text/plain": [
       "(0.11, 0.282)"
      ]
     },
     "execution_count": 20,
     "metadata": {},
     "output_type": "execute_result"
    },
    {
     "data": {
      "image/png": "[encoded data removed]",
      "text/plain": [
       "<Figure size 576x576 with 1 Axes>"
      ]
     },
     "metadata": {
      "needs_background": "light"
     },
     "output_type": "display_data"
    }
   ],
   "source": [
    "plt.figure(figsize = (8, 8))\n",
    "ax = sns.scatterplot(data = df, x = 'fuzzy_ari', y = 'AMI', legend = False,\n",
    "                     hue = [1,1,1,1,2,1,1,1,1,1,1], palette = 'deep')\n",
    "for idx, row in df.iterrows():\n",
    "    ax.text(y = row['AMI'] + .003, x = row['fuzzy_ari'] + .003, \n",
    "            s = row['labels'], alpha = 0.8)\n",
    "\n",
    "plt.xlabel('adj Rand score, fuzzy partition')\n",
    "plt.ylabel('adj mutual information, discrete partition')\n",
    "plt.xlim(0.05, 0.126)\n",
    "plt.ylim(0.11, 0.282)"
   ]
  },
  {
   "cell_type": "markdown",
   "id": "independent-billion",
   "metadata": {},
   "source": [
    "To evaluate this picture, remember that we're trying to maximize both axes —— or in other words, trying to move to the upper right corner.\n",
    "\n",
    "If that's the goal, it appears that a variety of choices between 100 and 400 topics are almost equally defensible, depending on the exact balance of precision and generality desired in a particular inquiry.\n",
    "\n",
    "The picture does, however, help us rule out extreme options like 25 topics, or 600. Those models might be quantitatively valid. But they will probably not be good approximations of the scale of categorization that human readers normally apply to fiction.\n",
    "\n",
    "(These results will not surprise people who have done a lot of topic modeling; they roughly align with the rule of thumb recommended, for instance, by [the designers of Mallet:](http://mallet.cs.umass.edu/topics.php) \"The number of topics should depend to some degree on the size of the collection, but 200 to 400 will produce reasonably fine-grained results.\")\n",
    "\n",
    "In our inquiry, we selected a model with 200 topics, which appeared to give a good balance between both of the metrics considered here. There were also other interpretive advantages to a relatively low setting of *k*, since increasing the number of topics might produce author-specific topics that would appear a bit circular for our research question. While there are methods of subtracting the author-specific signature [(Thompson and Mimno 2018),](https://www.cs.cornell.edu/~laurejt/papers/authorless-tms-2018.pdf) that would also introduce a problematic kind of bias for the question we're investigating—-which is exactly about the stability or mutability of authorial style."
   ]
  }
 ],
 "metadata": {
  "kernelspec": {
   "display_name": "Python 3",
   "language": "python",
   "name": "python3"
  },
  "language_info": {
   "codemirror_mode": {
    "name": "ipython",
    "version": 3
   },
   "file_extension": ".py",
   "mimetype": "text/x-python",
   "name": "python",
   "nbconvert_exporter": "python",
   "pygments_lexer": "ipython3",
   "version": "3.7.6"
  }
 },
 "nbformat": 4,
 "nbformat_minor": 5
}
