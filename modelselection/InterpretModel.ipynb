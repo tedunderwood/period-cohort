{
 "cells": [
  {
   "cell_type": "markdown",
   "id": "passing-shooting",
   "metadata": {},
   "source": [
    "# Model interpretation\n",
    "\n",
    "This code translates a model (that is, a set of results produced by Mallet) into a human-interpretable form so that we can label and categorize the topics.\n",
    "\n",
    "The Mallet output that we will use comes in three files. There's a document-topic matrix (```doctopics```), a list of keywords (```keys```), and some ```diagnostics``` on the topics."
   ]
  },
  {
   "cell_type": "code",
   "execution_count": 3,
   "id": "assumed-postcard",
   "metadata": {},
   "outputs": [],
   "source": [
    "import pandas as pd\n",
    "import numpy as np\n",
    "from collections import Counter\n",
    "import xml.etree.ElementTree as ET"
   ]
  },
  {
   "cell_type": "markdown",
   "id": "expected-upper",
   "metadata": {},
   "source": [
    "While we remove only a minimal list of stopwords before topic inference, there are lots of words that human readers find difficult to interpret; those get filtered out before we present the list to them. We need to load that list."
   ]
  },
  {
   "cell_type": "code",
   "execution_count": 2,
   "id": "strong-department",
   "metadata": {},
   "outputs": [],
   "source": [
    "with open('functionwords.txt', encoding = 'utf-8') as f:\n",
    "    lines = f.readlines()\n",
    "    functionwords = [x.strip() for x in lines]"
   ]
  },
  {
   "cell_type": "markdown",
   "id": "equivalent-programming",
   "metadata": {},
   "source": [
    "We also need metadata for the corpus used in modeling. For all the models we'll be using this is \"corpus4,\" which underwent some pruning of e.g. nonfiction and collected works."
   ]
  },
  {
   "cell_type": "code",
   "execution_count": 12,
   "id": "exceptional-forth",
   "metadata": {},
   "outputs": [],
   "source": [
    "corpus = pd.read_csv('../metadata/corpus4.tsv', sep = '\\t', low_memory = False)"
   ]
  },
  {
   "cell_type": "markdown",
   "id": "secret-blend",
   "metadata": {},
   "source": [
    "For any given model, we start by constructing a dictionary of diagnostic statistics associated with topics.\n",
    "\n",
    "To interpret these, consult [the Mallet documentation.](http://mallet.cs.umass.edu/diagnostics.php)"
   ]
  },
  {
   "cell_type": "code",
   "execution_count": 40,
   "id": "adopted-disposal",
   "metadata": {},
   "outputs": [],
   "source": [
    "def extract_diag_stats(xmlfile):\n",
    "    tree = ET.parse(xmlfile)\n",
    "    root = tree.getroot()\n",
    "    \n",
    "    topics = dict()\n",
    "    alltokencount = 0\n",
    "    \n",
    "    for item in root.findall('topic'):\n",
    "        t = item.attrib\n",
    "        tnum = int(t['id'])\n",
    "        topics[tnum] = dict()\n",
    "        \n",
    "        topics[tnum]['tokens'] = float(t['tokens'])\n",
    "        alltokencount += topics[tnum]['tokens']\n",
    "        \n",
    "        topics[tnum]['document_entropy'] = t['document_entropy']\n",
    "        topics[tnum]['coherence'] = t['coherence']\n",
    "        topics[tnum]['word-length'] = t['word-length']\n",
    "        topics[tnum]['rank_1_docs'] = t['rank_1_docs']\n",
    "    \n",
    "    for tnum, valuedict in topics.items():\n",
    "        valuedict['tokenpct'] = round(100 * topics[tnum]['tokens'] / alltokencount, 3)\n",
    "        \n",
    "    print(alltokencount)\n",
    "    \n",
    "    return topics\n",
    "        "
   ]
  },
  {
   "cell_type": "markdown",
   "id": "blond-acceptance",
   "metadata": {},
   "source": [
    "Next we translate the keywords into a more human-interpretable form by deleting function words that are too general."
   ]
  },
  {
   "cell_type": "code",
   "execution_count": 41,
   "id": "spoken-wedding",
   "metadata": {},
   "outputs": [],
   "source": [
    "def translate_keys(keyfile, topicdict):\n",
    "    outlines = []\n",
    "    global functionwords\n",
    "    \n",
    "    with open(keyfile, encoding ='utf-8') as f:\n",
    "        for line in f.readlines():\n",
    "            tokens = line.strip().split()\n",
    "            topicnum = int(tokens[0])\n",
    "            alpha = tokens[1]\n",
    "            words = tokens[2 : ]\n",
    "            wordsneeded = []\n",
    "            for w in words:\n",
    "                if w in functionwords:\n",
    "                    continue\n",
    "                else:\n",
    "                    wordsneeded.append(w)\n",
    "                \n",
    "                if len(wordsneeded) > 75:\n",
    "                    break\n",
    "            \n",
    "            thistopic = topicdict[topicnum]\n",
    "            \n",
    "            outline = '\"' + 'TOPIC ' + str(topicnum) + '\\n'\n",
    "            outline = outline + 'pct corpus = ' + str(thistopic['tokenpct']) + '%\\n'\n",
    "            outline = outline + 'doc entropy = ' + thistopic['document_entropy'] + '\\n'\n",
    "            outline = outline + 'word length = ' + thistopic['word-length'] + '\\n'\n",
    "            outline = outline + 'coherence = ' + thistopic['coherence'] + '\\n'\n",
    "            outline = outline + 'rank 1 docs = ' + thistopic['rank_1_docs'] + '\\n\"\\t\"'\n",
    "            \n",
    "            for wordfloor in range(0, 70, 10):\n",
    "                outline = outline + ' '.join(wordsneeded[wordfloor : (wordfloor + 10)]) + '\\n'\n",
    "            \n",
    "            outline = outline + '\"\\t'\n",
    "            \n",
    "            outlines.append(outline)\n",
    "    \n",
    "    return outlines"
   ]
  },
  {
   "cell_type": "markdown",
   "id": "copyrighted-technical",
   "metadata": {},
   "source": [
    "Finally, we define a pair of functions that get the doctopic matrix and return the n documents with highest proportion of each topic."
   ]
  },
  {
   "cell_type": "code",
   "execution_count": 5,
   "id": "canadian-strip",
   "metadata": {},
   "outputs": [],
   "source": [
    "def get_doctopics(filename):\n",
    "    chunks = dict()\n",
    "    with open(filename, encoding = 'utf-8') as f:\n",
    "        for line in f:\n",
    "            fields = line.strip().split()\n",
    "            chunkid = fields[1]\n",
    "            docid = fields[1].split('_')[0]\n",
    "        \n",
    "            if docid not in chunks:\n",
    "                chunks[docid] = []\n",
    "                \n",
    "            vector = np.array([float(x) for x in fields[2: ]])\n",
    "            chunks[docid].append(vector)\n",
    "            \n",
    "    docs = dict()\n",
    "    docsizes = dict()    # not actually used in current version I think\n",
    "                        # early on I used number of chunks as a proxy\n",
    "                        # but now using actual number of tokens, from metadata\n",
    "    for docid, value in chunks.items():\n",
    "        avgvector = np.mean(value, axis = 0)\n",
    "        docs[docid] = avgvector\n",
    "        docsizes[docid] = len(vector)\n",
    "    \n",
    "    return docs, docsizes\n",
    "\n",
    "def docs2maxdocs(docs, howmany):\n",
    "    topictuples = dict()\n",
    "    \n",
    "    for docid, vector in docs.items():\n",
    "        for idx, fraction in enumerate(vector):\n",
    "            if idx not in topictuples:\n",
    "                topictuples[idx] = []\n",
    "            topictuples[idx].append((fraction, docid))\n",
    "    \n",
    "    maxdocs = dict()\n",
    "    \n",
    "    for topic, tuples in topictuples.items():\n",
    "        tuples.sort(reverse = True)\n",
    "        maxdocs[topic] = [(round(x[0], 3), x[1]) for x in tuples[0: howmany]]\n",
    "        \n",
    "    return maxdocs\n",
    "\n",
    "def get_maxdocs(filename, howmany):\n",
    "    docs, docsizes = get_doctopics(filename)\n",
    "    maxdocs = docs2maxdocs(docs, howmany)\n",
    "    return maxdocs, docsizes\n",
    "    "
   ]
  },
  {
   "cell_type": "markdown",
   "id": "joined-attendance",
   "metadata": {},
   "source": [
    "The function below combines all the functions above into a single recipe.\n",
    "\n",
    "Note, in particular, that we instruct maxdocs to return the top 200 documents for each topic, and use all 200 to infer, for instance, date quartiles.\n",
    "\n",
    "But we only individually list the top seven."
   ]
  },
  {
   "cell_type": "code",
   "execution_count": 44,
   "id": "sudden-litigation",
   "metadata": {},
   "outputs": [],
   "source": [
    "def interpret_model(modelnumber):\n",
    "    \n",
    "    global corpus, functionwords\n",
    "    \n",
    "    doctopicfile = \"final/k\" + str(modelnumber) + 'doctopics.txt'\n",
    "    keyfile = \"final/k\" + str(modelnumber) + 'keys.txt'\n",
    "    diagnosticfile = \"final/k\" + str(modelnumber) + 'diagnostics.xml'\n",
    "    \n",
    "    topicdict = extract_diag_stats(diagnosticfile)\n",
    "    \n",
    "    outlines = translate_keys(keyfile, topicdict)\n",
    "    \n",
    "    maxdocs, docsizes = get_maxdocs(doctopicfile, 200)   # get the top 200 books\n",
    "                                    # and use all 200 to find the \"biggest author\"\n",
    "                                    # and \"date quartiles\"\n",
    "    finalout = []\n",
    "\n",
    "    \n",
    "    for idx, outline in enumerate(outlines):\n",
    "        outline = outline + '\"'\n",
    "        docctr = 0\n",
    "        authorproportions = Counter()\n",
    "        firstpubs = []\n",
    "        for fraction, doc in maxdocs[idx]:\n",
    "            author = corpus.loc[corpus.docid == doc, 'hathi_author'].values[0]\n",
    "            if pd.isnull(author):\n",
    "                author = \"Unknown Author\"\n",
    "            else:\n",
    "                if len(author) > 30:\n",
    "                    author = author[0: 30]\n",
    "            title = corpus.loc[corpus.docid == doc, 'hathi_title'].values[0]\n",
    "            if pd.isnull(title):\n",
    "                title = \"Unknown Title\"\n",
    "            else:\n",
    "                title = title.replace('\"', '')\n",
    "                if len(title) > 33:\n",
    "                    title = title[0 : 33]\n",
    "            firstpub = corpus.loc[corpus.docid == doc, 'firstpub'].values[0]\n",
    "            firstpubs.append(firstpub)\n",
    "            docctr += 1\n",
    "            if docctr <= 7:   # but only list the top seven individually\n",
    "                outline = outline + str(fraction) + ' | ' + author + ' | ' + title + ' | ' + str(firstpub) + '\\n'\n",
    "            \n",
    "            authorproportions[author] += fraction * float(corpus.loc[corpus.docid == doc, 'tokens'].values[0])\n",
    "            \n",
    "        outline = outline + '\"\\t'\n",
    "        \n",
    "        allsum = sum(authorproportions.values())\n",
    "        biggestauth, biggestsum = authorproportions.most_common(1)[0]\n",
    "        \n",
    "        bigfrac = round(100 * biggestsum / topicdict[idx]['tokens'], 2)\n",
    "        outline = outline + biggestauth + \" = \" + str(bigfrac) + '%\\t'\n",
    "        percent25, percent75 = np.percentile(firstpubs, [25, 75])\n",
    "        outline = outline + str(int(percent25)) + '-' + str(int(percent75)) + '\\n'\n",
    "        finalout.append(outline)\n",
    "    \n",
    "    outfile = keyfile.replace('keys.txt', 'interpret.tsv')\n",
    "    with open(outfile, mode = 'w', encoding = 'utf=8') as f:\n",
    "        f.write('topicstats\\tkeywords\\ttopbooks\\tbiggestauth\\tdatequartiles\\n')\n",
    "        for o in finalout:\n",
    "            f.write(o)"
   ]
  },
  {
   "cell_type": "code",
   "execution_count": 45,
   "id": "provincial-prayer",
   "metadata": {},
   "outputs": [
    {
     "name": "stdout",
     "output_type": "stream",
     "text": [
      "1400787771.0\n"
     ]
    }
   ],
   "source": [
    "interpret_model(200)"
   ]
  },
  {
   "cell_type": "markdown",
   "id": "fundamental-swedish",
   "metadata": {},
   "source": [
    "## Unrelated stuff below\n",
    "\n",
    "After starting to examine some early topic models, I found a lot of nonfiction floated to the top, and used this notebook to identify and remove some of it."
   ]
  },
  {
   "cell_type": "code",
   "execution_count": 93,
   "id": "naked-chile",
   "metadata": {},
   "outputs": [],
   "source": [
    "def docstoremove(topiclist, modelnumber, alreadyremoved, alreadycleared):\n",
    "    global corpus, functionwords\n",
    "    \n",
    "    doctopicfile = \"k\" + str(modelnumber) + 'doctopics.txt'\n",
    "    \n",
    "    maxdocs = get_maxdocs(doctopicfile, 25)\n",
    "    \n",
    "    for t in topiclist:\n",
    "        print()\n",
    "        print('TOPIC ', t)\n",
    "        suspects = maxdocs[t]\n",
    "        for fraction, doc in suspects:\n",
    "            # print(doc)\n",
    "            if doc in alreadyremoved or doc in alreadycleared:\n",
    "                continue\n",
    "            else:\n",
    "                author = corpus.loc[corpus.docid == doc, 'hathi_author'].values[0]\n",
    "                title = corpus.loc[corpus.docid == doc, 'hathi_title'].values[0]\n",
    "                print(fraction, ' | ', author, ' | ', title)\n",
    "                user = input('remove? ')\n",
    "                if user == 'y':\n",
    "                    alreadyremoved.add(doc)\n",
    "                else:\n",
    "                    alreadycleared.add(doc)\n",
    "    \n",
    "    return alreadyremoved, alreadycleared\n",
    "  "
   ]
  },
  {
   "cell_type": "code",
   "execution_count": 78,
   "id": "residential-statistics",
   "metadata": {},
   "outputs": [],
   "source": [
    "alreadyremoved = set()\n",
    "alreadycleared = set()\n",
    "suspicious = [5, 18]"
   ]
  },
  {
   "cell_type": "code",
   "execution_count": 94,
   "id": "affecting-operation",
   "metadata": {},
   "outputs": [
    {
     "name": "stdout",
     "output_type": "stream",
     "text": [
      "\n",
      "TOPIC  5\n",
      "0.361  |  Farrington, Frank  |  Efficiency in the business\n"
     ]
    },
    {
     "name": "stdin",
     "output_type": "stream",
     "text": [
      "remove?  y\n"
     ]
    },
    {
     "name": "stdout",
     "output_type": "stream",
     "text": [
      "0.283  |  Watson, Nancy Dingman  |  What is one?\n"
     ]
    },
    {
     "name": "stdin",
     "output_type": "stream",
     "text": [
      "remove?  n\n"
     ]
    },
    {
     "name": "stdout",
     "output_type": "stream",
     "text": [
      "0.249  |  Butler, Ellis Parker  |  Robinson Crusoe and thrift stamps\n"
     ]
    },
    {
     "name": "stdin",
     "output_type": "stream",
     "text": [
      "remove?  n\n"
     ]
    },
    {
     "name": "stdout",
     "output_type": "stream",
     "text": [
      "0.248  |  Harvey, W. H  |  Coin on money, trusts, and imperialism\n"
     ]
    },
    {
     "name": "stdin",
     "output_type": "stream",
     "text": [
      "remove?  y\n"
     ]
    },
    {
     "name": "stdout",
     "output_type": "stream",
     "text": [
      "0.22  |  nan  |  Report from the Select Committee on Premium Bonds : together with the proceedings of the Committee, minutes of evidence and appendices\n"
     ]
    },
    {
     "name": "stdin",
     "output_type": "stream",
     "text": [
      "remove?  y\n"
     ]
    },
    {
     "name": "stdout",
     "output_type": "stream",
     "text": [
      "0.204  |  Landho, Red  |  Seventh city of Cibola\n"
     ]
    },
    {
     "name": "stdin",
     "output_type": "stream",
     "text": [
      "remove?  n\n"
     ]
    },
    {
     "name": "stdout",
     "output_type": "stream",
     "text": [
      "0.195  |  nan  |  Medicare : change in contigency reserve funding held down increase in Part B premium : briefing report to the Chairman, Special Committee on Aging, U.S. Senate\n"
     ]
    },
    {
     "name": "stdin",
     "output_type": "stream",
     "text": [
      "remove?  y\n"
     ]
    },
    {
     "name": "stdout",
     "output_type": "stream",
     "text": [
      "0.193  |  Van Dyke, Theodore S. (Theodore Strong)  |  Millionaires of a day: an inside history of the great southern California \"boom.\"\n"
     ]
    },
    {
     "name": "stdin",
     "output_type": "stream",
     "text": [
      "remove?  n\n"
     ]
    },
    {
     "name": "stdout",
     "output_type": "stream",
     "text": [
      "0.183  |  Johnston, J. P. (James Perry)  |  Twenty years of hus'ling\n"
     ]
    },
    {
     "name": "stdin",
     "output_type": "stream",
     "text": [
      "remove?  n\n"
     ]
    },
    {
     "name": "stdout",
     "output_type": "stream",
     "text": [
      "0.169  |  Chester, George Randolph  |  Young Wallingford\n"
     ]
    },
    {
     "name": "stdin",
     "output_type": "stream",
     "text": [
      "remove?  n\n"
     ]
    },
    {
     "name": "stdout",
     "output_type": "stream",
     "text": [
      "0.164  |  Updegraff, Robert R. (Robert Rawls)  |  Captains in conflict; the story of the struggle of a business generation\n"
     ]
    },
    {
     "name": "stdin",
     "output_type": "stream",
     "text": [
      "remove?  n\n"
     ]
    },
    {
     "name": "stdout",
     "output_type": "stream",
     "text": [
      "0.164  |  Kyne, Peter B. (Peter Bernard)  |  Cappy Ricks comes back\n"
     ]
    },
    {
     "name": "stdin",
     "output_type": "stream",
     "text": [
      "remove?  n\n"
     ]
    },
    {
     "name": "stdout",
     "output_type": "stream",
     "text": [
      "0.163  |  Coolidge, Dane  |  The trail of gold\n"
     ]
    },
    {
     "name": "stdin",
     "output_type": "stream",
     "text": [
      "remove?  n\n"
     ]
    },
    {
     "name": "stdout",
     "output_type": "stream",
     "text": [
      "0.163  |  Shoop, Max  |  The fable of Economy Isle\n"
     ]
    },
    {
     "name": "stdin",
     "output_type": "stream",
     "text": [
      "remove?  n\n"
     ]
    },
    {
     "name": "stdout",
     "output_type": "stream",
     "text": [
      "0.16  |  Post, Louis Freeland  |  The open shop and the closed shop\n"
     ]
    },
    {
     "name": "stdin",
     "output_type": "stream",
     "text": [
      "remove?  y\n"
     ]
    },
    {
     "name": "stdout",
     "output_type": "stream",
     "text": [
      "0.159  |  Pritchard, Myron T. (Myron Thomas)  |  Stories of thrift for young Americans\n"
     ]
    },
    {
     "name": "stdin",
     "output_type": "stream",
     "text": [
      "remove?  n\n"
     ]
    },
    {
     "name": "stdout",
     "output_type": "stream",
     "text": [
      "0.157  |  Kyne, Peter B. (Peter Bernard)  |  Cappy Ricks; or, The subjugation of Matt Peasley\n"
     ]
    },
    {
     "name": "stdin",
     "output_type": "stream",
     "text": [
      "remove?  n\n"
     ]
    },
    {
     "name": "stdout",
     "output_type": "stream",
     "text": [
      "0.157  |  Lynch, Edward Melville  |  Killboylan bank, or, Every man his own banker : being the account of how Killboylan characters concerned themselves about cooperative credit\n"
     ]
    },
    {
     "name": "stdin",
     "output_type": "stream",
     "text": [
      "remove?  n\n"
     ]
    },
    {
     "name": "stdout",
     "output_type": "stream",
     "text": [
      "0.155  |  Clarke, Peter A  |  The English nobility under Edward the Confessor\n"
     ]
    },
    {
     "name": "stdin",
     "output_type": "stream",
     "text": [
      "remove?  y\n"
     ]
    },
    {
     "name": "stdout",
     "output_type": "stream",
     "text": [
      "0.155  |  Walbourn, Charles H  |  Confessions of a Pullman conductor\n"
     ]
    },
    {
     "name": "stdin",
     "output_type": "stream",
     "text": [
      "remove?  n\n"
     ]
    },
    {
     "name": "stdout",
     "output_type": "stream",
     "text": [
      "0.154  |  Stead, Christina  |  House of all nations\n"
     ]
    },
    {
     "name": "stdin",
     "output_type": "stream",
     "text": [
      "remove?  n\n"
     ]
    },
    {
     "name": "stdout",
     "output_type": "stream",
     "text": [
      "0.152  |  Fox-Davies, Arthur Charles  |  The finances of Sir John Kynnersley\n"
     ]
    },
    {
     "name": "stdin",
     "output_type": "stream",
     "text": [
      "remove?  n\n"
     ]
    },
    {
     "name": "stdout",
     "output_type": "stream",
     "text": [
      "0.151  |  Dodge, Henry Irving  |  The other Mr. Barclay\n"
     ]
    },
    {
     "name": "stdin",
     "output_type": "stream",
     "text": [
      "remove?  n\n"
     ]
    },
    {
     "name": "stdout",
     "output_type": "stream",
     "text": [
      "0.149  |  Train, Arthur Cheney  |  Paper profits : a novel of Wall Street\n"
     ]
    },
    {
     "name": "stdin",
     "output_type": "stream",
     "text": [
      "remove?  n\n"
     ]
    },
    {
     "name": "stdout",
     "output_type": "stream",
     "text": [
      "0.148  |  Kyne, Peter B. (Peter Bernard)  |  Cappy Ricks\n"
     ]
    },
    {
     "name": "stdin",
     "output_type": "stream",
     "text": [
      "remove?  n\n"
     ]
    },
    {
     "name": "stdout",
     "output_type": "stream",
     "text": [
      "\n",
      "TOPIC  18\n",
      "0.82  |  Oxley, William  |  The idea and its imminence : a poet's philosophy\n"
     ]
    },
    {
     "name": "stdin",
     "output_type": "stream",
     "text": [
      "remove?  y\n"
     ]
    },
    {
     "name": "stdout",
     "output_type": "stream",
     "text": [
      "0.807  |  nan  |  Dialectical logic : essays on its history and theory\n"
     ]
    },
    {
     "name": "stdin",
     "output_type": "stream",
     "text": [
      "remove?  y\n"
     ]
    },
    {
     "name": "stdout",
     "output_type": "stream",
     "text": [
      "0.756  |  Stambaugh, Joan  |  Nietzsche's thought of eternal return\n"
     ]
    },
    {
     "name": "stdin",
     "output_type": "stream",
     "text": [
      "remove?  y\n"
     ]
    },
    {
     "name": "stdout",
     "output_type": "stream",
     "text": [
      "0.698  |  Wei, Wu Wei  |  Open secret\n"
     ]
    },
    {
     "name": "stdin",
     "output_type": "stream",
     "text": [
      "remove?  y\n"
     ]
    },
    {
     "name": "stdout",
     "output_type": "stream",
     "text": [
      "0.66  |  Ernst, Katharina  |  \"Death\" in the poetry of Emily Dickinson\n"
     ]
    },
    {
     "name": "stdin",
     "output_type": "stream",
     "text": [
      "remove?  y\n"
     ]
    },
    {
     "name": "stdout",
     "output_type": "stream",
     "text": [
      "0.632  |  Heidegger, Martin  |  Early Greek thinking\n"
     ]
    },
    {
     "name": "stdin",
     "output_type": "stream",
     "text": [
      "remove?  y\n"
     ]
    },
    {
     "name": "stdout",
     "output_type": "stream",
     "text": [
      "0.617  |  Royce, Josiah  |  The conception of immortality\n"
     ]
    },
    {
     "name": "stdin",
     "output_type": "stream",
     "text": [
      "remove?  y\n"
     ]
    },
    {
     "name": "stdout",
     "output_type": "stream",
     "text": [
      "0.613  |  Wheeler, Charles Kirkland  |  Critique of pure Kant or, A real realism vs. a fictitious idealism; in a word, the bubble and monstrosity of the Kantian metaphysic\n"
     ]
    },
    {
     "name": "stdin",
     "output_type": "stream",
     "text": [
      "remove?  y\n"
     ]
    },
    {
     "name": "stdout",
     "output_type": "stream",
     "text": [
      "0.574  |  Steiner, Rudolf  |  Ancient myths: their meaning and connection with evolution\n"
     ]
    },
    {
     "name": "stdin",
     "output_type": "stream",
     "text": [
      "remove?  y\n"
     ]
    },
    {
     "name": "stdout",
     "output_type": "stream",
     "text": [
      "0.554  |  Jevons, F. B (Frank Byron)  |  Philosophy, What is it?\n"
     ]
    },
    {
     "name": "stdin",
     "output_type": "stream",
     "text": [
      "remove?  y\n"
     ]
    },
    {
     "name": "stdout",
     "output_type": "stream",
     "text": [
      "0.542  |  Coke, Zachary  |  The art of logic, 1654\n"
     ]
    },
    {
     "name": "stdin",
     "output_type": "stream",
     "text": [
      "remove?  y\n"
     ]
    },
    {
     "name": "stdout",
     "output_type": "stream",
     "text": [
      "0.53  |  Jackson, Dawson  |  Against destruction\n"
     ]
    },
    {
     "name": "stdin",
     "output_type": "stream",
     "text": [
      "remove?  n\n"
     ]
    },
    {
     "name": "stdout",
     "output_type": "stream",
     "text": [
      "0.529  |  Krishnamurti, J. (Jiddu)  |  Mind without measure : talks in India, 1982-83 : authentic report\n"
     ]
    },
    {
     "name": "stdin",
     "output_type": "stream",
     "text": [
      "remove?  y\n"
     ]
    },
    {
     "name": "stdout",
     "output_type": "stream",
     "text": [
      "0.501  |  Conrad, Lawrence Henry  |  An address delivered before the annual meeting of Michigan authors association in Detroit on October 14, 1926\n"
     ]
    },
    {
     "name": "stdin",
     "output_type": "stream",
     "text": [
      "remove?  y\n"
     ]
    },
    {
     "name": "stdout",
     "output_type": "stream",
     "text": [
      "0.485  |  Krishnamurti, J. (Jiddu)  |  On nature and the environment\n"
     ]
    },
    {
     "name": "stdin",
     "output_type": "stream",
     "text": [
      "remove?  y\n"
     ]
    },
    {
     "name": "stdout",
     "output_type": "stream",
     "text": [
      "0.475  |  Neale, Robert E  |  The art of dying\n"
     ]
    },
    {
     "name": "stdin",
     "output_type": "stream",
     "text": [
      "remove?  n\n"
     ]
    },
    {
     "name": "stdout",
     "output_type": "stream",
     "text": [
      "0.474  |  Osho  |  The great challenge : exploring the world within\n"
     ]
    },
    {
     "name": "stdin",
     "output_type": "stream",
     "text": [
      "remove?  y\n"
     ]
    },
    {
     "name": "stdout",
     "output_type": "stream",
     "text": [
      "0.452  |  Packer, Toni  |  The work of this moment\n"
     ]
    },
    {
     "name": "stdin",
     "output_type": "stream",
     "text": [
      "remove?  n\n"
     ]
    },
    {
     "name": "stdout",
     "output_type": "stream",
     "text": [
      "0.45  |  Fiske, Amos Kidder  |  Beyond the bourn;\n"
     ]
    },
    {
     "name": "stdin",
     "output_type": "stream",
     "text": [
      "remove?  n\n"
     ]
    },
    {
     "name": "stdout",
     "output_type": "stream",
     "text": [
      "0.448  |  Kuo'an  |  The ox and his herdsman; a Chinese Zen text;\n"
     ]
    },
    {
     "name": "stdin",
     "output_type": "stream",
     "text": [
      "remove?  n\n"
     ]
    },
    {
     "name": "stdout",
     "output_type": "stream",
     "text": [
      "0.446  |  Wells, H. G. (Herbert George)  |  What are we to do with our lives?\n"
     ]
    },
    {
     "name": "stdin",
     "output_type": "stream",
     "text": [
      "remove?  y\n"
     ]
    },
    {
     "name": "stdout",
     "output_type": "stream",
     "text": [
      "0.439  |  Allapichai, A. M  |  The seven sages and the world order\n"
     ]
    },
    {
     "name": "stdin",
     "output_type": "stream",
     "text": [
      "remove?  n\n"
     ]
    },
    {
     "name": "stdout",
     "output_type": "stream",
     "text": [
      "0.433  |  Leggett, Mortimer Dormer  |  Dream of a modest prophet\n"
     ]
    },
    {
     "name": "stdin",
     "output_type": "stream",
     "text": [
      "remove?  n\n"
     ]
    },
    {
     "name": "stdout",
     "output_type": "stream",
     "text": [
      "0.43  |  Loori, John Daido  |  Mountain record of Zen talks\n"
     ]
    },
    {
     "name": "stdin",
     "output_type": "stream",
     "text": [
      "remove?  n\n"
     ]
    },
    {
     "name": "stdout",
     "output_type": "stream",
     "text": [
      "0.43  |  Hagen, Steve  |  Buddhism, plain and simple\n"
     ]
    },
    {
     "name": "stdin",
     "output_type": "stream",
     "text": [
      "remove?  y\n"
     ]
    }
   ],
   "source": [
    "alreadyremoved, alreadycleared = docstoremove(suspicious, 100, alreadyremoved, alreadycleared)"
   ]
  },
  {
   "cell_type": "code",
   "execution_count": 95,
   "id": "consecutive-suffering",
   "metadata": {},
   "outputs": [
    {
     "data": {
      "text/plain": [
       "{'inu.30000082137286',\n",
       " 'inu.30000120170752',\n",
       " 'mdp.39015005630002',\n",
       " 'mdp.39015008901053',\n",
       " 'mdp.39015009304042',\n",
       " 'mdp.39015011804856',\n",
       " 'mdp.39015019194730',\n",
       " 'mdp.39015028446519',\n",
       " 'mdp.39015032936745',\n",
       " 'mdp.39015048719093',\n",
       " 'mdp.39015048853934',\n",
       " 'mdp.39015059449317',\n",
       " 'mdp.39015081835764',\n",
       " 'njp.32101078173828',\n",
       " 'nnc2.ark+=13960=t6nz9cv81',\n",
       " 'nyp.33433020487124',\n",
       " 'pst.000043376155',\n",
       " 'uc1.b3937989',\n",
       " 'uc1.b3955246',\n",
       " 'uc1.b4395331',\n",
       " 'uc1.b5023357',\n",
       " 'uc2.ark+=13960=t71v5pj5d',\n",
       " 'wu.89097453831'}"
      ]
     },
     "execution_count": 95,
     "metadata": {},
     "output_type": "execute_result"
    }
   ],
   "source": [
    "alreadyremoved"
   ]
  },
  {
   "cell_type": "code",
   "execution_count": 96,
   "id": "crucial-premises",
   "metadata": {},
   "outputs": [
    {
     "name": "stdout",
     "output_type": "stream",
     "text": [
      "\n",
      "TOPIC  20\n",
      "0.446  |  McNerney, Kathryn  |  American oak furniture\n"
     ]
    },
    {
     "name": "stdin",
     "output_type": "stream",
     "text": [
      "remove?  y\n"
     ]
    },
    {
     "name": "stdout",
     "output_type": "stream",
     "text": [
      "0.36  |  nan  |  Official guides\n"
     ]
    },
    {
     "name": "stdin",
     "output_type": "stream",
     "text": [
      "remove?  y\n"
     ]
    },
    {
     "name": "stdout",
     "output_type": "stream",
     "text": [
      "0.31  |  Hansen, Henny Harald  |  Costumes and styles\n"
     ]
    },
    {
     "name": "stdin",
     "output_type": "stream",
     "text": [
      "remove?  y\n"
     ]
    },
    {
     "name": "stdout",
     "output_type": "stream",
     "text": [
      "0.288  |  Sammarco, Anthony Mitchell  |  The Great Boston Fire of 1872\n"
     ]
    },
    {
     "name": "stdin",
     "output_type": "stream",
     "text": [
      "remove?  y\n"
     ]
    },
    {
     "name": "stdout",
     "output_type": "stream",
     "text": [
      "0.287  |  nan  |  The seventeenth century / Valerie Cumming\n"
     ]
    },
    {
     "name": "stdin",
     "output_type": "stream",
     "text": [
      "remove?  y\n"
     ]
    },
    {
     "name": "stdout",
     "output_type": "stream",
     "text": [
      "0.259  |  nan  |  How to make your windows beautiful\n"
     ]
    },
    {
     "name": "stdin",
     "output_type": "stream",
     "text": [
      "remove?  y\n"
     ]
    },
    {
     "name": "stdout",
     "output_type": "stream",
     "text": [
      "0.225  |  Prior, Joanne  |  Soft furnishing: a practical introduction;\n"
     ]
    },
    {
     "name": "stdin",
     "output_type": "stream",
     "text": [
      "remove?  y\n"
     ]
    },
    {
     "name": "stdout",
     "output_type": "stream",
     "text": [
      "0.214  |  Robbe-Grillet, Alain  |  In the labyrinth, a novel\n"
     ]
    },
    {
     "name": "stdin",
     "output_type": "stream",
     "text": [
      "remove?  n\n"
     ]
    },
    {
     "name": "stdout",
     "output_type": "stream",
     "text": [
      "0.207  |  Penfield, Edward  |  Holland sketches\n"
     ]
    },
    {
     "name": "stdin",
     "output_type": "stream",
     "text": [
      "remove?  n\n"
     ]
    },
    {
     "name": "stdout",
     "output_type": "stream",
     "text": [
      "0.203  |  Robbe-Grillet, Alain  |  Snapshots\n"
     ]
    },
    {
     "name": "stdin",
     "output_type": "stream",
     "text": [
      "remove?  n\n"
     ]
    },
    {
     "name": "stdout",
     "output_type": "stream",
     "text": [
      "0.202  |  Coover, Robert  |  After Lazarus : a filmscript\n"
     ]
    },
    {
     "name": "stdin",
     "output_type": "stream",
     "text": [
      "remove?  n\n"
     ]
    },
    {
     "name": "stdout",
     "output_type": "stream",
     "text": [
      "0.196  |  Southern, Richard  |  Stage-setting for amateurs and professionals\n"
     ]
    },
    {
     "name": "stdin",
     "output_type": "stream",
     "text": [
      "remove?  y\n"
     ]
    },
    {
     "name": "stdout",
     "output_type": "stream",
     "text": [
      "0.19  |  Adcock, Arthur St. John  |  The booklover's London\n"
     ]
    },
    {
     "name": "stdin",
     "output_type": "stream",
     "text": [
      "remove?  y\n"
     ]
    },
    {
     "name": "stdout",
     "output_type": "stream",
     "text": [
      "0.184  |  Smith, Francis Hopkinson  |  A white umbrella in Mexico\n"
     ]
    },
    {
     "name": "stdin",
     "output_type": "stream",
     "text": [
      "remove?  n\n"
     ]
    },
    {
     "name": "stdout",
     "output_type": "stream",
     "text": [
      "0.178  |  nan  |  Wood-turning\n"
     ]
    },
    {
     "name": "stdin",
     "output_type": "stream",
     "text": [
      "remove?  y\n"
     ]
    },
    {
     "name": "stdout",
     "output_type": "stream",
     "text": [
      "0.171  |  Glantz, Evelyn  |  Scrap fun for everyone; 401 things anyone can make\n"
     ]
    },
    {
     "name": "stdin",
     "output_type": "stream",
     "text": [
      "remove?  y\n"
     ]
    },
    {
     "name": "stdout",
     "output_type": "stream",
     "text": [
      "0.163  |  Hansen, Edith  |  Counted thread embroidery\n"
     ]
    },
    {
     "name": "stdin",
     "output_type": "stream",
     "text": [
      "remove?  y\n"
     ]
    },
    {
     "name": "stdout",
     "output_type": "stream",
     "text": [
      "0.159  |  Sellers, Tom  |  nan\n"
     ]
    },
    {
     "name": "stdin",
     "output_type": "stream",
     "text": [
      "remove?  n\n"
     ]
    },
    {
     "name": "stdout",
     "output_type": "stream",
     "text": [
      "0.15  |  Straub, Peter  |  Mrs. God\n"
     ]
    },
    {
     "name": "stdin",
     "output_type": "stream",
     "text": [
      "remove?  n\n"
     ]
    },
    {
     "name": "stdout",
     "output_type": "stream",
     "text": [
      "0.148  |  Winter, Janet  |  Victorian costuming\n"
     ]
    },
    {
     "name": "stdin",
     "output_type": "stream",
     "text": [
      "remove?  y\n"
     ]
    },
    {
     "name": "stdout",
     "output_type": "stream",
     "text": [
      "0.145  |  Smith, Francis Hopkinson  |  Laguerre's and Well worn roads\n"
     ]
    },
    {
     "name": "stdin",
     "output_type": "stream",
     "text": [
      "remove?  n\n"
     ]
    },
    {
     "name": "stdout",
     "output_type": "stream",
     "text": [
      "0.144  |  Kharrāṭ, Idwār  |  City of saffron\n"
     ]
    },
    {
     "name": "stdin",
     "output_type": "stream",
     "text": [
      "remove?  n\n"
     ]
    },
    {
     "name": "stdout",
     "output_type": "stream",
     "text": [
      "0.143  |  Mottram, R. H. (Ralph Hale)  |  Our Mr. Dormer\n"
     ]
    },
    {
     "name": "stdin",
     "output_type": "stream",
     "text": [
      "remove?  n\n"
     ]
    },
    {
     "name": "stdout",
     "output_type": "stream",
     "text": [
      "0.143  |  Saint-Exupéry, Antoine de  |  The wild garden\n"
     ]
    },
    {
     "name": "stdin",
     "output_type": "stream",
     "text": [
      "remove?  n\n"
     ]
    },
    {
     "name": "stdout",
     "output_type": "stream",
     "text": [
      "0.142  |  Smith, Francis Hopkinson  |  The novels, stories and sketches of F. Hopkinson Smith\n"
     ]
    },
    {
     "name": "stdin",
     "output_type": "stream",
     "text": [
      "remove?  n\n"
     ]
    },
    {
     "name": "stdout",
     "output_type": "stream",
     "text": [
      "\n",
      "TOPIC  22\n",
      "0.709  |  Batcher, Ralph R  |  The electronic control handbook\n"
     ]
    },
    {
     "name": "stdin",
     "output_type": "stream",
     "text": [
      "remove?  y\n"
     ]
    },
    {
     "name": "stdout",
     "output_type": "stream",
     "text": [
      "0.646  |  nan  |  CSE permissible digital methanometer\n"
     ]
    },
    {
     "name": "stdin",
     "output_type": "stream",
     "text": [
      "remove?  y\n"
     ]
    },
    {
     "name": "stdout",
     "output_type": "stream",
     "text": [
      "0.589  |  Hukkoo, R. K  |  Experimental re-evaluation of two-crystal scanning geometry for whole-body counting with log-shape placement of crystals\n"
     ]
    },
    {
     "name": "stdin",
     "output_type": "stream",
     "text": [
      "remove?  y\n"
     ]
    },
    {
     "name": "stdout",
     "output_type": "stream",
     "text": [
      "0.558  |  nan  |  Sectional catalogue of special machinery for manufacturing military rifle stocks and accessories\n"
     ]
    },
    {
     "name": "stdin",
     "output_type": "stream",
     "text": [
      "remove?  y\n"
     ]
    },
    {
     "name": "stdout",
     "output_type": "stream",
     "text": [
      "0.49  |  Weerts, Theodore Charles  |  The effects of eye position and expectation on sound localization\n"
     ]
    },
    {
     "name": "stdin",
     "output_type": "stream",
     "text": [
      "remove?  y\n"
     ]
    },
    {
     "name": "stdout",
     "output_type": "stream",
     "text": [
      "0.431  |  nan  |  The Planets\n"
     ]
    },
    {
     "name": "stdin",
     "output_type": "stream",
     "text": [
      "remove?  n\n"
     ]
    },
    {
     "name": "stdout",
     "output_type": "stream",
     "text": [
      "0.415  |  Clarke, Arthur C.  (Arthur Charles)  |  2001: a space odyssey\n"
     ]
    },
    {
     "name": "stdin",
     "output_type": "stream",
     "text": [
      "remove?  n\n"
     ]
    },
    {
     "name": "stdout",
     "output_type": "stream",
     "text": [
      "0.413  |  Herbert, Frank  |  Destination, void\n"
     ]
    },
    {
     "name": "stdin",
     "output_type": "stream",
     "text": [
      "remove?  n\n"
     ]
    },
    {
     "name": "stdout",
     "output_type": "stream",
     "text": [
      "0.386  |  Blankenship, John R  |  Articulator effects of Bennett movement and Bennett angle on cusp inclines : a dissertation [sic] submitted in partial fulfillment ... in denture prosthesis\n"
     ]
    },
    {
     "name": "stdin",
     "output_type": "stream",
     "text": [
      "remove?  y\n"
     ]
    },
    {
     "name": "stdout",
     "output_type": "stream",
     "text": [
      "0.371  |  Forward, Robert L  |  Dragon's egg\n"
     ]
    },
    {
     "name": "stdin",
     "output_type": "stream",
     "text": [
      "remove?  n\n"
     ]
    },
    {
     "name": "stdout",
     "output_type": "stream",
     "text": [
      "0.368  |  nan  |  Safety in woodworking\n"
     ]
    },
    {
     "name": "stdin",
     "output_type": "stream",
     "text": [
      "remove?  y\n"
     ]
    },
    {
     "name": "stdout",
     "output_type": "stream",
     "text": [
      "0.367  |  Crichton, Michael  |  The Andromeda strain\n"
     ]
    },
    {
     "name": "stdin",
     "output_type": "stream",
     "text": [
      "remove?  n\n"
     ]
    },
    {
     "name": "stdout",
     "output_type": "stream",
     "text": [
      "0.363  |  Caidin, Martin  |  Marooned, a novel\n"
     ]
    },
    {
     "name": "stdin",
     "output_type": "stream",
     "text": [
      "remove?  n\n"
     ]
    },
    {
     "name": "stdout",
     "output_type": "stream",
     "text": [
      "0.361  |  nan  |  US-50, southwest corner of Newton to I-35, Harvey County : environmental impact statement\n"
     ]
    },
    {
     "name": "stdin",
     "output_type": "stream",
     "text": [
      "remove?  y\n"
     ]
    },
    {
     "name": "stdout",
     "output_type": "stream",
     "text": [
      "0.347  |  Zelazny, Roger  |  Flare\n"
     ]
    },
    {
     "name": "stdin",
     "output_type": "stream",
     "text": [
      "remove?  n\n"
     ]
    },
    {
     "name": "stdout",
     "output_type": "stream",
     "text": [
      "0.335  |  McCollum, Michael  |  Life probe : Michael McCollum\n"
     ]
    },
    {
     "name": "stdin",
     "output_type": "stream",
     "text": [
      "remove?  n\n"
     ]
    },
    {
     "name": "stdout",
     "output_type": "stream",
     "text": [
      "0.334  |  Smith, E. E. (Edward Elmer)  |  Skylark three\n"
     ]
    },
    {
     "name": "stdin",
     "output_type": "stream",
     "text": [
      "remove?  n\n"
     ]
    },
    {
     "name": "stdout",
     "output_type": "stream",
     "text": [
      "0.331  |  Gamow, George  |  Mr Tompkins explores the atom\n"
     ]
    },
    {
     "name": "stdin",
     "output_type": "stream",
     "text": [
      "remove?  n\n"
     ]
    },
    {
     "name": "stdout",
     "output_type": "stream",
     "text": [
      "0.33  |  nan  |  SR-8 rest area construction, Elma : environmental impact statement\n"
     ]
    },
    {
     "name": "stdin",
     "output_type": "stream",
     "text": [
      "remove?  y\n"
     ]
    },
    {
     "name": "stdout",
     "output_type": "stream",
     "text": [
      "0.33  |  Niven, Larry  |  Ringworld : a novel\n"
     ]
    },
    {
     "name": "stdin",
     "output_type": "stream",
     "text": [
      "remove?  n\n"
     ]
    },
    {
     "name": "stdout",
     "output_type": "stream",
     "text": [
      "0.324  |  Leinster, Murray  |  The wailing asteroid\n"
     ]
    },
    {
     "name": "stdin",
     "output_type": "stream",
     "text": [
      "remove?  n\n"
     ]
    },
    {
     "name": "stdout",
     "output_type": "stream",
     "text": [
      "0.323  |  Chaudhuri, Tarini Charan  |  Sir William Ramsay as a scientist and man\n"
     ]
    },
    {
     "name": "stdin",
     "output_type": "stream",
     "text": [
      "remove?  y\n"
     ]
    },
    {
     "name": "stdout",
     "output_type": "stream",
     "text": [
      "0.318  |  Leinster, Murray  |  Men into space\n"
     ]
    },
    {
     "name": "stdin",
     "output_type": "stream",
     "text": [
      "remove?  n\n"
     ]
    },
    {
     "name": "stdout",
     "output_type": "stream",
     "text": [
      "0.315  |  Sutton, Jeff  |  Bombs in orbit\n"
     ]
    },
    {
     "name": "stdin",
     "output_type": "stream",
     "text": [
      "remove?  n\n"
     ]
    },
    {
     "name": "stdout",
     "output_type": "stream",
     "text": [
      "0.313  |  nan  |  The Science fictional solar system\n"
     ]
    },
    {
     "name": "stdin",
     "output_type": "stream",
     "text": [
      "remove?  n\n"
     ]
    },
    {
     "name": "stdout",
     "output_type": "stream",
     "text": [
      "\n",
      "TOPIC  95\n",
      "0.924  |  nan  |  Pamphlets on forestry. Fish and game\n"
     ]
    },
    {
     "name": "stdin",
     "output_type": "stream",
     "text": [
      "remove?  y\n"
     ]
    },
    {
     "name": "stdout",
     "output_type": "stream",
     "text": [
      "0.904  |  Torre-Bueno, J. R. de la (José Rollin)  |  A synopsis of the Hemiptera-Heteroptera of America north of Mexico\n"
     ]
    },
    {
     "name": "stdin",
     "output_type": "stream",
     "text": [
      "remove?  y\n"
     ]
    },
    {
     "name": "stdout",
     "output_type": "stream",
     "text": [
      "0.686  |  nan  |  A catalogue of the Greek coins in the British Museum. $p: Italy\n"
     ]
    },
    {
     "name": "stdin",
     "output_type": "stream",
     "text": [
      "remove?  y\n"
     ]
    },
    {
     "name": "stdout",
     "output_type": "stream",
     "text": [
      "0.611  |  Edgar, C. C. (Campbell Cowan)  |  Sculptors' studies and unfinished works\n"
     ]
    },
    {
     "name": "stdin",
     "output_type": "stream",
     "text": [
      "remove?  y\n"
     ]
    },
    {
     "name": "stdout",
     "output_type": "stream",
     "text": [
      "0.561  |  Donaldson, Thomas E  |  Hindu temple art of Orissa\n"
     ]
    },
    {
     "name": "stdin",
     "output_type": "stream",
     "text": [
      "remove?  y\n"
     ]
    },
    {
     "name": "stdout",
     "output_type": "stream",
     "text": [
      "0.499  |  Sars, G. O (Georg Ossian)  |  An account of the Crustacea of Norway, with short descriptions and figures of all the species\n"
     ]
    },
    {
     "name": "stdin",
     "output_type": "stream",
     "text": [
      "remove?  y\n"
     ]
    },
    {
     "name": "stdout",
     "output_type": "stream",
     "text": [
      "0.256  |  Holder, Charles Frederick  |  The boy anglers; their adventures in the Gulf of Mexico, California, the Pacific and Atlantic Oceans, and the lakes and streams of Canada\n"
     ]
    },
    {
     "name": "stdin",
     "output_type": "stream",
     "text": [
      "remove?  y\n"
     ]
    },
    {
     "name": "stdout",
     "output_type": "stream",
     "text": [
      "0.253  |  Choudhury, R. D (Rabin Dev)  |  The sculptures of Assam\n"
     ]
    },
    {
     "name": "stdin",
     "output_type": "stream",
     "text": [
      "remove?  y\n"
     ]
    },
    {
     "name": "stdout",
     "output_type": "stream",
     "text": [
      "0.251  |  nan  |  Some specimens of the Roman, Oriental, and foreign types now in use in the offices of William Clowes & sons, limited\n"
     ]
    },
    {
     "name": "stdin",
     "output_type": "stream",
     "text": [
      "remove?  y\n"
     ]
    },
    {
     "name": "stdout",
     "output_type": "stream",
     "text": [
      "0.24  |  Grey, Zane  |  Tales of fishing virgin seas\n"
     ]
    },
    {
     "name": "stdin",
     "output_type": "stream",
     "text": [
      "remove?  n\n"
     ]
    },
    {
     "name": "stdout",
     "output_type": "stream",
     "text": [
      "0.232  |  nan  |  McKinney's consolidated laws of New York annotated\n"
     ]
    },
    {
     "name": "stdin",
     "output_type": "stream",
     "text": [
      "remove?  y\n"
     ]
    },
    {
     "name": "stdout",
     "output_type": "stream",
     "text": [
      "0.226  |  Beebe, William  |  Zaca venture\n"
     ]
    },
    {
     "name": "stdin",
     "output_type": "stream",
     "text": [
      "remove?  n\n"
     ]
    },
    {
     "name": "stdout",
     "output_type": "stream",
     "text": [
      "0.22  |  Witelo  |  Witelo on the principles of reflection : a critical edition and English translation with notes and commentary of Book V of Witelo's Perspectiva\n"
     ]
    },
    {
     "name": "stdin",
     "output_type": "stream",
     "text": [
      "remove?  y\n"
     ]
    },
    {
     "name": "stdout",
     "output_type": "stream",
     "text": [
      "0.214  |  Grey, Zane  |  Tales of Tahitian waters\n"
     ]
    },
    {
     "name": "stdin",
     "output_type": "stream",
     "text": [
      "remove?  n\n"
     ]
    },
    {
     "name": "stdout",
     "output_type": "stream",
     "text": [
      "0.213  |  D'Amelio, Joseph  |  Perspective drawing handbook\n"
     ]
    },
    {
     "name": "stdin",
     "output_type": "stream",
     "text": [
      "remove?  y\n"
     ]
    },
    {
     "name": "stdout",
     "output_type": "stream",
     "text": [
      "0.206  |  Haig-Brown, Roderick Langmere  |  Return to the river; a story of the Chinook run\n"
     ]
    },
    {
     "name": "stdin",
     "output_type": "stream",
     "text": [
      "remove?  n\n"
     ]
    },
    {
     "name": "stdout",
     "output_type": "stream",
     "text": [
      "0.206  |  Williamson, Henry  |  Salar the salmon\n"
     ]
    },
    {
     "name": "stdin",
     "output_type": "stream",
     "text": [
      "remove?  n\n"
     ]
    },
    {
     "name": "stdout",
     "output_type": "stream",
     "text": [
      "0.205  |  Holder, Charles Frederick  |  Along the Florida reef\n"
     ]
    },
    {
     "name": "stdin",
     "output_type": "stream",
     "text": [
      "remove?  n\n"
     ]
    },
    {
     "name": "stdout",
     "output_type": "stream",
     "text": [
      "0.204  |  Grey, Zane  |  Tales of swordfish and tuna\n"
     ]
    },
    {
     "name": "stdin",
     "output_type": "stream",
     "text": [
      "remove?  n\n"
     ]
    },
    {
     "name": "stdout",
     "output_type": "stream",
     "text": [
      "0.203  |  Grey, Zane  |  Tales of the angler's Eldorado, New Zealand\n"
     ]
    },
    {
     "name": "stdin",
     "output_type": "stream",
     "text": [
      "remove?  n\n"
     ]
    },
    {
     "name": "stdout",
     "output_type": "stream",
     "text": [
      "0.201  |  Hering, Ewald  |  Spatial sense and movements of the eye\n"
     ]
    },
    {
     "name": "stdin",
     "output_type": "stream",
     "text": [
      "remove?  y\n"
     ]
    },
    {
     "name": "stdout",
     "output_type": "stream",
     "text": [
      "0.187  |  Hopkins, Francis Powell  |  Fishing experiences of half a century, with instructions in the use of the fast reel\n"
     ]
    },
    {
     "name": "stdin",
     "output_type": "stream",
     "text": [
      "remove?  y\n"
     ]
    },
    {
     "name": "stdout",
     "output_type": "stream",
     "text": [
      "0.18  |  Hertz, Marguerite Rosenberg  |  Frequency tables for scoring Rorschach responses; code charts, normal and rare details, F+ and F- responses, popular responses, original responses\n"
     ]
    },
    {
     "name": "stdin",
     "output_type": "stream",
     "text": [
      "remove?  y\n"
     ]
    },
    {
     "name": "stdout",
     "output_type": "stream",
     "text": [
      "0.179  |  Beebe, William  |  The Arcturus adventure; an account of the New York zoological so\n"
     ]
    },
    {
     "name": "stdin",
     "output_type": "stream",
     "text": [
      "remove?  n\n"
     ]
    }
   ],
   "source": [
    "suspicious = [20, 22, 95]\n",
    "alreadyremoved, alreadycleared = docstoremove(suspicious, 100, alreadyremoved, alreadycleared)"
   ]
  },
  {
   "cell_type": "code",
   "execution_count": 97,
   "id": "assumed-channel",
   "metadata": {},
   "outputs": [
    {
     "data": {
      "text/plain": [
       "{'coo.31924003587999',\n",
       " 'ien.35556030137137',\n",
       " 'ien.35556030796155',\n",
       " 'inu.30000082137286',\n",
       " 'inu.30000120170752',\n",
       " 'loc.ark+=13960=t7kp8vh4x',\n",
       " 'mdp.35112203985603',\n",
       " 'mdp.39015001116238',\n",
       " 'mdp.39015005630002',\n",
       " 'mdp.39015006310232',\n",
       " 'mdp.39015007548012',\n",
       " 'mdp.39015008901053',\n",
       " 'mdp.39015009240063',\n",
       " 'mdp.39015009304042',\n",
       " 'mdp.39015009856363',\n",
       " 'mdp.39015011804856',\n",
       " 'mdp.39015014718244',\n",
       " 'mdp.39015014846086',\n",
       " 'mdp.39015019194730',\n",
       " 'mdp.39015028446519',\n",
       " 'mdp.39015031013892',\n",
       " 'mdp.39015032936745',\n",
       " 'mdp.39015033591671',\n",
       " 'mdp.39015037792010',\n",
       " 'mdp.39015048719093',\n",
       " 'mdp.39015048853934',\n",
       " 'mdp.39015059449317',\n",
       " 'mdp.39015062453520',\n",
       " 'mdp.39015066348353',\n",
       " 'mdp.39015081835764',\n",
       " 'mdp.39076005163303',\n",
       " 'mdp.39076005640987',\n",
       " 'mdp.49015002057033',\n",
       " 'njp.32101078173828',\n",
       " 'nnc2.ark+=13960=t6nz9cv81',\n",
       " 'nyp.33433020487124',\n",
       " 'nyp.33433066630348',\n",
       " 'pst.000008276803',\n",
       " 'pst.000010587188',\n",
       " 'pst.000029752102',\n",
       " 'pst.000043376155',\n",
       " 'uc1.$b288145',\n",
       " 'uc1.31822000601435',\n",
       " 'uc1.32106007539932',\n",
       " 'uc1.b3937989',\n",
       " 'uc1.b3955246',\n",
       " 'uc1.b4041084',\n",
       " 'uc1.b4395331',\n",
       " 'uc1.b5023357',\n",
       " 'uc2.ark+=13960=t20c4v26s',\n",
       " 'uc2.ark+=13960=t2d797037',\n",
       " 'uc2.ark+=13960=t71v5pj5d',\n",
       " 'umn.31951p000159222',\n",
       " 'wu.89010810364',\n",
       " 'wu.89015373848',\n",
       " 'wu.89031169667',\n",
       " 'wu.89080452915',\n",
       " 'wu.89081502726',\n",
       " 'wu.89082359506',\n",
       " 'wu.89088313879',\n",
       " 'wu.89097453831'}"
      ]
     },
     "execution_count": 97,
     "metadata": {},
     "output_type": "execute_result"
    }
   ],
   "source": [
    "alreadyremoved"
   ]
  },
  {
   "cell_type": "code",
   "execution_count": 98,
   "id": "fifth-fountain",
   "metadata": {},
   "outputs": [],
   "source": [
    "suspicious = [41]"
   ]
  },
  {
   "cell_type": "code",
   "execution_count": 99,
   "id": "norman-commons",
   "metadata": {},
   "outputs": [
    {
     "name": "stdout",
     "output_type": "stream",
     "text": [
      "\n",
      "TOPIC  41\n",
      "0.329  |  nan  |  POST course certification and presentation guidelines\n"
     ]
    },
    {
     "name": "stdin",
     "output_type": "stream",
     "text": [
      "remove?  y\n"
     ]
    },
    {
     "name": "stdout",
     "output_type": "stream",
     "text": [
      "0.212  |  nan  |  Course evaluations\n"
     ]
    },
    {
     "name": "stdin",
     "output_type": "stream",
     "text": [
      "remove?  y\n"
     ]
    },
    {
     "name": "stdout",
     "output_type": "stream",
     "text": [
      "0.21  |  nan  |  [SPEC kit on the systems function in ARL libraries\n"
     ]
    },
    {
     "name": "stdin",
     "output_type": "stream",
     "text": [
      "remove?  y\n"
     ]
    },
    {
     "name": "stdout",
     "output_type": "stream",
     "text": [
      "0.184  |  Upson, William Hazlett  |  Alexander Botts : great stories from the Saturday evening post\n"
     ]
    },
    {
     "name": "stdin",
     "output_type": "stream",
     "text": [
      "remove?  n\n"
     ]
    },
    {
     "name": "stdout",
     "output_type": "stream",
     "text": [
      "0.158  |  Johnson, Alvin Saunders  |  A report to Carnegie Corporation of New York on the policy of donations to free public libraries\n"
     ]
    },
    {
     "name": "stdin",
     "output_type": "stream",
     "text": [
      "remove?  y\n"
     ]
    },
    {
     "name": "stdout",
     "output_type": "stream",
     "text": [
      "0.15  |  Boulle, Pierre  |  William Conrad;\n"
     ]
    },
    {
     "name": "stdin",
     "output_type": "stream",
     "text": [
      "remove?  n\n"
     ]
    },
    {
     "name": "stdout",
     "output_type": "stream",
     "text": [
      "0.147  |  Pilhes, René Victor  |  The provocateur : a novel\n"
     ]
    },
    {
     "name": "stdin",
     "output_type": "stream",
     "text": [
      "remove?  n\n"
     ]
    },
    {
     "name": "stdout",
     "output_type": "stream",
     "text": [
      "0.136  |  Boulle, Pierre  |  The bridge over the River Kwai\n"
     ]
    },
    {
     "name": "stdin",
     "output_type": "stream",
     "text": [
      "remove?  n\n"
     ]
    },
    {
     "name": "stdout",
     "output_type": "stream",
     "text": [
      "0.134  |  Newman, Bernard  |  Second front, first spy\n"
     ]
    },
    {
     "name": "stdin",
     "output_type": "stream",
     "text": [
      "remove?  n\n"
     ]
    },
    {
     "name": "stdout",
     "output_type": "stream",
     "text": [
      "0.133  |  Boulle, Pierre  |  Not the glory;\n"
     ]
    },
    {
     "name": "stdin",
     "output_type": "stream",
     "text": [
      "remove?  n\n"
     ]
    },
    {
     "name": "stdout",
     "output_type": "stream",
     "text": [
      "0.133  |  Kalimugogo, Godfrey  |  The prodigal chairman\n"
     ]
    },
    {
     "name": "stdin",
     "output_type": "stream",
     "text": [
      "remove?  n\n"
     ]
    },
    {
     "name": "stdout",
     "output_type": "stream",
     "text": [
      "0.126  |  Fearing, Kenneth  |  The Crozart story\n"
     ]
    },
    {
     "name": "stdin",
     "output_type": "stream",
     "text": [
      "remove?  n\n"
     ]
    },
    {
     "name": "stdout",
     "output_type": "stream",
     "text": [
      "0.126  |  Ogunyẹmi, Michael Ade  |  The D.O\n"
     ]
    },
    {
     "name": "stdin",
     "output_type": "stream",
     "text": [
      "remove?  n\n"
     ]
    },
    {
     "name": "stdout",
     "output_type": "stream",
     "text": [
      "0.121  |  Kirst, Hans Hellmut  |  Damned to success\n"
     ]
    },
    {
     "name": "stdin",
     "output_type": "stream",
     "text": [
      "remove?  n\n"
     ]
    },
    {
     "name": "stdout",
     "output_type": "stream",
     "text": [
      "0.119  |  nan  |  SR-25 realignment, Litchfield : environmental impact statement\n"
     ]
    },
    {
     "name": "stdin",
     "output_type": "stream",
     "text": [
      "remove?  y\n"
     ]
    },
    {
     "name": "stdout",
     "output_type": "stream",
     "text": [
      "0.118  |  Kirst, Hans Hellmut  |  No fatherland\n"
     ]
    },
    {
     "name": "stdin",
     "output_type": "stream",
     "text": [
      "remove?  n\n"
     ]
    },
    {
     "name": "stdout",
     "output_type": "stream",
     "text": [
      "0.118  |  nan  |  Fuel shortages hearings, pursuant to S. Res. 45, a national fuels and energy policy study, Ninety-third Congress, first session\n"
     ]
    },
    {
     "name": "stdin",
     "output_type": "stream",
     "text": [
      "remove?  y\n"
     ]
    },
    {
     "name": "stdout",
     "output_type": "stream",
     "text": [
      "0.114  |  Fallick, J. L  |  The provision of tertiary courses in labour economics in Australia\n"
     ]
    },
    {
     "name": "stdin",
     "output_type": "stream",
     "text": [
      "remove?  y\n"
     ]
    },
    {
     "name": "stdout",
     "output_type": "stream",
     "text": [
      "0.111  |  Lathen, Emma  |  Murder against the grain\n"
     ]
    },
    {
     "name": "stdin",
     "output_type": "stream",
     "text": [
      "remove?  n\n"
     ]
    },
    {
     "name": "stdout",
     "output_type": "stream",
     "text": [
      "0.11  |  Brunner, John  |  The long result\n"
     ]
    },
    {
     "name": "stdin",
     "output_type": "stream",
     "text": [
      "remove?  n\n"
     ]
    },
    {
     "name": "stdout",
     "output_type": "stream",
     "text": [
      "0.108  |  Boulle, Pierre  |  A noble profession\n"
     ]
    },
    {
     "name": "stdin",
     "output_type": "stream",
     "text": [
      "remove?  n\n"
     ]
    },
    {
     "name": "stdout",
     "output_type": "stream",
     "text": [
      "0.105  |  Kimbrough, Emily  |  Through Charley's door\n"
     ]
    },
    {
     "name": "stdin",
     "output_type": "stream",
     "text": [
      "remove?  n\n"
     ]
    }
   ],
   "source": [
    "alreadyremoved, alreadycleared = docstoremove(suspicious, 300, alreadyremoved, alreadycleared)"
   ]
  },
  {
   "cell_type": "code",
   "execution_count": 101,
   "id": "executed-robinson",
   "metadata": {},
   "outputs": [
    {
     "data": {
      "text/plain": [
       "68"
      ]
     },
     "execution_count": 101,
     "metadata": {},
     "output_type": "execute_result"
    }
   ],
   "source": [
    "len(alreadyremoved)"
   ]
  },
  {
   "cell_type": "code",
   "execution_count": 102,
   "id": "random-dover",
   "metadata": {},
   "outputs": [
    {
     "data": {
      "text/plain": [
       "(29611, 23)"
      ]
     },
     "execution_count": 102,
     "metadata": {},
     "output_type": "execute_result"
    }
   ],
   "source": [
    "corpus.shape"
   ]
  },
  {
   "cell_type": "code",
   "execution_count": 103,
   "id": "unlike-power",
   "metadata": {},
   "outputs": [
    {
     "data": {
      "text/plain": [
       "(29543, 23)"
      ]
     },
     "execution_count": 103,
     "metadata": {},
     "output_type": "execute_result"
    }
   ],
   "source": [
    "corpus = corpus.loc[~corpus.docid.isin(alreadyremoved), : ]\n",
    "corpus.shape"
   ]
  },
  {
   "cell_type": "code",
   "execution_count": 104,
   "id": "finite-pennsylvania",
   "metadata": {},
   "outputs": [
    {
     "data": {
      "text/plain": [
       "'/Users/tunder/Dropbox/python/cohort/modelselection'"
      ]
     },
     "execution_count": 104,
     "metadata": {},
     "output_type": "execute_result"
    }
   ],
   "source": [
    "pwd"
   ]
  },
  {
   "cell_type": "code",
   "execution_count": 105,
   "id": "banned-wrestling",
   "metadata": {},
   "outputs": [],
   "source": [
    "corpus.to_csv('../metadata/corpus3.tsv', sep = '\\t', index = False)"
   ]
  },
  {
   "cell_type": "code",
   "execution_count": 106,
   "id": "occupational-banner",
   "metadata": {},
   "outputs": [
    {
     "name": "stderr",
     "output_type": "stream",
     "text": [
      "/Users/tunder/opt/anaconda3/lib/python3.7/site-packages/IPython/core/interactiveshell.py:3147: DtypeWarning: Columns (11) have mixed types.Specify dtype option on import or set low_memory=False.\n",
      "  interactivity=interactivity, compiler=compiler, result=result)\n"
     ]
    }
   ],
   "source": [
    "oldcorpus = pd.read_csv('../metadata/modelcorpus.tsv', sep = '\\t')"
   ]
  },
  {
   "cell_type": "code",
   "execution_count": 107,
   "id": "therapeutic-genetics",
   "metadata": {},
   "outputs": [
    {
     "data": {
      "text/plain": [
       "230"
      ]
     },
     "execution_count": 107,
     "metadata": {},
     "output_type": "execute_result"
    }
   ],
   "source": [
    "len(corpus.loc[corpus.firstpub == 1998, : ])"
   ]
  },
  {
   "cell_type": "code",
   "execution_count": 108,
   "id": "changed-screw",
   "metadata": {},
   "outputs": [
    {
     "data": {
      "text/plain": [
       "299"
      ]
     },
     "execution_count": 108,
     "metadata": {},
     "output_type": "execute_result"
    }
   ],
   "source": [
    "len(oldcorpus.loc[(oldcorpus.firstpub == 1999) & (oldcorpus.nonficprob < .95), :])"
   ]
  },
  {
   "cell_type": "code",
   "execution_count": 120,
   "id": "metropolitan-burden",
   "metadata": {},
   "outputs": [],
   "source": [
    "supplement = oldcorpus.loc[(oldcorpus.firstpub == 1999) & (oldcorpus.nonficprob < .95), :].sample(225)"
   ]
  },
  {
   "cell_type": "code",
   "execution_count": 121,
   "id": "prime-vacuum",
   "metadata": {},
   "outputs": [
    {
     "data": {
      "text/html": [
       "<div>\n",
       "<style scoped>\n",
       "    .dataframe tbody tr th:only-of-type {\n",
       "        vertical-align: middle;\n",
       "    }\n",
       "\n",
       "    .dataframe tbody tr th {\n",
       "        vertical-align: top;\n",
       "    }\n",
       "\n",
       "    .dataframe thead th {\n",
       "        text-align: right;\n",
       "    }\n",
       "</style>\n",
       "<table border=\"1\" class=\"dataframe\">\n",
       "  <thead>\n",
       "    <tr style=\"text-align: right;\">\n",
       "      <th></th>\n",
       "      <th>docid</th>\n",
       "      <th>hathi_author</th>\n",
       "      <th>hathi_title</th>\n",
       "      <th>authordate</th>\n",
       "      <th>birthyear</th>\n",
       "      <th>deathyear</th>\n",
       "      <th>chi_date</th>\n",
       "      <th>ukw_date</th>\n",
       "      <th>copyright_date</th>\n",
       "      <th>firstpub</th>\n",
       "      <th>datewrong</th>\n",
       "      <th>nationality</th>\n",
       "      <th>nonficprob</th>\n",
       "      <th>distances</th>\n",
       "      <th>copyright_corpus</th>\n",
       "      <th>manual_corpus</th>\n",
       "      <th>us_national</th>\n",
       "      <th>pubdate_known</th>\n",
       "      <th>authof3ormore</th>\n",
       "    </tr>\n",
       "  </thead>\n",
       "  <tbody>\n",
       "    <tr>\n",
       "      <th>38922</th>\n",
       "      <td>uc1.32106016419647</td>\n",
       "      <td>Jooste, Pamela</td>\n",
       "      <td>Frieda and Min</td>\n",
       "      <td>NaN</td>\n",
       "      <td>NaN</td>\n",
       "      <td>NaN</td>\n",
       "      <td>NaN</td>\n",
       "      <td>NaN</td>\n",
       "      <td>NaN</td>\n",
       "      <td>1999</td>\n",
       "      <td>NaN</td>\n",
       "      <td>NaN</td>\n",
       "      <td>0.172311</td>\n",
       "      <td>NaN</td>\n",
       "      <td>False</td>\n",
       "      <td>False</td>\n",
       "      <td>False</td>\n",
       "      <td>False</td>\n",
       "      <td>False</td>\n",
       "    </tr>\n",
       "    <tr>\n",
       "      <th>39064</th>\n",
       "      <td>mdp.39015048930781</td>\n",
       "      <td>Nissen, Thisbe</td>\n",
       "      <td>Out of the girls' room and into the night</td>\n",
       "      <td>1972-</td>\n",
       "      <td>1972.0</td>\n",
       "      <td>NaN</td>\n",
       "      <td>NaN</td>\n",
       "      <td>NaN</td>\n",
       "      <td>NaN</td>\n",
       "      <td>1999</td>\n",
       "      <td>NaN</td>\n",
       "      <td>NaN</td>\n",
       "      <td>0.398568</td>\n",
       "      <td>NaN</td>\n",
       "      <td>False</td>\n",
       "      <td>False</td>\n",
       "      <td>False</td>\n",
       "      <td>False</td>\n",
       "      <td>True</td>\n",
       "    </tr>\n",
       "    <tr>\n",
       "      <th>38960</th>\n",
       "      <td>mdp.39015045985358</td>\n",
       "      <td>Ellis, Trey</td>\n",
       "      <td>Right here, right now</td>\n",
       "      <td>NaN</td>\n",
       "      <td>NaN</td>\n",
       "      <td>NaN</td>\n",
       "      <td>NaN</td>\n",
       "      <td>NaN</td>\n",
       "      <td>NaN</td>\n",
       "      <td>1999</td>\n",
       "      <td>NaN</td>\n",
       "      <td>NaN</td>\n",
       "      <td>0.409676</td>\n",
       "      <td>NaN</td>\n",
       "      <td>False</td>\n",
       "      <td>False</td>\n",
       "      <td>False</td>\n",
       "      <td>False</td>\n",
       "      <td>False</td>\n",
       "    </tr>\n",
       "    <tr>\n",
       "      <th>39124</th>\n",
       "      <td>mdp.39015047609089</td>\n",
       "      <td>Mayo, Wendell</td>\n",
       "      <td>B. Horror : and other stories</td>\n",
       "      <td>NaN</td>\n",
       "      <td>NaN</td>\n",
       "      <td>NaN</td>\n",
       "      <td>NaN</td>\n",
       "      <td>NaN</td>\n",
       "      <td>NaN</td>\n",
       "      <td>1999</td>\n",
       "      <td>NaN</td>\n",
       "      <td>NaN</td>\n",
       "      <td>0.363226</td>\n",
       "      <td>NaN</td>\n",
       "      <td>False</td>\n",
       "      <td>False</td>\n",
       "      <td>False</td>\n",
       "      <td>False</td>\n",
       "      <td>False</td>\n",
       "    </tr>\n",
       "    <tr>\n",
       "      <th>38953</th>\n",
       "      <td>mdp.39015048735289</td>\n",
       "      <td>Staffel, Megan</td>\n",
       "      <td>The notebook of lost things</td>\n",
       "      <td>1952-</td>\n",
       "      <td>1952.0</td>\n",
       "      <td>NaN</td>\n",
       "      <td>NaN</td>\n",
       "      <td>NaN</td>\n",
       "      <td>NaN</td>\n",
       "      <td>1999</td>\n",
       "      <td>NaN</td>\n",
       "      <td>NaN</td>\n",
       "      <td>0.243718</td>\n",
       "      <td>NaN</td>\n",
       "      <td>False</td>\n",
       "      <td>False</td>\n",
       "      <td>False</td>\n",
       "      <td>False</td>\n",
       "      <td>False</td>\n",
       "    </tr>\n",
       "  </tbody>\n",
       "</table>\n",
       "</div>"
      ],
      "text/plain": [
       "                    docid    hathi_author  \\\n",
       "38922  uc1.32106016419647  Jooste, Pamela   \n",
       "39064  mdp.39015048930781  Nissen, Thisbe   \n",
       "38960  mdp.39015045985358     Ellis, Trey   \n",
       "39124  mdp.39015047609089   Mayo, Wendell   \n",
       "38953  mdp.39015048735289  Staffel, Megan   \n",
       "\n",
       "                                     hathi_title authordate  birthyear  \\\n",
       "38922                             Frieda and Min        NaN        NaN   \n",
       "39064  Out of the girls' room and into the night      1972-     1972.0   \n",
       "38960                      Right here, right now        NaN        NaN   \n",
       "39124              B. Horror : and other stories        NaN        NaN   \n",
       "38953                The notebook of lost things      1952-     1952.0   \n",
       "\n",
       "       deathyear  chi_date  ukw_date  copyright_date  firstpub  datewrong  \\\n",
       "38922        NaN       NaN       NaN             NaN      1999        NaN   \n",
       "39064        NaN       NaN       NaN             NaN      1999        NaN   \n",
       "38960        NaN       NaN       NaN             NaN      1999        NaN   \n",
       "39124        NaN       NaN       NaN             NaN      1999        NaN   \n",
       "38953        NaN       NaN       NaN             NaN      1999        NaN   \n",
       "\n",
       "      nationality  nonficprob  distances  copyright_corpus  manual_corpus  \\\n",
       "38922         NaN    0.172311        NaN             False          False   \n",
       "39064         NaN    0.398568        NaN             False          False   \n",
       "38960         NaN    0.409676        NaN             False          False   \n",
       "39124         NaN    0.363226        NaN             False          False   \n",
       "38953         NaN    0.243718        NaN             False          False   \n",
       "\n",
       "       us_national  pubdate_known  authof3ormore  \n",
       "38922        False          False          False  \n",
       "39064        False          False           True  \n",
       "38960        False          False          False  \n",
       "39124        False          False          False  \n",
       "38953        False          False          False  "
      ]
     },
     "execution_count": 121,
     "metadata": {},
     "output_type": "execute_result"
    }
   ],
   "source": [
    "supplement.head()"
   ]
  },
  {
   "cell_type": "code",
   "execution_count": 110,
   "id": "atomic-smoke",
   "metadata": {},
   "outputs": [
    {
     "data": {
      "text/plain": [
       "{'pagesinchunk', 'skipped_pages', 'tokens', 'trimmed_pages'}"
      ]
     },
     "execution_count": 110,
     "metadata": {},
     "output_type": "execute_result"
    }
   ],
   "source": [
    "set(corpus.columns) - set(supplement.columns)"
   ]
  },
  {
   "cell_type": "code",
   "execution_count": 122,
   "id": "blessed-lighting",
   "metadata": {},
   "outputs": [
    {
     "data": {
      "text/html": [
       "<div>\n",
       "<style scoped>\n",
       "    .dataframe tbody tr th:only-of-type {\n",
       "        vertical-align: middle;\n",
       "    }\n",
       "\n",
       "    .dataframe tbody tr th {\n",
       "        vertical-align: top;\n",
       "    }\n",
       "\n",
       "    .dataframe thead th {\n",
       "        text-align: right;\n",
       "    }\n",
       "</style>\n",
       "<table border=\"1\" class=\"dataframe\">\n",
       "  <thead>\n",
       "    <tr style=\"text-align: right;\">\n",
       "      <th></th>\n",
       "      <th>id</th>\n",
       "      <th>tokens</th>\n",
       "      <th>skipped_pages</th>\n",
       "      <th>trimmed_pages</th>\n",
       "      <th>pagesinchunk</th>\n",
       "    </tr>\n",
       "  </thead>\n",
       "  <tbody>\n",
       "    <tr>\n",
       "      <th>0</th>\n",
       "      <td>nyp.33433082289871_0</td>\n",
       "      <td>10150</td>\n",
       "      <td>0</td>\n",
       "      <td>36</td>\n",
       "      <td>75</td>\n",
       "    </tr>\n",
       "    <tr>\n",
       "      <th>1</th>\n",
       "      <td>nyp.33433082289871_1</td>\n",
       "      <td>9632</td>\n",
       "      <td>0</td>\n",
       "      <td>36</td>\n",
       "      <td>73</td>\n",
       "    </tr>\n",
       "    <tr>\n",
       "      <th>2</th>\n",
       "      <td>nyp.33433075765176_0</td>\n",
       "      <td>6921</td>\n",
       "      <td>0</td>\n",
       "      <td>61</td>\n",
       "      <td>62</td>\n",
       "    </tr>\n",
       "    <tr>\n",
       "      <th>3</th>\n",
       "      <td>nyp.33433075765176_1</td>\n",
       "      <td>6884</td>\n",
       "      <td>0</td>\n",
       "      <td>61</td>\n",
       "      <td>62</td>\n",
       "    </tr>\n",
       "    <tr>\n",
       "      <th>4</th>\n",
       "      <td>nyp.33433075765176_2</td>\n",
       "      <td>6927</td>\n",
       "      <td>0</td>\n",
       "      <td>61</td>\n",
       "      <td>62</td>\n",
       "    </tr>\n",
       "  </tbody>\n",
       "</table>\n",
       "</div>"
      ],
      "text/plain": [
       "                     id  tokens  skipped_pages  trimmed_pages  pagesinchunk\n",
       "0  nyp.33433082289871_0   10150              0             36            75\n",
       "1  nyp.33433082289871_1    9632              0             36            73\n",
       "2  nyp.33433075765176_0    6921              0             61            62\n",
       "3  nyp.33433075765176_1    6884              0             61            62\n",
       "4  nyp.33433075765176_2    6927              0             61            62"
      ]
     },
     "execution_count": 122,
     "metadata": {},
     "output_type": "execute_result"
    }
   ],
   "source": [
    "parsed = pd.read_csv('../getEF/parsing_metadata.tsv', sep = '\\t')\n",
    "parsed.head()"
   ]
  },
  {
   "cell_type": "code",
   "execution_count": 123,
   "id": "treated-texas",
   "metadata": {},
   "outputs": [],
   "source": [
    "def get_docid(astring):\n",
    "    return astring.split('_')[0]\n",
    "\n",
    "parsed = parsed.assign(docid = parsed['id'].apply(get_docid))"
   ]
  },
  {
   "cell_type": "code",
   "execution_count": 127,
   "id": "challenging-sherman",
   "metadata": {},
   "outputs": [
    {
     "data": {
      "text/html": [
       "<div>\n",
       "<style scoped>\n",
       "    .dataframe tbody tr th:only-of-type {\n",
       "        vertical-align: middle;\n",
       "    }\n",
       "\n",
       "    .dataframe tbody tr th {\n",
       "        vertical-align: top;\n",
       "    }\n",
       "\n",
       "    .dataframe thead th {\n",
       "        text-align: right;\n",
       "    }\n",
       "</style>\n",
       "<table border=\"1\" class=\"dataframe\">\n",
       "  <thead>\n",
       "    <tr style=\"text-align: right;\">\n",
       "      <th></th>\n",
       "      <th>docid</th>\n",
       "      <th>tokens</th>\n",
       "      <th>skipped_pages</th>\n",
       "      <th>trimmed_pages</th>\n",
       "      <th>pagesinchunk</th>\n",
       "    </tr>\n",
       "  </thead>\n",
       "  <tbody>\n",
       "    <tr>\n",
       "      <th>0</th>\n",
       "      <td>aeu.ark+=13960=t22c08w6m</td>\n",
       "      <td>46847</td>\n",
       "      <td>0</td>\n",
       "      <td>248</td>\n",
       "      <td>256</td>\n",
       "    </tr>\n",
       "    <tr>\n",
       "      <th>1</th>\n",
       "      <td>aeu.ark+=13960=t2p575j24</td>\n",
       "      <td>50724</td>\n",
       "      <td>0</td>\n",
       "      <td>260</td>\n",
       "      <td>266</td>\n",
       "    </tr>\n",
       "    <tr>\n",
       "      <th>2</th>\n",
       "      <td>aeu.ark+=13960=t3126wn1n</td>\n",
       "      <td>17734</td>\n",
       "      <td>0</td>\n",
       "      <td>58</td>\n",
       "      <td>122</td>\n",
       "    </tr>\n",
       "    <tr>\n",
       "      <th>3</th>\n",
       "      <td>aeu.ark+=13960=t3gx5k62v</td>\n",
       "      <td>40509</td>\n",
       "      <td>0</td>\n",
       "      <td>264</td>\n",
       "      <td>269</td>\n",
       "    </tr>\n",
       "    <tr>\n",
       "      <th>4</th>\n",
       "      <td>aeu.ark+=13960=t4qj90j8c</td>\n",
       "      <td>32848</td>\n",
       "      <td>0</td>\n",
       "      <td>304</td>\n",
       "      <td>305</td>\n",
       "    </tr>\n",
       "  </tbody>\n",
       "</table>\n",
       "</div>"
      ],
      "text/plain": [
       "                      docid  tokens  skipped_pages  trimmed_pages  \\\n",
       "0  aeu.ark+=13960=t22c08w6m   46847              0            248   \n",
       "1  aeu.ark+=13960=t2p575j24   50724              0            260   \n",
       "2  aeu.ark+=13960=t3126wn1n   17734              0             58   \n",
       "3  aeu.ark+=13960=t3gx5k62v   40509              0            264   \n",
       "4  aeu.ark+=13960=t4qj90j8c   32848              0            304   \n",
       "\n",
       "   pagesinchunk  \n",
       "0           256  \n",
       "1           266  \n",
       "2           122  \n",
       "3           269  \n",
       "4           305  "
      ]
     },
     "execution_count": 127,
     "metadata": {},
     "output_type": "execute_result"
    }
   ],
   "source": [
    "docsums = parsed.groupby('docid').sum()\n",
    "docsums.reset_index(inplace = True)\n",
    "docsums.head()"
   ]
  },
  {
   "cell_type": "code",
   "execution_count": 128,
   "id": "south-humanitarian",
   "metadata": {},
   "outputs": [],
   "source": [
    "supplement = supplement.merge(docsums.loc[:, ['docid', 'pagesinchunk', 'tokens']], on= 'docid')"
   ]
  },
  {
   "cell_type": "code",
   "execution_count": 129,
   "id": "organized-designer",
   "metadata": {},
   "outputs": [
    {
     "data": {
      "text/html": [
       "<div>\n",
       "<style scoped>\n",
       "    .dataframe tbody tr th:only-of-type {\n",
       "        vertical-align: middle;\n",
       "    }\n",
       "\n",
       "    .dataframe tbody tr th {\n",
       "        vertical-align: top;\n",
       "    }\n",
       "\n",
       "    .dataframe thead th {\n",
       "        text-align: right;\n",
       "    }\n",
       "</style>\n",
       "<table border=\"1\" class=\"dataframe\">\n",
       "  <thead>\n",
       "    <tr style=\"text-align: right;\">\n",
       "      <th></th>\n",
       "      <th>docid</th>\n",
       "      <th>hathi_author</th>\n",
       "      <th>hathi_title</th>\n",
       "      <th>authordate</th>\n",
       "      <th>birthyear</th>\n",
       "      <th>deathyear</th>\n",
       "      <th>chi_date</th>\n",
       "      <th>ukw_date</th>\n",
       "      <th>copyright_date</th>\n",
       "      <th>firstpub</th>\n",
       "      <th>...</th>\n",
       "      <th>nationality</th>\n",
       "      <th>nonficprob</th>\n",
       "      <th>distances</th>\n",
       "      <th>copyright_corpus</th>\n",
       "      <th>manual_corpus</th>\n",
       "      <th>us_national</th>\n",
       "      <th>pubdate_known</th>\n",
       "      <th>authof3ormore</th>\n",
       "      <th>pagesinchunk</th>\n",
       "      <th>tokens</th>\n",
       "    </tr>\n",
       "  </thead>\n",
       "  <tbody>\n",
       "    <tr>\n",
       "      <th>0</th>\n",
       "      <td>uc1.32106016419647</td>\n",
       "      <td>Jooste, Pamela</td>\n",
       "      <td>Frieda and Min</td>\n",
       "      <td>NaN</td>\n",
       "      <td>NaN</td>\n",
       "      <td>NaN</td>\n",
       "      <td>NaN</td>\n",
       "      <td>NaN</td>\n",
       "      <td>NaN</td>\n",
       "      <td>1999</td>\n",
       "      <td>...</td>\n",
       "      <td>NaN</td>\n",
       "      <td>0.172311</td>\n",
       "      <td>NaN</td>\n",
       "      <td>False</td>\n",
       "      <td>False</td>\n",
       "      <td>False</td>\n",
       "      <td>False</td>\n",
       "      <td>False</td>\n",
       "      <td>286</td>\n",
       "      <td>57387</td>\n",
       "    </tr>\n",
       "    <tr>\n",
       "      <th>1</th>\n",
       "      <td>mdp.39015048930781</td>\n",
       "      <td>Nissen, Thisbe</td>\n",
       "      <td>Out of the girls' room and into the night</td>\n",
       "      <td>1972-</td>\n",
       "      <td>1972.0</td>\n",
       "      <td>NaN</td>\n",
       "      <td>NaN</td>\n",
       "      <td>NaN</td>\n",
       "      <td>NaN</td>\n",
       "      <td>1999</td>\n",
       "      <td>...</td>\n",
       "      <td>NaN</td>\n",
       "      <td>0.398568</td>\n",
       "      <td>NaN</td>\n",
       "      <td>False</td>\n",
       "      <td>False</td>\n",
       "      <td>False</td>\n",
       "      <td>False</td>\n",
       "      <td>True</td>\n",
       "      <td>217</td>\n",
       "      <td>52567</td>\n",
       "    </tr>\n",
       "    <tr>\n",
       "      <th>2</th>\n",
       "      <td>mdp.39015045985358</td>\n",
       "      <td>Ellis, Trey</td>\n",
       "      <td>Right here, right now</td>\n",
       "      <td>NaN</td>\n",
       "      <td>NaN</td>\n",
       "      <td>NaN</td>\n",
       "      <td>NaN</td>\n",
       "      <td>NaN</td>\n",
       "      <td>NaN</td>\n",
       "      <td>1999</td>\n",
       "      <td>...</td>\n",
       "      <td>NaN</td>\n",
       "      <td>0.409676</td>\n",
       "      <td>NaN</td>\n",
       "      <td>False</td>\n",
       "      <td>False</td>\n",
       "      <td>False</td>\n",
       "      <td>False</td>\n",
       "      <td>False</td>\n",
       "      <td>238</td>\n",
       "      <td>42974</td>\n",
       "    </tr>\n",
       "    <tr>\n",
       "      <th>3</th>\n",
       "      <td>mdp.39015047609089</td>\n",
       "      <td>Mayo, Wendell</td>\n",
       "      <td>B. Horror : and other stories</td>\n",
       "      <td>NaN</td>\n",
       "      <td>NaN</td>\n",
       "      <td>NaN</td>\n",
       "      <td>NaN</td>\n",
       "      <td>NaN</td>\n",
       "      <td>NaN</td>\n",
       "      <td>1999</td>\n",
       "      <td>...</td>\n",
       "      <td>NaN</td>\n",
       "      <td>0.363226</td>\n",
       "      <td>NaN</td>\n",
       "      <td>False</td>\n",
       "      <td>False</td>\n",
       "      <td>False</td>\n",
       "      <td>False</td>\n",
       "      <td>False</td>\n",
       "      <td>123</td>\n",
       "      <td>28058</td>\n",
       "    </tr>\n",
       "    <tr>\n",
       "      <th>4</th>\n",
       "      <td>mdp.39015048735289</td>\n",
       "      <td>Staffel, Megan</td>\n",
       "      <td>The notebook of lost things</td>\n",
       "      <td>1952-</td>\n",
       "      <td>1952.0</td>\n",
       "      <td>NaN</td>\n",
       "      <td>NaN</td>\n",
       "      <td>NaN</td>\n",
       "      <td>NaN</td>\n",
       "      <td>1999</td>\n",
       "      <td>...</td>\n",
       "      <td>NaN</td>\n",
       "      <td>0.243718</td>\n",
       "      <td>NaN</td>\n",
       "      <td>False</td>\n",
       "      <td>False</td>\n",
       "      <td>False</td>\n",
       "      <td>False</td>\n",
       "      <td>False</td>\n",
       "      <td>198</td>\n",
       "      <td>36106</td>\n",
       "    </tr>\n",
       "  </tbody>\n",
       "</table>\n",
       "<p>5 rows × 21 columns</p>\n",
       "</div>"
      ],
      "text/plain": [
       "                docid    hathi_author  \\\n",
       "0  uc1.32106016419647  Jooste, Pamela   \n",
       "1  mdp.39015048930781  Nissen, Thisbe   \n",
       "2  mdp.39015045985358     Ellis, Trey   \n",
       "3  mdp.39015047609089   Mayo, Wendell   \n",
       "4  mdp.39015048735289  Staffel, Megan   \n",
       "\n",
       "                                 hathi_title authordate  birthyear  deathyear  \\\n",
       "0                             Frieda and Min        NaN        NaN        NaN   \n",
       "1  Out of the girls' room and into the night      1972-     1972.0        NaN   \n",
       "2                      Right here, right now        NaN        NaN        NaN   \n",
       "3              B. Horror : and other stories        NaN        NaN        NaN   \n",
       "4                The notebook of lost things      1952-     1952.0        NaN   \n",
       "\n",
       "   chi_date  ukw_date  copyright_date  firstpub  ...  nationality nonficprob  \\\n",
       "0       NaN       NaN             NaN      1999  ...          NaN   0.172311   \n",
       "1       NaN       NaN             NaN      1999  ...          NaN   0.398568   \n",
       "2       NaN       NaN             NaN      1999  ...          NaN   0.409676   \n",
       "3       NaN       NaN             NaN      1999  ...          NaN   0.363226   \n",
       "4       NaN       NaN             NaN      1999  ...          NaN   0.243718   \n",
       "\n",
       "   distances  copyright_corpus  manual_corpus  us_national  pubdate_known  \\\n",
       "0        NaN             False          False        False          False   \n",
       "1        NaN             False          False        False          False   \n",
       "2        NaN             False          False        False          False   \n",
       "3        NaN             False          False        False          False   \n",
       "4        NaN             False          False        False          False   \n",
       "\n",
       "   authof3ormore  pagesinchunk  tokens  \n",
       "0          False           286   57387  \n",
       "1           True           217   52567  \n",
       "2          False           238   42974  \n",
       "3          False           123   28058  \n",
       "4          False           198   36106  \n",
       "\n",
       "[5 rows x 21 columns]"
      ]
     },
     "execution_count": 129,
     "metadata": {},
     "output_type": "execute_result"
    }
   ],
   "source": [
    "supplement.head()"
   ]
  },
  {
   "cell_type": "code",
   "execution_count": 133,
   "id": "daily-atlanta",
   "metadata": {},
   "outputs": [],
   "source": [
    "corpus = pd.read_csv('../metadata/corpus3.tsv', sep = '\\t', low_memory = False)\n",
    "corpus.drop(columns = ['skipped_pages', 'trimmed_pages'], inplace = True)"
   ]
  },
  {
   "cell_type": "code",
   "execution_count": 134,
   "id": "dominican-syndication",
   "metadata": {},
   "outputs": [
    {
     "data": {
      "text/plain": [
       "(29482, 21)"
      ]
     },
     "execution_count": 134,
     "metadata": {},
     "output_type": "execute_result"
    }
   ],
   "source": [
    "corpus.shape"
   ]
  },
  {
   "cell_type": "code",
   "execution_count": 135,
   "id": "cleared-twins",
   "metadata": {},
   "outputs": [
    {
     "data": {
      "text/plain": [
       "(29707, 21)"
      ]
     },
     "execution_count": 135,
     "metadata": {},
     "output_type": "execute_result"
    }
   ],
   "source": [
    "corpus = pd.concat([corpus, supplement])\n",
    "corpus.shape"
   ]
  },
  {
   "cell_type": "code",
   "execution_count": 138,
   "id": "breeding-accounting",
   "metadata": {},
   "outputs": [],
   "source": [
    "corpus.to_csv('../metadata/corpus4.tsv',sep = '\\t', index = False)"
   ]
  },
  {
   "cell_type": "code",
   "execution_count": 137,
   "id": "suspected-delta",
   "metadata": {},
   "outputs": [],
   "source": [
    "corpus = corpus.assign(tokensperpage = np.round(corpus.tokens / corpus.pagesinchunk, 3))"
   ]
  },
  {
   "cell_type": "code",
   "execution_count": 139,
   "id": "collectible-fluid",
   "metadata": {},
   "outputs": [
    {
     "data": {
      "text/plain": [
       "29707"
      ]
     },
     "execution_count": 139,
     "metadata": {},
     "output_type": "execute_result"
    }
   ],
   "source": [
    "allowed = corpus.docid.tolist()\n",
    "len(allowed)"
   ]
  },
  {
   "cell_type": "code",
   "execution_count": 141,
   "id": "opponent-treat",
   "metadata": {},
   "outputs": [
    {
     "data": {
      "text/plain": [
       "(29707, 3)"
      ]
     },
     "execution_count": 141,
     "metadata": {},
     "output_type": "execute_result"
    }
   ],
   "source": [
    "paths = pd.read_csv('../getEF/pathlistwithauthors.tsv', sep = '\\t')\n",
    "subpaths = paths.loc[paths.docid.isin(allowed), : ]\n",
    "subpaths.shape"
   ]
  },
  {
   "cell_type": "code",
   "execution_count": 142,
   "id": "proper-private",
   "metadata": {},
   "outputs": [
    {
     "data": {
      "text/html": [
       "<div>\n",
       "<style scoped>\n",
       "    .dataframe tbody tr th:only-of-type {\n",
       "        vertical-align: middle;\n",
       "    }\n",
       "\n",
       "    .dataframe tbody tr th {\n",
       "        vertical-align: top;\n",
       "    }\n",
       "\n",
       "    .dataframe thead th {\n",
       "        text-align: right;\n",
       "    }\n",
       "</style>\n",
       "<table border=\"1\" class=\"dataframe\">\n",
       "  <thead>\n",
       "    <tr style=\"text-align: right;\">\n",
       "      <th></th>\n",
       "      <th>docid</th>\n",
       "      <th>path</th>\n",
       "      <th>author</th>\n",
       "    </tr>\n",
       "  </thead>\n",
       "  <tbody>\n",
       "    <tr>\n",
       "      <th>3</th>\n",
       "      <td>uc1.b4975632</td>\n",
       "      <td>uc1/pairtree_root/b4/97/56/32/b4975632/uc1.b49...</td>\n",
       "      <td>Aakhus, Patricia</td>\n",
       "    </tr>\n",
       "    <tr>\n",
       "      <th>4</th>\n",
       "      <td>inu.30000112046630</td>\n",
       "      <td>inu/pairtree_root/30/00/01/12/04/66/30/3000011...</td>\n",
       "      <td>Abbe, George</td>\n",
       "    </tr>\n",
       "    <tr>\n",
       "      <th>5</th>\n",
       "      <td>uc1.$b799882</td>\n",
       "      <td>uc1/pairtree_root/$b/79/98/82/$b799882/uc1.$b7...</td>\n",
       "      <td>Abbe, George</td>\n",
       "    </tr>\n",
       "    <tr>\n",
       "      <th>6</th>\n",
       "      <td>uc1.$b149331</td>\n",
       "      <td>uc1/pairtree_root/$b/14/93/31/$b149331/uc1.$b1...</td>\n",
       "      <td>Abbe, George</td>\n",
       "    </tr>\n",
       "    <tr>\n",
       "      <th>7</th>\n",
       "      <td>uc1.32106007981415</td>\n",
       "      <td>uc1/pairtree_root/32/10/60/07/98/14/15/3210600...</td>\n",
       "      <td>Abbey, Edward</td>\n",
       "    </tr>\n",
       "  </tbody>\n",
       "</table>\n",
       "</div>"
      ],
      "text/plain": [
       "                docid                                               path  \\\n",
       "3        uc1.b4975632  uc1/pairtree_root/b4/97/56/32/b4975632/uc1.b49...   \n",
       "4  inu.30000112046630  inu/pairtree_root/30/00/01/12/04/66/30/3000011...   \n",
       "5        uc1.$b799882  uc1/pairtree_root/$b/79/98/82/$b799882/uc1.$b7...   \n",
       "6        uc1.$b149331  uc1/pairtree_root/$b/14/93/31/$b149331/uc1.$b1...   \n",
       "7  uc1.32106007981415  uc1/pairtree_root/32/10/60/07/98/14/15/3210600...   \n",
       "\n",
       "             author  \n",
       "3  Aakhus, Patricia  \n",
       "4      Abbe, George  \n",
       "5      Abbe, George  \n",
       "6      Abbe, George  \n",
       "7     Abbey, Edward  "
      ]
     },
     "execution_count": 142,
     "metadata": {},
     "output_type": "execute_result"
    }
   ],
   "source": [
    "subpaths.head()"
   ]
  },
  {
   "cell_type": "code",
   "execution_count": 145,
   "id": "preceding-fight",
   "metadata": {},
   "outputs": [
    {
     "data": {
      "text/html": [
       "<div>\n",
       "<style scoped>\n",
       "    .dataframe tbody tr th:only-of-type {\n",
       "        vertical-align: middle;\n",
       "    }\n",
       "\n",
       "    .dataframe tbody tr th {\n",
       "        vertical-align: top;\n",
       "    }\n",
       "\n",
       "    .dataframe thead th {\n",
       "        text-align: right;\n",
       "    }\n",
       "</style>\n",
       "<table border=\"1\" class=\"dataframe\">\n",
       "  <thead>\n",
       "    <tr style=\"text-align: right;\">\n",
       "      <th></th>\n",
       "      <th>docid</th>\n",
       "      <th>path</th>\n",
       "      <th>author</th>\n",
       "      <th>tokensperpage</th>\n",
       "    </tr>\n",
       "  </thead>\n",
       "  <tbody>\n",
       "    <tr>\n",
       "      <th>0</th>\n",
       "      <td>uc1.b4975632</td>\n",
       "      <td>uc1/pairtree_root/b4/97/56/32/b4975632/uc1.b49...</td>\n",
       "      <td>Aakhus, Patricia</td>\n",
       "      <td>189.321</td>\n",
       "    </tr>\n",
       "    <tr>\n",
       "      <th>1</th>\n",
       "      <td>inu.30000112046630</td>\n",
       "      <td>inu/pairtree_root/30/00/01/12/04/66/30/3000011...</td>\n",
       "      <td>Abbe, George</td>\n",
       "      <td>191.688</td>\n",
       "    </tr>\n",
       "    <tr>\n",
       "      <th>2</th>\n",
       "      <td>uc1.$b799882</td>\n",
       "      <td>uc1/pairtree_root/$b/79/98/82/$b799882/uc1.$b7...</td>\n",
       "      <td>Abbe, George</td>\n",
       "      <td>211.281</td>\n",
       "    </tr>\n",
       "    <tr>\n",
       "      <th>3</th>\n",
       "      <td>uc1.$b149331</td>\n",
       "      <td>uc1/pairtree_root/$b/14/93/31/$b149331/uc1.$b1...</td>\n",
       "      <td>Abbe, George</td>\n",
       "      <td>215.292</td>\n",
       "    </tr>\n",
       "    <tr>\n",
       "      <th>4</th>\n",
       "      <td>uc1.32106007981415</td>\n",
       "      <td>uc1/pairtree_root/32/10/60/07/98/14/15/3210600...</td>\n",
       "      <td>Abbey, Edward</td>\n",
       "      <td>238.725</td>\n",
       "    </tr>\n",
       "  </tbody>\n",
       "</table>\n",
       "</div>"
      ],
      "text/plain": [
       "                docid                                               path  \\\n",
       "0        uc1.b4975632  uc1/pairtree_root/b4/97/56/32/b4975632/uc1.b49...   \n",
       "1  inu.30000112046630  inu/pairtree_root/30/00/01/12/04/66/30/3000011...   \n",
       "2        uc1.$b799882  uc1/pairtree_root/$b/79/98/82/$b799882/uc1.$b7...   \n",
       "3        uc1.$b149331  uc1/pairtree_root/$b/14/93/31/$b149331/uc1.$b1...   \n",
       "4  uc1.32106007981415  uc1/pairtree_root/32/10/60/07/98/14/15/3210600...   \n",
       "\n",
       "             author  tokensperpage  \n",
       "0  Aakhus, Patricia        189.321  \n",
       "1      Abbe, George        191.688  \n",
       "2      Abbe, George        211.281  \n",
       "3      Abbe, George        215.292  \n",
       "4     Abbey, Edward        238.725  "
      ]
     },
     "execution_count": 145,
     "metadata": {},
     "output_type": "execute_result"
    }
   ],
   "source": [
    "subpaths = subpaths.merge(corpus.loc[: , ['docid', 'tokensperpage']], on = 'docid')\n",
    "subpaths.head()"
   ]
  },
  {
   "cell_type": "code",
   "execution_count": 146,
   "id": "wicked-michigan",
   "metadata": {},
   "outputs": [
    {
     "data": {
      "text/plain": [
       "0"
      ]
     },
     "execution_count": 146,
     "metadata": {},
     "output_type": "execute_result"
    }
   ],
   "source": [
    "sum(pd.isnull(subpaths.tokensperpage))"
   ]
  },
  {
   "cell_type": "code",
   "execution_count": 148,
   "id": "integrated-teacher",
   "metadata": {},
   "outputs": [],
   "source": [
    "subpaths.to_csv('../getEF/cohort3_pathlist.tsv', sep = '\\t', index = False)"
   ]
  },
  {
   "cell_type": "code",
   "execution_count": 149,
   "id": "union-wildlife",
   "metadata": {},
   "outputs": [
    {
     "data": {
      "text/plain": [
       "185.76"
      ]
     },
     "execution_count": 149,
     "metadata": {},
     "output_type": "execute_result"
    }
   ],
   "source": [
    "np.median(subpaths.tokensperpage)"
   ]
  },
  {
   "cell_type": "code",
   "execution_count": 160,
   "id": "fresh-quarterly",
   "metadata": {},
   "outputs": [],
   "source": [
    "c4 = pd.read_csv('../metadata/corpus4.tsv', sep = '\\t', low_memory = False)"
   ]
  },
  {
   "cell_type": "code",
   "execution_count": 161,
   "id": "adolescent-logistics",
   "metadata": {},
   "outputs": [
    {
     "data": {
      "text/plain": [
       "68"
      ]
     },
     "execution_count": 161,
     "metadata": {},
     "output_type": "execute_result"
    }
   ],
   "source": [
    "len(alreadyremoved)"
   ]
  },
  {
   "cell_type": "code",
   "execution_count": 162,
   "id": "sustained-growing",
   "metadata": {},
   "outputs": [
    {
     "data": {
      "text/plain": [
       "{'nyp.33433066630348'}"
      ]
     },
     "execution_count": 162,
     "metadata": {},
     "output_type": "execute_result"
    }
   ],
   "source": [
    "alreadyremoved.intersection(set(c4.docid.tolist()))"
   ]
  },
  {
   "cell_type": "code",
   "execution_count": null,
   "id": "legal-value",
   "metadata": {},
   "outputs": [],
   "source": []
  }
 ],
 "metadata": {
  "kernelspec": {
   "display_name": "Python 3",
   "language": "python",
   "name": "python3"
  },
  "language_info": {
   "codemirror_mode": {
    "name": "ipython",
    "version": 3
   },
   "file_extension": ".py",
   "mimetype": "text/x-python",
   "name": "python",
   "nbconvert_exporter": "python",
   "pygments_lexer": "ipython3",
   "version": "3.7.6"
  }
 },
 "nbformat": 4,
 "nbformat_minor": 5
}
