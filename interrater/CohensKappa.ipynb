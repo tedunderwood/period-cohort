{
 "cells": [
  {
   "cell_type": "markdown",
   "id": "incident-specific",
   "metadata": {},
   "source": [
    "# Calculate Cohen's kappa\n",
    "\n",
    "Comparing Shang and Underwood's (original) codings of topics 150-199."
   ]
  },
  {
   "cell_type": "code",
   "execution_count": 2,
   "id": "democratic-correction",
   "metadata": {},
   "outputs": [],
   "source": [
    "import pandas as pd\n",
    "from sklearn.metrics import cohen_kappa_score"
   ]
  },
  {
   "cell_type": "code",
   "execution_count": 4,
   "id": "interested-version",
   "metadata": {},
   "outputs": [],
   "source": [
    "wenyi = ['i', 'n', 'n', 'n', 'i', 'a', 'g', 'u', 'u', 'u', 'i', 'g', 'i', 'n', 't', 'i', 'g', 'g', 'i', 'l', 'i', 'g', 'u', 'i', 'n', 'g',\n",
    "        'a', 'l', 'i', 'u', 'p', 'p', 'i', 'p', 'g', 'g', 'l', 'p', 'i', 'i', 'u', 'p', 'u', 'u', 'g', 'u', 'l', 'g', 'g', 'i']"
   ]
  },
  {
   "cell_type": "code",
   "execution_count": 12,
   "id": "foreign-morris",
   "metadata": {},
   "outputs": [],
   "source": [
    "ted = ['i', 'p', 'p', 'n', 'i', 'a', 'i', 'u', 'i', 'u', 'i', 'g', 'i', 'n', 't', 'i', 'u', 'g', 'i', 'a', 'i', 'n', 'u', 'u', 'g', 'g',\n",
    "      'a', 'n', 'i', 'u', 'p', 'p', 'i', 'p', 'g', 'i', 'n', 'p', 'i', 'i', 'u', 'p', 'g', 'u', 'u', 'p', 'l', 'p', 'g', 'u']"
   ]
  },
  {
   "cell_type": "code",
   "execution_count": 13,
   "id": "gross-hardwood",
   "metadata": {},
   "outputs": [
    {
     "name": "stdout",
     "output_type": "stream",
     "text": [
      "8\n"
     ]
    },
    {
     "data": {
      "text/plain": [
       "['i', 'u', 'p', 't', 'g', 'n', 'l', 'a']"
      ]
     },
     "execution_count": 13,
     "metadata": {},
     "output_type": "execute_result"
    }
   ],
   "source": [
    "all_labels = set(wenyi).union(set(ted))\n",
    "all_labels = list(all_labels)\n",
    "print(len(all_labels))\n",
    "all_labels"
   ]
  },
  {
   "cell_type": "code",
   "execution_count": 14,
   "id": "italian-imperial",
   "metadata": {},
   "outputs": [],
   "source": [
    "all_labels.append('au')\n",
    "all_labels.append('ev')"
   ]
  },
  {
   "cell_type": "code",
   "execution_count": 15,
   "id": "measured-alert",
   "metadata": {},
   "outputs": [
    {
     "data": {
      "text/plain": [
       "0.5893719806763285"
      ]
     },
     "execution_count": 15,
     "metadata": {},
     "output_type": "execute_result"
    }
   ],
   "source": [
    "cohen_kappa_score(ted, wenyi, labels = all_labels)"
   ]
  },
  {
   "cell_type": "code",
   "execution_count": 11,
   "id": "intensive-lightweight",
   "metadata": {},
   "outputs": [
    {
     "name": "stdout",
     "output_type": "stream",
     "text": [
      "151 n p\n",
      "152 n p\n",
      "156 g i\n",
      "158 u i\n",
      "166 g u\n",
      "169 l a\n",
      "171 g n\n",
      "173 i u\n",
      "174 n g\n",
      "177 l n\n",
      "181 p u\n",
      "185 g i\n",
      "186 l n\n",
      "192 u g\n",
      "194 g u\n",
      "195 u p\n",
      "197 g p\n",
      "199 i u\n"
     ]
    }
   ],
   "source": [
    "topic = 150\n",
    "for w, t in zip(wenyi, ted):\n",
    "    if w != t:\n",
    "        print(topic, w, t)\n",
    "    topic += 1"
   ]
  },
  {
   "cell_type": "code",
   "execution_count": null,
   "id": "motivated-vietnam",
   "metadata": {},
   "outputs": [],
   "source": []
  }
 ],
 "metadata": {
  "kernelspec": {
   "display_name": "Python 3",
   "language": "python",
   "name": "python3"
  },
  "language_info": {
   "codemirror_mode": {
    "name": "ipython",
    "version": 3
   },
   "file_extension": ".py",
   "mimetype": "text/x-python",
   "name": "python",
   "nbconvert_exporter": "python",
   "pygments_lexer": "ipython3",
   "version": "3.7.6"
  }
 },
 "nbformat": 4,
 "nbformat_minor": 5
}
