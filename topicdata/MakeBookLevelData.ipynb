{
 "cells": [
  {
   "cell_type": "markdown",
   "id": "willing-border",
   "metadata": {},
   "source": [
    "# Make topic data at book level\n",
    "\n",
    "Here we simply aggregate the chunk-level data, at book (title) level, and combine it with metadata that may be useful later."
   ]
  },
  {
   "cell_type": "code",
   "execution_count": 1,
   "id": "brilliant-interface",
   "metadata": {},
   "outputs": [],
   "source": [
    "import pandas as pd\n",
    "import numpy as np"
   ]
  },
  {
   "cell_type": "code",
   "execution_count": 2,
   "id": "minute-germany",
   "metadata": {},
   "outputs": [],
   "source": [
    "def get_doctopics(filename, parsemeta, docs2get):\n",
    "    chunks = dict()\n",
    "    weights = dict()\n",
    "    with open(filename, encoding = 'utf-8') as f:\n",
    "        for line in f:\n",
    "            fields = line.strip().split()\n",
    "            chunkid = fields[1]\n",
    "            docid = fields[1].split('_')[0]\n",
    "            \n",
    "            if docid not in docs2get:\n",
    "                continue\n",
    "        \n",
    "            if docid not in chunks:\n",
    "                chunks[docid] = []\n",
    "                weights[docid] = []\n",
    "                \n",
    "            vector = np.array([float(x) for x in fields[2: ]])\n",
    "            chunks[docid].append(vector)\n",
    "            weights[docid].append(parsemeta.at[chunkid, 'tokens'])\n",
    "            \n",
    "    docs = dict()\n",
    "   \n",
    "    for docid, value in chunks.items():\n",
    "        avgvector = np.average(value, axis = 0, weights = weights[docid])\n",
    "        docs[docid] = avgvector\n",
    "          \n",
    "    return docs"
   ]
  },
  {
   "cell_type": "code",
   "execution_count": 3,
   "id": "productive-designer",
   "metadata": {},
   "outputs": [],
   "source": [
    "parsemeta = pd.read_csv('../getEF/parsing_metadata3.tsv', sep = '\\t')"
   ]
  },
  {
   "cell_type": "code",
   "execution_count": 4,
   "id": "fatal-constant",
   "metadata": {},
   "outputs": [
    {
     "data": {
      "text/plain": [
       "(10835, 89)"
      ]
     },
     "execution_count": 4,
     "metadata": {},
     "output_type": "execute_result"
    }
   ],
   "source": [
    "liwc = pd.read_csv('../liwc/liwc_w_meta.tsv', sep = '\\t', low_memory = False)\n",
    "liwc.shape"
   ]
  },
  {
   "cell_type": "code",
   "execution_count": 6,
   "id": "destroyed-sierra",
   "metadata": {},
   "outputs": [],
   "source": [
    "parsemeta.set_index('id', inplace = True)"
   ]
  },
  {
   "cell_type": "code",
   "execution_count": 7,
   "id": "headed-receptor",
   "metadata": {},
   "outputs": [],
   "source": [
    "docs = get_doctopics('../modelselection/final/k200doctopics.txt', parsemeta, liwc.docid.tolist())"
   ]
  },
  {
   "cell_type": "code",
   "execution_count": 8,
   "id": "secret-limit",
   "metadata": {},
   "outputs": [],
   "source": [
    "docdf = pd.DataFrame.from_dict(docs, orient = 'index', columns = ['t' + str(i) for i in range(200)])"
   ]
  },
  {
   "cell_type": "code",
   "execution_count": 9,
   "id": "possible-belgium",
   "metadata": {},
   "outputs": [],
   "source": [
    "meta = pd.read_csv('../metadata/corpus4.tsv', sep = '\\t', low_memory = False)"
   ]
  },
  {
   "cell_type": "code",
   "execution_count": 11,
   "id": "martial-moldova",
   "metadata": {},
   "outputs": [],
   "source": [
    "demograph = meta.loc[meta.docid.isin(docdf.index), ['docid', 'birthyear', 'firstpub', 'hathi_author', 'hathi_title', 'us_national', 'authof3ormore']]\n",
    "demograph = demograph.assign(age = demograph.firstpub - demograph.birthyear)"
   ]
  },
  {
   "cell_type": "code",
   "execution_count": 12,
   "id": "humanitarian-store",
   "metadata": {},
   "outputs": [
    {
     "data": {
      "text/plain": [
       "(10830, 8)"
      ]
     },
     "execution_count": 12,
     "metadata": {},
     "output_type": "execute_result"
    }
   ],
   "source": [
    "demograph.shape"
   ]
  },
  {
   "cell_type": "code",
   "execution_count": 13,
   "id": "republican-gospel",
   "metadata": {},
   "outputs": [
    {
     "data": {
      "text/plain": [
       "(10830, 200)"
      ]
     },
     "execution_count": 13,
     "metadata": {},
     "output_type": "execute_result"
    }
   ],
   "source": [
    "docdf.shape"
   ]
  },
  {
   "cell_type": "code",
   "execution_count": 17,
   "id": "precise-kuwait",
   "metadata": {},
   "outputs": [
    {
     "data": {
      "text/plain": [
       "(10830, 208)"
      ]
     },
     "execution_count": 17,
     "metadata": {},
     "output_type": "execute_result"
    }
   ],
   "source": [
    "bookdata = docdf.merge(demograph, right_on = 'docid', left_index = True)\n",
    "bookdata.shape"
   ]
  },
  {
   "cell_type": "code",
   "execution_count": 18,
   "id": "structural-tourist",
   "metadata": {},
   "outputs": [
    {
     "data": {
      "text/html": [
       "<div>\n",
       "<style scoped>\n",
       "    .dataframe tbody tr th:only-of-type {\n",
       "        vertical-align: middle;\n",
       "    }\n",
       "\n",
       "    .dataframe tbody tr th {\n",
       "        vertical-align: top;\n",
       "    }\n",
       "\n",
       "    .dataframe thead th {\n",
       "        text-align: right;\n",
       "    }\n",
       "</style>\n",
       "<table border=\"1\" class=\"dataframe\">\n",
       "  <thead>\n",
       "    <tr style=\"text-align: right;\">\n",
       "      <th></th>\n",
       "      <th>t0</th>\n",
       "      <th>t1</th>\n",
       "      <th>t2</th>\n",
       "      <th>t3</th>\n",
       "      <th>t4</th>\n",
       "      <th>t5</th>\n",
       "      <th>t6</th>\n",
       "      <th>t7</th>\n",
       "      <th>t8</th>\n",
       "      <th>t9</th>\n",
       "      <th>...</th>\n",
       "      <th>t198</th>\n",
       "      <th>t199</th>\n",
       "      <th>docid</th>\n",
       "      <th>birthyear</th>\n",
       "      <th>firstpub</th>\n",
       "      <th>hathi_author</th>\n",
       "      <th>hathi_title</th>\n",
       "      <th>us_national</th>\n",
       "      <th>authof3ormore</th>\n",
       "      <th>age</th>\n",
       "    </tr>\n",
       "  </thead>\n",
       "  <tbody>\n",
       "    <tr>\n",
       "      <th>19420</th>\n",
       "      <td>0.000006</td>\n",
       "      <td>0.000031</td>\n",
       "      <td>0.011298</td>\n",
       "      <td>0.000004</td>\n",
       "      <td>0.000193</td>\n",
       "      <td>0.000005</td>\n",
       "      <td>0.000212</td>\n",
       "      <td>0.000165</td>\n",
       "      <td>0.000400</td>\n",
       "      <td>0.000138</td>\n",
       "      <td>...</td>\n",
       "      <td>0.004745</td>\n",
       "      <td>0.000002</td>\n",
       "      <td>inu.30000112046630</td>\n",
       "      <td>1911.0</td>\n",
       "      <td>1957</td>\n",
       "      <td>Abbe, George</td>\n",
       "      <td>The winter house</td>\n",
       "      <td>False</td>\n",
       "      <td>True</td>\n",
       "      <td>46.0</td>\n",
       "    </tr>\n",
       "    <tr>\n",
       "      <th>21760</th>\n",
       "      <td>0.000243</td>\n",
       "      <td>0.000035</td>\n",
       "      <td>0.007245</td>\n",
       "      <td>0.000004</td>\n",
       "      <td>0.000011</td>\n",
       "      <td>0.002074</td>\n",
       "      <td>0.000003</td>\n",
       "      <td>0.000009</td>\n",
       "      <td>0.000008</td>\n",
       "      <td>0.000008</td>\n",
       "      <td>...</td>\n",
       "      <td>0.035885</td>\n",
       "      <td>0.000002</td>\n",
       "      <td>uc1.$b799882</td>\n",
       "      <td>1911.0</td>\n",
       "      <td>1967</td>\n",
       "      <td>Abbe, George</td>\n",
       "      <td>The funeral</td>\n",
       "      <td>False</td>\n",
       "      <td>True</td>\n",
       "      <td>56.0</td>\n",
       "    </tr>\n",
       "    <tr>\n",
       "      <th>21989</th>\n",
       "      <td>0.000006</td>\n",
       "      <td>0.000005</td>\n",
       "      <td>0.012275</td>\n",
       "      <td>0.000003</td>\n",
       "      <td>0.000755</td>\n",
       "      <td>0.009934</td>\n",
       "      <td>0.000002</td>\n",
       "      <td>0.000008</td>\n",
       "      <td>0.000583</td>\n",
       "      <td>0.000278</td>\n",
       "      <td>...</td>\n",
       "      <td>0.000004</td>\n",
       "      <td>0.000002</td>\n",
       "      <td>uc1.$b149331</td>\n",
       "      <td>1911.0</td>\n",
       "      <td>1968</td>\n",
       "      <td>Abbe, George</td>\n",
       "      <td>Yonderville</td>\n",
       "      <td>False</td>\n",
       "      <td>True</td>\n",
       "      <td>57.0</td>\n",
       "    </tr>\n",
       "    <tr>\n",
       "      <th>19228</th>\n",
       "      <td>0.000215</td>\n",
       "      <td>0.004015</td>\n",
       "      <td>0.007680</td>\n",
       "      <td>0.001625</td>\n",
       "      <td>0.000167</td>\n",
       "      <td>0.002289</td>\n",
       "      <td>0.050386</td>\n",
       "      <td>0.000305</td>\n",
       "      <td>0.000007</td>\n",
       "      <td>0.002727</td>\n",
       "      <td>...</td>\n",
       "      <td>0.001661</td>\n",
       "      <td>0.000002</td>\n",
       "      <td>uc1.32106007981415</td>\n",
       "      <td>1927.0</td>\n",
       "      <td>1956</td>\n",
       "      <td>Abbey, Edward</td>\n",
       "      <td>The brave cowboy : an old tale in a new time</td>\n",
       "      <td>True</td>\n",
       "      <td>True</td>\n",
       "      <td>29.0</td>\n",
       "    </tr>\n",
       "    <tr>\n",
       "      <th>20601</th>\n",
       "      <td>0.000006</td>\n",
       "      <td>0.000005</td>\n",
       "      <td>0.000095</td>\n",
       "      <td>0.007116</td>\n",
       "      <td>0.007377</td>\n",
       "      <td>0.000231</td>\n",
       "      <td>0.062383</td>\n",
       "      <td>0.000149</td>\n",
       "      <td>0.000289</td>\n",
       "      <td>0.001048</td>\n",
       "      <td>...</td>\n",
       "      <td>0.000033</td>\n",
       "      <td>0.000002</td>\n",
       "      <td>inu.39000001136287</td>\n",
       "      <td>1927.0</td>\n",
       "      <td>1962</td>\n",
       "      <td>Abbey, Edward</td>\n",
       "      <td>Fire on the mountain</td>\n",
       "      <td>True</td>\n",
       "      <td>True</td>\n",
       "      <td>35.0</td>\n",
       "    </tr>\n",
       "  </tbody>\n",
       "</table>\n",
       "<p>5 rows × 208 columns</p>\n",
       "</div>"
      ],
      "text/plain": [
       "             t0        t1        t2        t3        t4        t5        t6  \\\n",
       "19420  0.000006  0.000031  0.011298  0.000004  0.000193  0.000005  0.000212   \n",
       "21760  0.000243  0.000035  0.007245  0.000004  0.000011  0.002074  0.000003   \n",
       "21989  0.000006  0.000005  0.012275  0.000003  0.000755  0.009934  0.000002   \n",
       "19228  0.000215  0.004015  0.007680  0.001625  0.000167  0.002289  0.050386   \n",
       "20601  0.000006  0.000005  0.000095  0.007116  0.007377  0.000231  0.062383   \n",
       "\n",
       "             t7        t8        t9  ...      t198      t199  \\\n",
       "19420  0.000165  0.000400  0.000138  ...  0.004745  0.000002   \n",
       "21760  0.000009  0.000008  0.000008  ...  0.035885  0.000002   \n",
       "21989  0.000008  0.000583  0.000278  ...  0.000004  0.000002   \n",
       "19228  0.000305  0.000007  0.002727  ...  0.001661  0.000002   \n",
       "20601  0.000149  0.000289  0.001048  ...  0.000033  0.000002   \n",
       "\n",
       "                    docid  birthyear  firstpub   hathi_author  \\\n",
       "19420  inu.30000112046630     1911.0      1957   Abbe, George   \n",
       "21760        uc1.$b799882     1911.0      1967   Abbe, George   \n",
       "21989        uc1.$b149331     1911.0      1968   Abbe, George   \n",
       "19228  uc1.32106007981415     1927.0      1956  Abbey, Edward   \n",
       "20601  inu.39000001136287     1927.0      1962  Abbey, Edward   \n",
       "\n",
       "                                        hathi_title  us_national  \\\n",
       "19420                              The winter house        False   \n",
       "21760                                   The funeral        False   \n",
       "21989                                   Yonderville        False   \n",
       "19228  The brave cowboy : an old tale in a new time         True   \n",
       "20601                          Fire on the mountain         True   \n",
       "\n",
       "       authof3ormore   age  \n",
       "19420           True  46.0  \n",
       "21760           True  56.0  \n",
       "21989           True  57.0  \n",
       "19228           True  29.0  \n",
       "20601           True  35.0  \n",
       "\n",
       "[5 rows x 208 columns]"
      ]
     },
     "execution_count": 18,
     "metadata": {},
     "output_type": "execute_result"
    }
   ],
   "source": [
    "bookdata.head()"
   ]
  },
  {
   "cell_type": "code",
   "execution_count": 19,
   "id": "respective-income",
   "metadata": {},
   "outputs": [],
   "source": [
    "bookdata.to_csv('bookleveltopicdata.tsv', sep = '\\t', index = False)"
   ]
  },
  {
   "cell_type": "code",
   "execution_count": 21,
   "id": "wooden-senator",
   "metadata": {},
   "outputs": [
    {
     "data": {
      "text/plain": [
       "5572"
      ]
     },
     "execution_count": 21,
     "metadata": {},
     "output_type": "execute_result"
    }
   ],
   "source": [
    "sum(bookdata.us_national & (bookdata.firstpub > 1889) & (bookdata.firstpub < 1990))"
   ]
  },
  {
   "cell_type": "code",
   "execution_count": null,
   "id": "developed-lemon",
   "metadata": {},
   "outputs": [],
   "source": []
  }
 ],
 "metadata": {
  "kernelspec": {
   "display_name": "Python 3",
   "language": "python",
   "name": "python3"
  },
  "language_info": {
   "codemirror_mode": {
    "name": "ipython",
    "version": 3
   },
   "file_extension": ".py",
   "mimetype": "text/x-python",
   "name": "python",
   "nbconvert_exporter": "python",
   "pygments_lexer": "ipython3",
   "version": "3.7.6"
  }
 },
 "nbformat": 4,
 "nbformat_minor": 5
}
