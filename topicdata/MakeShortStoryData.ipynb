{
 "cells": [
  {
   "cell_type": "markdown",
   "id": "willing-border",
   "metadata": {},
   "source": [
    "# Make topic data at book level\n",
    "\n",
    "Here we simply aggregate the chunk-level data, at book (title) level, and combine it with metadata that may be useful later."
   ]
  },
  {
   "cell_type": "code",
   "execution_count": 4,
   "id": "brilliant-interface",
   "metadata": {},
   "outputs": [],
   "source": [
    "import pandas as pd\n",
    "import numpy as np"
   ]
  },
  {
   "cell_type": "code",
   "execution_count": 5,
   "id": "minute-germany",
   "metadata": {},
   "outputs": [],
   "source": [
    "def get_doctopics(filename, parsemeta, docs2get):\n",
    "    chunks = dict()\n",
    "    weights = dict()\n",
    "    with open(filename, encoding = 'utf-8') as f:\n",
    "        for line in f:\n",
    "            fields = line.strip().split()\n",
    "            chunkid = fields[1]\n",
    "            docid = fields[1].split('_')[0]\n",
    "            \n",
    "            if docid not in docs2get:\n",
    "                continue\n",
    "        \n",
    "            if docid not in chunks:\n",
    "                chunks[docid] = []\n",
    "                weights[docid] = []\n",
    "                \n",
    "            vector = np.array([float(x) for x in fields[2: ]])\n",
    "            chunks[docid].append(vector)\n",
    "            weights[docid].append(parsemeta.at[chunkid, 'tokens'])\n",
    "            \n",
    "    docs = dict()\n",
    "   \n",
    "    for docid, value in chunks.items():\n",
    "        avgvector = np.average(value, axis = 0, weights = weights[docid])\n",
    "        docs[docid] = avgvector\n",
    "          \n",
    "    return docs"
   ]
  },
  {
   "cell_type": "code",
   "execution_count": 7,
   "id": "productive-designer",
   "metadata": {},
   "outputs": [],
   "source": [
    "parsemeta = pd.read_csv('../get_texts/parsing_metadata3.tsv', sep = '\\t')"
   ]
  },
  {
   "cell_type": "code",
   "execution_count": 8,
   "id": "15868859-6b0f-44ba-b9fd-d38f975e9832",
   "metadata": {},
   "outputs": [
    {
     "data": {
      "text/plain": [
       "(154883, 5)"
      ]
     },
     "execution_count": 8,
     "metadata": {},
     "output_type": "execute_result"
    }
   ],
   "source": [
    "parsemeta.shape"
   ]
  },
  {
   "cell_type": "code",
   "execution_count": 39,
   "id": "fatal-constant",
   "metadata": {},
   "outputs": [],
   "source": [
    "shortmeta = pd.read_csv('../shortstories/shortvsnovelmeta.tsv', sep = '\\t')"
   ]
  },
  {
   "cell_type": "code",
   "execution_count": 10,
   "id": "destroyed-sierra",
   "metadata": {},
   "outputs": [],
   "source": [
    "parsemeta.set_index('id', inplace = True)"
   ]
  },
  {
   "cell_type": "code",
   "execution_count": 40,
   "id": "headed-receptor",
   "metadata": {},
   "outputs": [],
   "source": [
    "docs = get_doctopics('../modelselection/final/k200doctopics.txt', parsemeta, shortmeta.docid.tolist())"
   ]
  },
  {
   "cell_type": "code",
   "execution_count": 41,
   "id": "secret-limit",
   "metadata": {},
   "outputs": [],
   "source": [
    "docdf = pd.DataFrame.from_dict(docs, orient = 'index', columns = ['t' + str(i) for i in range(200)])"
   ]
  },
  {
   "cell_type": "code",
   "execution_count": 42,
   "id": "martial-moldova",
   "metadata": {},
   "outputs": [],
   "source": [
    "demograph = shortmeta.loc[ : , ['docid', 'genre', 'birthyear', 'firstpub', 'hathi_author', 'hathi_title', 'us_national', 'authof3ormore']]\n",
    "demograph = demograph.assign(age = demograph.firstpub - demograph.birthyear)"
   ]
  },
  {
   "cell_type": "code",
   "execution_count": 43,
   "id": "humanitarian-store",
   "metadata": {},
   "outputs": [
    {
     "data": {
      "text/plain": [
       "(1420, 9)"
      ]
     },
     "execution_count": 43,
     "metadata": {},
     "output_type": "execute_result"
    }
   ],
   "source": [
    "demograph.shape"
   ]
  },
  {
   "cell_type": "code",
   "execution_count": 44,
   "id": "republican-gospel",
   "metadata": {},
   "outputs": [
    {
     "data": {
      "text/plain": [
       "(1420, 200)"
      ]
     },
     "execution_count": 44,
     "metadata": {},
     "output_type": "execute_result"
    }
   ],
   "source": [
    "docdf.shape"
   ]
  },
  {
   "cell_type": "code",
   "execution_count": 45,
   "id": "precise-kuwait",
   "metadata": {},
   "outputs": [
    {
     "data": {
      "text/plain": [
       "(1420, 209)"
      ]
     },
     "execution_count": 45,
     "metadata": {},
     "output_type": "execute_result"
    }
   ],
   "source": [
    "bookdata = docdf.merge(demograph, right_on = 'docid', left_index = True)\n",
    "bookdata.shape"
   ]
  },
  {
   "cell_type": "code",
   "execution_count": 35,
   "id": "structural-tourist",
   "metadata": {},
   "outputs": [
    {
     "data": {
      "text/html": [
       "<div>\n",
       "<style scoped>\n",
       "    .dataframe tbody tr th:only-of-type {\n",
       "        vertical-align: middle;\n",
       "    }\n",
       "\n",
       "    .dataframe tbody tr th {\n",
       "        vertical-align: top;\n",
       "    }\n",
       "\n",
       "    .dataframe thead th {\n",
       "        text-align: right;\n",
       "    }\n",
       "</style>\n",
       "<table border=\"1\" class=\"dataframe\">\n",
       "  <thead>\n",
       "    <tr style=\"text-align: right;\">\n",
       "      <th></th>\n",
       "      <th>t0</th>\n",
       "      <th>t1</th>\n",
       "      <th>t2</th>\n",
       "      <th>t3</th>\n",
       "      <th>t4</th>\n",
       "      <th>t5</th>\n",
       "      <th>t6</th>\n",
       "      <th>t7</th>\n",
       "      <th>t8</th>\n",
       "      <th>t9</th>\n",
       "      <th>...</th>\n",
       "      <th>t199</th>\n",
       "      <th>docid</th>\n",
       "      <th>genre</th>\n",
       "      <th>birthyear</th>\n",
       "      <th>firstpub</th>\n",
       "      <th>hathi_author</th>\n",
       "      <th>hathi_title</th>\n",
       "      <th>us_national</th>\n",
       "      <th>authof3ormore</th>\n",
       "      <th>age</th>\n",
       "    </tr>\n",
       "  </thead>\n",
       "  <tbody>\n",
       "    <tr>\n",
       "      <th>985</th>\n",
       "      <td>0.000243</td>\n",
       "      <td>0.000035</td>\n",
       "      <td>0.007245</td>\n",
       "      <td>0.000004</td>\n",
       "      <td>0.000011</td>\n",
       "      <td>0.002074</td>\n",
       "      <td>0.000003</td>\n",
       "      <td>0.000009</td>\n",
       "      <td>0.000008</td>\n",
       "      <td>0.000008</td>\n",
       "      <td>...</td>\n",
       "      <td>0.000002</td>\n",
       "      <td>uc1.$b799882</td>\n",
       "      <td>long</td>\n",
       "      <td>1911.0</td>\n",
       "      <td>1967</td>\n",
       "      <td>Abbe, George</td>\n",
       "      <td>The funeral</td>\n",
       "      <td>False</td>\n",
       "      <td>True</td>\n",
       "      <td>56.0</td>\n",
       "    </tr>\n",
       "    <tr>\n",
       "      <th>1188</th>\n",
       "      <td>0.000100</td>\n",
       "      <td>0.000005</td>\n",
       "      <td>0.001766</td>\n",
       "      <td>0.048662</td>\n",
       "      <td>0.022350</td>\n",
       "      <td>0.000591</td>\n",
       "      <td>0.000021</td>\n",
       "      <td>0.001594</td>\n",
       "      <td>0.000121</td>\n",
       "      <td>0.031007</td>\n",
       "      <td>...</td>\n",
       "      <td>0.000002</td>\n",
       "      <td>mdp.39015012918861</td>\n",
       "      <td>long</td>\n",
       "      <td>1919.0</td>\n",
       "      <td>1957</td>\n",
       "      <td>Abrahams, Peter</td>\n",
       "      <td>This island, now</td>\n",
       "      <td>False</td>\n",
       "      <td>True</td>\n",
       "      <td>38.0</td>\n",
       "    </tr>\n",
       "    <tr>\n",
       "      <th>285</th>\n",
       "      <td>0.000006</td>\n",
       "      <td>0.018790</td>\n",
       "      <td>0.023701</td>\n",
       "      <td>0.000004</td>\n",
       "      <td>0.000635</td>\n",
       "      <td>0.023100</td>\n",
       "      <td>0.000003</td>\n",
       "      <td>0.003576</td>\n",
       "      <td>0.000692</td>\n",
       "      <td>0.000008</td>\n",
       "      <td>...</td>\n",
       "      <td>0.000775</td>\n",
       "      <td>mdp.39015059384274</td>\n",
       "      <td>short</td>\n",
       "      <td>1889.0</td>\n",
       "      <td>1925</td>\n",
       "      <td>Aiken, Conrad</td>\n",
       "      <td>Bring! bring! and other stories</td>\n",
       "      <td>True</td>\n",
       "      <td>True</td>\n",
       "      <td>36.0</td>\n",
       "    </tr>\n",
       "    <tr>\n",
       "      <th>946</th>\n",
       "      <td>0.000186</td>\n",
       "      <td>0.003024</td>\n",
       "      <td>0.007866</td>\n",
       "      <td>0.000049</td>\n",
       "      <td>0.000100</td>\n",
       "      <td>0.026803</td>\n",
       "      <td>0.000002</td>\n",
       "      <td>0.052632</td>\n",
       "      <td>0.001825</td>\n",
       "      <td>0.000007</td>\n",
       "      <td>...</td>\n",
       "      <td>0.000002</td>\n",
       "      <td>mdp.39015063779485</td>\n",
       "      <td>long</td>\n",
       "      <td>1892.0</td>\n",
       "      <td>1946</td>\n",
       "      <td>Aldington, Richard</td>\n",
       "      <td>The romance of Casanova, a novel</td>\n",
       "      <td>False</td>\n",
       "      <td>True</td>\n",
       "      <td>54.0</td>\n",
       "    </tr>\n",
       "    <tr>\n",
       "      <th>1106</th>\n",
       "      <td>0.000807</td>\n",
       "      <td>0.000078</td>\n",
       "      <td>0.000047</td>\n",
       "      <td>0.000004</td>\n",
       "      <td>0.001467</td>\n",
       "      <td>0.001645</td>\n",
       "      <td>0.000002</td>\n",
       "      <td>0.000118</td>\n",
       "      <td>0.001355</td>\n",
       "      <td>0.000007</td>\n",
       "      <td>...</td>\n",
       "      <td>0.000002</td>\n",
       "      <td>mdp.39015063740230</td>\n",
       "      <td>long</td>\n",
       "      <td>1881.0</td>\n",
       "      <td>1926</td>\n",
       "      <td>Aldrich, Bess Streeter</td>\n",
       "      <td>The Cutters</td>\n",
       "      <td>True</td>\n",
       "      <td>True</td>\n",
       "      <td>45.0</td>\n",
       "    </tr>\n",
       "  </tbody>\n",
       "</table>\n",
       "<p>5 rows × 209 columns</p>\n",
       "</div>"
      ],
      "text/plain": [
       "            t0        t1        t2        t3        t4        t5        t6  \\\n",
       "985   0.000243  0.000035  0.007245  0.000004  0.000011  0.002074  0.000003   \n",
       "1188  0.000100  0.000005  0.001766  0.048662  0.022350  0.000591  0.000021   \n",
       "285   0.000006  0.018790  0.023701  0.000004  0.000635  0.023100  0.000003   \n",
       "946   0.000186  0.003024  0.007866  0.000049  0.000100  0.026803  0.000002   \n",
       "1106  0.000807  0.000078  0.000047  0.000004  0.001467  0.001645  0.000002   \n",
       "\n",
       "            t7        t8        t9  ...      t199               docid  genre  \\\n",
       "985   0.000009  0.000008  0.000008  ...  0.000002        uc1.$b799882   long   \n",
       "1188  0.001594  0.000121  0.031007  ...  0.000002  mdp.39015012918861   long   \n",
       "285   0.003576  0.000692  0.000008  ...  0.000775  mdp.39015059384274  short   \n",
       "946   0.052632  0.001825  0.000007  ...  0.000002  mdp.39015063779485   long   \n",
       "1106  0.000118  0.001355  0.000007  ...  0.000002  mdp.39015063740230   long   \n",
       "\n",
       "      birthyear  firstpub            hathi_author  \\\n",
       "985      1911.0      1967            Abbe, George   \n",
       "1188     1919.0      1957         Abrahams, Peter   \n",
       "285      1889.0      1925           Aiken, Conrad   \n",
       "946      1892.0      1946      Aldington, Richard   \n",
       "1106     1881.0      1926  Aldrich, Bess Streeter   \n",
       "\n",
       "                           hathi_title  us_national  authof3ormore   age  \n",
       "985                        The funeral        False           True  56.0  \n",
       "1188                  This island, now        False           True  38.0  \n",
       "285    Bring! bring! and other stories         True           True  36.0  \n",
       "946   The romance of Casanova, a novel        False           True  54.0  \n",
       "1106                       The Cutters         True           True  45.0  \n",
       "\n",
       "[5 rows x 209 columns]"
      ]
     },
     "execution_count": 35,
     "metadata": {},
     "output_type": "execute_result"
    }
   ],
   "source": [
    "bookdata.head()"
   ]
  },
  {
   "cell_type": "code",
   "execution_count": 46,
   "id": "fef29325-7f12-4b9e-a223-5b8e28c01936",
   "metadata": {},
   "outputs": [],
   "source": [
    "bookdata.to_csv('shortvsnoveldata.tsv', sep = '\\t', index = False)"
   ]
  },
  {
   "cell_type": "code",
   "execution_count": 36,
   "id": "respective-income",
   "metadata": {},
   "outputs": [],
   "source": [
    "bookdata.to_csv('shortstorytopicdata.tsv', sep = '\\t', index = False)"
   ]
  },
  {
   "cell_type": "code",
   "execution_count": 37,
   "id": "f29f8c43-dea5-4eab-b2b6-8b88db16e165",
   "metadata": {},
   "outputs": [
    {
     "data": {
      "text/plain": [
       "710"
      ]
     },
     "execution_count": 37,
     "metadata": {},
     "output_type": "execute_result"
    }
   ],
   "source": [
    "sum(bookdata.genre == 'short')"
   ]
  },
  {
   "cell_type": "code",
   "execution_count": 38,
   "id": "developed-lemon",
   "metadata": {},
   "outputs": [
    {
     "data": {
      "text/plain": [
       "709"
      ]
     },
     "execution_count": 38,
     "metadata": {},
     "output_type": "execute_result"
    }
   ],
   "source": [
    "sum(bookdata.genre == 'long')"
   ]
  },
  {
   "cell_type": "code",
   "execution_count": null,
   "id": "1bfe3a6a-67d2-4608-be4c-aa894b26e041",
   "metadata": {},
   "outputs": [],
   "source": []
  }
 ],
 "metadata": {
  "kernelspec": {
   "display_name": "Python 3",
   "language": "python",
   "name": "python3"
  },
  "language_info": {
   "codemirror_mode": {
    "name": "ipython",
    "version": 3
   },
   "file_extension": ".py",
   "mimetype": "text/x-python",
   "name": "python",
   "nbconvert_exporter": "python",
   "pygments_lexer": "ipython3",
   "version": "3.7.6"
  }
 },
 "nbformat": 4,
 "nbformat_minor": 5
}
