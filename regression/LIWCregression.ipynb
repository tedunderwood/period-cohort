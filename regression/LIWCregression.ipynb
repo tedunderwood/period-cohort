{
 "cells": [
  {
   "cell_type": "markdown",
   "id": "declared-collective",
   "metadata": {},
   "source": [
    "# Example of cross-validation methodology on LIWC\n",
    "\n",
    "I'm adopting a two-part strategy conditioned by three reflections:\n",
    "\n",
    "1. I'm not confident that I can apportion *r<sup>2</sup>* well on my own. But the [pingouin linear regression function](https://pingouin-stats.org/generated/pingouin.linear_regression.html) has a sophisticated relative-importance option based on ```relaimpo``` in R. I'd like to use it.\n",
    "\n",
    "2. Pingouin's function is absolutely glacial with more than about 10 variables. But our \"factor/dummy variable\" approach to firstpub and birthyear means we will easily have scores of variables.\n",
    "\n",
    "3. I'm also worried about overfitting, especially to authors.\n",
    "\n",
    "Putting these three reflections together, I'm thinking the best approach for each dependent variable is:\n",
    "\n",
    "A) Cross-validate *separate* linear regressions using only birthyear, only firstpub, and only age as a predictive variable. In each case choose the granularity of dummy variables (bins or splines) that optimizes held-out-author accuracy. In each case produce a set of predicted values that are based only on birthyear, firstpub, or age.\n",
    "\n",
    "B) Then combine those predicted values for birthyear, firstpub, and age in a pingouin regression and extract variable importance estimates. We'll have only three variables so this is easy for pingouin, and we'll get good estimates of variable importance."
   ]
  },
  {
   "cell_type": "code",
   "execution_count": 1,
   "id": "joint-rugby",
   "metadata": {},
   "outputs": [],
   "source": [
    "import pandas as pd\n",
    "import numpy as np\n",
    "from collections import Counter\n",
    "from matplotlib import pyplot as plt\n",
    "import seaborn as sns\n",
    "import pingouin as pg\n",
    "from scipy.stats import pearsonr\n",
    "import random\n",
    "from sklearn.linear_model import LinearRegression"
   ]
  },
  {
   "cell_type": "code",
   "execution_count": 2,
   "id": "satellite-tobago",
   "metadata": {},
   "outputs": [],
   "source": [
    "liwc = pd.read_csv('../liwc/liwc_w_meta.tsv', sep = '\\t', low_memory = False)"
   ]
  },
  {
   "cell_type": "code",
   "execution_count": 3,
   "id": "prepared-vertex",
   "metadata": {},
   "outputs": [],
   "source": [
    "data = liwc.loc[liwc.us_national & (liwc.firstpub > 1889) & (liwc.firstpub < 1990), : ]"
   ]
  },
  {
   "cell_type": "code",
   "execution_count": 6,
   "id": "interior-venice",
   "metadata": {},
   "outputs": [
    {
     "data": {
      "text/html": [
       "<div>\n",
       "<style scoped>\n",
       "    .dataframe tbody tr th:only-of-type {\n",
       "        vertical-align: middle;\n",
       "    }\n",
       "\n",
       "    .dataframe tbody tr th {\n",
       "        vertical-align: top;\n",
       "    }\n",
       "\n",
       "    .dataframe thead th {\n",
       "        text-align: right;\n",
       "    }\n",
       "</style>\n",
       "<table border=\"1\" class=\"dataframe\">\n",
       "  <thead>\n",
       "    <tr style=\"text-align: right;\">\n",
       "      <th></th>\n",
       "      <th>docid</th>\n",
       "      <th>birthyear</th>\n",
       "      <th>firstpub</th>\n",
       "      <th>hathi_author</th>\n",
       "      <th>hathi_title</th>\n",
       "      <th>us_national</th>\n",
       "      <th>authof3ormore</th>\n",
       "      <th>authorage</th>\n",
       "      <th>WC</th>\n",
       "      <th>Analytic</th>\n",
       "      <th>...</th>\n",
       "      <th>home</th>\n",
       "      <th>money</th>\n",
       "      <th>relig</th>\n",
       "      <th>death</th>\n",
       "      <th>informal</th>\n",
       "      <th>swear</th>\n",
       "      <th>netspeak</th>\n",
       "      <th>assent</th>\n",
       "      <th>nonflu</th>\n",
       "      <th>filler</th>\n",
       "    </tr>\n",
       "  </thead>\n",
       "  <tbody>\n",
       "    <tr>\n",
       "      <th>1</th>\n",
       "      <td>uc1.32106005212219</td>\n",
       "      <td>1908.0</td>\n",
       "      <td>1947</td>\n",
       "      <td>Petry, Ann Lane</td>\n",
       "      <td>Country place</td>\n",
       "      <td>True</td>\n",
       "      <td>True</td>\n",
       "      <td>39.0</td>\n",
       "      <td>47351</td>\n",
       "      <td>31.73</td>\n",
       "      <td>...</td>\n",
       "      <td>1.90</td>\n",
       "      <td>0.66</td>\n",
       "      <td>0.27</td>\n",
       "      <td>0.39</td>\n",
       "      <td>0.81</td>\n",
       "      <td>0.13</td>\n",
       "      <td>0.23</td>\n",
       "      <td>0.23</td>\n",
       "      <td>0.23</td>\n",
       "      <td>0.03</td>\n",
       "    </tr>\n",
       "    <tr>\n",
       "      <th>2</th>\n",
       "      <td>mdp.39015063937406</td>\n",
       "      <td>1858.0</td>\n",
       "      <td>1906</td>\n",
       "      <td>Moore, John Trotwood</td>\n",
       "      <td>The bishop of Cottontown : a story of the sout...</td>\n",
       "      <td>True</td>\n",
       "      <td>True</td>\n",
       "      <td>48.0</td>\n",
       "      <td>89468</td>\n",
       "      <td>39.84</td>\n",
       "      <td>...</td>\n",
       "      <td>0.77</td>\n",
       "      <td>0.61</td>\n",
       "      <td>1.41</td>\n",
       "      <td>0.75</td>\n",
       "      <td>1.24</td>\n",
       "      <td>0.11</td>\n",
       "      <td>0.59</td>\n",
       "      <td>0.16</td>\n",
       "      <td>0.39</td>\n",
       "      <td>0.02</td>\n",
       "    </tr>\n",
       "    <tr>\n",
       "      <th>4</th>\n",
       "      <td>uc1.$b100730</td>\n",
       "      <td>1889.0</td>\n",
       "      <td>1938</td>\n",
       "      <td>Frank, Waldo David</td>\n",
       "      <td>The bridegroom cometh</td>\n",
       "      <td>True</td>\n",
       "      <td>True</td>\n",
       "      <td>49.0</td>\n",
       "      <td>130016</td>\n",
       "      <td>32.17</td>\n",
       "      <td>...</td>\n",
       "      <td>1.52</td>\n",
       "      <td>0.90</td>\n",
       "      <td>0.70</td>\n",
       "      <td>0.47</td>\n",
       "      <td>0.79</td>\n",
       "      <td>0.10</td>\n",
       "      <td>0.17</td>\n",
       "      <td>0.24</td>\n",
       "      <td>0.31</td>\n",
       "      <td>0.00</td>\n",
       "    </tr>\n",
       "    <tr>\n",
       "      <th>6</th>\n",
       "      <td>mdp.39015003629410</td>\n",
       "      <td>1937.0</td>\n",
       "      <td>1969</td>\n",
       "      <td>Zelazny, Roger</td>\n",
       "      <td>Damnation alley</td>\n",
       "      <td>True</td>\n",
       "      <td>True</td>\n",
       "      <td>32.0</td>\n",
       "      <td>29342</td>\n",
       "      <td>32.72</td>\n",
       "      <td>...</td>\n",
       "      <td>0.52</td>\n",
       "      <td>0.31</td>\n",
       "      <td>0.61</td>\n",
       "      <td>0.52</td>\n",
       "      <td>1.26</td>\n",
       "      <td>0.58</td>\n",
       "      <td>0.12</td>\n",
       "      <td>0.34</td>\n",
       "      <td>0.24</td>\n",
       "      <td>0.02</td>\n",
       "    </tr>\n",
       "    <tr>\n",
       "      <th>7</th>\n",
       "      <td>nyp.33433076053804</td>\n",
       "      <td>1876.0</td>\n",
       "      <td>1921</td>\n",
       "      <td>Rinehart, Mary Roberts</td>\n",
       "      <td>More Tish</td>\n",
       "      <td>True</td>\n",
       "      <td>True</td>\n",
       "      <td>45.0</td>\n",
       "      <td>32705</td>\n",
       "      <td>26.09</td>\n",
       "      <td>...</td>\n",
       "      <td>0.76</td>\n",
       "      <td>0.50</td>\n",
       "      <td>0.35</td>\n",
       "      <td>0.29</td>\n",
       "      <td>0.78</td>\n",
       "      <td>0.11</td>\n",
       "      <td>0.04</td>\n",
       "      <td>0.10</td>\n",
       "      <td>0.53</td>\n",
       "      <td>0.00</td>\n",
       "    </tr>\n",
       "  </tbody>\n",
       "</table>\n",
       "<p>5 rows × 89 columns</p>\n",
       "</div>"
      ],
      "text/plain": [
       "                docid  birthyear  firstpub            hathi_author  \\\n",
       "1  uc1.32106005212219     1908.0      1947         Petry, Ann Lane   \n",
       "2  mdp.39015063937406     1858.0      1906    Moore, John Trotwood   \n",
       "4        uc1.$b100730     1889.0      1938      Frank, Waldo David   \n",
       "6  mdp.39015003629410     1937.0      1969          Zelazny, Roger   \n",
       "7  nyp.33433076053804     1876.0      1921  Rinehart, Mary Roberts   \n",
       "\n",
       "                                         hathi_title  us_national  \\\n",
       "1                                      Country place         True   \n",
       "2  The bishop of Cottontown : a story of the sout...         True   \n",
       "4                              The bridegroom cometh         True   \n",
       "6                                    Damnation alley         True   \n",
       "7                                          More Tish         True   \n",
       "\n",
       "   authof3ormore  authorage      WC  Analytic  ...  home  money  relig  death  \\\n",
       "1           True       39.0   47351     31.73  ...  1.90   0.66   0.27   0.39   \n",
       "2           True       48.0   89468     39.84  ...  0.77   0.61   1.41   0.75   \n",
       "4           True       49.0  130016     32.17  ...  1.52   0.90   0.70   0.47   \n",
       "6           True       32.0   29342     32.72  ...  0.52   0.31   0.61   0.52   \n",
       "7           True       45.0   32705     26.09  ...  0.76   0.50   0.35   0.29   \n",
       "\n",
       "   informal  swear  netspeak  assent  nonflu  filler  \n",
       "1      0.81   0.13      0.23    0.23    0.23    0.03  \n",
       "2      1.24   0.11      0.59    0.16    0.39    0.02  \n",
       "4      0.79   0.10      0.17    0.24    0.31    0.00  \n",
       "6      1.26   0.58      0.12    0.34    0.24    0.02  \n",
       "7      0.78   0.11      0.04    0.10    0.53    0.00  \n",
       "\n",
       "[5 rows x 89 columns]"
      ]
     },
     "execution_count": 6,
     "metadata": {},
     "output_type": "execute_result"
    }
   ],
   "source": [
    "data.head()"
   ]
  },
  {
   "cell_type": "markdown",
   "id": "visible-order",
   "metadata": {},
   "source": [
    "## Overall strategy re: binning continuous variables\n",
    "\n",
    "We're going to be creating bins or splines that divide our predictive variables into segments. In the most extreme case, we could have dummy variables for every possible value: ```birthyear1870, birthyear1871,``` and so on. But we will also be trying larger bins. \n",
    "\n",
    "In dividing up the range of these variables, we confront the problem that two of the variables are long-tailed.\n",
    "\n",
    "It's not a huge problem with ```firstpub,``` which is not uniform, but also not long-tailed."
   ]
  },
  {
   "cell_type": "code",
   "execution_count": 8,
   "id": "stock-mailman",
   "metadata": {},
   "outputs": [
    {
     "data": {
      "text/plain": [
       "<AxesSubplot:xlabel='firstpub', ylabel='Count'>"
      ]
     },
     "execution_count": 8,
     "metadata": {},
     "output_type": "execute_result"
    },
    {
     "data": {
      "image/png": "[encoded data removed]",
      "text/plain": [
       "<Figure size 432x288 with 1 Axes>"
      ]
     },
     "metadata": {
      "needs_background": "light"
     },
     "output_type": "display_data"
    }
   ],
   "source": [
    "sns.histplot(data.firstpub, bins = 32)"
   ]
  },
  {
   "cell_type": "markdown",
   "id": "unique-fields",
   "metadata": {},
   "source": [
    "But ```age``` and ```birthyear``` do have relatively significant tails. Bins sized to an equal number of years could easily overfit authors over the age of 75, or ones born before 1850."
   ]
  },
  {
   "cell_type": "code",
   "execution_count": 11,
   "id": "oriental-swimming",
   "metadata": {},
   "outputs": [
    {
     "data": {
      "image/png": "[encoded data removed]",
      "text/plain": [
       "<Figure size 864x360 with 2 Axes>"
      ]
     },
     "metadata": {
      "needs_background": "light"
     },
     "output_type": "display_data"
    }
   ],
   "source": [
    "f, (ax1, ax2) = plt.subplots(1, 2, sharey=True, figsize = (12,5))\n",
    "sns.histplot(data.authorage, bins = 32, ax = ax1)\n",
    "sns.histplot(data.birthyear, bins = 32, ax = ax2)\n",
    "plt.show()"
   ]
  },
  {
   "cell_type": "code",
   "execution_count": 13,
   "id": "organic-frame",
   "metadata": {},
   "outputs": [
    {
     "name": "stdout",
     "output_type": "stream",
     "text": [
      "birthyear\n",
      "firstpub\n",
      "authorage\n"
     ]
    }
   ],
   "source": [
    "authorsperspan = dict()\n",
    "predictornames = ['birthyear', 'firstpub', 'authorage']\n",
    "for pn in predictornames:\n",
    "    print(pn)\n",
    "    authorsperspan[pn] = dict()\n",
    "    for span in range(1, 61):\n",
    "        mincol = int(min(data.loc[ : , pn]))\n",
    "        maxcol = int(max(data.loc[ : , pn]))\n",
    "        authcts = []\n",
    "        for t in range(mincol, maxcol):\n",
    "            authct = len(set(data.loc[(data[pn] >= t) & (data[pn] < t + span), 'hathi_author'].tolist()))\n",
    "            authcts.append(authct)\n",
    "        authorsperspan[pn][span] = np.mean(authcts)"
   ]
  },
  {
   "cell_type": "markdown",
   "id": "about-partition",
   "metadata": {},
   "source": [
    "## The binning function\n",
    "\n",
    "Here's the function we use to divide a variable range into bins or splines."
   ]
  },
  {
   "cell_type": "code",
   "execution_count": 29,
   "id": "solid-title",
   "metadata": {},
   "outputs": [],
   "source": [
    "def divide_range(data, colname, granularity, degree, minauthor_rule = True):\n",
    "    \n",
    "    '''\n",
    "    Makes a dummy dataframe by dividing variable 'colname' with a given\n",
    "    'granularity,' except that we also follow a rule that no dummy variable\n",
    "    can cover fewer than ten authors, or less than half the average number\n",
    "    for that span across the timeline.\n",
    "    \n",
    "    So the granularity will stretch in sparse parts of the timeline.\n",
    "    \n",
    "    There is also a parameter \"degree\" that allows us to specify whether\n",
    "    we want each bin to behave simply as a step function in regression,\n",
    "    or whether we want them to behave as crude linear (or quadratic) splines.\n",
    "    \n",
    "    degree 0 = step function\n",
    "    degree 1 = linear interpolation\n",
    "    '''\n",
    "    \n",
    "    global authorsperspan\n",
    "    \n",
    "    mincol = int(min(data.loc[ : , colname]))\n",
    "    maxcol = int(max(data.loc[ : , colname])) + 1       # we set this one higher than the max so\n",
    "                                                        # that we can treat bins as floor-inclusive\n",
    "                                                        # and ceiling-exclusive, like Python ranges\n",
    "    \n",
    "    floor = mincol\n",
    "    floors = []\n",
    "    \n",
    "    if minauthor_rule:\n",
    "        minauthct = int(authorsperspan[colname][granularity] / 3)  # this guarantees minimum author count\n",
    "        if minauthct < 10:                                         # it cannot in any case be less than 10\n",
    "            minauthct = 10\n",
    "    else:\n",
    "        minauthct = 1\n",
    "    \n",
    "    while floor < maxcol:\n",
    "        nextfloor = floor + granularity\n",
    "        authcount = 0\n",
    "        while authcount < minauthct:\n",
    "            authcount = len(set(data.loc[(data[colname] >= floor) & (data[colname] < nextfloor), 'hathi_author'].tolist()))\n",
    "            if authcount < minauthct:\n",
    "                nextfloor += 1\n",
    "            if nextfloor > maxcol:\n",
    "                authcount = minauthct\n",
    "            remainingcount = len(set(data.loc[data[colname] >= nextfloor, 'hathi_author'].tolist()))\n",
    "            if remainingcount < minauthct:\n",
    "                nextfloor = maxcol\n",
    "        floors.append(floor)\n",
    "        floor = nextfloor\n",
    "    \n",
    "    if floors[-1] != maxcol:\n",
    "        floors.append(maxcol)\n",
    "\n",
    "    newdict = dict()\n",
    "    newdict['author'] = []\n",
    "    newdict['docid'] = []\n",
    "    columns = ['docid', 'author']\n",
    "    for f in floors[0 : ]:\n",
    "        \n",
    "        newdict['l' + str(f)] = []\n",
    "        columns.append('l' + str(f))  # the linear variable for this bin\n",
    "               \n",
    "    for idx, row in data.iterrows():\n",
    "        value = row[colname]\n",
    "        for idx, ceiling in enumerate(floors[1: ]):\n",
    "            if value < ceiling:\n",
    "                thisfloor = floors[idx]\n",
    "                \n",
    "                if degree == 0:\n",
    "                    floorprox = 1\n",
    "                    ceilprox = 0\n",
    "                    \n",
    "                    break\n",
    "                    \n",
    "                else:\n",
    "                    \n",
    "                    floorprox = ceiling - value \n",
    "                    ceilprox = value - thisfloor\n",
    "                    \n",
    "                    total = floorprox + ceilprox  \n",
    "                    floorprox = floorprox / total\n",
    "                    ceilprox = ceilprox / total\n",
    "\n",
    "                    break\n",
    "    \n",
    "        for f in floors[0 : ]:\n",
    "            if thisfloor == f:   \n",
    "                newdict['l' + str(f)].append(floorprox)\n",
    "                    \n",
    "            elif ceiling == f:\n",
    "                newdict['l' + str(f)].append(ceilprox)     # this will be zero if degree == 0\n",
    "                    \n",
    "            else:\n",
    "                newdict['l' + str(f)].append(0)\n",
    "        \n",
    "        newdict['author'].append(row.hathi_author)\n",
    "        newdict['docid'].append(row.docid)\n",
    "        \n",
    "    \n",
    "    df = pd.DataFrame(newdict)\n",
    "    df = df.loc[ : , columns]\n",
    "    \n",
    "    return df\n",
    "               "
   ]
  },
  {
   "cell_type": "markdown",
   "id": "stuck-alignment",
   "metadata": {},
   "source": [
    "#### What is the effect of the minimum author rule?\n",
    "\n",
    "Here are the bins we create without it."
   ]
  },
  {
   "cell_type": "code",
   "execution_count": 30,
   "id": "accompanied-passenger",
   "metadata": {},
   "outputs": [],
   "source": [
    "def show_bin_floors(df):    \n",
    "    bin_floors = []\n",
    "    vols_in_bin = []\n",
    "    for column in df.columns:\n",
    "        if not column.startswith('l'):\n",
    "            continue\n",
    "        else:\n",
    "            volct = sum(df[column])\n",
    "            if volct > 0:             # if degree is zero the final bin will be empty\n",
    "                bin_floors.append(int(column[1:]))\n",
    "                vols_in_bin.append(volct)\n",
    "    print(len(bin_floors), 'bins.')\n",
    "    sns.scatterplot(x = bin_floors, y = vols_in_bin)\n",
    "    plt.ylim(0, max(vols_in_bin)+ 10)\n",
    "    plt.show()"
   ]
  },
  {
   "cell_type": "code",
   "execution_count": 31,
   "id": "medieval-newspaper",
   "metadata": {},
   "outputs": [
    {
     "name": "stdout",
     "output_type": "stream",
     "text": [
      "137 bins.\n"
     ]
    },
    {
     "data": {
      "image/png": "[encoded data removed]",
      "text/plain": [
       "<Figure size 432x288 with 1 Axes>"
      ]
     },
     "metadata": {
      "needs_background": "light"
     },
     "output_type": "display_data"
    }
   ],
   "source": [
    "df = divide_range(data, 'birthyear', granularity = 1, \n",
    "                  degree = 0, minauthor_rule = False)\n",
    "show_bin_floors(df)"
   ]
  },
  {
   "cell_type": "code",
   "execution_count": 32,
   "id": "informal-family",
   "metadata": {},
   "outputs": [
    {
     "name": "stdout",
     "output_type": "stream",
     "text": [
      "86 bins.\n"
     ]
    },
    {
     "data": {
      "image/png": "[encoded data removed]",
      "text/plain": [
       "<Figure size 432x288 with 1 Axes>"
      ]
     },
     "metadata": {
      "needs_background": "light"
     },
     "output_type": "display_data"
    }
   ],
   "source": [
    "df = divide_range(data, 'birthyear', granularity = 1, \n",
    "                  degree = 0, minauthor_rule = True)\n",
    "show_bin_floors(df)"
   ]
  },
  {
   "cell_type": "code",
   "execution_count": 33,
   "id": "artistic-finder",
   "metadata": {},
   "outputs": [
    {
     "name": "stdout",
     "output_type": "stream",
     "text": [
      "13 bins.\n"
     ]
    },
    {
     "data": {
      "image/png": "[encoded data removed]",
      "text/plain": [
       "<Figure size 432x288 with 1 Axes>"
      ]
     },
     "metadata": {
      "needs_background": "light"
     },
     "output_type": "display_data"
    }
   ],
   "source": [
    "df = divide_range(data, 'birthyear', granularity = 10, \n",
    "                  degree = 0, minauthor_rule = True)\n",
    "show_bin_floors(df)"
   ]
  },
  {
   "cell_type": "code",
   "execution_count": 34,
   "id": "hydraulic-cardiff",
   "metadata": {},
   "outputs": [
    {
     "data": {
      "text/html": [
       "<div>\n",
       "<style scoped>\n",
       "    .dataframe tbody tr th:only-of-type {\n",
       "        vertical-align: middle;\n",
       "    }\n",
       "\n",
       "    .dataframe tbody tr th {\n",
       "        vertical-align: top;\n",
       "    }\n",
       "\n",
       "    .dataframe thead th {\n",
       "        text-align: right;\n",
       "    }\n",
       "</style>\n",
       "<table border=\"1\" class=\"dataframe\">\n",
       "  <thead>\n",
       "    <tr style=\"text-align: right;\">\n",
       "      <th></th>\n",
       "      <th>docid</th>\n",
       "      <th>author</th>\n",
       "      <th>l1809</th>\n",
       "      <th>l1839</th>\n",
       "      <th>l1849</th>\n",
       "      <th>l1859</th>\n",
       "      <th>l1869</th>\n",
       "      <th>l1879</th>\n",
       "      <th>l1889</th>\n",
       "      <th>l1899</th>\n",
       "      <th>l1909</th>\n",
       "      <th>l1919</th>\n",
       "      <th>l1929</th>\n",
       "      <th>l1939</th>\n",
       "      <th>l1949</th>\n",
       "      <th>l1963</th>\n",
       "    </tr>\n",
       "  </thead>\n",
       "  <tbody>\n",
       "    <tr>\n",
       "      <th>0</th>\n",
       "      <td>uc1.32106005212219</td>\n",
       "      <td>Petry, Ann Lane</td>\n",
       "      <td>0</td>\n",
       "      <td>0</td>\n",
       "      <td>0</td>\n",
       "      <td>0</td>\n",
       "      <td>0</td>\n",
       "      <td>0</td>\n",
       "      <td>0</td>\n",
       "      <td>1</td>\n",
       "      <td>0</td>\n",
       "      <td>0</td>\n",
       "      <td>0</td>\n",
       "      <td>0</td>\n",
       "      <td>0</td>\n",
       "      <td>0</td>\n",
       "    </tr>\n",
       "    <tr>\n",
       "      <th>1</th>\n",
       "      <td>mdp.39015063937406</td>\n",
       "      <td>Moore, John Trotwood</td>\n",
       "      <td>0</td>\n",
       "      <td>0</td>\n",
       "      <td>1</td>\n",
       "      <td>0</td>\n",
       "      <td>0</td>\n",
       "      <td>0</td>\n",
       "      <td>0</td>\n",
       "      <td>0</td>\n",
       "      <td>0</td>\n",
       "      <td>0</td>\n",
       "      <td>0</td>\n",
       "      <td>0</td>\n",
       "      <td>0</td>\n",
       "      <td>0</td>\n",
       "    </tr>\n",
       "    <tr>\n",
       "      <th>2</th>\n",
       "      <td>uc1.$b100730</td>\n",
       "      <td>Frank, Waldo David</td>\n",
       "      <td>0</td>\n",
       "      <td>0</td>\n",
       "      <td>0</td>\n",
       "      <td>0</td>\n",
       "      <td>0</td>\n",
       "      <td>0</td>\n",
       "      <td>1</td>\n",
       "      <td>0</td>\n",
       "      <td>0</td>\n",
       "      <td>0</td>\n",
       "      <td>0</td>\n",
       "      <td>0</td>\n",
       "      <td>0</td>\n",
       "      <td>0</td>\n",
       "    </tr>\n",
       "    <tr>\n",
       "      <th>3</th>\n",
       "      <td>mdp.39015003629410</td>\n",
       "      <td>Zelazny, Roger</td>\n",
       "      <td>0</td>\n",
       "      <td>0</td>\n",
       "      <td>0</td>\n",
       "      <td>0</td>\n",
       "      <td>0</td>\n",
       "      <td>0</td>\n",
       "      <td>0</td>\n",
       "      <td>0</td>\n",
       "      <td>0</td>\n",
       "      <td>0</td>\n",
       "      <td>1</td>\n",
       "      <td>0</td>\n",
       "      <td>0</td>\n",
       "      <td>0</td>\n",
       "    </tr>\n",
       "    <tr>\n",
       "      <th>4</th>\n",
       "      <td>nyp.33433076053804</td>\n",
       "      <td>Rinehart, Mary Roberts</td>\n",
       "      <td>0</td>\n",
       "      <td>0</td>\n",
       "      <td>0</td>\n",
       "      <td>0</td>\n",
       "      <td>1</td>\n",
       "      <td>0</td>\n",
       "      <td>0</td>\n",
       "      <td>0</td>\n",
       "      <td>0</td>\n",
       "      <td>0</td>\n",
       "      <td>0</td>\n",
       "      <td>0</td>\n",
       "      <td>0</td>\n",
       "      <td>0</td>\n",
       "    </tr>\n",
       "  </tbody>\n",
       "</table>\n",
       "</div>"
      ],
      "text/plain": [
       "                docid                  author  l1809  l1839  l1849  l1859  \\\n",
       "0  uc1.32106005212219         Petry, Ann Lane      0      0      0      0   \n",
       "1  mdp.39015063937406    Moore, John Trotwood      0      0      1      0   \n",
       "2        uc1.$b100730      Frank, Waldo David      0      0      0      0   \n",
       "3  mdp.39015003629410          Zelazny, Roger      0      0      0      0   \n",
       "4  nyp.33433076053804  Rinehart, Mary Roberts      0      0      0      0   \n",
       "\n",
       "   l1869  l1879  l1889  l1899  l1909  l1919  l1929  l1939  l1949  l1963  \n",
       "0      0      0      0      1      0      0      0      0      0      0  \n",
       "1      0      0      0      0      0      0      0      0      0      0  \n",
       "2      0      0      1      0      0      0      0      0      0      0  \n",
       "3      0      0      0      0      0      0      1      0      0      0  \n",
       "4      1      0      0      0      0      0      0      0      0      0  "
      ]
     },
     "execution_count": 34,
     "metadata": {},
     "output_type": "execute_result"
    }
   ],
   "source": [
    "# What this actually looks like\n",
    "\n",
    "df.head()"
   ]
  },
  {
   "cell_type": "markdown",
   "id": "aggregate-coupon",
   "metadata": {},
   "source": [
    "### Precomputing the bins\n",
    "\n",
    "The function that computes binwidths and produces dummy variables is relatively slow, so there's some advantage to doing this in advance and then reusing the data frames."
   ]
  },
  {
   "cell_type": "code",
   "execution_count": 36,
   "id": "beneficial-arrangement",
   "metadata": {},
   "outputs": [],
   "source": [
    "degree0frames = dict()\n",
    "\n",
    "granularity_options = [1, 2, 3, 4, 5, 7, 9, 11, 13, 15, 17, 21, 25, 29, 35, 40, 45, 50]\n",
    "\n",
    "for pn in ['birthyear', 'firstpub', 'authorage']:\n",
    "    degree0frames[pn] = dict()\n",
    "    for span in granularity_options:\n",
    "        df = divide_range(data, pn, granularity = span, degree = 0)\n",
    "        degree0frames[pn][span] = df"
   ]
  },
  {
   "cell_type": "markdown",
   "id": "blond-species",
   "metadata": {},
   "source": [
    "If we wanted to use linear interpolation we could do that using degree 1."
   ]
  },
  {
   "cell_type": "code",
   "execution_count": 41,
   "id": "satisfactory-neighbor",
   "metadata": {},
   "outputs": [],
   "source": [
    "degree1frames = dict()\n",
    "\n",
    "granularity_options = [1, 2, 3, 4, 5, 7, 9, 11, 13, 17, 21, 30, 40, 50]\n",
    "\n",
    "for pn in ['birthyear', 'firstpub', 'authorage']:\n",
    "    degree1frames[pn] = dict()\n",
    "    for span in granularity_options:\n",
    "        df = divide_range(data, pn, granularity = span, degree = 1)\n",
    "        degree1frames[pn][span] = df"
   ]
  },
  {
   "cell_type": "markdown",
   "id": "bright-married",
   "metadata": {},
   "source": [
    "### What sorts of fits can these bins produce?\n",
    "\n",
    "Let's start by looking at degree zero options."
   ]
  },
  {
   "cell_type": "code",
   "execution_count": 66,
   "id": "maritime-rates",
   "metadata": {},
   "outputs": [
    {
     "data": {
      "image/png": "[encoded data removed]",
      "text/plain": [
       "<Figure size 576x432 with 1 Axes>"
      ]
     },
     "metadata": {
      "needs_background": "light"
     },
     "output_type": "display_data"
    }
   ],
   "source": [
    "def showfit(framestouse, predictive_variable, topic, granularity):\n",
    "    ''' Uses a set of bins specified by a frame to fit predictive_variable to a given\n",
    "    topic, and then visualizes the predictions as a scatterplot against continuous values of the\n",
    "    predictive variable.\n",
    "    '''\n",
    "    \n",
    "    df = framestouse[predictive_variable][granularity]\n",
    "    X = df.iloc[ : , 3 : ]\n",
    "    y = data[topic].values\n",
    "    reg = LinearRegression().fit(X, y)\n",
    "    yhat = reg.predict(X)\n",
    "    yhat[yhat < 0] = 0  # prediction cannot be below zero\n",
    "    plt.figure(figsize = (8, 6))\n",
    "    sns.scatterplot(x = data[predictive_variable], y = yhat)\n",
    "    plt.show()\n",
    "\n",
    "showfit(degree0frames, 'firstpub', 'money', 1)"
   ]
  },
  {
   "cell_type": "markdown",
   "id": "integral-method",
   "metadata": {},
   "source": [
    "Mostly there are different predictions for each year. Only at the tails of the distribution, where volumes are scarce, is there actual binning happening.\n",
    "\n",
    "Compare:"
   ]
  },
  {
   "cell_type": "code",
   "execution_count": 67,
   "id": "similar-calgary",
   "metadata": {},
   "outputs": [
    {
     "data": {
      "image/png": "[encoded data removed]",
      "text/plain": [
       "<Figure size 576x432 with 1 Axes>"
      ]
     },
     "metadata": {
      "needs_background": "light"
     },
     "output_type": "display_data"
    }
   ],
   "source": [
    "showfit(degree0frames, 'firstpub', 'money', 11)"
   ]
  },
  {
   "cell_type": "markdown",
   "id": "everyday-madrid",
   "metadata": {},
   "source": [
    "We could also do linear interpolation if we wanted."
   ]
  },
  {
   "cell_type": "code",
   "execution_count": 68,
   "id": "dominant-memory",
   "metadata": {},
   "outputs": [
    {
     "data": {
      "image/png": "[encoded data removed]",
      "text/plain": [
       "<Figure size 576x432 with 1 Axes>"
      ]
     },
     "metadata": {
      "needs_background": "light"
     },
     "output_type": "display_data"
    }
   ],
   "source": [
    "showfit(degree1frames, 'firstpub', 'money', 17)"
   ]
  },
  {
   "cell_type": "code",
   "execution_count": 47,
   "id": "psychological-candle",
   "metadata": {},
   "outputs": [
    {
     "data": {
      "text/html": [
       "<div>\n",
       "<style scoped>\n",
       "    .dataframe tbody tr th:only-of-type {\n",
       "        vertical-align: middle;\n",
       "    }\n",
       "\n",
       "    .dataframe tbody tr th {\n",
       "        vertical-align: top;\n",
       "    }\n",
       "\n",
       "    .dataframe thead th {\n",
       "        text-align: right;\n",
       "    }\n",
       "</style>\n",
       "<table border=\"1\" class=\"dataframe\">\n",
       "  <thead>\n",
       "    <tr style=\"text-align: right;\">\n",
       "      <th></th>\n",
       "      <th>docid</th>\n",
       "      <th>author</th>\n",
       "      <th>l1809</th>\n",
       "      <th>l1845</th>\n",
       "      <th>l1862</th>\n",
       "      <th>l1879</th>\n",
       "      <th>l1896</th>\n",
       "      <th>l1913</th>\n",
       "      <th>l1930</th>\n",
       "      <th>l1947</th>\n",
       "      <th>l1963</th>\n",
       "    </tr>\n",
       "  </thead>\n",
       "  <tbody>\n",
       "    <tr>\n",
       "      <th>0</th>\n",
       "      <td>uc1.32106005212219</td>\n",
       "      <td>Petry, Ann Lane</td>\n",
       "      <td>0.0</td>\n",
       "      <td>0.000000</td>\n",
       "      <td>0.000000</td>\n",
       "      <td>0.000000</td>\n",
       "      <td>0.294118</td>\n",
       "      <td>0.705882</td>\n",
       "      <td>0.000000</td>\n",
       "      <td>0.000000</td>\n",
       "      <td>0.0</td>\n",
       "    </tr>\n",
       "    <tr>\n",
       "      <th>1</th>\n",
       "      <td>mdp.39015063937406</td>\n",
       "      <td>Moore, John Trotwood</td>\n",
       "      <td>0.0</td>\n",
       "      <td>0.235294</td>\n",
       "      <td>0.764706</td>\n",
       "      <td>0.000000</td>\n",
       "      <td>0.000000</td>\n",
       "      <td>0.000000</td>\n",
       "      <td>0.000000</td>\n",
       "      <td>0.000000</td>\n",
       "      <td>0.0</td>\n",
       "    </tr>\n",
       "    <tr>\n",
       "      <th>2</th>\n",
       "      <td>uc1.$b100730</td>\n",
       "      <td>Frank, Waldo David</td>\n",
       "      <td>0.0</td>\n",
       "      <td>0.000000</td>\n",
       "      <td>0.000000</td>\n",
       "      <td>0.411765</td>\n",
       "      <td>0.588235</td>\n",
       "      <td>0.000000</td>\n",
       "      <td>0.000000</td>\n",
       "      <td>0.000000</td>\n",
       "      <td>0.0</td>\n",
       "    </tr>\n",
       "    <tr>\n",
       "      <th>3</th>\n",
       "      <td>mdp.39015003629410</td>\n",
       "      <td>Zelazny, Roger</td>\n",
       "      <td>0.0</td>\n",
       "      <td>0.000000</td>\n",
       "      <td>0.000000</td>\n",
       "      <td>0.000000</td>\n",
       "      <td>0.000000</td>\n",
       "      <td>0.000000</td>\n",
       "      <td>0.588235</td>\n",
       "      <td>0.411765</td>\n",
       "      <td>0.0</td>\n",
       "    </tr>\n",
       "    <tr>\n",
       "      <th>4</th>\n",
       "      <td>nyp.33433076053804</td>\n",
       "      <td>Rinehart, Mary Roberts</td>\n",
       "      <td>0.0</td>\n",
       "      <td>0.000000</td>\n",
       "      <td>0.176471</td>\n",
       "      <td>0.823529</td>\n",
       "      <td>0.000000</td>\n",
       "      <td>0.000000</td>\n",
       "      <td>0.000000</td>\n",
       "      <td>0.000000</td>\n",
       "      <td>0.0</td>\n",
       "    </tr>\n",
       "  </tbody>\n",
       "</table>\n",
       "</div>"
      ],
      "text/plain": [
       "                docid                  author  l1809     l1845     l1862  \\\n",
       "0  uc1.32106005212219         Petry, Ann Lane    0.0  0.000000  0.000000   \n",
       "1  mdp.39015063937406    Moore, John Trotwood    0.0  0.235294  0.764706   \n",
       "2        uc1.$b100730      Frank, Waldo David    0.0  0.000000  0.000000   \n",
       "3  mdp.39015003629410          Zelazny, Roger    0.0  0.000000  0.000000   \n",
       "4  nyp.33433076053804  Rinehart, Mary Roberts    0.0  0.000000  0.176471   \n",
       "\n",
       "      l1879     l1896     l1913     l1930     l1947  l1963  \n",
       "0  0.000000  0.294118  0.705882  0.000000  0.000000    0.0  \n",
       "1  0.000000  0.000000  0.000000  0.000000  0.000000    0.0  \n",
       "2  0.411765  0.588235  0.000000  0.000000  0.000000    0.0  \n",
       "3  0.000000  0.000000  0.000000  0.588235  0.411765    0.0  \n",
       "4  0.823529  0.000000  0.000000  0.000000  0.000000    0.0  "
      ]
     },
     "execution_count": 47,
     "metadata": {},
     "output_type": "execute_result"
    }
   ],
   "source": [
    "# How that works.\n",
    "degree1frames['birthyear'][17].head()"
   ]
  },
  {
   "cell_type": "markdown",
   "id": "adequate-linux",
   "metadata": {},
   "source": [
    "### Cross-validate to find the granularity that produces best out-of-sample accuracy.\n",
    "\n",
    "The function below takes a set of frames with a given \"degree\" and iterates through them to find the best fit for each predictive variable.\n",
    "\n",
    "It does this with a five-fold cross-validation, so we are always testing *out* of sample. Moreover, we stratify the dataset by author, so that we aren't overfitting the data by recognizing that particular authors tend to have a high or low level of a particular LIWC variable. We always test on unseen authors.\n",
    "\n",
    "What level of granularity will produce the best result (lowest mean squared error) under these rigorous test conditions?"
   ]
  },
  {
   "cell_type": "code",
   "execution_count": 79,
   "id": "growing-infection",
   "metadata": {},
   "outputs": [],
   "source": [
    "def make_predictors(data, dependentname, framestouse):\n",
    "    \n",
    "    predictornames = ['birthyear', 'firstpub', 'authorage']\n",
    "    \n",
    "    authors = list(set(data.hathi_author.tolist()))\n",
    "    random.shuffle(authors)\n",
    "    fivetestsets = np.array_split(authors, 5)\n",
    "    \n",
    "    newcolumns = dict()\n",
    "\n",
    "    granularities = dict()\n",
    "    \n",
    "    meansquarederrors = dict()\n",
    "    \n",
    "    for pn in predictornames:        \n",
    "        minimumerror = 900000000000000\n",
    "        bestgran = 500\n",
    "        \n",
    "        granularity_options = list(framestouse[pn].keys())\n",
    "        \n",
    "        meansquarederrors[pn] = []\n",
    "        bestcrossval = []\n",
    "        \n",
    "        for granularity in granularity_options:\n",
    "            df = framestouse[pn][granularity].copy()\n",
    "            df['newindex'] = data.index.copy()\n",
    "            df.set_index('newindex', inplace = True)\n",
    "            columnorder = [dependentname]\n",
    "            columnorder.extend(df.columns.tolist())\n",
    "            df[dependentname] = data[dependentname].values\n",
    "            df = df.loc[ : , columnorder]\n",
    "            \n",
    "            error = 0\n",
    "            crossvalidatedpredicts = pd.Series(dtype = 'float64')\n",
    "            \n",
    "            for testauths in fivetestsets:\n",
    "                trainset = df.loc[~df.author.isin(testauths), : ]\n",
    "                testset = df.loc[df.author.isin(testauths), : ]\n",
    "\n",
    "                X = trainset.iloc[ : , 3 : ]\n",
    "                y = trainset.iloc[ : , 0]\n",
    "\n",
    "                reg = LinearRegression().fit(X, y)\n",
    "\n",
    "                testX = testset.iloc[ : , 3 : ]\n",
    "                testy = testset.iloc[ : , 0]\n",
    "\n",
    "                yhat = reg.predict(testX)\n",
    "                yhat[yhat < 0] = 0  # prediction cannot be below zero\n",
    "\n",
    "                for actual, predicted in zip(testy, yhat):\n",
    "                    error += (actual - predicted) ** 2\n",
    "                \n",
    "                crossvalidatedpredicts = pd.concat([crossvalidatedpredicts, pd.Series(yhat, index = testset.index)])\n",
    "            \n",
    "            if error < minimumerror:\n",
    "                minimumerror = error\n",
    "                bestgran = granularity\n",
    "                bestcrossval = crossvalidatedpredicts\n",
    "            \n",
    "            meansquarederrors[pn].append((granularity, error / len(data)))\n",
    "\n",
    "        granularities[pn] = bestgran\n",
    "        \n",
    "        newcolumns['yhat_based_on_' + pn] = bestcrossval\n",
    "    \n",
    "    newcolumns['yval'] = data[dependentname]\n",
    "    \n",
    "    return pd.DataFrame(newcolumns), granularities, meansquarederrors   "
   ]
  },
  {
   "cell_type": "code",
   "execution_count": 59,
   "id": "outdoor-position",
   "metadata": {},
   "outputs": [
    {
     "name": "stdout",
     "output_type": "stream",
     "text": [
      "{'birthyear': 29, 'firstpub': 5, 'authorage': 17}\n"
     ]
    }
   ],
   "source": [
    "predictdf, granularities, meansquarederrors = make_predictors(data, 'money', degree0frames)\n",
    "print(granularities)"
   ]
  },
  {
   "cell_type": "markdown",
   "id": "clean-asbestos",
   "metadata": {},
   "source": [
    "Wow, actually it turns out that a fairly coarse granularity is optimal here.\n",
    "\n",
    "This is the best cross-validated fit to birthyear:"
   ]
  },
  {
   "cell_type": "code",
   "execution_count": 61,
   "id": "ideal-establishment",
   "metadata": {},
   "outputs": [],
   "source": [
    "predictdf['birthyear'] = data.birthyear.values"
   ]
  },
  {
   "cell_type": "code",
   "execution_count": 62,
   "id": "under-broadway",
   "metadata": {},
   "outputs": [
    {
     "data": {
      "text/plain": [
       "<AxesSubplot:xlabel='birthyear', ylabel='yhat_based_on_birthyear'>"
      ]
     },
     "execution_count": 62,
     "metadata": {},
     "output_type": "execute_result"
    },
    {
     "data": {
      "image/png": "[encoded data removed]",
      "text/plain": [
       "<Figure size 432x288 with 1 Axes>"
      ]
     },
     "metadata": {
      "needs_background": "light"
     },
     "output_type": "display_data"
    }
   ],
   "source": [
    "sns.scatterplot(data = predictdf, x = 'birthyear', y = 'yhat_based_on_birthyear')"
   ]
  },
  {
   "cell_type": "markdown",
   "id": "adopted-allergy",
   "metadata": {},
   "source": [
    "Why was that coarse model optimal?"
   ]
  },
  {
   "cell_type": "code",
   "execution_count": 64,
   "id": "suited-lounge",
   "metadata": {},
   "outputs": [
    {
     "data": {
      "image/png": "[encoded data removed]",
      "text/plain": [
       "<Figure size 432x288 with 1 Axes>"
      ]
     },
     "metadata": {
      "needs_background": "light"
     },
     "output_type": "display_data"
    }
   ],
   "source": [
    "granular = [x[0] for x in meansquarederrors['birthyear']]\n",
    "mse = [x[1] for x in meansquarederrors['birthyear']]\n",
    "sns.lineplot(x = granular, y = mse)\n",
    "plt.title('Mean squared error at different granularities.')\n",
    "plt.show()"
   ]
  },
  {
   "cell_type": "markdown",
   "id": "classified-burlington",
   "metadata": {},
   "source": [
    "Here's the model for firstpub:"
   ]
  },
  {
   "cell_type": "code",
   "execution_count": 63,
   "id": "happy-practice",
   "metadata": {},
   "outputs": [
    {
     "data": {
      "text/plain": [
       "<AxesSubplot:xlabel='firstpub', ylabel='yhat_based_on_firstpub'>"
      ]
     },
     "execution_count": 63,
     "metadata": {},
     "output_type": "execute_result"
    },
    {
     "data": {
      "image/png": "[encoded data removed]",
      "text/plain": [
       "<Figure size 432x288 with 1 Axes>"
      ]
     },
     "metadata": {
      "needs_background": "light"
     },
     "output_type": "display_data"
    }
   ],
   "source": [
    "predictdf['firstpub'] = data.firstpub.values\n",
    "sns.scatterplot(data = predictdf, x = 'firstpub', y = 'yhat_based_on_firstpub')"
   ]
  },
  {
   "cell_type": "markdown",
   "id": "separated-genius",
   "metadata": {},
   "source": [
    "And the error plot."
   ]
  },
  {
   "cell_type": "code",
   "execution_count": 65,
   "id": "smart-context",
   "metadata": {},
   "outputs": [
    {
     "data": {
      "image/png": "[encoded data removed]",
      "text/plain": [
       "<Figure size 432x288 with 1 Axes>"
      ]
     },
     "metadata": {
      "needs_background": "light"
     },
     "output_type": "display_data"
    }
   ],
   "source": [
    "granular = [x[0] for x in meansquarederrors['firstpub']]\n",
    "mse = [x[1] for x in meansquarederrors['firstpub']]\n",
    "sns.lineplot(x = granular, y = mse)\n",
    "plt.title('Mean squared error at different granularities.')\n",
    "plt.show()"
   ]
  },
  {
   "cell_type": "markdown",
   "id": "interracial-harbor",
   "metadata": {},
   "source": [
    "Even when a relatively fine-grained (5-year) model is preferable, as in the case of firstpub, the error is always higher at 1-yr granularity. It's too easy to overfit to particular years where there happen to be books published/author births strongly associated with \"money.\""
   ]
  },
  {
   "cell_type": "markdown",
   "id": "earlier-atlantic",
   "metadata": {},
   "source": [
    "## First estimate of delta, degree 0, cross-validate to select best granularity"
   ]
  },
  {
   "cell_type": "code",
   "execution_count": 80,
   "id": "hazardous-italic",
   "metadata": {},
   "outputs": [
    {
     "name": "stdout",
     "output_type": "stream",
     "text": [
      "Analytic {'birthyear': 40, 'firstpub': 45, 'authorage': 17}\n",
      "0.6012 0.02058\n",
      "Clout {'birthyear': 29, 'firstpub': 9, 'authorage': 45}\n",
      "0.3228 0.01149\n",
      "Authentic {'birthyear': 29, 'firstpub': 7, 'authorage': 13}\n",
      "0.3954 0.02063\n",
      "Tone {'birthyear': 11, 'firstpub': 9, 'authorage': 4}\n",
      "0.6229 0.13425\n",
      "WPS {'birthyear': 9, 'firstpub': 40, 'authorage': 40}\n",
      "0.8148 0.00487\n",
      "Sixltr {'birthyear': 35, 'firstpub': 11, 'authorage': 21}\n",
      "0.2362 0.01624\n",
      "Dic {'birthyear': 21, 'firstpub': 13, 'authorage': 35}\n",
      "0.2875 0.02209\n",
      "function {'birthyear': 50, 'firstpub': 25, 'authorage': 13}\n",
      "0.249 0.00952\n",
      "pronoun {'birthyear': 45, 'firstpub': 25, 'authorage': 45}\n",
      "0.2234 0.0058\n",
      "ppron {'birthyear': 50, 'firstpub': 25, 'authorage': 45}\n",
      "0.0968 0.004\n",
      "i {'birthyear': 17, 'firstpub': 9, 'authorage': 50}\n",
      "0.5109 0.03749\n",
      "we {'birthyear': 11, 'firstpub': 15, 'authorage': 21}\n",
      "0.4344 0.01354\n",
      "you {'birthyear': 29, 'firstpub': 40, 'authorage': 35}\n",
      "0.987 0.00459\n",
      "shehe {'birthyear': 29, 'firstpub': 25, 'authorage': 50}\n",
      "0.0917 0.01536\n",
      "they {'birthyear': 29, 'firstpub': 9, 'authorage': 13}\n",
      "0.3315 0.015\n",
      "ipron {'birthyear': 11, 'firstpub': 13, 'authorage': 11}\n",
      "0.8107 0.0255\n",
      "article {'birthyear': 17, 'firstpub': 21, 'authorage': 50}\n",
      "0.5164 0.02586\n",
      "prep {'birthyear': 21, 'firstpub': 15, 'authorage': 3}\n",
      "0.7157 0.05186\n",
      "auxverb {'birthyear': 40, 'firstpub': 17, 'authorage': 7}\n",
      "0.9372 0.05594\n",
      "adverb {'birthyear': 21, 'firstpub': 11, 'authorage': 7}\n",
      "0.3247 0.04022\n",
      "conj {'birthyear': 40, 'firstpub': 9, 'authorage': 7}\n",
      "0.2976 0.02198\n",
      "negate {'birthyear': 29, 'firstpub': 15, 'authorage': 11}\n",
      "0.6478 0.0324\n",
      "verb {'birthyear': 35, 'firstpub': 13, 'authorage': 35}\n",
      "0.3646 0.05329\n",
      "adj {'birthyear': 45, 'firstpub': 21, 'authorage': 21}\n",
      "0.656 0.02602\n",
      "compare {'birthyear': 50, 'firstpub': 45, 'authorage': 21}\n",
      "0.9913 0.0055\n",
      "interrog {'birthyear': 29, 'firstpub': 17, 'authorage': 11}\n",
      "0.745 0.03413\n",
      "number {'birthyear': 15, 'firstpub': 50, 'authorage': 50}\n",
      "0.9034 0.02269\n",
      "quant {'birthyear': 50, 'firstpub': 11, 'authorage': 21}\n",
      "0.6522 0.03888\n",
      "affect {'birthyear': 9, 'firstpub': 5, 'authorage': 17}\n",
      "0.5001 0.11317\n",
      "posemo {'birthyear': 11, 'firstpub': 13, 'authorage': 21}\n",
      "0.5502 0.16605\n",
      "negemo {'birthyear': 17, 'firstpub': 45, 'authorage': 7}\n",
      "0.2862 0.01941\n",
      "anx {'birthyear': 40, 'firstpub': 45, 'authorage': 15}\n",
      "0.205 0.01519\n",
      "anger {'birthyear': 21, 'firstpub': 35, 'authorage': 5}\n",
      "0.5909 0.04104\n",
      "sad {'birthyear': 29, 'firstpub': 9, 'authorage': 35}\n",
      "0.3549 0.09947\n",
      "social {'birthyear': 29, 'firstpub': 35, 'authorage': 2}\n",
      "0.2496 0.00891\n",
      "family {'birthyear': 50, 'firstpub': 13, 'authorage': 15}\n",
      "0.3748 0.01065\n",
      "friend {'birthyear': 15, 'firstpub': 13, 'authorage': 11}\n",
      "0.5512 0.11306\n",
      "female {'birthyear': 21, 'firstpub': 15, 'authorage': 25}\n",
      "0.2756 0.01517\n",
      "male {'birthyear': 13, 'firstpub': 13, 'authorage': 21}\n",
      "0.5032 0.01513\n",
      "cogproc {'birthyear': 50, 'firstpub': 29, 'authorage': 17}\n",
      "0.5295 0.02821\n",
      "insight {'birthyear': 50, 'firstpub': 29, 'authorage': 21}\n",
      "0.0881 0.00818\n",
      "cause {'birthyear': 29, 'firstpub': 9, 'authorage': 9}\n",
      "0.4174 0.03672\n",
      "discrep {'birthyear': 45, 'firstpub': 11, 'authorage': 13}\n",
      "0.0795 0.02974\n",
      "tentat {'birthyear': 40, 'firstpub': 50, 'authorage': 17}\n",
      "0.3683 0.03207\n",
      "certain {'birthyear': 35, 'firstpub': 40, 'authorage': 17}\n",
      "0.831 0.02136\n",
      "differ {'birthyear': 45, 'firstpub': 29, 'authorage': 29}\n",
      "0.6787 0.02362\n",
      "percept {'birthyear': 13, 'firstpub': 15, 'authorage': 4}\n",
      "0.6746 0.13637\n",
      "see {'birthyear': 29, 'firstpub': 15, 'authorage': 11}\n",
      "0.7985 0.04875\n",
      "hear {'birthyear': 13, 'firstpub': 5, 'authorage': 21}\n",
      "0.5956 0.10855\n",
      "feel {'birthyear': 29, 'firstpub': 21, 'authorage': 4}\n",
      "0.7256 0.10723\n",
      "bio {'birthyear': 25, 'firstpub': 11, 'authorage': 3}\n",
      "0.6886 0.1418\n",
      "body {'birthyear': 40, 'firstpub': 11, 'authorage': 5}\n",
      "0.7334 0.11601\n",
      "health {'birthyear': 25, 'firstpub': 11, 'authorage': 13}\n",
      "0.697 0.02415\n",
      "sexual {'birthyear': 21, 'firstpub': 5, 'authorage': 35}\n",
      "0.4084 0.10956\n",
      "ingest {'birthyear': 13, 'firstpub': 9, 'authorage': 9}\n",
      "0.584 0.08291\n",
      "drives {'birthyear': 21, 'firstpub': 15, 'authorage': 11}\n",
      "0.608 0.0293\n",
      "affiliation {'birthyear': 21, 'firstpub': 17, 'authorage': 5}\n",
      "0.7603 0.03012\n",
      "achieve {'birthyear': 21, 'firstpub': 7, 'authorage': 11}\n",
      "0.3239 0.02048\n",
      "power {'birthyear': 35, 'firstpub': 13, 'authorage': 35}\n",
      "0.1523 0.00867\n",
      "reward {'birthyear': 50, 'firstpub': 5, 'authorage': 45}\n",
      "0.3897 0.01551\n",
      "risk {'birthyear': 11, 'firstpub': 29, 'authorage': 11}\n",
      "0.6058 0.03876\n",
      "focuspast {'birthyear': 21, 'firstpub': 13, 'authorage': 50}\n",
      "0.4238 0.0625\n",
      "focuspresent {'birthyear': 21, 'firstpub': 15, 'authorage': 17}\n",
      "0.5065 0.01058\n",
      "focusfuture {'birthyear': 21, 'firstpub': 15, 'authorage': 7}\n",
      "0.5237 0.04535\n",
      "relativ {'birthyear': 29, 'firstpub': 15, 'authorage': 5}\n",
      "0.5657 0.03887\n",
      "motion {'birthyear': 29, 'firstpub': 21, 'authorage': 5}\n",
      "0.6319 0.02974\n",
      "space {'birthyear': 29, 'firstpub': 9, 'authorage': 17}\n",
      "0.6173 0.06231\n",
      "time {'birthyear': 25, 'firstpub': 17, 'authorage': 21}\n",
      "0.4383 0.00725\n",
      "work {'birthyear': 45, 'firstpub': 17, 'authorage': 17}\n",
      "0.2485 0.00979\n",
      "leisure {'birthyear': 13, 'firstpub': 11, 'authorage': 13}\n",
      "0.5476 0.07089\n",
      "home {'birthyear': 29, 'firstpub': 13, 'authorage': 11}\n",
      "0.4212 0.02695\n",
      "money {'birthyear': 29, 'firstpub': 5, 'authorage': 17}\n",
      "0.5024 0.01891\n",
      "relig {'birthyear': 45, 'firstpub': 5, 'authorage': 40}\n",
      "0.1688 0.00537\n",
      "death {'birthyear': 15, 'firstpub': 7, 'authorage': 21}\n",
      "0.345 0.01644\n",
      "informal {'birthyear': 35, 'firstpub': 11, 'authorage': 4}\n",
      "0.4465 0.01783\n",
      "swear {'birthyear': 17, 'firstpub': 5, 'authorage': 5}\n",
      "0.5449 0.21013\n",
      "netspeak {'birthyear': 25, 'firstpub': 17, 'authorage': 25}\n",
      "0.2238 0.01309\n",
      "assent {'birthyear': 11, 'firstpub': 11, 'authorage': 17}\n",
      "0.6338 0.01494\n",
      "nonflu {'birthyear': 7, 'firstpub': 25, 'authorage': 50}\n",
      "0.5166 0.02461\n",
      "filler {'birthyear': 21, 'firstpub': 13, 'authorage': 25}\n",
      "0.5456 0.07036\n"
     ]
    }
   ],
   "source": [
    "resultframe = dict()\n",
    "resultframe['LIWCcat'] = []\n",
    "resultframe['birthyear'] = []\n",
    "resultframe['firstpub'] = []\n",
    "resultframe['age'] = []\n",
    "resultframe['r2'] = []\n",
    "resultframe['delta'] = []\n",
    "resultframe['bygran'] = []\n",
    "resultframe['fpgran'] = []\n",
    "resultframe['agegran'] = []\n",
    "totalerror = 0\n",
    "\n",
    "for cat in data.columns.tolist()[9:]:\n",
    "    predictdf, granularities, meansquarederrors = make_predictors(data, cat, degree0frames)\n",
    "    X = predictdf.iloc[ : , 0:3]\n",
    "    y = predictdf.iloc[ : , 3]\n",
    "    \n",
    "    # Pingouin linear regression on the three yhats, in order to\n",
    "    # infer variable importance, which pingouin expresses by\n",
    "    # partitioning r2 across predictors.\n",
    "    \n",
    "    lm = pg.linear_regression(X, y, relimp = True)\n",
    "    lm.set_index('names', inplace = True)\n",
    "    \n",
    "    byweight = lm.loc['yhat_based_on_birthyear', 'relimp']\n",
    "    resultframe['birthyear'].append(byweight)\n",
    "    resultframe['LIWCcat'].append(cat)\n",
    "    fpweight = lm.loc['yhat_based_on_firstpub', 'relimp']\n",
    "    resultframe['firstpub'].append(fpweight)\n",
    "    resultframe['age'].append(lm.loc['yhat_based_on_authorage', 'relimp'])\n",
    "    resultframe['r2'].append(lm.loc['Intercept', 'r2'])\n",
    "    resultframe['delta'].append(byweight / (byweight + fpweight))\n",
    "    resultframe['bygran'].append(granularities['birthyear'])\n",
    "    resultframe['fpgran'].append(granularities['firstpub'])\n",
    "    resultframe['agegran'].append(granularities['authorage'])\n",
    "    print(cat, granularities)\n",
    "    print(round(byweight / (byweight + fpweight), 4), round(lm.loc['Intercept', 'r2'], 5))"
   ]
  },
  {
   "cell_type": "markdown",
   "id": "married-prevention",
   "metadata": {},
   "source": [
    "### Exploring the results\n",
    "\n",
    "Overall r2 is fairly low, but it can be much higher for some topics."
   ]
  },
  {
   "cell_type": "code",
   "execution_count": 81,
   "id": "accessory-newspaper",
   "metadata": {},
   "outputs": [
    {
     "data": {
      "text/plain": [
       "0.04176257002850373"
      ]
     },
     "execution_count": 81,
     "metadata": {},
     "output_type": "execute_result"
    }
   ],
   "source": [
    "result = pd.DataFrame(resultframe)\n",
    "np.mean(result.r2)"
   ]
  },
  {
   "cell_type": "code",
   "execution_count": 85,
   "id": "restricted-insider",
   "metadata": {},
   "outputs": [
    {
     "data": {
      "text/plain": [
       "<AxesSubplot:xlabel='r2'>"
      ]
     },
     "execution_count": 85,
     "metadata": {},
     "output_type": "execute_result"
    },
    {
     "data": {
      "image/png": "[encoded data removed]",
      "text/plain": [
       "<Figure size 432x288 with 1 Axes>"
      ]
     },
     "metadata": {
      "needs_background": "light"
     },
     "output_type": "display_data"
    }
   ],
   "source": [
    "sns.boxplot(x = result.r2)"
   ]
  },
  {
   "cell_type": "markdown",
   "id": "offensive-decade",
   "metadata": {},
   "source": [
    "## Overall estimate of delta\n",
    "\n",
    "The crudest way to estimate delta is just to average across all categories."
   ]
  },
  {
   "cell_type": "code",
   "execution_count": 82,
   "id": "annoying-australia",
   "metadata": {},
   "outputs": [
    {
     "data": {
      "text/plain": [
       "0.49750002884755773"
      ]
     },
     "execution_count": 82,
     "metadata": {},
     "output_type": "execute_result"
    }
   ],
   "source": [
    "np.mean(result.delta)"
   ]
  },
  {
   "cell_type": "code",
   "execution_count": 86,
   "id": "stupid-oakland",
   "metadata": {},
   "outputs": [
    {
     "data": {
      "text/plain": [
       "<AxesSubplot:xlabel='delta'>"
      ]
     },
     "execution_count": 86,
     "metadata": {},
     "output_type": "execute_result"
    },
    {
     "data": {
      "image/png": "[encoded data removed]",
      "text/plain": [
       "<Figure size 432x288 with 1 Axes>"
      ]
     },
     "metadata": {
      "needs_background": "light"
     },
     "output_type": "display_data"
    }
   ],
   "source": [
    "sns.boxplot(x = result.delta)"
   ]
  },
  {
   "cell_type": "markdown",
   "id": "musical-reset",
   "metadata": {},
   "source": [
    "#### a better estimate\n",
    "\n",
    "The way I'm proposing we do this instead is to add up the partitioned r2s for all categories and then check the ratio. This way topics that are well explained contribute more to the result than topics where r2 is actually tiny."
   ]
  },
  {
   "cell_type": "code",
   "execution_count": 83,
   "id": "mysterious-graham",
   "metadata": {},
   "outputs": [
    {
     "data": {
      "text/plain": [
       "0.5370009841945144"
      ]
     },
     "execution_count": 83,
     "metadata": {},
     "output_type": "execute_result"
    }
   ],
   "source": [
    "np.sum(result.birthyear) / (np.sum(result.birthyear) + np.sum(result.firstpub))"
   ]
  },
  {
   "cell_type": "markdown",
   "id": "sunset-science",
   "metadata": {},
   "source": [
    "Either way you look at it, the overall answer for LIWC is that roughly half of the change over time is attributable to cohort effects."
   ]
  },
  {
   "cell_type": "markdown",
   "id": "tender-formation",
   "metadata": {},
   "source": [
    "## What happens if we don't cross-validate?\n",
    "\n",
    "Let's try this without cross-validation, and with the granularity fixed at two-year intervals.\n",
    "\n",
    "We get very different results!"
   ]
  },
  {
   "cell_type": "code",
   "execution_count": 87,
   "id": "established-bryan",
   "metadata": {},
   "outputs": [],
   "source": [
    "def regression_fixed_granularity(data, dependentname, framestouse, granularity):\n",
    "    predictornames = ['birthyear', 'firstpub', 'authorage']\n",
    "    newcolumns = dict()\n",
    "    for pn in predictornames:  \n",
    "                                 \n",
    "        df = framestouse[pn][granularity].copy()\n",
    "        columnorder = [dependentname]\n",
    "        columnorder.extend(df.columns.tolist())\n",
    "        df[dependentname] = data[dependentname].values\n",
    "        df = df.loc[ : , columnorder]\n",
    "        X = df.iloc[ : , 3 : ]\n",
    "        y = df.iloc[ : , 0]\n",
    "        reg = LinearRegression().fit(X, y)\n",
    "        yhat = reg.predict(X)\n",
    "        yhat[yhat < 0] = 0  # prediction cannot be below zero\n",
    "        newcolumns['yhat_based_on_' + pn] = yhat\n",
    "    \n",
    "    return pd.DataFrame(newcolumns)"
   ]
  },
  {
   "cell_type": "code",
   "execution_count": 91,
   "id": "characteristic-protest",
   "metadata": {},
   "outputs": [
    {
     "name": "stdout",
     "output_type": "stream",
     "text": [
      "Analytic {'birthyear': 21, 'firstpub': 13, 'authorage': 25}\n",
      "0.7441 0.07379\n",
      "Clout {'birthyear': 21, 'firstpub': 13, 'authorage': 25}\n",
      "0.663 0.06097\n",
      "Authentic {'birthyear': 21, 'firstpub': 13, 'authorage': 25}\n",
      "0.596 0.05798\n",
      "Tone {'birthyear': 21, 'firstpub': 13, 'authorage': 25}\n",
      "0.6679 0.17776\n",
      "WPS {'birthyear': 21, 'firstpub': 13, 'authorage': 25}\n",
      "0.7542 0.03944\n",
      "Sixltr {'birthyear': 21, 'firstpub': 13, 'authorage': 25}\n",
      "0.6836 0.07645\n",
      "Dic {'birthyear': 21, 'firstpub': 13, 'authorage': 25}\n",
      "0.6902 0.07791\n",
      "function {'birthyear': 21, 'firstpub': 13, 'authorage': 25}\n",
      "0.6893 0.06212\n",
      "pronoun {'birthyear': 21, 'firstpub': 13, 'authorage': 25}\n",
      "0.7241 0.05371\n",
      "ppron {'birthyear': 21, 'firstpub': 13, 'authorage': 25}\n",
      "0.7294 0.0572\n",
      "i {'birthyear': 21, 'firstpub': 13, 'authorage': 25}\n",
      "0.5915 0.0769\n",
      "we {'birthyear': 21, 'firstpub': 13, 'authorage': 25}\n",
      "0.6187 0.04963\n",
      "you {'birthyear': 21, 'firstpub': 13, 'authorage': 25}\n",
      "0.8828 0.06677\n",
      "shehe {'birthyear': 21, 'firstpub': 13, 'authorage': 25}\n",
      "0.6427 0.06489\n",
      "they {'birthyear': 21, 'firstpub': 13, 'authorage': 25}\n",
      "0.6634 0.05698\n",
      "ipron {'birthyear': 21, 'firstpub': 13, 'authorage': 25}\n",
      "0.8 0.08059\n",
      "article {'birthyear': 21, 'firstpub': 13, 'authorage': 25}\n",
      "0.6565 0.06636\n",
      "prep {'birthyear': 21, 'firstpub': 13, 'authorage': 25}\n",
      "0.7723 0.09848\n",
      "auxverb {'birthyear': 21, 'firstpub': 13, 'authorage': 25}\n",
      "0.8373 0.10796\n",
      "adverb {'birthyear': 21, 'firstpub': 13, 'authorage': 25}\n",
      "0.6174 0.09618\n",
      "conj {'birthyear': 21, 'firstpub': 13, 'authorage': 25}\n",
      "0.7218 0.08322\n",
      "negate {'birthyear': 21, 'firstpub': 13, 'authorage': 25}\n",
      "0.7148 0.07663\n",
      "verb {'birthyear': 21, 'firstpub': 13, 'authorage': 25}\n",
      "0.588 0.11473\n",
      "adj {'birthyear': 21, 'firstpub': 13, 'authorage': 25}\n",
      "0.7262 0.07297\n",
      "compare {'birthyear': 21, 'firstpub': 13, 'authorage': 25}\n",
      "0.8637 0.07619\n",
      "interrog {'birthyear': 21, 'firstpub': 13, 'authorage': 25}\n",
      "0.7568 0.08501\n",
      "number {'birthyear': 21, 'firstpub': 13, 'authorage': 25}\n",
      "0.7498 0.0622\n",
      "quant {'birthyear': 21, 'firstpub': 13, 'authorage': 25}\n",
      "0.7617 0.0849\n",
      "affect {'birthyear': 21, 'firstpub': 13, 'authorage': 25}\n",
      "0.5664 0.15264\n",
      "posemo {'birthyear': 21, 'firstpub': 13, 'authorage': 25}\n",
      "0.6053 0.21347\n",
      "negemo {'birthyear': 21, 'firstpub': 13, 'authorage': 25}\n",
      "0.66 0.05968\n",
      "anx {'birthyear': 21, 'firstpub': 13, 'authorage': 25}\n",
      "0.6305 0.05241\n",
      "anger {'birthyear': 21, 'firstpub': 13, 'authorage': 25}\n",
      "0.6692 0.08277\n",
      "sad {'birthyear': 21, 'firstpub': 13, 'authorage': 25}\n",
      "0.4868 0.13152\n",
      "social {'birthyear': 21, 'firstpub': 13, 'authorage': 25}\n",
      "0.7308 0.06488\n",
      "family {'birthyear': 21, 'firstpub': 13, 'authorage': 25}\n",
      "0.7877 0.06486\n",
      "friend {'birthyear': 21, 'firstpub': 13, 'authorage': 25}\n",
      "0.598 0.14418\n",
      "female {'birthyear': 21, 'firstpub': 13, 'authorage': 25}\n",
      "0.7198 0.06878\n",
      "male {'birthyear': 21, 'firstpub': 13, 'authorage': 25}\n",
      "0.7402 0.05943\n",
      "cogproc {'birthyear': 21, 'firstpub': 13, 'authorage': 25}\n",
      "0.7424 0.08121\n",
      "insight {'birthyear': 21, 'firstpub': 13, 'authorage': 25}\n",
      "0.7345 0.05912\n",
      "cause {'birthyear': 21, 'firstpub': 13, 'authorage': 25}\n",
      "0.6367 0.09425\n",
      "discrep {'birthyear': 21, 'firstpub': 13, 'authorage': 25}\n",
      "0.6735 0.07748\n",
      "tentat {'birthyear': 21, 'firstpub': 13, 'authorage': 25}\n",
      "0.7022 0.09155\n",
      "certain {'birthyear': 21, 'firstpub': 13, 'authorage': 25}\n",
      "0.8138 0.08319\n",
      "differ {'birthyear': 21, 'firstpub': 13, 'authorage': 25}\n",
      "0.7291 0.07848\n",
      "percept {'birthyear': 21, 'firstpub': 13, 'authorage': 25}\n",
      "0.7243 0.18259\n",
      "see {'birthyear': 21, 'firstpub': 13, 'authorage': 25}\n",
      "0.8126 0.09578\n",
      "hear {'birthyear': 21, 'firstpub': 13, 'authorage': 25}\n",
      "0.6699 0.16261\n",
      "feel {'birthyear': 21, 'firstpub': 13, 'authorage': 25}\n",
      "0.7591 0.15142\n",
      "bio {'birthyear': 21, 'firstpub': 13, 'authorage': 25}\n",
      "0.7349 0.18424\n",
      "body {'birthyear': 21, 'firstpub': 13, 'authorage': 25}\n",
      "0.7866 0.15787\n",
      "health {'birthyear': 21, 'firstpub': 13, 'authorage': 25}\n",
      "0.7024 0.05743\n",
      "sexual {'birthyear': 21, 'firstpub': 13, 'authorage': 25}\n",
      "0.4742 0.13841\n",
      "ingest {'birthyear': 21, 'firstpub': 13, 'authorage': 25}\n",
      "0.6607 0.12405\n",
      "drives {'birthyear': 21, 'firstpub': 13, 'authorage': 25}\n",
      "0.7254 0.07486\n",
      "affiliation {'birthyear': 21, 'firstpub': 13, 'authorage': 25}\n",
      "0.7094 0.06426\n",
      "achieve {'birthyear': 21, 'firstpub': 13, 'authorage': 25}\n",
      "0.6378 0.06659\n",
      "power {'birthyear': 21, 'firstpub': 13, 'authorage': 25}\n",
      "0.6562 0.05073\n",
      "reward {'birthyear': 21, 'firstpub': 13, 'authorage': 25}\n",
      "0.6728 0.06524\n",
      "risk {'birthyear': 21, 'firstpub': 13, 'authorage': 25}\n",
      "0.7713 0.09916\n",
      "focuspast {'birthyear': 21, 'firstpub': 13, 'authorage': 25}\n",
      "0.5898 0.10618\n",
      "focuspresent {'birthyear': 21, 'firstpub': 13, 'authorage': 25}\n",
      "0.7519 0.0742\n",
      "focusfuture {'birthyear': 21, 'firstpub': 13, 'authorage': 25}\n",
      "0.6833 0.09737\n",
      "relativ {'birthyear': 21, 'firstpub': 13, 'authorage': 25}\n",
      "0.7512 0.08495\n",
      "motion {'birthyear': 21, 'firstpub': 13, 'authorage': 25}\n",
      "0.7807 0.08378\n",
      "space {'birthyear': 21, 'firstpub': 13, 'authorage': 25}\n",
      "0.6989 0.11066\n",
      "time {'birthyear': 21, 'firstpub': 13, 'authorage': 25}\n",
      "0.7701 0.05991\n",
      "work {'birthyear': 21, 'firstpub': 13, 'authorage': 25}\n",
      "0.6932 0.06299\n",
      "leisure {'birthyear': 21, 'firstpub': 13, 'authorage': 25}\n",
      "0.6077 0.10424\n",
      "home {'birthyear': 21, 'firstpub': 13, 'authorage': 25}\n",
      "0.6527 0.07491\n",
      "money {'birthyear': 21, 'firstpub': 13, 'authorage': 25}\n",
      "0.7208 0.05386\n",
      "relig {'birthyear': 21, 'firstpub': 13, 'authorage': 25}\n",
      "0.7132 0.0571\n",
      "death {'birthyear': 21, 'firstpub': 13, 'authorage': 25}\n",
      "0.6086 0.06047\n",
      "informal {'birthyear': 21, 'firstpub': 13, 'authorage': 25}\n",
      "0.7881 0.07895\n",
      "swear {'birthyear': 21, 'firstpub': 13, 'authorage': 25}\n",
      "0.5939 0.25286\n",
      "netspeak {'birthyear': 21, 'firstpub': 13, 'authorage': 25}\n",
      "0.7279 0.05552\n",
      "assent {'birthyear': 21, 'firstpub': 13, 'authorage': 25}\n",
      "0.7945 0.07121\n",
      "nonflu {'birthyear': 21, 'firstpub': 13, 'authorage': 25}\n",
      "0.7355 0.07977\n",
      "filler {'birthyear': 21, 'firstpub': 13, 'authorage': 25}\n",
      "0.6434 0.11753\n"
     ]
    }
   ],
   "source": [
    "crudeframe = dict()\n",
    "crudeframe['LIWCcat'] = []\n",
    "crudeframe['birthyear'] = []\n",
    "crudeframe['firstpub'] = []\n",
    "crudeframe['age'] = []\n",
    "crudeframe['r2'] = []\n",
    "crudeframe['delta'] = []\n",
    "totalerror = 0\n",
    "\n",
    "for cat in data.columns.tolist()[9:]:\n",
    "    predictdf = regression_fixed_granularity(data, cat, degree0frames, 2)\n",
    "    X = predictdf\n",
    "    y = data[cat]\n",
    "    \n",
    "    # Pingouin linear regression on the three yhats, in order to\n",
    "    # infer variable importance, which pingouin expresses by\n",
    "    # partitioning r2 across predictors.\n",
    "    \n",
    "    lm = pg.linear_regression(X, y, relimp = True)\n",
    "    lm.set_index('names', inplace = True)\n",
    "    \n",
    "    byweight = lm.loc['yhat_based_on_birthyear', 'relimp']\n",
    "    crudeframe['birthyear'].append(byweight)\n",
    "    crudeframe['LIWCcat'].append(cat)\n",
    "    fpweight = lm.loc['yhat_based_on_firstpub', 'relimp']\n",
    "    crudeframe['firstpub'].append(fpweight)\n",
    "    crudeframe['age'].append(lm.loc['yhat_based_on_authorage', 'relimp'])\n",
    "    crudeframe['r2'].append(lm.loc['Intercept', 'r2'])\n",
    "    crudeframe['delta'].append(byweight / (byweight + fpweight))\n",
    "    print(cat, granularities)\n",
    "    print(round(byweight / (byweight + fpweight), 4), round(lm.loc['Intercept', 'r2'], 5))"
   ]
  },
  {
   "cell_type": "code",
   "execution_count": 93,
   "id": "czech-mongolia",
   "metadata": {},
   "outputs": [
    {
     "data": {
      "text/plain": [
       "0.08974379711192197"
      ]
     },
     "execution_count": 93,
     "metadata": {},
     "output_type": "execute_result"
    }
   ],
   "source": [
    "cruderesult = pd.DataFrame(crudeframe)\n",
    "np.mean(cruderesult.r2)"
   ]
  },
  {
   "cell_type": "markdown",
   "id": "muslim-taylor",
   "metadata": {},
   "source": [
    "Wow, a much higher r2. (Because it can overfit to authors.)"
   ]
  },
  {
   "cell_type": "code",
   "execution_count": 95,
   "id": "prepared-bidder",
   "metadata": {},
   "outputs": [
    {
     "data": {
      "text/plain": [
       "0.6992136933488722"
      ]
     },
     "execution_count": 95,
     "metadata": {},
     "output_type": "execute_result"
    }
   ],
   "source": [
    "np.mean(cruderesult.delta)"
   ]
  },
  {
   "cell_type": "markdown",
   "id": "efficient-delivery",
   "metadata": {},
   "source": [
    "And a much, much higher estimate of delta. (Because it can overfit to authors, and definitely will, at 2-year granularity.)"
   ]
  },
  {
   "cell_type": "code",
   "execution_count": 97,
   "id": "harmful-curve",
   "metadata": {},
   "outputs": [
    {
     "data": {
      "text/plain": [
       "0.683782409657704"
      ]
     },
     "execution_count": 97,
     "metadata": {},
     "output_type": "execute_result"
    }
   ],
   "source": [
    "np.sum(cruderesult.birthyear) / (np.sum(cruderesult.birthyear) + np.sum(cruderesult.firstpub))"
   ]
  }
 ],
 "metadata": {
  "kernelspec": {
   "display_name": "Python 3",
   "language": "python",
   "name": "python3"
  },
  "language_info": {
   "codemirror_mode": {
    "name": "ipython",
    "version": 3
   },
   "file_extension": ".py",
   "mimetype": "text/x-python",
   "name": "python",
   "nbconvert_exporter": "python",
   "pygments_lexer": "ipython3",
   "version": "3.7.6"
  }
 },
 "nbformat": 4,
 "nbformat_minor": 5
}
