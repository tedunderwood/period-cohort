{
 "cells": [
  {
   "cell_type": "markdown",
   "id": "equipped-tuition",
   "metadata": {},
   "source": [
    "# Interpret results\n",
    "\n",
    "I ran ```topicmodel_gridsearch.Rmd``` five times, producing five different versions of ```topicmodel_deltas.csv.``` (All uploaded to github.)\n",
    "\n",
    "The code below averages the five runs, and then pairs the averaged results with a data frame called ```interpret``` that stores the topic categorizes and sizes (the percentage of the corpus in each topic). These are used to produce a weighted average of delta across the corpus."
   ]
  },
  {
   "cell_type": "code",
   "execution_count": 1,
   "id": "senior-distributor",
   "metadata": {},
   "outputs": [],
   "source": [
    "import pandas as pd\n",
    "import numpy as np\n",
    "from matplotlib import pyplot as plt\n",
    "import seaborn as sns"
   ]
  },
  {
   "cell_type": "markdown",
   "id": "6a61641d-d9a0-41ee-988d-f0d50b1f32b9",
   "metadata": {},
   "source": [
    "### Load the results of the R scripts."
   ]
  },
  {
   "cell_type": "code",
   "execution_count": 2,
   "id": "9fdba66a-2eec-4f65-9534-6d20aa1e7291",
   "metadata": {},
   "outputs": [
    {
     "name": "stdout",
     "output_type": "stream",
     "text": [
      "5  files loaded.\n"
     ]
    }
   ],
   "source": [
    "root = 'topicmodel_deltas'\n",
    "\n",
    "deltas = dict()\n",
    "\n",
    "for i in range(1, 6):\n",
    "    \n",
    "    suffix = str(i) + '.csv'\n",
    "    deltas[i] = pd.read_csv(root + suffix)\n",
    "    \n",
    "print(len(deltas), ' files loaded.')"
   ]
  },
  {
   "cell_type": "code",
   "execution_count": 3,
   "id": "1ea92c16-6efa-4559-833a-b0158b499887",
   "metadata": {},
   "outputs": [
    {
     "data": {
      "text/html": [
       "<div>\n",
       "<style scoped>\n",
       "    .dataframe tbody tr th:only-of-type {\n",
       "        vertical-align: middle;\n",
       "    }\n",
       "\n",
       "    .dataframe tbody tr th {\n",
       "        vertical-align: top;\n",
       "    }\n",
       "\n",
       "    .dataframe thead th {\n",
       "        text-align: right;\n",
       "    }\n",
       "</style>\n",
       "<table border=\"1\" class=\"dataframe\">\n",
       "  <thead>\n",
       "    <tr style=\"text-align: right;\">\n",
       "      <th></th>\n",
       "      <th>depvar</th>\n",
       "      <th>cmse</th>\n",
       "      <th>pmse</th>\n",
       "      <th>totalr2</th>\n",
       "      <th>delta</th>\n",
       "      <th>adjdelta</th>\n",
       "      <th>bywidth</th>\n",
       "      <th>fpwidth</th>\n",
       "      <th>bydf</th>\n",
       "      <th>fpdf</th>\n",
       "      <th>pmse_oos</th>\n",
       "      <th>cmse_oos</th>\n",
       "      <th>delta_oos</th>\n",
       "      <th>r2_oos</th>\n",
       "    </tr>\n",
       "  </thead>\n",
       "  <tbody>\n",
       "    <tr>\n",
       "      <th>0</th>\n",
       "      <td>t0</td>\n",
       "      <td>10.625</td>\n",
       "      <td>208.397</td>\n",
       "      <td>0.047679</td>\n",
       "      <td>0.048511</td>\n",
       "      <td>0.196610</td>\n",
       "      <td>by_20</td>\n",
       "      <td>fp_4</td>\n",
       "      <td>5</td>\n",
       "      <td>24</td>\n",
       "      <td>0.071000</td>\n",
       "      <td>0.003257</td>\n",
       "      <td>0.043864</td>\n",
       "      <td>0.027340</td>\n",
       "    </tr>\n",
       "    <tr>\n",
       "      <th>1</th>\n",
       "      <td>t1</td>\n",
       "      <td>4.319</td>\n",
       "      <td>25.653</td>\n",
       "      <td>0.013992</td>\n",
       "      <td>0.144101</td>\n",
       "      <td>0.201625</td>\n",
       "      <td>by_24</td>\n",
       "      <td>fp_16</td>\n",
       "      <td>4</td>\n",
       "      <td>6</td>\n",
       "      <td>0.029850</td>\n",
       "      <td>0.002211</td>\n",
       "      <td>0.068966</td>\n",
       "      <td>0.006283</td>\n",
       "    </tr>\n",
       "    <tr>\n",
       "      <th>2</th>\n",
       "      <td>t2</td>\n",
       "      <td>8.787</td>\n",
       "      <td>1.994</td>\n",
       "      <td>0.005109</td>\n",
       "      <td>0.815045</td>\n",
       "      <td>0.767714</td>\n",
       "      <td>by_24</td>\n",
       "      <td>fp_24</td>\n",
       "      <td>4</td>\n",
       "      <td>3</td>\n",
       "      <td>0.002117</td>\n",
       "      <td>0.002472</td>\n",
       "      <td>0.538668</td>\n",
       "      <td>-0.003695</td>\n",
       "    </tr>\n",
       "    <tr>\n",
       "      <th>3</th>\n",
       "      <td>t3</td>\n",
       "      <td>45.574</td>\n",
       "      <td>167.528</td>\n",
       "      <td>0.139734</td>\n",
       "      <td>0.213860</td>\n",
       "      <td>0.566308</td>\n",
       "      <td>by_20</td>\n",
       "      <td>fp_4</td>\n",
       "      <td>5</td>\n",
       "      <td>24</td>\n",
       "      <td>0.215235</td>\n",
       "      <td>0.029488</td>\n",
       "      <td>0.120495</td>\n",
       "      <td>0.122961</td>\n",
       "    </tr>\n",
       "    <tr>\n",
       "      <th>4</th>\n",
       "      <td>t4</td>\n",
       "      <td>59.187</td>\n",
       "      <td>13.012</td>\n",
       "      <td>0.027322</td>\n",
       "      <td>0.819776</td>\n",
       "      <td>0.630416</td>\n",
       "      <td>by_16</td>\n",
       "      <td>fp_24</td>\n",
       "      <td>8</td>\n",
       "      <td>3</td>\n",
       "      <td>0.012454</td>\n",
       "      <td>0.058356</td>\n",
       "      <td>0.824115</td>\n",
       "      <td>0.014960</td>\n",
       "    </tr>\n",
       "  </tbody>\n",
       "</table>\n",
       "</div>"
      ],
      "text/plain": [
       "  depvar    cmse     pmse   totalr2     delta  adjdelta bywidth fpwidth  bydf  \\\n",
       "0     t0  10.625  208.397  0.047679  0.048511  0.196610   by_20    fp_4     5   \n",
       "1     t1   4.319   25.653  0.013992  0.144101  0.201625   by_24   fp_16     4   \n",
       "2     t2   8.787    1.994  0.005109  0.815045  0.767714   by_24   fp_24     4   \n",
       "3     t3  45.574  167.528  0.139734  0.213860  0.566308   by_20    fp_4     5   \n",
       "4     t4  59.187   13.012  0.027322  0.819776  0.630416   by_16   fp_24     8   \n",
       "\n",
       "   fpdf  pmse_oos  cmse_oos  delta_oos    r2_oos  \n",
       "0    24  0.071000  0.003257   0.043864  0.027340  \n",
       "1     6  0.029850  0.002211   0.068966  0.006283  \n",
       "2     3  0.002117  0.002472   0.538668 -0.003695  \n",
       "3    24  0.215235  0.029488   0.120495  0.122961  \n",
       "4     3  0.012454  0.058356   0.824115  0.014960  "
      ]
     },
     "execution_count": 3,
     "metadata": {},
     "output_type": "execute_result"
    }
   ],
   "source": [
    "deltas[1].head()"
   ]
  },
  {
   "cell_type": "markdown",
   "id": "4ec811ea-ddff-4312-9d3d-d25581503e83",
   "metadata": {},
   "source": [
    "There is some continuity but also sigificant divergence between different runs."
   ]
  },
  {
   "cell_type": "code",
   "execution_count": 4,
   "id": "a4116072-4cd1-414b-bbc1-5050db387db4",
   "metadata": {},
   "outputs": [
    {
     "data": {
      "text/html": [
       "<div>\n",
       "<style scoped>\n",
       "    .dataframe tbody tr th:only-of-type {\n",
       "        vertical-align: middle;\n",
       "    }\n",
       "\n",
       "    .dataframe tbody tr th {\n",
       "        vertical-align: top;\n",
       "    }\n",
       "\n",
       "    .dataframe thead th {\n",
       "        text-align: right;\n",
       "    }\n",
       "</style>\n",
       "<table border=\"1\" class=\"dataframe\">\n",
       "  <thead>\n",
       "    <tr style=\"text-align: right;\">\n",
       "      <th></th>\n",
       "      <th>depvar</th>\n",
       "      <th>cmse</th>\n",
       "      <th>pmse</th>\n",
       "      <th>totalr2</th>\n",
       "      <th>delta</th>\n",
       "      <th>adjdelta</th>\n",
       "      <th>bywidth</th>\n",
       "      <th>fpwidth</th>\n",
       "      <th>bydf</th>\n",
       "      <th>fpdf</th>\n",
       "      <th>pmse_oos</th>\n",
       "      <th>cmse_oos</th>\n",
       "      <th>delta_oos</th>\n",
       "      <th>r2_oos</th>\n",
       "      <th>agemse</th>\n",
       "    </tr>\n",
       "  </thead>\n",
       "  <tbody>\n",
       "    <tr>\n",
       "      <th>0</th>\n",
       "      <td>t0</td>\n",
       "      <td>10.625</td>\n",
       "      <td>208.397</td>\n",
       "      <td>0.047679</td>\n",
       "      <td>0.048511</td>\n",
       "      <td>0.196610</td>\n",
       "      <td>by_20</td>\n",
       "      <td>fp_4</td>\n",
       "      <td>5</td>\n",
       "      <td>24</td>\n",
       "      <td>0.077930</td>\n",
       "      <td>0.000150</td>\n",
       "      <td>0.001923</td>\n",
       "      <td>0.021714</td>\n",
       "      <td>0.191</td>\n",
       "    </tr>\n",
       "    <tr>\n",
       "      <th>1</th>\n",
       "      <td>t1</td>\n",
       "      <td>24.556</td>\n",
       "      <td>19.209</td>\n",
       "      <td>0.018856</td>\n",
       "      <td>0.561088</td>\n",
       "      <td>0.754183</td>\n",
       "      <td>by_20</td>\n",
       "      <td>fp_8</td>\n",
       "      <td>5</td>\n",
       "      <td>12</td>\n",
       "      <td>0.021526</td>\n",
       "      <td>0.085478</td>\n",
       "      <td>0.798832</td>\n",
       "      <td>0.000835</td>\n",
       "      <td>2.668</td>\n",
       "    </tr>\n",
       "    <tr>\n",
       "      <th>2</th>\n",
       "      <td>t2</td>\n",
       "      <td>34.288</td>\n",
       "      <td>17.816</td>\n",
       "      <td>0.010280</td>\n",
       "      <td>0.658068</td>\n",
       "      <td>0.590738</td>\n",
       "      <td>by_16</td>\n",
       "      <td>fp_16</td>\n",
       "      <td>8</td>\n",
       "      <td>6</td>\n",
       "      <td>0.031632</td>\n",
       "      <td>0.042898</td>\n",
       "      <td>0.575584</td>\n",
       "      <td>-0.008059</td>\n",
       "      <td>5.460</td>\n",
       "    </tr>\n",
       "    <tr>\n",
       "      <th>3</th>\n",
       "      <td>t3</td>\n",
       "      <td>45.291</td>\n",
       "      <td>141.936</td>\n",
       "      <td>0.135140</td>\n",
       "      <td>0.241904</td>\n",
       "      <td>0.433693</td>\n",
       "      <td>by_20</td>\n",
       "      <td>fp_8</td>\n",
       "      <td>5</td>\n",
       "      <td>12</td>\n",
       "      <td>0.158778</td>\n",
       "      <td>0.031397</td>\n",
       "      <td>0.165094</td>\n",
       "      <td>0.124308</td>\n",
       "      <td>11.181</td>\n",
       "    </tr>\n",
       "    <tr>\n",
       "      <th>4</th>\n",
       "      <td>t4</td>\n",
       "      <td>57.918</td>\n",
       "      <td>14.794</td>\n",
       "      <td>0.027720</td>\n",
       "      <td>0.796540</td>\n",
       "      <td>0.681065</td>\n",
       "      <td>by_12</td>\n",
       "      <td>fp_16</td>\n",
       "      <td>11</td>\n",
       "      <td>6</td>\n",
       "      <td>0.009295</td>\n",
       "      <td>0.045823</td>\n",
       "      <td>0.831364</td>\n",
       "      <td>0.005274</td>\n",
       "      <td>6.106</td>\n",
       "    </tr>\n",
       "  </tbody>\n",
       "</table>\n",
       "</div>"
      ],
      "text/plain": [
       "  depvar    cmse     pmse   totalr2     delta  adjdelta bywidth fpwidth  bydf  \\\n",
       "0     t0  10.625  208.397  0.047679  0.048511  0.196610   by_20    fp_4     5   \n",
       "1     t1  24.556   19.209  0.018856  0.561088  0.754183   by_20    fp_8     5   \n",
       "2     t2  34.288   17.816  0.010280  0.658068  0.590738   by_16   fp_16     8   \n",
       "3     t3  45.291  141.936  0.135140  0.241904  0.433693   by_20    fp_8     5   \n",
       "4     t4  57.918   14.794  0.027720  0.796540  0.681065   by_12   fp_16    11   \n",
       "\n",
       "   fpdf  pmse_oos  cmse_oos  delta_oos    r2_oos  agemse  \n",
       "0    24  0.077930  0.000150   0.001923  0.021714   0.191  \n",
       "1    12  0.021526  0.085478   0.798832  0.000835   2.668  \n",
       "2     6  0.031632  0.042898   0.575584 -0.008059   5.460  \n",
       "3    12  0.158778  0.031397   0.165094  0.124308  11.181  \n",
       "4     6  0.009295  0.045823   0.831364  0.005274   6.106  "
      ]
     },
     "execution_count": 4,
     "metadata": {},
     "output_type": "execute_result"
    }
   ],
   "source": [
    "deltas[4].head()"
   ]
  },
  {
   "cell_type": "markdown",
   "id": "5a73d70f-7830-4e50-bfe4-7234ab27edbb",
   "metadata": {},
   "source": [
    "### Construct a data frame that has average values"
   ]
  },
  {
   "cell_type": "code",
   "execution_count": 7,
   "id": "3d332450-128c-4ab9-a6d7-695e09a57bd3",
   "metadata": {},
   "outputs": [],
   "source": [
    "smoothed = dict()\n",
    "\n",
    "cols = ['delta', 'adjdelta', 'delta_oos', 'cmse', 'pmse', 'cmse_oos', 'pmse_oos', \n",
    "        'totalr2', 'r2_oos', 'bydf', 'fpdf', 'agemse']\n",
    "\n",
    "for c in cols:\n",
    "    if c not in smoothed:\n",
    "        smoothed[c] = []\n",
    "    for rownum in range(200):\n",
    "        values = []\n",
    "        for i in range(1, 6):\n",
    "            if c in deltas[i].columns:      # the only exception is 'agemse' which got added late\n",
    "                                            # and won't be in all five runs\n",
    "                values.append(deltas[i].loc[rownum, c])\n",
    "        smoothed[c].append(np.mean(values))\n",
    "\n",
    "        \n",
    "avgdf = pd.DataFrame(smoothed)"
   ]
  },
  {
   "cell_type": "code",
   "execution_count": 8,
   "id": "b28ad354-3dfa-438f-adf6-6a4977167e89",
   "metadata": {},
   "outputs": [
    {
     "data": {
      "text/html": [
       "<div>\n",
       "<style scoped>\n",
       "    .dataframe tbody tr th:only-of-type {\n",
       "        vertical-align: middle;\n",
       "    }\n",
       "\n",
       "    .dataframe tbody tr th {\n",
       "        vertical-align: top;\n",
       "    }\n",
       "\n",
       "    .dataframe thead th {\n",
       "        text-align: right;\n",
       "    }\n",
       "</style>\n",
       "<table border=\"1\" class=\"dataframe\">\n",
       "  <thead>\n",
       "    <tr style=\"text-align: right;\">\n",
       "      <th></th>\n",
       "      <th>delta</th>\n",
       "      <th>adjdelta</th>\n",
       "      <th>delta_oos</th>\n",
       "      <th>cmse</th>\n",
       "      <th>pmse</th>\n",
       "      <th>cmse_oos</th>\n",
       "      <th>pmse_oos</th>\n",
       "      <th>totalr2</th>\n",
       "      <th>r2_oos</th>\n",
       "      <th>bydf</th>\n",
       "      <th>fpdf</th>\n",
       "      <th>agemse</th>\n",
       "    </tr>\n",
       "  </thead>\n",
       "  <tbody>\n",
       "    <tr>\n",
       "      <th>0</th>\n",
       "      <td>0.052664</td>\n",
       "      <td>0.185230</td>\n",
       "      <td>0.078345</td>\n",
       "      <td>11.6860</td>\n",
       "      <td>209.5212</td>\n",
       "      <td>0.020000</td>\n",
       "      <td>0.102817</td>\n",
       "      <td>0.047869</td>\n",
       "      <td>0.024379</td>\n",
       "      <td>6.2</td>\n",
       "      <td>24.0</td>\n",
       "      <td>0.53325</td>\n",
       "    </tr>\n",
       "    <tr>\n",
       "      <th>1</th>\n",
       "      <td>0.578712</td>\n",
       "      <td>0.596288</td>\n",
       "      <td>0.689357</td>\n",
       "      <td>25.0768</td>\n",
       "      <td>16.0822</td>\n",
       "      <td>0.061597</td>\n",
       "      <td>0.017510</td>\n",
       "      <td>0.017090</td>\n",
       "      <td>0.003942</td>\n",
       "      <td>4.8</td>\n",
       "      <td>6.0</td>\n",
       "      <td>2.13175</td>\n",
       "    </tr>\n",
       "    <tr>\n",
       "      <th>2</th>\n",
       "      <td>0.642251</td>\n",
       "      <td>0.671377</td>\n",
       "      <td>0.433169</td>\n",
       "      <td>16.1334</td>\n",
       "      <td>9.5950</td>\n",
       "      <td>0.012027</td>\n",
       "      <td>0.011970</td>\n",
       "      <td>0.006939</td>\n",
       "      <td>-0.004519</td>\n",
       "      <td>4.8</td>\n",
       "      <td>5.4</td>\n",
       "      <td>2.73375</td>\n",
       "    </tr>\n",
       "    <tr>\n",
       "      <th>3</th>\n",
       "      <td>0.238089</td>\n",
       "      <td>0.454468</td>\n",
       "      <td>0.140974</td>\n",
       "      <td>46.8034</td>\n",
       "      <td>151.2078</td>\n",
       "      <td>0.029488</td>\n",
       "      <td>0.198506</td>\n",
       "      <td>0.136532</td>\n",
       "      <td>0.122522</td>\n",
       "      <td>5.6</td>\n",
       "      <td>16.0</td>\n",
       "      <td>9.89675</td>\n",
       "    </tr>\n",
       "    <tr>\n",
       "      <th>4</th>\n",
       "      <td>0.783425</td>\n",
       "      <td>0.661006</td>\n",
       "      <td>0.809441</td>\n",
       "      <td>61.5444</td>\n",
       "      <td>17.3744</td>\n",
       "      <td>0.078168</td>\n",
       "      <td>0.020837</td>\n",
       "      <td>0.028121</td>\n",
       "      <td>0.011077</td>\n",
       "      <td>8.6</td>\n",
       "      <td>4.8</td>\n",
       "      <td>4.91075</td>\n",
       "    </tr>\n",
       "  </tbody>\n",
       "</table>\n",
       "</div>"
      ],
      "text/plain": [
       "      delta  adjdelta  delta_oos     cmse      pmse  cmse_oos  pmse_oos  \\\n",
       "0  0.052664  0.185230   0.078345  11.6860  209.5212  0.020000  0.102817   \n",
       "1  0.578712  0.596288   0.689357  25.0768   16.0822  0.061597  0.017510   \n",
       "2  0.642251  0.671377   0.433169  16.1334    9.5950  0.012027  0.011970   \n",
       "3  0.238089  0.454468   0.140974  46.8034  151.2078  0.029488  0.198506   \n",
       "4  0.783425  0.661006   0.809441  61.5444   17.3744  0.078168  0.020837   \n",
       "\n",
       "    totalr2    r2_oos  bydf  fpdf   agemse  \n",
       "0  0.047869  0.024379   6.2  24.0  0.53325  \n",
       "1  0.017090  0.003942   4.8   6.0  2.13175  \n",
       "2  0.006939 -0.004519   4.8   5.4  2.73375  \n",
       "3  0.136532  0.122522   5.6  16.0  9.89675  \n",
       "4  0.028121  0.011077   8.6   4.8  4.91075  "
      ]
     },
     "execution_count": 8,
     "metadata": {},
     "output_type": "execute_result"
    }
   ],
   "source": [
    "avgdf.head()"
   ]
  },
  {
   "cell_type": "markdown",
   "id": "26c2a92c-19e3-423b-ba5e-02fcccd242be",
   "metadata": {},
   "source": [
    "### Load the coding of the 200 topics"
   ]
  },
  {
   "cell_type": "code",
   "execution_count": 9,
   "id": "sustainable-brazil",
   "metadata": {},
   "outputs": [
    {
     "data": {
      "text/html": [
       "<div>\n",
       "<style scoped>\n",
       "    .dataframe tbody tr th:only-of-type {\n",
       "        vertical-align: middle;\n",
       "    }\n",
       "\n",
       "    .dataframe tbody tr th {\n",
       "        vertical-align: top;\n",
       "    }\n",
       "\n",
       "    .dataframe thead th {\n",
       "        text-align: right;\n",
       "    }\n",
       "</style>\n",
       "<table border=\"1\" class=\"dataframe\">\n",
       "  <thead>\n",
       "    <tr style=\"text-align: right;\">\n",
       "      <th></th>\n",
       "      <th>topicstats</th>\n",
       "      <th>keywords</th>\n",
       "      <th>top7books</th>\n",
       "      <th>label</th>\n",
       "      <th>category</th>\n",
       "    </tr>\n",
       "  </thead>\n",
       "  <tbody>\n",
       "    <tr>\n",
       "      <th>0</th>\n",
       "      <td>TOPIC 0 pct corpus = 0.267% doc entropy = 9.80...</td>\n",
       "      <td>war german french germans france germany ameri...</td>\n",
       "      <td>0.136 | Gibbs, Philip | Through the storm | 19...</td>\n",
       "      <td>war, mostly WWII</td>\n",
       "      <td>event</td>\n",
       "    </tr>\n",
       "    <tr>\n",
       "      <th>1</th>\n",
       "      <td>TOPIC 1 pct corpus = 0.288% doc entropy = 9.74...</td>\n",
       "      <td>professor man quite something thing old little...</td>\n",
       "      <td>0.177 | Stewart, J. I. M. (John Innes  | Hare ...</td>\n",
       "      <td>e20c scientists, labs, and professors, mostly ...</td>\n",
       "      <td>genre</td>\n",
       "    </tr>\n",
       "    <tr>\n",
       "      <th>2</th>\n",
       "      <td>TOPIC 2 pct corpus = 0.479% doc entropy = 10.4...</td>\n",
       "      <td>door put box paper hand took room went made po...</td>\n",
       "      <td>0.489 | Sellers, Tom | Unknown Title | 1927 0....</td>\n",
       "      <td>objects in relation to doors, pockets, rooms, ...</td>\n",
       "      <td>physical description</td>\n",
       "    </tr>\n",
       "    <tr>\n",
       "      <th>3</th>\n",
       "      <td>TOPIC 3 pct corpus = 0.388% doc entropy = 9.34...</td>\n",
       "      <td>american people president our security re new ...</td>\n",
       "      <td>0.297 | Digo, Benjamin | Creator of Nikho | 19...</td>\n",
       "      <td>late 20c US political thrillers</td>\n",
       "      <td>genre</td>\n",
       "    </tr>\n",
       "    <tr>\n",
       "      <th>4</th>\n",
       "      <td>TOPIC 4 pct corpus = 0.666% doc entropy = 10.3...</td>\n",
       "      <td>man old people men because knew good always bi...</td>\n",
       "      <td>0.157 | Hanley, Gerald | Drinkers of darkness ...</td>\n",
       "      <td>diffuse</td>\n",
       "      <td>uncategorized dimension of style</td>\n",
       "    </tr>\n",
       "  </tbody>\n",
       "</table>\n",
       "</div>"
      ],
      "text/plain": [
       "                                          topicstats  \\\n",
       "0  TOPIC 0 pct corpus = 0.267% doc entropy = 9.80...   \n",
       "1  TOPIC 1 pct corpus = 0.288% doc entropy = 9.74...   \n",
       "2  TOPIC 2 pct corpus = 0.479% doc entropy = 10.4...   \n",
       "3  TOPIC 3 pct corpus = 0.388% doc entropy = 9.34...   \n",
       "4  TOPIC 4 pct corpus = 0.666% doc entropy = 10.3...   \n",
       "\n",
       "                                            keywords  \\\n",
       "0  war german french germans france germany ameri...   \n",
       "1  professor man quite something thing old little...   \n",
       "2  door put box paper hand took room went made po...   \n",
       "3  american people president our security re new ...   \n",
       "4  man old people men because knew good always bi...   \n",
       "\n",
       "                                           top7books  \\\n",
       "0  0.136 | Gibbs, Philip | Through the storm | 19...   \n",
       "1  0.177 | Stewart, J. I. M. (John Innes  | Hare ...   \n",
       "2  0.489 | Sellers, Tom | Unknown Title | 1927 0....   \n",
       "3  0.297 | Digo, Benjamin | Creator of Nikho | 19...   \n",
       "4  0.157 | Hanley, Gerald | Drinkers of darkness ...   \n",
       "\n",
       "                                               label  \\\n",
       "0                                   war, mostly WWII   \n",
       "1  e20c scientists, labs, and professors, mostly ...   \n",
       "2  objects in relation to doors, pockets, rooms, ...   \n",
       "3                    late 20c US political thrillers   \n",
       "4                                            diffuse   \n",
       "\n",
       "                           category  \n",
       "0                             event  \n",
       "1                             genre  \n",
       "2              physical description  \n",
       "3                             genre  \n",
       "4  uncategorized dimension of style  "
      ]
     },
     "execution_count": 9,
     "metadata": {},
     "output_type": "execute_result"
    }
   ],
   "source": [
    "interpret = pd.read_csv('../interrater/k200standardcoding.tsv', sep = '\\t')\n",
    "interpret.drop(columns = ['next5books, biggestauth, datequartiles', 'comments'], inplace = True)\n",
    "interpret.head()"
   ]
  },
  {
   "cell_type": "markdown",
   "id": "c9cc5651-f486-4de8-88c5-7c1d423d75c4",
   "metadata": {},
   "source": [
    "For our present purposes, we don't need all this information, and we could use shorter category labels for visualization."
   ]
  },
  {
   "cell_type": "code",
   "execution_count": 10,
   "id": "choice-strategy",
   "metadata": {},
   "outputs": [
    {
     "data": {
      "text/html": [
       "<div>\n",
       "<style scoped>\n",
       "    .dataframe tbody tr th:only-of-type {\n",
       "        vertical-align: middle;\n",
       "    }\n",
       "\n",
       "    .dataframe tbody tr th {\n",
       "        vertical-align: top;\n",
       "    }\n",
       "\n",
       "    .dataframe thead th {\n",
       "        text-align: right;\n",
       "    }\n",
       "</style>\n",
       "<table border=\"1\" class=\"dataframe\">\n",
       "  <thead>\n",
       "    <tr style=\"text-align: right;\">\n",
       "      <th></th>\n",
       "      <th>label</th>\n",
       "      <th>category</th>\n",
       "      <th>pct</th>\n",
       "    </tr>\n",
       "  </thead>\n",
       "  <tbody>\n",
       "    <tr>\n",
       "      <th>0</th>\n",
       "      <td>war, mostly WWII</td>\n",
       "      <td>event</td>\n",
       "      <td>0.267</td>\n",
       "    </tr>\n",
       "    <tr>\n",
       "      <th>1</th>\n",
       "      <td>e20c scientists, labs, and professors, mostly ...</td>\n",
       "      <td>genre</td>\n",
       "      <td>0.288</td>\n",
       "    </tr>\n",
       "    <tr>\n",
       "      <th>2</th>\n",
       "      <td>objects in relation to doors, pockets, rooms, ...</td>\n",
       "      <td>physic</td>\n",
       "      <td>0.479</td>\n",
       "    </tr>\n",
       "    <tr>\n",
       "      <th>3</th>\n",
       "      <td>late 20c US political thrillers</td>\n",
       "      <td>genre</td>\n",
       "      <td>0.388</td>\n",
       "    </tr>\n",
       "    <tr>\n",
       "      <th>4</th>\n",
       "      <td>diffuse</td>\n",
       "      <td>uncate</td>\n",
       "      <td>0.666</td>\n",
       "    </tr>\n",
       "  </tbody>\n",
       "</table>\n",
       "</div>"
      ],
      "text/plain": [
       "                                               label category    pct\n",
       "0                                   war, mostly WWII    event  0.267\n",
       "1  e20c scientists, labs, and professors, mostly ...    genre  0.288\n",
       "2  objects in relation to doors, pockets, rooms, ...   physic  0.479\n",
       "3                    late 20c US political thrillers    genre  0.388\n",
       "4                                            diffuse   uncate  0.666"
      ]
     },
     "execution_count": 10,
     "metadata": {},
     "output_type": "execute_result"
    }
   ],
   "source": [
    "# FUNCTIONS THAT SIMPLIFY AND CLEAN THE CODING FRAME\n",
    "\n",
    "def getpct(astring):\n",
    "    firstpart = astring.split('%')[0]\n",
    "    number = float(firstpart.split('= ')[1])\n",
    "    return number\n",
    "\n",
    "def shorten(astring):\n",
    "    shortversion = astring[0:6]\n",
    "    if shortversion == 'human ':\n",
    "        shortversion = 'institu' # for human institution, practice, or relationship\n",
    "    return shortversion\n",
    "\n",
    "interpret['pct'] = interpret.topicstats.map(getpct)\n",
    "interpret['category'] = interpret.category.map(shorten)\n",
    "interpret.drop(columns = ['keywords', 'top7books', 'topicstats'], inplace = True)\n",
    "interpret.head()"
   ]
  },
  {
   "cell_type": "markdown",
   "id": "bdf5ffcd-8d5c-4055-8bbf-790217bff21f",
   "metadata": {},
   "source": [
    "### Concatenate the topic labels with all five frames of numeric results."
   ]
  },
  {
   "cell_type": "code",
   "execution_count": 11,
   "id": "flush-glucose",
   "metadata": {},
   "outputs": [],
   "source": [
    "topics = dict()\n",
    "for i in range(1, 6):\n",
    "    topics[i] = pd.concat([deltas[i], interpret], axis = 1)"
   ]
  },
  {
   "cell_type": "markdown",
   "id": "c1828c9a-ad8b-4992-bd8d-d127f7e6941a",
   "metadata": {},
   "source": [
    "### And also with the average of all five."
   ]
  },
  {
   "cell_type": "code",
   "execution_count": 12,
   "id": "f546ce88-2529-4641-a957-e8c3e5082aaa",
   "metadata": {},
   "outputs": [],
   "source": [
    "avgdf = pd.concat([avgdf, interpret], axis = 1)"
   ]
  },
  {
   "cell_type": "code",
   "execution_count": 13,
   "id": "9b38bc62-f528-4ad9-a0bb-2f4303f928ab",
   "metadata": {},
   "outputs": [],
   "source": [
    "def weighted_avg(aframe):\n",
    "    avg = sum(aframe.pct * aframe.cmse) / (sum(aframe.pct * aframe.cmse) + sum(aframe.pct * aframe.pmse))\n",
    "    return avg\n",
    "\n",
    "def weighted_avg_oos(aframe):\n",
    "    avg = sum(aframe.pct * aframe.cmse_oos) / (sum(aframe.pct * aframe.cmse_oos) + sum(aframe.pct * aframe.pmse_oos))\n",
    "    return avg"
   ]
  },
  {
   "cell_type": "markdown",
   "id": "35b73a1b-7d89-44c6-b4f0-1194bf0ee8cf",
   "metadata": {},
   "source": [
    "### Calculate average delta as per our pre-registered plan.\n",
    "\n",
    "The columns that matter most are the \"weighted\" ones; we've already decided to care more about variables where the model is strong than about ones where r2 is low and no chronological variables are very predictive--also more about large topics than small ones."
   ]
  },
  {
   "cell_type": "code",
   "execution_count": 14,
   "id": "71bd6bd4-cda0-4d79-9ac8-eb957286e2fd",
   "metadata": {},
   "outputs": [
    {
     "name": "stdout",
     "output_type": "stream",
     "text": [
      "raw in-sample\traw oos\t\tweighted in-sample\tweighted oos\n",
      "0.5342 \t\t 0.5011 \t\t 0.5149 \t\t 0.501\n",
      "0.5432 \t\t 0.4899 \t\t 0.5331 \t\t 0.5109\n",
      "0.5621 \t\t 0.4914 \t\t 0.5372 \t\t 0.4491\n",
      "0.5553 \t\t 0.5112 \t\t 0.5653 \t\t 0.5202\n",
      "0.5551 \t\t 0.493 \t\t 0.5641 \t\t 0.4744\n"
     ]
    }
   ],
   "source": [
    "print('raw in-sample\\traw oos\\t\\tweighted in-sample\\tweighted oos')\n",
    "for i in range(1, 6):\n",
    "    print(round(np.mean(topics[i].delta), 4), '\\t\\t', round(np.mean(topics[i].delta_oos), 4), '\\t\\t',\n",
    "          round(weighted_avg(topics[i]), 4), '\\t\\t', round(weighted_avg_oos(topics[i]), 4))"
   ]
  },
  {
   "cell_type": "code",
   "execution_count": 15,
   "id": "3823c48b-ddfa-4497-8eae-5d6d1fd973f7",
   "metadata": {},
   "outputs": [
    {
     "name": "stdout",
     "output_type": "stream",
     "text": [
      "Overall, weighted in-sample is 0.544\n",
      "And out-of-sample:  0.4914\n"
     ]
    }
   ],
   "source": [
    "print(\"Overall, weighted in-sample is\", round(weighted_avg(avgdf), 4))\n",
    "print(\"And out-of-sample: \", round(weighted_avg_oos(avgdf), 4))"
   ]
  },
  {
   "cell_type": "markdown",
   "id": "da3886d1-518c-4bf9-b0ce-0b1d320d7f06",
   "metadata": {},
   "source": [
    "Actually, technically we proposed to exclude 'accidents of transcription' and 'author-dominated' categories from the average. This makes only a small difference."
   ]
  },
  {
   "cell_type": "code",
   "execution_count": 16,
   "id": "58c79213-d460-4ed5-bd6e-a3a1c5339f8f",
   "metadata": {},
   "outputs": [
    {
     "name": "stdout",
     "output_type": "stream",
     "text": [
      "Overall, weighted in-sample is 0.5466\n",
      "And out-of-sample:  0.4929\n"
     ]
    }
   ],
   "source": [
    "legit = avgdf.loc[(avgdf.category != 'accide') & (avgdf.category != 'author'), :]\n",
    "print(\"Overall, weighted in-sample is\", round(weighted_avg(legit), 4))\n",
    "print(\"And out-of-sample: \", round(weighted_avg_oos(legit), 4))"
   ]
  },
  {
   "cell_type": "markdown",
   "id": "06257510-4cd4-416c-88b9-b163aff29950",
   "metadata": {},
   "source": [
    "### Differences between topic categories\n",
    "\n",
    "To start with, let's consider the way r2 was divided by anova (in-sample). I think this might be a little less noisy and better for comparisons between topics, even if it does slightly over-estimate cohort effects in the aggregate?\n",
    "\n",
    "Here are category means:"
   ]
  },
  {
   "cell_type": "code",
   "execution_count": 17,
   "id": "digital-plaza",
   "metadata": {},
   "outputs": [
    {
     "name": "stdout",
     "output_type": "stream",
     "text": [
      "event 0.3459638814227623\n",
      "genre 0.5026526511882805\n",
      "physic 0.6146181817452785\n",
      "uncate 0.5398023378033946\n",
      "techno 0.5748519565449998\n",
      "institu 0.5550869014006015\n",
      "dialec 0.5235631123147099\n",
      "nation 0.6314228701069845\n",
      "author 0.5601742301152037\n",
      "accide 0.5010640282588195\n"
     ]
    }
   ],
   "source": [
    "cats = avgdf.category.unique()\n",
    "deltadict = dict()\n",
    "for c in cats:\n",
    "    deltadict[c] = avgdf.loc[avgdf.category == c, 'delta'].tolist()\n",
    "    print(c, np.mean(deltadict[c]))"
   ]
  },
  {
   "cell_type": "markdown",
   "id": "d918600d-00b7-432c-9211-95ca64403089",
   "metadata": {},
   "source": [
    "And a visualization."
   ]
  },
  {
   "cell_type": "code",
   "execution_count": 18,
   "id": "08ea293a-04f8-49fc-a31f-8aeeda129e47",
   "metadata": {},
   "outputs": [
    {
     "data": {
      "image/png": "[encoded data removed]",
      "text/plain": [
       "<Figure size 720x432 with 1 Axes>"
      ]
     },
     "metadata": {
      "needs_background": "light"
     },
     "output_type": "display_data"
    }
   ],
   "source": [
    "plt.figure(figsize = (10, 6))\n",
    "sns.boxplot(data = avgdf, x = 'category', y = 'delta', order = ['event', 'genre','dialec', 'accide', 'author',  'techno', 'uncate',  \n",
    "                                                                  'institu', 'nation', 'physic'])\n",
    "plt.show()"
   ]
  },
  {
   "cell_type": "markdown",
   "id": "dec96850-c008-436a-a8c2-63baa6571be6",
   "metadata": {},
   "source": [
    "The most dramatic and stable pattern is that 'event' topics have much lower delta, and are more dominated by period factors. Here they are; as you can see, they're mostly wars."
   ]
  },
  {
   "cell_type": "code",
   "execution_count": 19,
   "id": "ce7e83e9-fab0-4493-a1fc-86b9b4fe24b1",
   "metadata": {},
   "outputs": [
    {
     "data": {
      "text/html": [
       "<div>\n",
       "<style scoped>\n",
       "    .dataframe tbody tr th:only-of-type {\n",
       "        vertical-align: middle;\n",
       "    }\n",
       "\n",
       "    .dataframe tbody tr th {\n",
       "        vertical-align: top;\n",
       "    }\n",
       "\n",
       "    .dataframe thead th {\n",
       "        text-align: right;\n",
       "    }\n",
       "</style>\n",
       "<table border=\"1\" class=\"dataframe\">\n",
       "  <thead>\n",
       "    <tr style=\"text-align: right;\">\n",
       "      <th></th>\n",
       "      <th>delta</th>\n",
       "      <th>adjdelta</th>\n",
       "      <th>delta_oos</th>\n",
       "      <th>cmse</th>\n",
       "      <th>pmse</th>\n",
       "      <th>cmse_oos</th>\n",
       "      <th>pmse_oos</th>\n",
       "      <th>totalr2</th>\n",
       "      <th>r2_oos</th>\n",
       "      <th>bydf</th>\n",
       "      <th>fpdf</th>\n",
       "      <th>agemse</th>\n",
       "      <th>label</th>\n",
       "      <th>category</th>\n",
       "      <th>pct</th>\n",
       "    </tr>\n",
       "  </thead>\n",
       "  <tbody>\n",
       "    <tr>\n",
       "      <th>0</th>\n",
       "      <td>0.052664</td>\n",
       "      <td>0.185230</td>\n",
       "      <td>0.078345</td>\n",
       "      <td>11.6860</td>\n",
       "      <td>209.5212</td>\n",
       "      <td>0.020000</td>\n",
       "      <td>0.102817</td>\n",
       "      <td>0.047869</td>\n",
       "      <td>0.024379</td>\n",
       "      <td>6.2</td>\n",
       "      <td>24.0</td>\n",
       "      <td>0.53325</td>\n",
       "      <td>war, mostly WWII</td>\n",
       "      <td>event</td>\n",
       "      <td>0.267</td>\n",
       "    </tr>\n",
       "    <tr>\n",
       "      <th>63</th>\n",
       "      <td>0.269352</td>\n",
       "      <td>0.395927</td>\n",
       "      <td>0.023510</td>\n",
       "      <td>10.7786</td>\n",
       "      <td>29.9736</td>\n",
       "      <td>0.000621</td>\n",
       "      <td>0.023230</td>\n",
       "      <td>0.012020</td>\n",
       "      <td>-0.003758</td>\n",
       "      <td>4.8</td>\n",
       "      <td>9.6</td>\n",
       "      <td>0.30050</td>\n",
       "      <td>revolutionary and communist movements</td>\n",
       "      <td>event</td>\n",
       "      <td>0.348</td>\n",
       "    </tr>\n",
       "    <tr>\n",
       "      <th>86</th>\n",
       "      <td>0.555281</td>\n",
       "      <td>0.565166</td>\n",
       "      <td>0.478879</td>\n",
       "      <td>42.1664</td>\n",
       "      <td>34.0802</td>\n",
       "      <td>0.017909</td>\n",
       "      <td>0.022856</td>\n",
       "      <td>0.018071</td>\n",
       "      <td>0.002273</td>\n",
       "      <td>6.2</td>\n",
       "      <td>7.2</td>\n",
       "      <td>0.61975</td>\n",
       "      <td>warfare, probably centered on WWI</td>\n",
       "      <td>event</td>\n",
       "      <td>0.212</td>\n",
       "    </tr>\n",
       "    <tr>\n",
       "      <th>110</th>\n",
       "      <td>0.396742</td>\n",
       "      <td>0.412263</td>\n",
       "      <td>0.437117</td>\n",
       "      <td>19.9406</td>\n",
       "      <td>30.8042</td>\n",
       "      <td>0.035048</td>\n",
       "      <td>0.060875</td>\n",
       "      <td>0.018361</td>\n",
       "      <td>0.009139</td>\n",
       "      <td>4.2</td>\n",
       "      <td>5.0</td>\n",
       "      <td>14.68125</td>\n",
       "      <td>war</td>\n",
       "      <td>event</td>\n",
       "      <td>0.290</td>\n",
       "    </tr>\n",
       "    <tr>\n",
       "      <th>145</th>\n",
       "      <td>0.455780</td>\n",
       "      <td>0.446869</td>\n",
       "      <td>0.398534</td>\n",
       "      <td>38.5564</td>\n",
       "      <td>24.9040</td>\n",
       "      <td>0.041446</td>\n",
       "      <td>0.021034</td>\n",
       "      <td>0.020356</td>\n",
       "      <td>0.003584</td>\n",
       "      <td>9.0</td>\n",
       "      <td>7.8</td>\n",
       "      <td>1.32425</td>\n",
       "      <td>warfare, probably centered on WWI</td>\n",
       "      <td>event</td>\n",
       "      <td>0.349</td>\n",
       "    </tr>\n",
       "  </tbody>\n",
       "</table>\n",
       "</div>"
      ],
      "text/plain": [
       "        delta  adjdelta  delta_oos     cmse      pmse  cmse_oos  pmse_oos  \\\n",
       "0    0.052664  0.185230   0.078345  11.6860  209.5212  0.020000  0.102817   \n",
       "63   0.269352  0.395927   0.023510  10.7786   29.9736  0.000621  0.023230   \n",
       "86   0.555281  0.565166   0.478879  42.1664   34.0802  0.017909  0.022856   \n",
       "110  0.396742  0.412263   0.437117  19.9406   30.8042  0.035048  0.060875   \n",
       "145  0.455780  0.446869   0.398534  38.5564   24.9040  0.041446  0.021034   \n",
       "\n",
       "      totalr2    r2_oos  bydf  fpdf    agemse  \\\n",
       "0    0.047869  0.024379   6.2  24.0   0.53325   \n",
       "63   0.012020 -0.003758   4.8   9.6   0.30050   \n",
       "86   0.018071  0.002273   6.2   7.2   0.61975   \n",
       "110  0.018361  0.009139   4.2   5.0  14.68125   \n",
       "145  0.020356  0.003584   9.0   7.8   1.32425   \n",
       "\n",
       "                                     label category    pct  \n",
       "0                         war, mostly WWII    event  0.267  \n",
       "63   revolutionary and communist movements    event  0.348  \n",
       "86       warfare, probably centered on WWI    event  0.212  \n",
       "110                                    war    event  0.290  \n",
       "145      warfare, probably centered on WWI    event  0.349  "
      ]
     },
     "execution_count": 19,
     "metadata": {},
     "output_type": "execute_result"
    }
   ],
   "source": [
    "avgdf.loc[avgdf.category == 'event', : ]"
   ]
  },
  {
   "cell_type": "markdown",
   "id": "b4e7f815-fb34-45d1-a151-3b501dd9821f",
   "metadata": {},
   "source": [
    "This pattern holds just as strongly if we measure out of sample."
   ]
  },
  {
   "cell_type": "code",
   "execution_count": 20,
   "id": "overall-canadian",
   "metadata": {},
   "outputs": [
    {
     "name": "stdout",
     "output_type": "stream",
     "text": [
      "event 0.28327698908099014\n",
      "genre 0.455283098077434\n",
      "physic 0.5622033403804738\n",
      "uncate 0.5099162772023974\n",
      "techno 0.5246996750387279\n",
      "institu 0.48537258233713987\n",
      "dialec 0.47393976436511676\n",
      "nation 0.551549844214966\n",
      "author 0.4782241188448603\n",
      "accide 0.4602915081588345\n"
     ]
    }
   ],
   "source": [
    "deltadict = dict()\n",
    "for c in cats:\n",
    "    deltadict[c] = avgdf.loc[avgdf.category == c, 'delta_oos'].tolist()\n",
    "    print(c, np.mean(deltadict[c]))"
   ]
  },
  {
   "cell_type": "code",
   "execution_count": 21,
   "id": "0a7ed1ed-2b7a-487a-ac7b-d4c0d3e65fe9",
   "metadata": {},
   "outputs": [
    {
     "data": {
      "image/png": "[encoded data removed]",
      "text/plain": [
       "<Figure size 720x432 with 1 Axes>"
      ]
     },
     "metadata": {
      "needs_background": "light"
     },
     "output_type": "display_data"
    }
   ],
   "source": [
    "plt.figure(figsize = (10, 6))\n",
    "sns.boxplot(data = avgdf, x = 'category', y = 'delta_oos', order = ['event', 'genre','dialec', 'accide', 'author',  'techno', 'uncate',  \n",
    "                                                                  'institu', 'nation', 'physic'])\n",
    "plt.show()"
   ]
  },
  {
   "cell_type": "markdown",
   "id": "559bef6d-bffb-496d-b501-4aa6ad67bdb3",
   "metadata": {},
   "source": [
    "### Testing our pre-registered hypothesis about categories\n",
    "\n",
    "We specified that we didn't expect *p* < .05 kind of significance here, because n is very low (n for the three categories is 5, 4, and 9)!\n",
    "\n",
    "Instead we were going to look at effect size. For instance, Cohen's *d*. And any way you measure this (in or out of sample), there is in fact a non-trivial effect.\n",
    "\n",
    "But this is mostly the ```event``` (and to some extent ```accident```) topics pulling down the ```technology``` category. If we just considered the technology topics by themselves, they wouldn't seem notably divergent from the rest of the model.\n",
    "\n",
    "So our hypothesis is confirmed, but with some internal variation that shows we're not seeing exactly what we might have expected."
   ]
  },
  {
   "cell_type": "code",
   "execution_count": 22,
   "id": "28028b37-1337-4ddf-b407-b04c590078e1",
   "metadata": {},
   "outputs": [
    {
     "data": {
      "text/plain": [
       "0.4948746182807826"
      ]
     },
     "execution_count": 22,
     "metadata": {},
     "output_type": "execute_result"
    }
   ],
   "source": [
    "target_cat_deltas = avgdf.loc[(avgdf.category == 'event') | (avgdf.category == 'accide') | (avgdf.category == 'techno'), 'delta']\n",
    "np.mean(target_cat_deltas)"
   ]
  },
  {
   "cell_type": "code",
   "execution_count": 23,
   "id": "abe4d66b-6d4c-4abe-95fd-a3039fb9c5d4",
   "metadata": {},
   "outputs": [
    {
     "data": {
      "text/plain": [
       "0.5554477741932468"
      ]
     },
     "execution_count": 23,
     "metadata": {},
     "output_type": "execute_result"
    }
   ],
   "source": [
    "other_deltas = avgdf.loc[(avgdf.category != 'event') & (avgdf.category != 'accide') & (avgdf.category != 'techno'), 'delta']\n",
    "np.mean(other_deltas)"
   ]
  },
  {
   "cell_type": "code",
   "execution_count": 24,
   "id": "7719ac13-40b5-4657-a1ed-5bf356650cfb",
   "metadata": {},
   "outputs": [
    {
     "data": {
      "text/plain": [
       "0.2819610452134753"
      ]
     },
     "execution_count": 24,
     "metadata": {},
     "output_type": "execute_result"
    }
   ],
   "source": [
    "## Calculate Cohen's d.\n",
    "\n",
    "(np.mean(other_deltas) - np.mean(target_cat_deltas)) / np.std(avgdf.delta)"
   ]
  },
  {
   "cell_type": "code",
   "execution_count": 25,
   "id": "about-picture",
   "metadata": {},
   "outputs": [
    {
     "data": {
      "text/plain": [
       "0.4433248918549355"
      ]
     },
     "execution_count": 25,
     "metadata": {},
     "output_type": "execute_result"
    }
   ],
   "source": [
    "target_cat_oos = avgdf.loc[(avgdf.category == 'event') | (avgdf.category == 'accide') | (avgdf.category == 'techno'), 'delta_oos']\n",
    "np.mean(target_cat_oos)"
   ]
  },
  {
   "cell_type": "code",
   "execution_count": 26,
   "id": "93f75a54-5044-49e1-aff6-867fcfe2f44b",
   "metadata": {},
   "outputs": [
    {
     "data": {
      "text/plain": [
       "0.5026816289652911"
      ]
     },
     "execution_count": 26,
     "metadata": {},
     "output_type": "execute_result"
    }
   ],
   "source": [
    "other_oos = avgdf.loc[(avgdf.category != 'event') & (avgdf.category != 'accide') & (avgdf.category != 'techno'), 'delta_oos']\n",
    "np.mean(other_oos)"
   ]
  },
  {
   "cell_type": "code",
   "execution_count": 27,
   "id": "4037a795-0d8c-47d4-a6ae-18d3f64aa5dc",
   "metadata": {},
   "outputs": [
    {
     "data": {
      "text/plain": [
       "0.2640907670048743"
      ]
     },
     "execution_count": 27,
     "metadata": {},
     "output_type": "execute_result"
    }
   ],
   "source": [
    "## Calculate Cohen's d.\n",
    "\n",
    "(np.mean(other_oos) - np.mean(target_cat_oos)) / np.std(avgdf.delta_oos)"
   ]
  },
  {
   "cell_type": "markdown",
   "id": "178d7638-0ff8-498c-8935-e4f44196e223",
   "metadata": {},
   "source": [
    "### Where is r2 strong?\n",
    "\n",
    "This is a bit of a surprise. Whether we calculate in or out of sample, \"genre\" and \"physical description\" are the categories where chronological variables have most explanatory power.\n",
    "\n",
    "I might have expected ```technology``` and ```event``` to have higher r2s."
   ]
  },
  {
   "cell_type": "code",
   "execution_count": 28,
   "id": "73cce4f4-0cd7-4a06-b5dd-fe6ac236c6bd",
   "metadata": {},
   "outputs": [
    {
     "data": {
      "image/png": "[encoded data removed]",
      "text/plain": [
       "<Figure size 720x432 with 1 Axes>"
      ]
     },
     "metadata": {
      "needs_background": "light"
     },
     "output_type": "display_data"
    }
   ],
   "source": [
    "plt.figure(figsize = (10, 6))\n",
    "sns.boxplot(data = avgdf, x = 'category', y = 'totalr2')\n",
    "plt.show()"
   ]
  },
  {
   "cell_type": "code",
   "execution_count": 29,
   "id": "moving-terrain",
   "metadata": {},
   "outputs": [
    {
     "data": {
      "image/png": "[encoded data removed]",
      "text/plain": [
       "<Figure size 720x432 with 1 Axes>"
      ]
     },
     "metadata": {
      "needs_background": "light"
     },
     "output_type": "display_data"
    }
   ],
   "source": [
    "plt.figure(figsize = (10, 6))\n",
    "sns.boxplot(data = avgdf, x = 'category', y = 'r2_oos')\n",
    "plt.show()"
   ]
  },
  {
   "cell_type": "code",
   "execution_count": null,
   "id": "spanish-secretariat",
   "metadata": {},
   "outputs": [],
   "source": []
  }
 ],
 "metadata": {
  "kernelspec": {
   "display_name": "Python 3",
   "language": "python",
   "name": "python3"
  },
  "language_info": {
   "codemirror_mode": {
    "name": "ipython",
    "version": 3
   },
   "file_extension": ".py",
   "mimetype": "text/x-python",
   "name": "python",
   "nbconvert_exporter": "python",
   "pygments_lexer": "ipython3",
   "version": "3.7.4"
  }
 },
 "nbformat": 4,
 "nbformat_minor": 5
}
