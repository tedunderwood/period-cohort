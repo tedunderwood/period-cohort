{
 "cells": [
  {
   "cell_type": "markdown",
   "id": "classified-blade",
   "metadata": {},
   "source": [
    "# Interpret simple cubic model\n",
    "\n",
    "In the supplementary information for the article, we describe a simple model that excludes age and represents both ```firstpub``` and ```birthyear``` as cubic polynomials.\n",
    "\n",
    "Here we calculate average delta for that model."
   ]
  },
  {
   "cell_type": "code",
   "execution_count": 1,
   "id": "corporate-darwin",
   "metadata": {},
   "outputs": [],
   "source": [
    "import pandas as pd\n",
    "import numpy as np\n",
    "from matplotlib import pyplot as plt\n",
    "import seaborn as sns\n",
    "from scipy.stats import pearsonr, spearmanr"
   ]
  },
  {
   "cell_type": "code",
   "execution_count": 2,
   "id": "spanish-syndrome",
   "metadata": {},
   "outputs": [
    {
     "data": {
      "text/html": [
       "<div>\n",
       "<style scoped>\n",
       "    .dataframe tbody tr th:only-of-type {\n",
       "        vertical-align: middle;\n",
       "    }\n",
       "\n",
       "    .dataframe tbody tr th {\n",
       "        vertical-align: top;\n",
       "    }\n",
       "\n",
       "    .dataframe thead th {\n",
       "        text-align: right;\n",
       "    }\n",
       "</style>\n",
       "<table border=\"1\" class=\"dataframe\">\n",
       "  <thead>\n",
       "    <tr style=\"text-align: right;\">\n",
       "      <th></th>\n",
       "      <th>topicstats</th>\n",
       "      <th>keywords</th>\n",
       "      <th>top7books</th>\n",
       "      <th>label</th>\n",
       "      <th>category</th>\n",
       "    </tr>\n",
       "  </thead>\n",
       "  <tbody>\n",
       "    <tr>\n",
       "      <th>0</th>\n",
       "      <td>TOPIC 0 pct corpus = 0.267% doc entropy = 9.80...</td>\n",
       "      <td>war german french germans france germany ameri...</td>\n",
       "      <td>0.136 | Gibbs, Philip | Through the storm | 19...</td>\n",
       "      <td>war, mostly WWII</td>\n",
       "      <td>event</td>\n",
       "    </tr>\n",
       "    <tr>\n",
       "      <th>1</th>\n",
       "      <td>TOPIC 1 pct corpus = 0.288% doc entropy = 9.74...</td>\n",
       "      <td>professor man quite something thing old little...</td>\n",
       "      <td>0.177 | Stewart, J. I. M. (John Innes  | Hare ...</td>\n",
       "      <td>e20c scientists, labs, and professors, mostly ...</td>\n",
       "      <td>genre</td>\n",
       "    </tr>\n",
       "    <tr>\n",
       "      <th>2</th>\n",
       "      <td>TOPIC 2 pct corpus = 0.479% doc entropy = 10.4...</td>\n",
       "      <td>door put box paper hand took room went made po...</td>\n",
       "      <td>0.489 | Sellers, Tom | Unknown Title | 1927 0....</td>\n",
       "      <td>objects in relation to doors, pockets, rooms, ...</td>\n",
       "      <td>physical description</td>\n",
       "    </tr>\n",
       "    <tr>\n",
       "      <th>3</th>\n",
       "      <td>TOPIC 3 pct corpus = 0.388% doc entropy = 9.34...</td>\n",
       "      <td>american people president our security re new ...</td>\n",
       "      <td>0.297 | Digo, Benjamin | Creator of Nikho | 19...</td>\n",
       "      <td>late 20c US political thrillers</td>\n",
       "      <td>genre</td>\n",
       "    </tr>\n",
       "    <tr>\n",
       "      <th>4</th>\n",
       "      <td>TOPIC 4 pct corpus = 0.666% doc entropy = 10.3...</td>\n",
       "      <td>man old people men because knew good always bi...</td>\n",
       "      <td>0.157 | Hanley, Gerald | Drinkers of darkness ...</td>\n",
       "      <td>diffuse</td>\n",
       "      <td>uncategorized dimension of style</td>\n",
       "    </tr>\n",
       "  </tbody>\n",
       "</table>\n",
       "</div>"
      ],
      "text/plain": [
       "                                          topicstats  \\\n",
       "0  TOPIC 0 pct corpus = 0.267% doc entropy = 9.80...   \n",
       "1  TOPIC 1 pct corpus = 0.288% doc entropy = 9.74...   \n",
       "2  TOPIC 2 pct corpus = 0.479% doc entropy = 10.4...   \n",
       "3  TOPIC 3 pct corpus = 0.388% doc entropy = 9.34...   \n",
       "4  TOPIC 4 pct corpus = 0.666% doc entropy = 10.3...   \n",
       "\n",
       "                                            keywords  \\\n",
       "0  war german french germans france germany ameri...   \n",
       "1  professor man quite something thing old little...   \n",
       "2  door put box paper hand took room went made po...   \n",
       "3  american people president our security re new ...   \n",
       "4  man old people men because knew good always bi...   \n",
       "\n",
       "                                           top7books  \\\n",
       "0  0.136 | Gibbs, Philip | Through the storm | 19...   \n",
       "1  0.177 | Stewart, J. I. M. (John Innes  | Hare ...   \n",
       "2  0.489 | Sellers, Tom | Unknown Title | 1927 0....   \n",
       "3  0.297 | Digo, Benjamin | Creator of Nikho | 19...   \n",
       "4  0.157 | Hanley, Gerald | Drinkers of darkness ...   \n",
       "\n",
       "                                               label  \\\n",
       "0                                   war, mostly WWII   \n",
       "1  e20c scientists, labs, and professors, mostly ...   \n",
       "2  objects in relation to doors, pockets, rooms, ...   \n",
       "3                    late 20c US political thrillers   \n",
       "4                                            diffuse   \n",
       "\n",
       "                           category  \n",
       "0                             event  \n",
       "1                             genre  \n",
       "2              physical description  \n",
       "3                             genre  \n",
       "4  uncategorized dimension of style  "
      ]
     },
     "execution_count": 2,
     "metadata": {},
     "output_type": "execute_result"
    }
   ],
   "source": [
    "interpret = pd.read_csv('../interrater/k200standardcoding.tsv', sep = '\\t')\n",
    "interpret.drop(columns = ['next5books, biggestauth, datequartiles', 'comments'], inplace = True)\n",
    "interpret.head()"
   ]
  },
  {
   "cell_type": "code",
   "execution_count": 10,
   "id": "statutory-bouquet",
   "metadata": {},
   "outputs": [
    {
     "data": {
      "text/html": [
       "<div>\n",
       "<style scoped>\n",
       "    .dataframe tbody tr th:only-of-type {\n",
       "        vertical-align: middle;\n",
       "    }\n",
       "\n",
       "    .dataframe tbody tr th {\n",
       "        vertical-align: top;\n",
       "    }\n",
       "\n",
       "    .dataframe thead th {\n",
       "        text-align: right;\n",
       "    }\n",
       "</style>\n",
       "<table border=\"1\" class=\"dataframe\">\n",
       "  <thead>\n",
       "    <tr style=\"text-align: right;\">\n",
       "      <th></th>\n",
       "      <th>depvar</th>\n",
       "      <th>cmse</th>\n",
       "      <th>pmse</th>\n",
       "      <th>totalr2</th>\n",
       "      <th>delta</th>\n",
       "    </tr>\n",
       "  </thead>\n",
       "  <tbody>\n",
       "    <tr>\n",
       "      <th>0</th>\n",
       "      <td>t0</td>\n",
       "      <td>6.127</td>\n",
       "      <td>5.262</td>\n",
       "      <td>0.012465</td>\n",
       "      <td>0.537975</td>\n",
       "    </tr>\n",
       "    <tr>\n",
       "      <th>1</th>\n",
       "      <td>t1</td>\n",
       "      <td>0.234</td>\n",
       "      <td>36.631</td>\n",
       "      <td>0.014080</td>\n",
       "      <td>0.006347</td>\n",
       "    </tr>\n",
       "    <tr>\n",
       "      <th>2</th>\n",
       "      <td>t2</td>\n",
       "      <td>14.017</td>\n",
       "      <td>0.888</td>\n",
       "      <td>0.004137</td>\n",
       "      <td>0.940423</td>\n",
       "    </tr>\n",
       "    <tr>\n",
       "      <th>3</th>\n",
       "      <td>t3</td>\n",
       "      <td>51.492</td>\n",
       "      <td>3.412</td>\n",
       "      <td>0.123907</td>\n",
       "      <td>0.937855</td>\n",
       "    </tr>\n",
       "    <tr>\n",
       "      <th>4</th>\n",
       "      <td>t4</td>\n",
       "      <td>82.192</td>\n",
       "      <td>11.749</td>\n",
       "      <td>0.023321</td>\n",
       "      <td>0.874932</td>\n",
       "    </tr>\n",
       "  </tbody>\n",
       "</table>\n",
       "</div>"
      ],
      "text/plain": [
       "  depvar    cmse    pmse   totalr2     delta\n",
       "0     t0   6.127   5.262  0.012465  0.537975\n",
       "1     t1   0.234  36.631  0.014080  0.006347\n",
       "2     t2  14.017   0.888  0.004137  0.940423\n",
       "3     t3  51.492   3.412  0.123907  0.937855\n",
       "4     t4  82.192  11.749  0.023321  0.874932"
      ]
     },
     "execution_count": 10,
     "metadata": {},
     "output_type": "execute_result"
    }
   ],
   "source": [
    "cube = pd.read_csv('topicmodel_cubic.csv')\n",
    "cube.head()"
   ]
  },
  {
   "cell_type": "code",
   "execution_count": 5,
   "id": "unauthorized-liability",
   "metadata": {},
   "outputs": [
    {
     "data": {
      "text/html": [
       "<div>\n",
       "<style scoped>\n",
       "    .dataframe tbody tr th:only-of-type {\n",
       "        vertical-align: middle;\n",
       "    }\n",
       "\n",
       "    .dataframe tbody tr th {\n",
       "        vertical-align: top;\n",
       "    }\n",
       "\n",
       "    .dataframe thead th {\n",
       "        text-align: right;\n",
       "    }\n",
       "</style>\n",
       "<table border=\"1\" class=\"dataframe\">\n",
       "  <thead>\n",
       "    <tr style=\"text-align: right;\">\n",
       "      <th></th>\n",
       "      <th>label</th>\n",
       "      <th>category</th>\n",
       "      <th>pct</th>\n",
       "    </tr>\n",
       "  </thead>\n",
       "  <tbody>\n",
       "    <tr>\n",
       "      <th>0</th>\n",
       "      <td>war, mostly WWII</td>\n",
       "      <td>event</td>\n",
       "      <td>0.267</td>\n",
       "    </tr>\n",
       "    <tr>\n",
       "      <th>1</th>\n",
       "      <td>e20c scientists, labs, and professors, mostly ...</td>\n",
       "      <td>genre</td>\n",
       "      <td>0.288</td>\n",
       "    </tr>\n",
       "    <tr>\n",
       "      <th>2</th>\n",
       "      <td>objects in relation to doors, pockets, rooms, ...</td>\n",
       "      <td>physic</td>\n",
       "      <td>0.479</td>\n",
       "    </tr>\n",
       "    <tr>\n",
       "      <th>3</th>\n",
       "      <td>late 20c US political thrillers</td>\n",
       "      <td>genre</td>\n",
       "      <td>0.388</td>\n",
       "    </tr>\n",
       "    <tr>\n",
       "      <th>4</th>\n",
       "      <td>diffuse</td>\n",
       "      <td>uncate</td>\n",
       "      <td>0.666</td>\n",
       "    </tr>\n",
       "  </tbody>\n",
       "</table>\n",
       "</div>"
      ],
      "text/plain": [
       "                                               label category    pct\n",
       "0                                   war, mostly WWII    event  0.267\n",
       "1  e20c scientists, labs, and professors, mostly ...    genre  0.288\n",
       "2  objects in relation to doors, pockets, rooms, ...   physic  0.479\n",
       "3                    late 20c US political thrillers    genre  0.388\n",
       "4                                            diffuse   uncate  0.666"
      ]
     },
     "execution_count": 5,
     "metadata": {},
     "output_type": "execute_result"
    }
   ],
   "source": [
    "# FUNCTIONS THAT SIMPLIFY AND CLEAN THE CODING FRAME\n",
    "\n",
    "def getpct(astring):\n",
    "    firstpart = astring.split('%')[0]\n",
    "    number = float(firstpart.split('= ')[1])\n",
    "    return number\n",
    "\n",
    "def shorten(astring):\n",
    "    shortversion = astring[0:6]\n",
    "    if shortversion == 'human ':\n",
    "        shortversion = 'institu' # for human institution, practice, or relationship\n",
    "    return shortversion\n",
    "\n",
    "interpret['pct'] = interpret.topicstats.map(getpct)\n",
    "interpret['category'] = interpret.category.map(shorten)\n",
    "interpret.drop(columns = ['keywords', 'top7books', 'topicstats'], inplace = True)\n",
    "interpret.head()"
   ]
  },
  {
   "cell_type": "code",
   "execution_count": 13,
   "id": "oriental-grill",
   "metadata": {},
   "outputs": [],
   "source": [
    "result = pd.concat([cube, interpret], axis = 1)\n",
    "\n",
    "def weighted_avg(aframe):\n",
    "    avg = sum(aframe.pct * aframe.cmse) / (sum(aframe.pct * aframe.cmse) + sum(aframe.pct * aframe.pmse))\n",
    "    return avg"
   ]
  },
  {
   "cell_type": "code",
   "execution_count": 14,
   "id": "forward-honor",
   "metadata": {},
   "outputs": [
    {
     "name": "stdout",
     "output_type": "stream",
     "text": [
      "Overall, weighted in-sample is 0.5033\n"
     ]
    }
   ],
   "source": [
    "print(\"Overall, weighted in-sample is\", round(weighted_avg(result), 4))"
   ]
  },
  {
   "cell_type": "code",
   "execution_count": 15,
   "id": "amazing-burst",
   "metadata": {},
   "outputs": [
    {
     "name": "stdout",
     "output_type": "stream",
     "text": [
      "5  files loaded.\n"
     ]
    }
   ],
   "source": [
    "root = 'topicmodel_deltas'\n",
    "\n",
    "deltas = dict()\n",
    "\n",
    "for i in range(1, 6):\n",
    "    \n",
    "    suffix = str(i) + '.csv'\n",
    "    deltas[i] = pd.read_csv(root + suffix)\n",
    "    \n",
    "print(len(deltas), ' files loaded.')\n",
    "\n",
    "smoothed = dict()\n",
    "\n",
    "cols = ['delta', 'adjdelta', 'delta_oos', 'cmse', 'pmse', 'cmse_oos', 'pmse_oos', \n",
    "        'totalr2', 'r2_oos', 'bydf', 'fpdf', 'agemse']\n",
    "\n",
    "for c in cols:\n",
    "    if c not in smoothed:\n",
    "        smoothed[c] = []\n",
    "    for rownum in range(200):\n",
    "        values = []\n",
    "        for i in range(1, 6):\n",
    "            if c in deltas[i].columns:      # the only exception is 'agemse' which got added late\n",
    "                                            # and won't be in all five runs\n",
    "                values.append(deltas[i].loc[rownum, c])\n",
    "        smoothed[c].append(np.mean(values))\n",
    "\n",
    "        \n",
    "avgdf = pd.DataFrame(smoothed)"
   ]
  },
  {
   "cell_type": "code",
   "execution_count": 19,
   "id": "centered-property",
   "metadata": {},
   "outputs": [
    {
     "data": {
      "text/plain": [
       "SpearmanrResult(correlation=0.24072901822545567, pvalue=0.0005953611366448949)"
      ]
     },
     "execution_count": 19,
     "metadata": {},
     "output_type": "execute_result"
    }
   ],
   "source": [
    "spearmanr(avgdf.delta, result.delta)"
   ]
  },
  {
   "cell_type": "code",
   "execution_count": 20,
   "id": "protected-wrestling",
   "metadata": {},
   "outputs": [
    {
     "data": {
      "text/plain": [
       "SpearmanrResult(correlation=0.7620925523138079, pvalue=3.095539430417147e-39)"
      ]
     },
     "execution_count": 20,
     "metadata": {},
     "output_type": "execute_result"
    }
   ],
   "source": [
    "spearmanr(avgdf.delta, avgdf.delta_oos)"
   ]
  },
  {
   "cell_type": "code",
   "execution_count": 18,
   "id": "arctic-boulder",
   "metadata": {},
   "outputs": [
    {
     "data": {
      "image/png": "[encoded data removed]",
      "text/plain": [
       "<Figure size 792x792 with 1 Axes>"
      ]
     },
     "metadata": {
      "needs_background": "light"
     },
     "output_type": "display_data"
    }
   ],
   "source": [
    "cm = 1/2.54\n",
    "plt.figure(figsize = (11, 11))\n",
    "res = sns.swarmplot(data = result, x = 'delta', y = 'category', orient = 'h', size = 12)\n",
    "plt.rcParams.update({'font.size': 20})\n",
    "plt.ylabel('')\n",
    "#plt.gcf().set_facecolor('white')\n",
    "#plt.savefig('/Users/tunder/Dropbox/python/cohort/figures', bbox_inches = 'tight', dpi = 300)\n",
    "plt.show()"
   ]
  },
  {
   "cell_type": "code",
   "execution_count": null,
   "id": "arranged-arlington",
   "metadata": {},
   "outputs": [],
   "source": []
  }
 ],
 "metadata": {
  "kernelspec": {
   "display_name": "Python 3",
   "language": "python",
   "name": "python3"
  },
  "language_info": {
   "codemirror_mode": {
    "name": "ipython",
    "version": 3
   },
   "file_extension": ".py",
   "mimetype": "text/x-python",
   "name": "python",
   "nbconvert_exporter": "python",
   "pygments_lexer": "ipython3",
   "version": "3.7.6"
  }
 },
 "nbformat": 4,
 "nbformat_minor": 5
}
