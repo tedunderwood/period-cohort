{
 "cells": [
  {
   "cell_type": "markdown",
   "id": "analyzed-currency",
   "metadata": {},
   "source": [
    "# Bootstrap Estimate\n",
    "\n",
    "To get estimate uncertainty around the delta parameter, we ran 20 bootstrap resamples, and calculated delta for each one."
   ]
  },
  {
   "cell_type": "code",
   "execution_count": 75,
   "id": "trying-consumer",
   "metadata": {},
   "outputs": [],
   "source": [
    "import pandas as pd\n",
    "import numpy as np\n",
    "from matplotlib import pyplot as plt\n",
    "import seaborn as sns\n",
    "from scipy.stats import pearsonr, spearmanr"
   ]
  },
  {
   "cell_type": "code",
   "execution_count": 76,
   "id": "removable-collins",
   "metadata": {},
   "outputs": [
    {
     "name": "stdout",
     "output_type": "stream",
     "text": [
      "50  files loaded.\n"
     ]
    }
   ],
   "source": [
    "root = 'bootstrapdata/bootstrap_deltas'\n",
    "\n",
    "deltas = dict()\n",
    "\n",
    "for i in range(1, 51):\n",
    "    \n",
    "    suffix = str(i) + '.csv'\n",
    "    deltas[i] = pd.read_csv(root + suffix)\n",
    "    \n",
    "print(len(deltas), ' files loaded.')"
   ]
  },
  {
   "cell_type": "code",
   "execution_count": 77,
   "id": "other-spray",
   "metadata": {},
   "outputs": [
    {
     "data": {
      "text/html": [
       "<div>\n",
       "<style scoped>\n",
       "    .dataframe tbody tr th:only-of-type {\n",
       "        vertical-align: middle;\n",
       "    }\n",
       "\n",
       "    .dataframe tbody tr th {\n",
       "        vertical-align: top;\n",
       "    }\n",
       "\n",
       "    .dataframe thead th {\n",
       "        text-align: right;\n",
       "    }\n",
       "</style>\n",
       "<table border=\"1\" class=\"dataframe\">\n",
       "  <thead>\n",
       "    <tr style=\"text-align: right;\">\n",
       "      <th></th>\n",
       "      <th>topicstats</th>\n",
       "      <th>keywords</th>\n",
       "      <th>top7books</th>\n",
       "      <th>label</th>\n",
       "      <th>category</th>\n",
       "    </tr>\n",
       "  </thead>\n",
       "  <tbody>\n",
       "    <tr>\n",
       "      <th>0</th>\n",
       "      <td>TOPIC 0 pct corpus = 0.267% doc entropy = 9.80...</td>\n",
       "      <td>war german french germans france germany ameri...</td>\n",
       "      <td>0.136 | Gibbs, Philip | Through the storm | 19...</td>\n",
       "      <td>war, mostly WWII</td>\n",
       "      <td>event</td>\n",
       "    </tr>\n",
       "    <tr>\n",
       "      <th>1</th>\n",
       "      <td>TOPIC 1 pct corpus = 0.288% doc entropy = 9.74...</td>\n",
       "      <td>professor man quite something thing old little...</td>\n",
       "      <td>0.177 | Stewart, J. I. M. (John Innes  | Hare ...</td>\n",
       "      <td>e20c scientists, labs, and professors, mostly ...</td>\n",
       "      <td>genre</td>\n",
       "    </tr>\n",
       "    <tr>\n",
       "      <th>2</th>\n",
       "      <td>TOPIC 2 pct corpus = 0.479% doc entropy = 10.4...</td>\n",
       "      <td>door put box paper hand took room went made po...</td>\n",
       "      <td>0.489 | Sellers, Tom | Unknown Title | 1927 0....</td>\n",
       "      <td>objects in relation to doors, pockets, rooms, ...</td>\n",
       "      <td>physical description</td>\n",
       "    </tr>\n",
       "    <tr>\n",
       "      <th>3</th>\n",
       "      <td>TOPIC 3 pct corpus = 0.388% doc entropy = 9.34...</td>\n",
       "      <td>american people president our security re new ...</td>\n",
       "      <td>0.297 | Digo, Benjamin | Creator of Nikho | 19...</td>\n",
       "      <td>late 20c US political thrillers</td>\n",
       "      <td>genre</td>\n",
       "    </tr>\n",
       "    <tr>\n",
       "      <th>4</th>\n",
       "      <td>TOPIC 4 pct corpus = 0.666% doc entropy = 10.3...</td>\n",
       "      <td>man old people men because knew good always bi...</td>\n",
       "      <td>0.157 | Hanley, Gerald | Drinkers of darkness ...</td>\n",
       "      <td>diffuse</td>\n",
       "      <td>uncategorized dimension of style</td>\n",
       "    </tr>\n",
       "  </tbody>\n",
       "</table>\n",
       "</div>"
      ],
      "text/plain": [
       "                                          topicstats  \\\n",
       "0  TOPIC 0 pct corpus = 0.267% doc entropy = 9.80...   \n",
       "1  TOPIC 1 pct corpus = 0.288% doc entropy = 9.74...   \n",
       "2  TOPIC 2 pct corpus = 0.479% doc entropy = 10.4...   \n",
       "3  TOPIC 3 pct corpus = 0.388% doc entropy = 9.34...   \n",
       "4  TOPIC 4 pct corpus = 0.666% doc entropy = 10.3...   \n",
       "\n",
       "                                            keywords  \\\n",
       "0  war german french germans france germany ameri...   \n",
       "1  professor man quite something thing old little...   \n",
       "2  door put box paper hand took room went made po...   \n",
       "3  american people president our security re new ...   \n",
       "4  man old people men because knew good always bi...   \n",
       "\n",
       "                                           top7books  \\\n",
       "0  0.136 | Gibbs, Philip | Through the storm | 19...   \n",
       "1  0.177 | Stewart, J. I. M. (John Innes  | Hare ...   \n",
       "2  0.489 | Sellers, Tom | Unknown Title | 1927 0....   \n",
       "3  0.297 | Digo, Benjamin | Creator of Nikho | 19...   \n",
       "4  0.157 | Hanley, Gerald | Drinkers of darkness ...   \n",
       "\n",
       "                                               label  \\\n",
       "0                                   war, mostly WWII   \n",
       "1  e20c scientists, labs, and professors, mostly ...   \n",
       "2  objects in relation to doors, pockets, rooms, ...   \n",
       "3                    late 20c US political thrillers   \n",
       "4                                            diffuse   \n",
       "\n",
       "                           category  \n",
       "0                             event  \n",
       "1                             genre  \n",
       "2              physical description  \n",
       "3                             genre  \n",
       "4  uncategorized dimension of style  "
      ]
     },
     "execution_count": 77,
     "metadata": {},
     "output_type": "execute_result"
    }
   ],
   "source": [
    "interpret = pd.read_csv('../interrater/k200standardcoding.tsv', sep = '\\t')\n",
    "interpret.drop(columns = ['next5books, biggestauth, datequartiles', 'comments'], inplace = True)\n",
    "interpret.head()"
   ]
  },
  {
   "cell_type": "code",
   "execution_count": 78,
   "id": "israeli-costume",
   "metadata": {},
   "outputs": [
    {
     "data": {
      "text/html": [
       "<div>\n",
       "<style scoped>\n",
       "    .dataframe tbody tr th:only-of-type {\n",
       "        vertical-align: middle;\n",
       "    }\n",
       "\n",
       "    .dataframe tbody tr th {\n",
       "        vertical-align: top;\n",
       "    }\n",
       "\n",
       "    .dataframe thead th {\n",
       "        text-align: right;\n",
       "    }\n",
       "</style>\n",
       "<table border=\"1\" class=\"dataframe\">\n",
       "  <thead>\n",
       "    <tr style=\"text-align: right;\">\n",
       "      <th></th>\n",
       "      <th>label</th>\n",
       "      <th>category</th>\n",
       "      <th>pct</th>\n",
       "    </tr>\n",
       "  </thead>\n",
       "  <tbody>\n",
       "    <tr>\n",
       "      <th>0</th>\n",
       "      <td>war, mostly WWII</td>\n",
       "      <td>event</td>\n",
       "      <td>0.267</td>\n",
       "    </tr>\n",
       "    <tr>\n",
       "      <th>1</th>\n",
       "      <td>e20c scientists, labs, and professors, mostly ...</td>\n",
       "      <td>genre</td>\n",
       "      <td>0.288</td>\n",
       "    </tr>\n",
       "    <tr>\n",
       "      <th>2</th>\n",
       "      <td>objects in relation to doors, pockets, rooms, ...</td>\n",
       "      <td>physic</td>\n",
       "      <td>0.479</td>\n",
       "    </tr>\n",
       "    <tr>\n",
       "      <th>3</th>\n",
       "      <td>late 20c US political thrillers</td>\n",
       "      <td>genre</td>\n",
       "      <td>0.388</td>\n",
       "    </tr>\n",
       "    <tr>\n",
       "      <th>4</th>\n",
       "      <td>diffuse</td>\n",
       "      <td>uncate</td>\n",
       "      <td>0.666</td>\n",
       "    </tr>\n",
       "  </tbody>\n",
       "</table>\n",
       "</div>"
      ],
      "text/plain": [
       "                                               label category    pct\n",
       "0                                   war, mostly WWII    event  0.267\n",
       "1  e20c scientists, labs, and professors, mostly ...    genre  0.288\n",
       "2  objects in relation to doors, pockets, rooms, ...   physic  0.479\n",
       "3                    late 20c US political thrillers    genre  0.388\n",
       "4                                            diffuse   uncate  0.666"
      ]
     },
     "execution_count": 78,
     "metadata": {},
     "output_type": "execute_result"
    }
   ],
   "source": [
    "# FUNCTIONS THAT SIMPLIFY AND CLEAN THE CODING FRAME\n",
    "\n",
    "def getpct(astring):\n",
    "    firstpart = astring.split('%')[0]\n",
    "    number = float(firstpart.split('= ')[1])\n",
    "    return number\n",
    "\n",
    "def shorten(astring):\n",
    "    shortversion = astring[0:6]\n",
    "    if shortversion == 'human ':\n",
    "        shortversion = 'institu' # for human institution, practice, or relationship\n",
    "    return shortversion\n",
    "\n",
    "interpret['pct'] = interpret.topicstats.map(getpct)\n",
    "interpret['category'] = interpret.category.map(shorten)\n",
    "interpret.drop(columns = ['keywords', 'top7books', 'topicstats'], inplace = True)\n",
    "interpret.head()"
   ]
  },
  {
   "cell_type": "code",
   "execution_count": 79,
   "id": "composite-buying",
   "metadata": {},
   "outputs": [],
   "source": [
    "topics = dict()\n",
    "for i in range(1, len(deltas)):\n",
    "    topics[i] = pd.concat([deltas[i], interpret], axis = 1)"
   ]
  },
  {
   "cell_type": "code",
   "execution_count": 80,
   "id": "dense-weekly",
   "metadata": {},
   "outputs": [],
   "source": [
    "def weighted_avg(aframe):\n",
    "    avg = sum(aframe.pct * aframe.cmse) / (sum(aframe.pct * aframe.cmse) + sum(aframe.pct * aframe.pmse))\n",
    "    return avg\n",
    "\n",
    "def weighted_avg_oos(aframe):\n",
    "    cmseoos = [0 if i < 0 else i for i in aframe.cmse_oos]\n",
    "    pmseoos = [0 if i < 0 else i for i in aframe.pmse_oos]  \n",
    "    avg = sum(aframe.pct * cmseoos) / (sum(aframe.pct * cmseoos) + sum(aframe.pct * pmseoos))\n",
    "    return avg"
   ]
  },
  {
   "cell_type": "code",
   "execution_count": 81,
   "id": "resistant-waterproof",
   "metadata": {},
   "outputs": [],
   "source": [
    "weighted_averages = []\n",
    "\n",
    "for i in range(1, len(deltas)):\n",
    "    df = topics[i]\n",
    "    legit = df.loc[(df.category != 'accide') & (df.category != 'author'), :]\n",
    "    weighted_averages.append(round(weighted_avg(legit), 4))"
   ]
  },
  {
   "cell_type": "code",
   "execution_count": 82,
   "id": "criminal-crowd",
   "metadata": {},
   "outputs": [
    {
     "data": {
      "text/plain": [
       "(array([ 3.,  5.,  3., 10.,  5.,  3.,  2.,  2.,  1.,  8.,  2.,  2.,  1.,\n",
       "         0.,  1.,  0.,  0.,  1.]),\n",
       " array([0.5225    , 0.52781667, 0.53313333, 0.53845   , 0.54376667,\n",
       "        0.54908333, 0.5544    , 0.55971667, 0.56503333, 0.57035   ,\n",
       "        0.57566667, 0.58098333, 0.5863    , 0.59161667, 0.59693333,\n",
       "        0.60225   , 0.60756667, 0.61288333, 0.6182    ]),\n",
       " <BarContainer object of 18 artists>)"
      ]
     },
     "execution_count": 82,
     "metadata": {},
     "output_type": "execute_result"
    },
    {
     "data": {
      "image/png": "[encoded data removed]",
      "text/plain": [
       "<Figure size 432x288 with 1 Axes>"
      ]
     },
     "metadata": {
      "needs_background": "light"
     },
     "output_type": "display_data"
    }
   ],
   "source": [
    "plt.hist(weighted_averages, bins = 18)"
   ]
  },
  {
   "cell_type": "code",
   "execution_count": 83,
   "id": "fifteen-qualification",
   "metadata": {},
   "outputs": [
    {
     "data": {
      "text/plain": [
       "0.5471"
      ]
     },
     "execution_count": 83,
     "metadata": {},
     "output_type": "execute_result"
    }
   ],
   "source": [
    "np.median(weighted_averages)"
   ]
  },
  {
   "cell_type": "code",
   "execution_count": 84,
   "id": "defensive-contest",
   "metadata": {},
   "outputs": [
    {
     "data": {
      "text/plain": [
       "[0.5225,\n",
       " 0.5252,\n",
       " 0.5268,\n",
       " 0.5302,\n",
       " 0.5307,\n",
       " 0.5314,\n",
       " 0.5319,\n",
       " 0.5319,\n",
       " 0.5341,\n",
       " 0.5341,\n",
       " 0.5357,\n",
       " 0.5385,\n",
       " 0.5387,\n",
       " 0.5395,\n",
       " 0.5396,\n",
       " 0.5397,\n",
       " 0.5399,\n",
       " 0.5404,\n",
       " 0.5407,\n",
       " 0.5409,\n",
       " 0.5437,\n",
       " 0.5442,\n",
       " 0.5443,\n",
       " 0.5451,\n",
       " 0.5471,\n",
       " 0.5473,\n",
       " 0.5494,\n",
       " 0.5504,\n",
       " 0.5509,\n",
       " 0.5559,\n",
       " 0.5559,\n",
       " 0.5602,\n",
       " 0.5625,\n",
       " 0.5681,\n",
       " 0.5719,\n",
       " 0.5719,\n",
       " 0.5721,\n",
       " 0.5734,\n",
       " 0.5736,\n",
       " 0.5736,\n",
       " 0.5737,\n",
       " 0.5747,\n",
       " 0.5786,\n",
       " 0.5803,\n",
       " 0.5847,\n",
       " 0.586,\n",
       " 0.5863,\n",
       " 0.6,\n",
       " 0.6182]"
      ]
     },
     "execution_count": 84,
     "metadata": {},
     "output_type": "execute_result"
    }
   ],
   "source": [
    "sorted(weighted_averages)"
   ]
  },
  {
   "cell_type": "code",
   "execution_count": 85,
   "id": "experimental-contents",
   "metadata": {},
   "outputs": [
    {
     "data": {
      "text/plain": [
       "0.5471"
      ]
     },
     "execution_count": 85,
     "metadata": {},
     "output_type": "execute_result"
    }
   ],
   "source": [
    "np.median(weighted_averages)"
   ]
  },
  {
   "cell_type": "code",
   "execution_count": null,
   "id": "indoor-civilian",
   "metadata": {},
   "outputs": [],
   "source": []
  }
 ],
 "metadata": {
  "kernelspec": {
   "display_name": "Python 3",
   "language": "python",
   "name": "python3"
  },
  "language_info": {
   "codemirror_mode": {
    "name": "ipython",
    "version": 3
   },
   "file_extension": ".py",
   "mimetype": "text/x-python",
   "name": "python",
   "nbconvert_exporter": "python",
   "pygments_lexer": "ipython3",
   "version": "3.7.6"
  }
 },
 "nbformat": 4,
 "nbformat_minor": 5
}
